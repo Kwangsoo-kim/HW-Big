{
 "cells": [
  {
   "cell_type": "markdown",
   "metadata": {},
   "source": [
    "# 1. NLTK 패키지"
   ]
  },
  {
   "cell_type": "code",
   "execution_count": 1,
   "metadata": {
    "ExecuteTime": {
     "end_time": "2021-03-25T05:53:01.745697Z",
     "start_time": "2021-03-25T05:52:54.004785Z"
    }
   },
   "outputs": [],
   "source": [
    "import nltk"
   ]
  },
  {
   "cell_type": "code",
   "execution_count": 6,
   "metadata": {
    "ExecuteTime": {
     "end_time": "2021-03-25T06:01:30.337610Z",
     "start_time": "2021-03-25T06:00:35.849973Z"
    }
   },
   "outputs": [
    {
     "name": "stdout",
     "output_type": "stream",
     "text": [
      "showing info https://raw.githubusercontent.com/nltk/nltk_data/gh-pages/index.xml\n",
      "showing info https://raw.githubusercontent.com/nltk/nltk_data/gh-pages/index.xml\n"
     ]
    },
    {
     "data": {
      "text/plain": [
       "True"
      ]
     },
     "execution_count": 6,
     "metadata": {},
     "output_type": "execute_result"
    }
   ],
   "source": [
    "# d:/kks/IDE/nltk_data\n",
    "# book만 받음\n",
    "nltk.download()"
   ]
  },
  {
   "cell_type": "code",
   "execution_count": 7,
   "metadata": {
    "ExecuteTime": {
     "end_time": "2021-03-25T06:01:42.516867Z",
     "start_time": "2021-03-25T06:01:35.074221Z"
    }
   },
   "outputs": [
    {
     "name": "stdout",
     "output_type": "stream",
     "text": [
      "*** Introductory Examples for the NLTK Book ***\n",
      "Loading text1, ..., text9 and sent1, ..., sent9\n",
      "Type the name of the text or sentence to view it.\n",
      "Type: 'texts()' or 'sents()' to list the materials.\n",
      "text1: Moby Dick by Herman Melville 1851\n",
      "text2: Sense and Sensibility by Jane Austen 1811\n",
      "text3: The Book of Genesis\n",
      "text4: Inaugural Address Corpus\n",
      "text5: Chat Corpus\n",
      "text6: Monty Python and the Holy Grail\n",
      "text7: Wall Street Journal\n",
      "text8: Personals Corpus\n",
      "text9: The Man Who Was Thursday by G . K . Chesterton 1908\n"
     ]
    }
   ],
   "source": [
    "from nltk.book import *"
   ]
  },
  {
   "cell_type": "code",
   "execution_count": 9,
   "metadata": {
    "ExecuteTime": {
     "end_time": "2021-03-25T06:05:56.141422Z",
     "start_time": "2021-03-25T06:05:56.129454Z"
    }
   },
   "outputs": [
    {
     "data": {
      "text/plain": [
       "887071"
      ]
     },
     "execution_count": 9,
     "metadata": {},
     "output_type": "execute_result"
    }
   ],
   "source": [
    "emma = nltk.corpus.gutenberg.raw('austen-emma.txt')\n",
    "len(emma)"
   ]
  },
  {
   "cell_type": "code",
   "execution_count": 12,
   "metadata": {
    "ExecuteTime": {
     "end_time": "2021-03-25T06:13:24.994796Z",
     "start_time": "2021-03-25T06:13:24.752562Z"
    }
   },
   "outputs": [
    {
     "name": "stdout",
     "output_type": "stream",
     "text": [
      "문장 수 :  7493\n",
      "10번째 문장 : It was on the wedding-day\n",
      "of this beloved friend that Emma first sat in mournful thought\n",
      "of any continuance.\n"
     ]
    }
   ],
   "source": [
    "# sent_tokenize() : 문장 단위로 쪼개기\n",
    "# list로 반환\n",
    "from nltk.tokenize import sent_tokenize\n",
    "sent_tokens = sent_tokenize(emma)\n",
    "print('문장 수 : ',len(sent_tokens))\n",
    "print('10번째 문장 :', sent_tokens[10])"
   ]
  },
  {
   "cell_type": "code",
   "execution_count": 13,
   "metadata": {
    "ExecuteTime": {
     "end_time": "2021-03-25T06:13:50.671314Z",
     "start_time": "2021-03-25T06:13:50.663335Z"
    }
   },
   "outputs": [
    {
     "data": {
      "text/plain": [
       "['It',\n",
       " 'was',\n",
       " 'on',\n",
       " 'the',\n",
       " 'wedding-day',\n",
       " 'of',\n",
       " 'this',\n",
       " 'beloved',\n",
       " 'friend',\n",
       " 'that',\n",
       " 'Emma',\n",
       " 'first',\n",
       " 'sat',\n",
       " 'in',\n",
       " 'mournful',\n",
       " 'thought',\n",
       " 'of',\n",
       " 'any',\n",
       " 'continuance',\n",
       " '.']"
      ]
     },
     "execution_count": 13,
     "metadata": {},
     "output_type": "execute_result"
    }
   ],
   "source": [
    "# word_tokenize() : 단어 단위로 쪼개기 \n",
    "# list로 반환\n",
    "from nltk.tokenize import word_tokenize\n",
    "word_tokenize(sent_tokens[10])\n"
   ]
  },
  {
   "cell_type": "code",
   "execution_count": 18,
   "metadata": {
    "ExecuteTime": {
     "end_time": "2021-03-25T06:20:26.552899Z",
     "start_time": "2021-03-25T06:20:26.535894Z"
    }
   },
   "outputs": [
    {
     "name": "stdout",
     "output_type": "stream",
     "text": [
      "['It', 'was', 'on', 'the', 'wedding', 'day', 'of', 'this', 'beloved', 'friend', 'that', 'Emma', 'first', 'sat', 'in', 'mournful', 'thought', 'of', 'any', 'continuance']\n"
     ]
    }
   ],
   "source": [
    "# 토큰화 할 때 정규표현식 이용가능 : RegexpTokenizer 클래스\n",
    "from nltk.tokenize import RegexpTokenizer\n",
    "ret = RegexpTokenizer('[\\w]+')\n",
    "print(ret.tokenize(sent_tokens[10]))"
   ]
  },
  {
   "cell_type": "markdown",
   "metadata": {},
   "source": [
    "# 2. 형태소(의미를 가진 가장 작은 단위) 분석\n",
    "- 어간 추출(stemming)\n",
    "- 원형 복원(lemmatizing)\n",
    "- 품사 태깅(part of Speech Tagging)"
   ]
  },
  {
   "cell_type": "code",
   "execution_count": 20,
   "metadata": {
    "ExecuteTime": {
     "end_time": "2021-03-25T06:40:32.712850Z",
     "start_time": "2021-03-25T06:40:32.700882Z"
    }
   },
   "outputs": [],
   "source": [
    "words = ['sending','cooking','fils','lives','crying','dying']"
   ]
  },
  {
   "cell_type": "code",
   "execution_count": 23,
   "metadata": {
    "ExecuteTime": {
     "end_time": "2021-03-25T06:41:55.237763Z",
     "start_time": "2021-03-25T06:41:55.221812Z"
    }
   },
   "outputs": [
    {
     "data": {
      "text/plain": [
       "['send', 'cook', 'fil', 'live', 'cri', 'die']"
      ]
     },
     "execution_count": 23,
     "metadata": {},
     "output_type": "execute_result"
    }
   ],
   "source": [
    "# 어간 추출 (1) : PorterStemmer\n",
    "from nltk.stem import PorterStemmer\n",
    "pst = PorterStemmer()\n",
    "pst.stem(words[1]) # list를 넣으면 에러.\n",
    "# 리스트 컴프리헨션을 사용\n",
    "[pst.stem(word) for word in words]"
   ]
  },
  {
   "cell_type": "code",
   "execution_count": 24,
   "metadata": {
    "ExecuteTime": {
     "end_time": "2021-03-25T06:43:35.346270Z",
     "start_time": "2021-03-25T06:43:35.340282Z"
    }
   },
   "outputs": [
    {
     "data": {
      "text/plain": [
       "['send', 'cook', 'fil', 'liv', 'cry', 'dying']"
      ]
     },
     "execution_count": 24,
     "metadata": {},
     "output_type": "execute_result"
    }
   ],
   "source": [
    "# 어간 추출 (2) : LancasterStemmer\n",
    "from nltk.stem import LancasterStemmer\n",
    "lst = LancasterStemmer()\n",
    "[lst.stem(word) for word in words]"
   ]
  },
  {
   "cell_type": "code",
   "execution_count": 25,
   "metadata": {
    "ExecuteTime": {
     "end_time": "2021-03-25T06:45:43.904048Z",
     "start_time": "2021-03-25T06:45:43.884101Z"
    }
   },
   "outputs": [
    {
     "data": {
      "text/plain": [
       "['send', 'cook', 'fils', 'lives', 'cry', 'dy']"
      ]
     },
     "execution_count": 25,
     "metadata": {},
     "output_type": "execute_result"
    }
   ],
   "source": [
    "# 어간 추출 (3) : RegexpStemmer\n",
    "from nltk.stem import RegexpStemmer\n",
    "rst = RegexpStemmer('ing')\n",
    "[rst.stem(word) for word in words]"
   ]
  },
  {
   "cell_type": "code",
   "execution_count": 27,
   "metadata": {
    "ExecuteTime": {
     "end_time": "2021-03-25T06:47:33.080923Z",
     "start_time": "2021-03-25T06:47:33.075936Z"
    }
   },
   "outputs": [
    {
     "data": {
      "text/plain": [
       "['bel', 'cook']"
      ]
     },
     "execution_count": 27,
     "metadata": {},
     "output_type": "execute_result"
    }
   ],
   "source": [
    "# 어간 추출을 하면 의미가 달라질 수 있어 원형복원을 한다.\n",
    "words2 = ['belives','cooking']\n",
    "[lst.stem(word)for word in words2]"
   ]
  },
  {
   "cell_type": "code",
   "execution_count": 29,
   "metadata": {
    "ExecuteTime": {
     "end_time": "2021-03-25T06:49:20.687202Z",
     "start_time": "2021-03-25T06:49:20.676231Z"
    }
   },
   "outputs": [
    {
     "data": {
      "text/plain": [
       "['belives', 'cooking']"
      ]
     },
     "execution_count": 29,
     "metadata": {},
     "output_type": "execute_result"
    }
   ],
   "source": [
    "# 원형복원\n",
    "from nltk.stem.wordnet import WordNetLemmatizer\n",
    "wl = WordNetLemmatizer()\n",
    "[wl.lemmatize(word) for word in words2]"
   ]
  },
  {
   "cell_type": "code",
   "execution_count": 31,
   "metadata": {
    "ExecuteTime": {
     "end_time": "2021-03-25T06:52:45.254257Z",
     "start_time": "2021-03-25T06:52:45.243287Z"
    }
   },
   "outputs": [
    {
     "name": "stdout",
     "output_type": "stream",
     "text": [
      "품사 태깅 전 :  ['It', 'was', 'on', 'the', 'wedding-day', 'of', 'this', 'beloved', 'friend', 'that', 'Emma', 'first', 'sat', 'in', 'mournful', 'thought', 'of', 'any', 'continuance', '.']\n",
      "품사 태깅 후 :  [('It', 'PRP'), ('was', 'VBD'), ('on', 'IN'), ('the', 'DT'), ('wedding-day', 'NN'), ('of', 'IN'), ('this', 'DT'), ('beloved', 'VBN'), ('friend', 'NN'), ('that', 'WDT'), ('Emma', 'NNP'), ('first', 'RB'), ('sat', 'VBD'), ('in', 'IN'), ('mournful', 'JJ'), ('thought', 'NN'), ('of', 'IN'), ('any', 'DT'), ('continuance', 'NN'), ('.', '.')]\n"
     ]
    }
   ],
   "source": [
    "# 품사 태깅\n",
    "from nltk.tag import pos_tag\n",
    "tagged_list = pos_tag(word_tokenize(sent_tokens[10]))\n",
    "print('품사 태깅 전 : ',word_tokenize(sent_tokens[10]))\n",
    "print('품사 태깅 후 : ',tagged_list)"
   ]
  },
  {
   "cell_type": "markdown",
   "metadata": {},
   "source": [
    "## 퀴즈 : emma 소설에서\n",
    "<pre>\n",
    "    1. 특수문자가 들어가지 않은 3글자 이상의 단어만 추출해서 품사태깅 하시오.\n",
    "    2. Emma 단어의 품사태깅이 어떤 품사들로 되어있는지 모두 출력하시오.\n",
    "    3. 내가 원하는 품사(명사)의 단어만 뽑아 등장하는 명사의 종류 개수를 출력.\n",
    "</pre>"
   ]
  },
  {
   "cell_type": "code",
   "execution_count": 40,
   "metadata": {
    "ExecuteTime": {
     "end_time": "2021-03-25T07:06:34.307261Z",
     "start_time": "2021-03-25T07:06:28.673813Z"
    }
   },
   "outputs": [
    {
     "data": {
      "text/plain": [
       "[('Emma', 'NNP'),\n",
       " ('Jane', 'NNP'),\n",
       " ('Austen', 'NNP'),\n",
       " ('1816', 'CD'),\n",
       " ('VOLUME', 'NNP'),\n",
       " ('CHAPTER', 'NNP'),\n",
       " ('Emma', 'NNP'),\n",
       " ('Woodhouse', 'NNP'),\n",
       " ('handsome', 'VBD'),\n",
       " ('clever', 'NN'),\n",
       " ('and', 'CC'),\n",
       " ('rich', 'JJ'),\n",
       " ('with', 'IN'),\n",
       " ('comfortable', 'JJ'),\n",
       " ('home', 'NN'),\n",
       " ('and', 'CC'),\n",
       " ('happy', 'JJ'),\n",
       " ('disposition', 'NN'),\n",
       " ('seemed', 'VBD'),\n",
       " ('unite', 'JJ'),\n",
       " ('some', 'DT'),\n",
       " ('the', 'DT'),\n",
       " ('best', 'JJS'),\n",
       " ('blessings', 'NNS'),\n",
       " ('existence', 'NN'),\n",
       " ('and', 'CC'),\n",
       " ('had', 'VBD'),\n",
       " ('lived', 'VBN'),\n",
       " ('nearly', 'RB'),\n",
       " ('twenty', 'JJ'),\n",
       " ('one', 'CD'),\n",
       " ('years', 'NNS'),\n",
       " ('the', 'DT'),\n",
       " ('world', 'NN'),\n",
       " ('with', 'IN'),\n",
       " ('very', 'RB'),\n",
       " ('little', 'JJ'),\n",
       " ('distress', 'NN'),\n",
       " ('vex', 'IN'),\n",
       " ('her', 'PRP$'),\n",
       " ('She', 'PRP'),\n",
       " ('was', 'VBD'),\n",
       " ('the', 'DT'),\n",
       " ('youngest', 'JJS'),\n",
       " ('the', 'DT'),\n",
       " ('two', 'CD'),\n",
       " ('daughters', 'NNS'),\n",
       " ('most', 'RBS'),\n",
       " ('affectionate', 'JJ'),\n",
       " ('indulgent', 'NN'),\n",
       " ('father', 'NN'),\n",
       " ('and', 'CC'),\n",
       " ('had', 'VBD'),\n",
       " ('consequence', 'NN'),\n",
       " ('her', 'PRP$'),\n",
       " ('sister', 'JJ'),\n",
       " ('marriage', 'NN'),\n",
       " ('been', 'VBN'),\n",
       " ('mistress', 'RB'),\n",
       " ('his', 'PRP$'),\n",
       " ('house', 'NN'),\n",
       " ('from', 'IN'),\n",
       " ('very', 'RB'),\n",
       " ('early', 'JJ'),\n",
       " ('period', 'NN'),\n",
       " ('Her', 'PRP$'),\n",
       " ('mother', 'NN'),\n",
       " ('had', 'VBD'),\n",
       " ('died', 'VBN'),\n",
       " ('too', 'RB'),\n",
       " ('long', 'RB'),\n",
       " ('ago', 'RB'),\n",
       " ('for', 'IN'),\n",
       " ('her', 'PRP$'),\n",
       " ('have', 'VBP'),\n",
       " ('more', 'JJR'),\n",
       " ('than', 'IN'),\n",
       " ('indistinct', 'JJ'),\n",
       " ('remembrance', 'NN'),\n",
       " ('her', 'PRP$'),\n",
       " ('caresses', 'NNS'),\n",
       " ('and', 'CC'),\n",
       " ('her', 'PRP$'),\n",
       " ('place', 'NN'),\n",
       " ('had', 'VBD'),\n",
       " ('been', 'VBN'),\n",
       " ('supplied', 'VBN'),\n",
       " ('excellent', 'JJ'),\n",
       " ('woman', 'NN'),\n",
       " ('governess', 'NN'),\n",
       " ('who', 'WP'),\n",
       " ('had', 'VBD'),\n",
       " ('fallen', 'VBN'),\n",
       " ('little', 'JJ'),\n",
       " ('short', 'JJ'),\n",
       " ('mother', 'NN'),\n",
       " ('affection', 'NN'),\n",
       " ('Sixteen', 'NNP'),\n",
       " ('years', 'NNS'),\n",
       " ('had', 'VBD'),\n",
       " ('Miss', 'NNP'),\n",
       " ('Taylor', 'NNP'),\n",
       " ('been', 'VBN'),\n",
       " ('Woodhouse', 'NNP'),\n",
       " ('family', 'NN'),\n",
       " ('less', 'JJR'),\n",
       " ('governess', 'JJ'),\n",
       " ('than', 'IN'),\n",
       " ('friend', 'VBP'),\n",
       " ('very', 'RB'),\n",
       " ('fond', 'JJ'),\n",
       " ('both', 'DT'),\n",
       " ('daughters', 'NNS'),\n",
       " ('but', 'CC'),\n",
       " ('particularly', 'RB'),\n",
       " ('Emma', 'NNP'),\n",
       " ('Between', 'NNP'),\n",
       " ('_them_', 'NNP'),\n",
       " ('was', 'VBD'),\n",
       " ('more', 'RBR'),\n",
       " ('the', 'DT'),\n",
       " ('intimacy', 'NN'),\n",
       " ('sisters', 'NNS'),\n",
       " ('Even', 'RB'),\n",
       " ('before', 'IN'),\n",
       " ('Miss', 'NNP'),\n",
       " ('Taylor', 'NNP'),\n",
       " ('had', 'VBD'),\n",
       " ('ceased', 'VBN'),\n",
       " ('hold', 'VB'),\n",
       " ('the', 'DT'),\n",
       " ('nominal', 'JJ'),\n",
       " ('office', 'NN'),\n",
       " ('governess', 'NN'),\n",
       " ('the', 'DT'),\n",
       " ('mildness', 'NN'),\n",
       " ('her', 'PRP$'),\n",
       " ('temper', 'NN'),\n",
       " ('had', 'VBD'),\n",
       " ('hardly', 'RB'),\n",
       " ('allowed', 'VBN'),\n",
       " ('her', 'PRP$'),\n",
       " ('impose', 'JJ'),\n",
       " ('any', 'DT'),\n",
       " ('restraint', 'NN'),\n",
       " ('and', 'CC'),\n",
       " ('the', 'DT'),\n",
       " ('shadow', 'JJ'),\n",
       " ('authority', 'NN'),\n",
       " ('being', 'VBG'),\n",
       " ('now', 'RB'),\n",
       " ('long', 'RB'),\n",
       " ('passed', 'VBN'),\n",
       " ('away', 'RB'),\n",
       " ('they', 'PRP'),\n",
       " ('had', 'VBD'),\n",
       " ('been', 'VBN'),\n",
       " ('living', 'VBG'),\n",
       " ('together', 'RB'),\n",
       " ('friend', 'NN'),\n",
       " ('and', 'CC'),\n",
       " ('friend', 'VB'),\n",
       " ('very', 'RB'),\n",
       " ('mutually', 'RB'),\n",
       " ('attached', 'VBN'),\n",
       " ('and', 'CC'),\n",
       " ('Emma', 'NNP'),\n",
       " ('doing', 'VBG'),\n",
       " ('just', 'RB'),\n",
       " ('what', 'WP'),\n",
       " ('she', 'PRP'),\n",
       " ('liked', 'VBD'),\n",
       " ('highly', 'RB'),\n",
       " ('esteeming', 'VBG'),\n",
       " ('Miss', 'NNP'),\n",
       " ('Taylor', 'NNP'),\n",
       " ('judgment', 'NN'),\n",
       " ('but', 'CC'),\n",
       " ('directed', 'VBD'),\n",
       " ('chiefly', 'NN'),\n",
       " ('her', 'PRP$'),\n",
       " ('own', 'JJ'),\n",
       " ('The', 'DT'),\n",
       " ('real', 'JJ'),\n",
       " ('evils', 'NNS'),\n",
       " ('indeed', 'RB'),\n",
       " ('Emma', 'NNP'),\n",
       " ('situation', 'NN'),\n",
       " ('were', 'VBD'),\n",
       " ('the', 'DT'),\n",
       " ('power', 'NN'),\n",
       " ('having', 'VBG'),\n",
       " ('rather', 'RB'),\n",
       " ('too', 'RB'),\n",
       " ('much', 'JJ'),\n",
       " ('her', 'PRP$'),\n",
       " ('own', 'JJ'),\n",
       " ('way', 'NN'),\n",
       " ('and', 'CC'),\n",
       " ('disposition', 'NN'),\n",
       " ('think', 'VBP'),\n",
       " ('little', 'RB'),\n",
       " ('too', 'RB'),\n",
       " ('well', 'RB'),\n",
       " ('herself', 'PRP'),\n",
       " ('these', 'DT'),\n",
       " ('were', 'VBD'),\n",
       " ('the', 'DT'),\n",
       " ('disadvantages', 'NNS'),\n",
       " ('which', 'WDT'),\n",
       " ('threatened', 'VBD'),\n",
       " ('alloy', 'RP'),\n",
       " ('her', 'PRP$'),\n",
       " ('many', 'JJ'),\n",
       " ('enjoyments', 'NNS'),\n",
       " ('The', 'DT'),\n",
       " ('danger', 'NN'),\n",
       " ('however', 'RB'),\n",
       " ('was', 'VBD'),\n",
       " ('present', 'JJ'),\n",
       " ('unperceived', 'JJ'),\n",
       " ('that', 'IN'),\n",
       " ('they', 'PRP'),\n",
       " ('did', 'VBD'),\n",
       " ('not', 'RB'),\n",
       " ('any', 'DT'),\n",
       " ('means', 'NNS'),\n",
       " ('rank', 'VBP'),\n",
       " ('misfortunes', 'NNS'),\n",
       " ('with', 'IN'),\n",
       " ('her', 'PRP$'),\n",
       " ('Sorrow', 'NNP'),\n",
       " ('came', 'VBD'),\n",
       " ('gentle', 'JJ'),\n",
       " ('sorrow', 'NN'),\n",
       " ('but', 'CC'),\n",
       " ('not', 'RB'),\n",
       " ('all', 'PDT'),\n",
       " ('the', 'DT'),\n",
       " ('shape', 'NN'),\n",
       " ('any', 'DT'),\n",
       " ('disagreeable', 'JJ'),\n",
       " ('consciousness', 'NN'),\n",
       " ('Miss', 'NNP'),\n",
       " ('Taylor', 'NNP'),\n",
       " ('married', 'VBD'),\n",
       " ('was', 'VBD'),\n",
       " ('Miss', 'NNP'),\n",
       " ('Taylor', 'NNP'),\n",
       " ('loss', 'NN'),\n",
       " ('which', 'WDT'),\n",
       " ('first', 'RB'),\n",
       " ('brought', 'VBD'),\n",
       " ('grief', 'NN'),\n",
       " ('was', 'VBD'),\n",
       " ('the', 'DT'),\n",
       " ('wedding', 'NN'),\n",
       " ('day', 'NN'),\n",
       " ('this', 'DT'),\n",
       " ('beloved', 'VBD'),\n",
       " ('friend', 'NN'),\n",
       " ('that', 'IN'),\n",
       " ('Emma', 'NNP'),\n",
       " ('first', 'RB'),\n",
       " ('sat', 'VBD'),\n",
       " ('mournful', 'JJ'),\n",
       " ('thought', 'VBD'),\n",
       " ('any', 'DT'),\n",
       " ('continuance', 'NN'),\n",
       " ('The', 'DT'),\n",
       " ('wedding', 'NN'),\n",
       " ('over', 'IN'),\n",
       " ('and', 'CC'),\n",
       " ('the', 'DT'),\n",
       " ('bride', 'JJ'),\n",
       " ('people', 'NNS'),\n",
       " ('gone', 'VBN'),\n",
       " ('her', 'PRP$'),\n",
       " ('father', 'NN'),\n",
       " ('and', 'CC'),\n",
       " ('herself', 'PRP'),\n",
       " ('were', 'VBD'),\n",
       " ('left', 'VBN'),\n",
       " ('dine', 'NN'),\n",
       " ('together', 'RB'),\n",
       " ('with', 'IN'),\n",
       " ('prospect', 'JJ'),\n",
       " ('third', 'JJ'),\n",
       " ('cheer', 'NN'),\n",
       " ('long', 'RB'),\n",
       " ('evening', 'VBG'),\n",
       " ('Her', 'PRP$'),\n",
       " ('father', 'NN'),\n",
       " ('composed', 'VBD'),\n",
       " ('himself', 'PRP'),\n",
       " ('sleep', 'VBP'),\n",
       " ('after', 'IN'),\n",
       " ('dinner', 'NN'),\n",
       " ('usual', 'JJ'),\n",
       " ('and', 'CC'),\n",
       " ('she', 'PRP'),\n",
       " ('had', 'VBD'),\n",
       " ('then', 'RB'),\n",
       " ('only', 'RB'),\n",
       " ('sit', 'NN'),\n",
       " ('and', 'CC'),\n",
       " ('think', 'VB'),\n",
       " ('what', 'WP'),\n",
       " ('she', 'PRP'),\n",
       " ('had', 'VBD'),\n",
       " ('lost', 'VBN'),\n",
       " ('The', 'DT'),\n",
       " ('event', 'NN'),\n",
       " ('had', 'VBD'),\n",
       " ('every', 'DT'),\n",
       " ('promise', 'NN'),\n",
       " ('happiness', 'NN'),\n",
       " ('for', 'IN'),\n",
       " ('her', 'PRP$'),\n",
       " ('friend', 'NN'),\n",
       " ('Weston', 'NNP'),\n",
       " ('was', 'VBD'),\n",
       " ('man', 'NN'),\n",
       " ('unexceptionable', 'JJ'),\n",
       " ('character', 'NN'),\n",
       " ('easy', 'JJ'),\n",
       " ('fortune', 'NN'),\n",
       " ('suitable', 'JJ'),\n",
       " ('age', 'NN'),\n",
       " ('and', 'CC'),\n",
       " ('pleasant', 'JJ'),\n",
       " ('manners', 'NNS'),\n",
       " ('and', 'CC'),\n",
       " ('there', 'EX'),\n",
       " ('was', 'VBD'),\n",
       " ('some', 'DT'),\n",
       " ('satisfaction', 'NN'),\n",
       " ('considering', 'VBG'),\n",
       " ('with', 'IN'),\n",
       " ('what', 'WP'),\n",
       " ('self', 'VBD'),\n",
       " ('denying', 'VBG'),\n",
       " ('generous', 'JJ'),\n",
       " ('friendship', 'NN'),\n",
       " ('she', 'PRP'),\n",
       " ('had', 'VBD'),\n",
       " ('always', 'RB'),\n",
       " ('wished', 'VBN'),\n",
       " ('and', 'CC'),\n",
       " ('promoted', 'VBN'),\n",
       " ('the', 'DT'),\n",
       " ('match', 'NN'),\n",
       " ('but', 'CC'),\n",
       " ('was', 'VBD'),\n",
       " ('black', 'JJ'),\n",
       " ('morning', 'NN'),\n",
       " ('work', 'NN'),\n",
       " ('for', 'IN'),\n",
       " ('her', 'PRP$'),\n",
       " ('The', 'DT'),\n",
       " ('want', 'NN'),\n",
       " ('Miss', 'NNP'),\n",
       " ('Taylor', 'NNP'),\n",
       " ('would', 'MD'),\n",
       " ('felt', 'VB'),\n",
       " ('every', 'DT'),\n",
       " ('hour', 'NN'),\n",
       " ('every', 'DT'),\n",
       " ('day', 'NN'),\n",
       " ('She', 'PRP'),\n",
       " ('recalled', 'VBD'),\n",
       " ('her', 'PRP'),\n",
       " ('past', 'JJ'),\n",
       " ('kindness', 'NN'),\n",
       " ('the', 'DT'),\n",
       " ('kindness', 'NN'),\n",
       " ('the', 'DT'),\n",
       " ('affection', 'NN'),\n",
       " ('sixteen', 'JJ'),\n",
       " ('years', 'NNS'),\n",
       " ('how', 'WRB'),\n",
       " ('she', 'PRP'),\n",
       " ('had', 'VBD'),\n",
       " ('taught', 'VBN'),\n",
       " ('and', 'CC'),\n",
       " ('how', 'WRB'),\n",
       " ('she', 'PRP'),\n",
       " ('had', 'VBD'),\n",
       " ('played', 'VBN'),\n",
       " ('with', 'IN'),\n",
       " ('her', 'PRP'),\n",
       " ('from', 'IN'),\n",
       " ('five', 'CD'),\n",
       " ('years', 'NNS'),\n",
       " ('old', 'JJ'),\n",
       " ('how', 'WRB'),\n",
       " ('she', 'PRP'),\n",
       " ('had', 'VBD'),\n",
       " ('devoted', 'VBN'),\n",
       " ('all', 'DT'),\n",
       " ('her', 'PRP$'),\n",
       " ('powers', 'NNS'),\n",
       " ('attach', 'VBP'),\n",
       " ('and', 'CC'),\n",
       " ('amuse', 'VBP'),\n",
       " ('her', 'PRP$'),\n",
       " ('health', 'NN'),\n",
       " ('and', 'CC'),\n",
       " ('how', 'WRB'),\n",
       " ('nursed', 'JJ'),\n",
       " ('her', 'PRP$'),\n",
       " ('through', 'IN'),\n",
       " ('the', 'DT'),\n",
       " ('various', 'JJ'),\n",
       " ('illnesses', 'NNS'),\n",
       " ('childhood', 'VBD'),\n",
       " ('large', 'JJ'),\n",
       " ('debt', 'NN'),\n",
       " ('gratitude', 'NN'),\n",
       " ('was', 'VBD'),\n",
       " ('owing', 'VBG'),\n",
       " ('here', 'RB'),\n",
       " ('but', 'CC'),\n",
       " ('the', 'DT'),\n",
       " ('intercourse', 'NN'),\n",
       " ('the', 'DT'),\n",
       " ('last', 'JJ'),\n",
       " ('seven', 'CD'),\n",
       " ('years', 'NNS'),\n",
       " ('the', 'DT'),\n",
       " ('equal', 'JJ'),\n",
       " ('footing', 'NN'),\n",
       " ('and', 'CC'),\n",
       " ('perfect', 'NN'),\n",
       " ('unreserve', 'NN'),\n",
       " ('which', 'WDT'),\n",
       " ('had', 'VBD'),\n",
       " ('soon', 'RB'),\n",
       " ('followed', 'VBN'),\n",
       " ('Isabella', 'NNP'),\n",
       " ('marriage', 'VB'),\n",
       " ('their', 'PRP$'),\n",
       " ('being', 'VBG'),\n",
       " ('left', 'VBN'),\n",
       " ('each', 'DT'),\n",
       " ('other', 'JJ'),\n",
       " ('was', 'VBD'),\n",
       " ('yet', 'RB'),\n",
       " ('dearer', 'JJ'),\n",
       " ('tenderer', 'NN'),\n",
       " ('recollection', 'NN'),\n",
       " ('She', 'PRP'),\n",
       " ('had', 'VBD'),\n",
       " ('been', 'VBN'),\n",
       " ('friend', 'VBN'),\n",
       " ('and', 'CC'),\n",
       " ('companion', 'NN'),\n",
       " ('such', 'JJ'),\n",
       " ('few', 'JJ'),\n",
       " ('possessed', 'VBN'),\n",
       " ('intelligent', 'NN'),\n",
       " ('well', 'RB'),\n",
       " ('informed', 'VBN'),\n",
       " ('useful', 'JJ'),\n",
       " ('gentle', 'JJ'),\n",
       " ('knowing', 'VBG'),\n",
       " ('all', 'PDT'),\n",
       " ('the', 'DT'),\n",
       " ('ways', 'NNS'),\n",
       " ('the', 'DT'),\n",
       " ('family', 'NN'),\n",
       " ('interested', 'VBD'),\n",
       " ('all', 'PDT'),\n",
       " ('its', 'PRP$'),\n",
       " ('concerns', 'NNS'),\n",
       " ('and', 'CC'),\n",
       " ('peculiarly', 'RB'),\n",
       " ('interested', 'JJ'),\n",
       " ('herself', 'PRP'),\n",
       " ('every', 'DT'),\n",
       " ('pleasure', 'NN'),\n",
       " ('every', 'DT'),\n",
       " ('scheme', 'NN'),\n",
       " ('hers', 'VBZ'),\n",
       " ('one', 'CD'),\n",
       " ('whom', 'WP'),\n",
       " ('she', 'PRP'),\n",
       " ('could', 'MD'),\n",
       " ('speak', 'VB'),\n",
       " ('every', 'DT'),\n",
       " ('thought', 'NN'),\n",
       " ('arose', 'RB'),\n",
       " ('and', 'CC'),\n",
       " ('who', 'WP'),\n",
       " ('had', 'VBD'),\n",
       " ('such', 'JJ'),\n",
       " ('affection', 'NN'),\n",
       " ('for', 'IN'),\n",
       " ('her', 'PRP$'),\n",
       " ('could', 'MD'),\n",
       " ('never', 'RB'),\n",
       " ('find', 'VB'),\n",
       " ('fault', 'NN'),\n",
       " ('How', 'NNP'),\n",
       " ('was', 'VBD'),\n",
       " ('she', 'PRP'),\n",
       " ('bear', 'IN'),\n",
       " ('the', 'DT'),\n",
       " ('change', 'NN'),\n",
       " ('was', 'VBD'),\n",
       " ('true', 'JJ'),\n",
       " ('that', 'IN'),\n",
       " ('her', 'PRP$'),\n",
       " ('friend', 'NN'),\n",
       " ('was', 'VBD'),\n",
       " ('going', 'VBG'),\n",
       " ('only', 'RB'),\n",
       " ('half', 'RB'),\n",
       " ('mile', 'JJ'),\n",
       " ('from', 'IN'),\n",
       " ('them', 'PRP'),\n",
       " ('but', 'CC'),\n",
       " ('Emma', 'NNP'),\n",
       " ('was', 'VBD'),\n",
       " ('aware', 'JJ'),\n",
       " ('that', 'IN'),\n",
       " ('great', 'JJ'),\n",
       " ('must', 'MD'),\n",
       " ('the', 'DT'),\n",
       " ('difference', 'NN'),\n",
       " ('between', 'IN'),\n",
       " ('Mrs', 'NNP'),\n",
       " ('Weston', 'NNP'),\n",
       " ('only', 'RB'),\n",
       " ('half', 'RB'),\n",
       " ('mile', 'JJ'),\n",
       " ('from', 'IN'),\n",
       " ('them', 'PRP'),\n",
       " ('and', 'CC'),\n",
       " ('Miss', 'NNP'),\n",
       " ('Taylor', 'NNP'),\n",
       " ('the', 'DT'),\n",
       " ('house', 'NN'),\n",
       " ('and', 'CC'),\n",
       " ('with', 'IN'),\n",
       " ('all', 'DT'),\n",
       " ('her', 'PRP$'),\n",
       " ('advantages', 'NNS'),\n",
       " ('natural', 'JJ'),\n",
       " ('and', 'CC'),\n",
       " ('domestic', 'JJ'),\n",
       " ('she', 'PRP'),\n",
       " ('was', 'VBD'),\n",
       " ('now', 'RB'),\n",
       " ('great', 'JJ'),\n",
       " ('danger', 'NN'),\n",
       " ('suffering', 'VBG'),\n",
       " ('from', 'IN'),\n",
       " ('intellectual', 'JJ'),\n",
       " ('solitude', 'NN'),\n",
       " ('She', 'PRP'),\n",
       " ('dearly', 'RB'),\n",
       " ('loved', 'VBD'),\n",
       " ('her', 'PRP'),\n",
       " ('father', 'NN'),\n",
       " ('but', 'CC'),\n",
       " ('was', 'VBD'),\n",
       " ('companion', 'NN'),\n",
       " ('for', 'IN'),\n",
       " ('her', 'PRP$'),\n",
       " ('could', 'MD'),\n",
       " ('not', 'RB'),\n",
       " ('meet', 'VB'),\n",
       " ('her', 'PRP$'),\n",
       " ('conversation', 'NN'),\n",
       " ('rational', 'JJ'),\n",
       " ('playful', 'NN'),\n",
       " ('The', 'DT'),\n",
       " ('evil', 'JJ'),\n",
       " ('the', 'DT'),\n",
       " ('actual', 'JJ'),\n",
       " ('disparity', 'NN'),\n",
       " ('their', 'PRP$'),\n",
       " ('ages', 'NNS'),\n",
       " ('and', 'CC'),\n",
       " ('Woodhouse', 'NNP'),\n",
       " ('had', 'VBD'),\n",
       " ('not', 'RB'),\n",
       " ('married', 'VBN'),\n",
       " ('early', 'RB'),\n",
       " ('was', 'VBD'),\n",
       " ('much', 'RB'),\n",
       " ('increased', 'VBN'),\n",
       " ('his', 'PRP$'),\n",
       " ('constitution', 'NN'),\n",
       " ('and', 'CC'),\n",
       " ('habits', 'NNS'),\n",
       " ('for', 'IN'),\n",
       " ('having', 'VBG'),\n",
       " ('been', 'VBN'),\n",
       " ('valetudinarian', 'JJ'),\n",
       " ('all', 'DT'),\n",
       " ('his', 'PRP$'),\n",
       " ('life', 'NN'),\n",
       " ('without', 'IN'),\n",
       " ('activity', 'NN'),\n",
       " ('mind', 'NN'),\n",
       " ('body', 'NN'),\n",
       " ('was', 'VBD'),\n",
       " ('much', 'JJ'),\n",
       " ('older', 'JJR'),\n",
       " ('man', 'NN'),\n",
       " ('ways', 'NNS'),\n",
       " ('than', 'IN'),\n",
       " ('years', 'NNS'),\n",
       " ('and', 'CC'),\n",
       " ('though', 'IN'),\n",
       " ('everywhere', 'RB'),\n",
       " ('beloved', 'VBN'),\n",
       " ('for', 'IN'),\n",
       " ('the', 'DT'),\n",
       " ('friendliness', 'NN'),\n",
       " ('his', 'PRP$'),\n",
       " ('heart', 'NN'),\n",
       " ('and', 'CC'),\n",
       " ('his', 'PRP$'),\n",
       " ('amiable', 'JJ'),\n",
       " ('temper', 'IN'),\n",
       " ('his', 'PRP$'),\n",
       " ('talents', 'NNS'),\n",
       " ('could', 'MD'),\n",
       " ('not', 'RB'),\n",
       " ('have', 'VB'),\n",
       " ('recommended', 'VBN'),\n",
       " ('him', 'PRP'),\n",
       " ('any', 'DT'),\n",
       " ('time', 'NN'),\n",
       " ('Her', 'NNP'),\n",
       " ('sister', 'NN'),\n",
       " ('though', 'IN'),\n",
       " ('comparatively', 'RB'),\n",
       " ('but', 'CC'),\n",
       " ('little', 'JJ'),\n",
       " ('removed', 'JJ'),\n",
       " ('matrimony', 'NN'),\n",
       " ('being', 'VBG'),\n",
       " ('settled', 'VBN'),\n",
       " ('London', 'NNP'),\n",
       " ('only', 'RB'),\n",
       " ('sixteen', 'VBD'),\n",
       " ('miles', 'NNS'),\n",
       " ('off', 'RP'),\n",
       " ('was', 'VBD'),\n",
       " ('much', 'JJ'),\n",
       " ('beyond', 'IN'),\n",
       " ('her', 'PRP$'),\n",
       " ('daily', 'JJ'),\n",
       " ('reach', 'NN'),\n",
       " ('and', 'CC'),\n",
       " ('many', 'JJ'),\n",
       " ('long', 'JJ'),\n",
       " ('October', 'NNP'),\n",
       " ('and', 'CC'),\n",
       " ('November', 'NNP'),\n",
       " ('evening', 'NN'),\n",
       " ('must', 'MD'),\n",
       " ('struggled', 'VB'),\n",
       " ('through', 'IN'),\n",
       " ('Hartfield', 'NNP'),\n",
       " ('before', 'IN'),\n",
       " ('Christmas', 'NNP'),\n",
       " ('brought', 'VBD'),\n",
       " ('the', 'DT'),\n",
       " ('next', 'JJ'),\n",
       " ('visit', 'NN'),\n",
       " ('from', 'IN'),\n",
       " ('Isabella', 'NNP'),\n",
       " ('and', 'CC'),\n",
       " ('her', 'PRP$'),\n",
       " ('husband', 'NN'),\n",
       " ('and', 'CC'),\n",
       " ('their', 'PRP$'),\n",
       " ('little', 'JJ'),\n",
       " ('children', 'NNS'),\n",
       " ('fill', 'VBP'),\n",
       " ('the', 'DT'),\n",
       " ('house', 'NN'),\n",
       " ('and', 'CC'),\n",
       " ('give', 'VB'),\n",
       " ('her', 'PRP$'),\n",
       " ('pleasant', 'JJ'),\n",
       " ('society', 'NN'),\n",
       " ('again', 'RB'),\n",
       " ('Highbury', 'NNP'),\n",
       " ('the', 'DT'),\n",
       " ('large', 'JJ'),\n",
       " ('and', 'CC'),\n",
       " ('populous', 'JJ'),\n",
       " ('village', 'NN'),\n",
       " ('almost', 'RB'),\n",
       " ('amounting', 'VBG'),\n",
       " ('town', 'NN'),\n",
       " ('which', 'WDT'),\n",
       " ('Hartfield', 'NNP'),\n",
       " ('spite', 'VBD'),\n",
       " ('its', 'PRP$'),\n",
       " ('separate', 'JJ'),\n",
       " ('lawn', 'NN'),\n",
       " ('and', 'CC'),\n",
       " ('shrubberies', 'NNS'),\n",
       " ('and', 'CC'),\n",
       " ('name', 'NN'),\n",
       " ('did', 'VBD'),\n",
       " ('really', 'RB'),\n",
       " ('belong', 'VB'),\n",
       " ('afforded', 'VBD'),\n",
       " ('her', 'PRP'),\n",
       " ('equals', 'VBZ'),\n",
       " ('The', 'DT'),\n",
       " ('Woodhouses', 'NNS'),\n",
       " ('were', 'VBD'),\n",
       " ('first', 'JJ'),\n",
       " ('consequence', 'NN'),\n",
       " ('there', 'RB'),\n",
       " ('All', 'DT'),\n",
       " ('looked', 'VBD'),\n",
       " ('them', 'PRP'),\n",
       " ('She', 'PRP'),\n",
       " ('had', 'VBD'),\n",
       " ('many', 'JJ'),\n",
       " ('acquaintance', 'RB'),\n",
       " ('the', 'DT'),\n",
       " ('place', 'NN'),\n",
       " ('for', 'IN'),\n",
       " ('her', 'PRP$'),\n",
       " ('father', 'NN'),\n",
       " ('was', 'VBD'),\n",
       " ('universally', 'RB'),\n",
       " ('civil', 'JJ'),\n",
       " ('but', 'CC'),\n",
       " ('not', 'RB'),\n",
       " ('one', 'CD'),\n",
       " ('among', 'IN'),\n",
       " ('them', 'PRP'),\n",
       " ('who', 'WP'),\n",
       " ('could', 'MD'),\n",
       " ('accepted', 'VB'),\n",
       " ('lieu', 'JJ'),\n",
       " ('Miss', 'NNP'),\n",
       " ('Taylor', 'NNP'),\n",
       " ('for', 'IN'),\n",
       " ('even', 'RB'),\n",
       " ('half', 'DT'),\n",
       " ('day', 'NN'),\n",
       " ('was', 'VBD'),\n",
       " ('melancholy', 'JJ'),\n",
       " ('change', 'NN'),\n",
       " ('and', 'CC'),\n",
       " ('Emma', 'NNP'),\n",
       " ('could', 'MD'),\n",
       " ('not', 'RB'),\n",
       " ('but', 'CC'),\n",
       " ('sigh', 'RB'),\n",
       " ('over', 'IN'),\n",
       " ('and', 'CC'),\n",
       " ('wish', 'VB'),\n",
       " ('for', 'IN'),\n",
       " ('impossible', 'JJ'),\n",
       " ('things', 'NNS'),\n",
       " ('till', 'IN'),\n",
       " ('her', 'PRP$'),\n",
       " ('father', 'NN'),\n",
       " ('awoke', 'NN'),\n",
       " ('and', 'CC'),\n",
       " ('made', 'VBD'),\n",
       " ('necessary', 'JJ'),\n",
       " ('cheerful', 'JJ'),\n",
       " ('His', 'PRP$'),\n",
       " ('spirits', 'NNS'),\n",
       " ('required', 'VBN'),\n",
       " ('support', 'NN'),\n",
       " ('was', 'VBD'),\n",
       " ('nervous', 'JJ'),\n",
       " ('man', 'NN'),\n",
       " ('easily', 'RB'),\n",
       " ('depressed', 'VBD'),\n",
       " ('fond', 'NN'),\n",
       " ('every', 'DT'),\n",
       " ('body', 'NN'),\n",
       " ('that', 'WDT'),\n",
       " ('was', 'VBD'),\n",
       " ('used', 'VBN'),\n",
       " ('and', 'CC'),\n",
       " ('hating', 'VBG'),\n",
       " ('part', 'NN'),\n",
       " ('with', 'IN'),\n",
       " ('them', 'PRP'),\n",
       " ('hating', 'VBG'),\n",
       " ('change', 'NN'),\n",
       " ('every', 'DT'),\n",
       " ('kind', 'NN'),\n",
       " ('Matrimony', 'NNP'),\n",
       " ('the', 'DT'),\n",
       " ('origin', 'NN'),\n",
       " ('change', 'NN'),\n",
       " ('was', 'VBD'),\n",
       " ('always', 'RB'),\n",
       " ('disagreeable', 'JJ'),\n",
       " ('and', 'CC'),\n",
       " ('was', 'VBD'),\n",
       " ('means', 'NNS'),\n",
       " ('yet', 'RB'),\n",
       " ('reconciled', 'VBN'),\n",
       " ('his', 'PRP$'),\n",
       " ('own', 'JJ'),\n",
       " ('daughter', 'NN'),\n",
       " ('marrying', 'VBG'),\n",
       " ('nor', 'CC'),\n",
       " ('could', 'MD'),\n",
       " ('ever', 'RB'),\n",
       " ('speak', 'VB'),\n",
       " ('her', 'PRP$'),\n",
       " ('but', 'CC'),\n",
       " ('with', 'IN'),\n",
       " ('compassion', 'NN'),\n",
       " ('though', 'IN'),\n",
       " ('had', 'VBD'),\n",
       " ('been', 'VBN'),\n",
       " ('entirely', 'RB'),\n",
       " ('match', 'JJ'),\n",
       " ('affection', 'NN'),\n",
       " ('when', 'WRB'),\n",
       " ('was', 'VBD'),\n",
       " ('now', 'RB'),\n",
       " ('obliged', 'VBN'),\n",
       " ('part', 'NN'),\n",
       " ('with', 'IN'),\n",
       " ('Miss', 'NNP'),\n",
       " ('Taylor', 'NNP'),\n",
       " ('too', 'RB'),\n",
       " ('and', 'CC'),\n",
       " ('from', 'IN'),\n",
       " ('his', 'PRP$'),\n",
       " ('habits', 'NNS'),\n",
       " ('gentle', 'JJ'),\n",
       " ('selfishness', 'NN'),\n",
       " ('and', 'CC'),\n",
       " ('being', 'VBG'),\n",
       " ('never', 'RB'),\n",
       " ('able', 'JJ'),\n",
       " ('suppose', 'NN'),\n",
       " ('that', 'IN'),\n",
       " ('other', 'JJ'),\n",
       " ('people', 'NNS'),\n",
       " ('could', 'MD'),\n",
       " ('feel', 'VB'),\n",
       " ('differently', 'RB'),\n",
       " ('from', 'IN'),\n",
       " ('himself', 'PRP'),\n",
       " ('was', 'VBD'),\n",
       " ('very', 'RB'),\n",
       " ('much', 'JJ'),\n",
       " ('disposed', 'VBN'),\n",
       " ('think', 'VBP'),\n",
       " ('Miss', 'NNP'),\n",
       " ('Taylor', 'NNP'),\n",
       " ('had', 'VBD'),\n",
       " ('done', 'VBN'),\n",
       " ('sad', 'JJ'),\n",
       " ('thing', 'NN'),\n",
       " ('for', 'IN'),\n",
       " ('herself', 'NN'),\n",
       " ('for', 'IN'),\n",
       " ('them', 'PRP'),\n",
       " ('and', 'CC'),\n",
       " ('would', 'MD'),\n",
       " ('have', 'VB'),\n",
       " ('been', 'VBN'),\n",
       " ('great', 'JJ'),\n",
       " ('deal', 'NN'),\n",
       " ('happier', 'NN'),\n",
       " ('she', 'PRP'),\n",
       " ('had', 'VBD'),\n",
       " ('spent', 'VBN'),\n",
       " ('all', 'PDT'),\n",
       " ('the', 'DT'),\n",
       " ('rest', 'NN'),\n",
       " ('her', 'PRP$'),\n",
       " ('life', 'NN'),\n",
       " ('Hartfield', 'NNP'),\n",
       " ('Emma', 'NNP'),\n",
       " ('smiled', 'VBD'),\n",
       " ('and', 'CC'),\n",
       " ('chatted', 'VBD'),\n",
       " ('cheerfully', 'RB'),\n",
       " ('she', 'PRP'),\n",
       " ('could', 'MD'),\n",
       " ('keep', 'VB'),\n",
       " ('him', 'PRP'),\n",
       " ('from', 'IN'),\n",
       " ('such', 'JJ'),\n",
       " ('thoughts', 'NNS'),\n",
       " ('but', 'CC'),\n",
       " ('when', 'WRB'),\n",
       " ('tea', 'NN'),\n",
       " ('came', 'VBD'),\n",
       " ('was', 'VBD'),\n",
       " ('impossible', 'JJ'),\n",
       " ('for', 'IN'),\n",
       " ('him', 'PRP'),\n",
       " ('not', 'RB'),\n",
       " ('say', 'VB'),\n",
       " ('exactly', 'RB'),\n",
       " ('had', 'VBD'),\n",
       " ('said', 'VBD'),\n",
       " ('dinner', 'NN'),\n",
       " ('Poor', 'NNP'),\n",
       " ('Miss', 'NNP'),\n",
       " ('Taylor', 'NNP'),\n",
       " ('wish', 'JJ'),\n",
       " ('she', 'PRP'),\n",
       " ('were', 'VBD'),\n",
       " ('here', 'RB'),\n",
       " ('again', 'RB'),\n",
       " ('What', 'WP'),\n",
       " ('pity', 'NN'),\n",
       " ('that', 'IN'),\n",
       " ('Weston', 'NNP'),\n",
       " ('ever', 'RB'),\n",
       " ('thought', 'VBD'),\n",
       " ('her', 'PRP'),\n",
       " ('cannot', 'NN'),\n",
       " ('agree', 'VB'),\n",
       " ('with', 'IN'),\n",
       " ('you', 'PRP'),\n",
       " ('papa', 'VBP'),\n",
       " ('you', 'PRP'),\n",
       " ('know', 'VBP'),\n",
       " ('cannot', 'JJ'),\n",
       " ('Weston', 'NNP'),\n",
       " ('such', 'JJ'),\n",
       " ('good', 'JJ'),\n",
       " ('humoured', 'VBN'),\n",
       " ('pleasant', 'JJ'),\n",
       " ('excellent', 'JJ'),\n",
       " ('man', 'NN'),\n",
       " ('that', 'WDT'),\n",
       " ('thoroughly', 'RB'),\n",
       " ('deserves', 'VBZ'),\n",
       " ('good', 'JJ'),\n",
       " ('wife', 'NN'),\n",
       " ('and', 'CC'),\n",
       " ('you', 'PRP'),\n",
       " ('would', 'MD'),\n",
       " ('not', 'RB'),\n",
       " ('have', 'VB'),\n",
       " ('had', 'VBN'),\n",
       " ('Miss', 'NNP'),\n",
       " ('Taylor', 'NNP'),\n",
       " ('live', 'VBP'),\n",
       " ('with', 'IN'),\n",
       " ('for', 'IN'),\n",
       " ('ever', 'RB'),\n",
       " ('and', 'CC'),\n",
       " ('bear', 'VB'),\n",
       " ('all', 'DT'),\n",
       " ('odd', 'JJ'),\n",
       " ('humours', 'NNS'),\n",
       " ('when', 'WRB'),\n",
       " ('she', 'PRP'),\n",
       " ('might', 'MD'),\n",
       " ('have', 'VB'),\n",
       " ('house', 'NN'),\n",
       " ('her', 'PRP$'),\n",
       " ('own', 'JJ'),\n",
       " ('house', 'NN'),\n",
       " ('her', 'PRP$'),\n",
       " ('own', 'JJ'),\n",
       " ('But', 'CC'),\n",
       " ('where', 'WRB'),\n",
       " ('the', 'DT'),\n",
       " ('advantage', 'NN'),\n",
       " ('house', 'NN'),\n",
       " ('her', 'PRP$'),\n",
       " ('own', 'JJ'),\n",
       " ('This', 'DT'),\n",
       " ('three', 'CD'),\n",
       " ('times', 'NNS'),\n",
       " ('large', 'JJ'),\n",
       " ('And', 'CC'),\n",
       " ('you', 'PRP'),\n",
       " ('have', 'VBP'),\n",
       " ('never', 'RB'),\n",
       " ('any', 'DT'),\n",
       " ('odd', 'JJ'),\n",
       " ('humours', 'NNS'),\n",
       " ('dear', 'VBP'),\n",
       " ('How', 'WRB'),\n",
       " ('often', 'RB'),\n",
       " ('shall', 'MD'),\n",
       " ...]"
      ]
     },
     "execution_count": 40,
     "metadata": {},
     "output_type": "execute_result"
    }
   ],
   "source": [
    "# 1.\n",
    "ret = RegexpTokenizer('[\\w]{3,}')\n",
    "overlen_3 = ret.tokenize(emma)\n",
    "tagged_list = pos_tag(overlen_3)"
   ]
  },
  {
   "cell_type": "code",
   "execution_count": 53,
   "metadata": {
    "ExecuteTime": {
     "end_time": "2021-03-25T07:18:10.374595Z",
     "start_time": "2021-03-25T07:18:10.344525Z"
    }
   },
   "outputs": [
    {
     "name": "stdout",
     "output_type": "stream",
     "text": [
      "865\n",
      "{'NN', 'VBN', 'NNP', 'VB', 'JJ', 'VBP', 'VBD', 'NNS', 'RB', 'NNPS'}\n"
     ]
    }
   ],
   "source": [
    "# 2.\n",
    "pos = set()\n",
    "cnt = 0\n",
    "for emma_t in tagged_list:\n",
    "    if emma_t[0] == 'Emma':\n",
    "        cnt += 1\n",
    "        pos.add(emma_t[1])\n",
    "print(cnt)\n",
    "print(pos)"
   ]
  },
  {
   "cell_type": "code",
   "execution_count": 58,
   "metadata": {
    "ExecuteTime": {
     "end_time": "2021-03-25T07:20:44.868245Z",
     "start_time": "2021-03-25T07:20:44.832066Z"
    }
   },
   "outputs": [
    {
     "data": {
      "text/plain": [
       "NN        7\n",
       "VBN       1\n",
       "NNP     838\n",
       "VB        5\n",
       "JJ        4\n",
       "VBP       4\n",
       "VBD       1\n",
       "NNS       2\n",
       "RB        1\n",
       "NNPS      2\n",
       "dtype: int64"
      ]
     },
     "execution_count": 58,
     "metadata": {},
     "output_type": "execute_result"
    }
   ],
   "source": [
    "# count 빌드업\n",
    "import pandas as pd\n",
    "pos_cnt = pd.Series([0]*len(pos),index=list(pos))\n",
    "for emma_t in tagged_list:\n",
    "    if emma_t[0]=='Emma':\n",
    "        pos_cnt[emma_t[1]] +=1\n",
    "pos_cnt"
   ]
  },
  {
   "cell_type": "code",
   "execution_count": 61,
   "metadata": {
    "ExecuteTime": {
     "end_time": "2021-03-25T07:38:27.862518Z",
     "start_time": "2021-03-25T07:38:27.839151Z"
    }
   },
   "outputs": [
    {
     "name": "stdout",
     "output_type": "stream",
     "text": [
      "명사가 나온 횟수 :  18554\n",
      "나오는 명사 개수 :  2738\n"
     ]
    }
   ],
   "source": [
    "# 3.\n",
    "nouns_list = [emma_t[0]for emma_t in tagged_list if emma_t[1]=='NN']\n",
    "print('명사가 나온 횟수 : ',len(nouns_list))\n",
    "print('나오는 명사 개수 : ',len(set(nouns_list)))"
   ]
  },
  {
   "cell_type": "code",
   "execution_count": 71,
   "metadata": {
    "ExecuteTime": {
     "end_time": "2021-03-25T07:45:15.973018Z",
     "start_time": "2021-03-25T07:45:15.750255Z"
    }
   },
   "outputs": [
    {
     "data": {
      "image/png": "[encoded data removed]",
      "text/plain": [
       "<Figure size 432x288 with 1 Axes>"
      ]
     },
     "metadata": {
      "needs_background": "light"
     },
     "output_type": "display_data"
    }
   ],
   "source": [
    "## 전체 단어 사용 빈도수\n",
    "from nltk import Text\n",
    "noun_text = Text(nouns_list)\n",
    "noun_text.plot(20)"
   ]
  },
  {
   "cell_type": "code",
   "execution_count": 72,
   "metadata": {
    "ExecuteTime": {
     "end_time": "2021-03-25T07:45:16.810992Z",
     "start_time": "2021-03-25T07:45:16.653013Z"
    }
   },
   "outputs": [
    {
     "data": {
      "image/png": "[encoded data removed]",
      "text/plain": [
       "<Figure size 432x288 with 1 Axes>"
      ]
     },
     "metadata": {
      "needs_background": "light"
     },
     "output_type": "display_data"
    }
   ],
   "source": [
    "noun_text.dispersion_plot(['thing','idea','sort'])"
   ]
  },
  {
   "cell_type": "code",
   "execution_count": 73,
   "metadata": {
    "ExecuteTime": {
     "end_time": "2021-03-25T07:48:02.268054Z",
     "start_time": "2021-03-25T07:48:02.238134Z"
    }
   },
   "outputs": [
    {
     "name": "stdout",
     "output_type": "stream",
     "text": [
      "명사가 나온 횟수 :  8608\n",
      "나오는 명사 개수 :  642\n"
     ]
    }
   ],
   "source": [
    "# 고유명사 출현 빈도수\n",
    "nnp_list = [emma_t[0]for emma_t in tagged_list if emma_t[1]=='NNP']\n",
    "print('명사가 나온 횟수 : ',len(nnp_list))\n",
    "print('나오는 명사 개수 : ',len(set(nnp_list)))"
   ]
  },
  {
   "cell_type": "code",
   "execution_count": 74,
   "metadata": {
    "ExecuteTime": {
     "end_time": "2021-03-25T07:50:17.767726Z",
     "start_time": "2021-03-25T07:50:17.748777Z"
    }
   },
   "outputs": [
    {
     "data": {
      "text/plain": [
       "FreqDist({'Emma': 838, 'Mrs': 696, 'Miss': 569, 'Harriet': 483, 'Weston': 433, 'Knightley': 389, 'Elton': 382, 'Jane': 295, 'Woodhouse': 293, 'Fairfax': 241, ...})"
      ]
     },
     "execution_count": 74,
     "metadata": {},
     "output_type": "execute_result"
    }
   ],
   "source": [
    "from nltk import FreqDist\n",
    "FreqDist(nnp_list)"
   ]
  }
 ],
 "metadata": {
  "kernelspec": {
   "display_name": "Python 3",
   "language": "python",
   "name": "python3"
  },
  "language_info": {
   "codemirror_mode": {
    "name": "ipython",
    "version": 3
   },
   "file_extension": ".py",
   "mimetype": "text/x-python",
   "name": "python",
   "nbconvert_exporter": "python",
   "pygments_lexer": "ipython3",
   "version": "3.8.5"
  },
  "toc": {
   "base_numbering": 1,
   "nav_menu": {},
   "number_sections": false,
   "sideBar": true,
   "skip_h1_title": false,
   "title_cell": "Table of Contents",
   "title_sidebar": "Contents",
   "toc_cell": false,
   "toc_position": {},
   "toc_section_display": true,
   "toc_window_display": false
  },
  "varInspector": {
   "cols": {
    "lenName": 16,
    "lenType": 16,
    "lenVar": 40
   },
   "kernels_config": {
    "python": {
     "delete_cmd_postfix": "",
     "delete_cmd_prefix": "del ",
     "library": "var_list.py",
     "varRefreshCmd": "print(var_dic_list())"
    },
    "r": {
     "delete_cmd_postfix": ") ",
     "delete_cmd_prefix": "rm(",
     "library": "var_list.r",
     "varRefreshCmd": "cat(var_dic_list()) "
    }
   },
   "types_to_exclude": [
    "module",
    "function",
    "builtin_function_or_method",
    "instance",
    "_Feature"
   ],
   "window_display": false
  }
 },
 "nbformat": 4,
 "nbformat_minor": 4
}
