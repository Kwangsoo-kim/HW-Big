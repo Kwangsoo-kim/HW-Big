{
 "cells": [
  {
   "cell_type": "markdown",
   "metadata": {},
   "source": [
    "# 1. 연관분석 개요"
   ]
  },
  {
   "cell_type": "markdown",
   "metadata": {},
   "source": [
    "- 데이터들 사이에서 자주 발생하는 속성을 찾고 그 속성들 사이에 \n",
    "  연관성이 어느 정도 있는지를 분석하는 방법\n",
    "- 활용분야 : 상품진열, 사기보험적발, 카탈로그 디자인, 신상품 카테고리 구성,...\n",
    "- 연관성분석 관련 지표 \n",
    "<pre>   \n",
    "         지지도(support) : 조건결과항목수/전체수\n",
    "         신뢰도(Confidence) : 조건결과항목수/ 조건항목수\n",
    "         향상도(lift) : 우연히 발생한 규칙인지 아닌지 여부\n",
    "                        = 조건결과 지지도 / (조건지지도)*(결과지지도)\n",
    "                            1: 상관관계없음\n",
    "                            1이상: 양의상관관계\n",
    "                            1이하: 음의 상관관계               \n",
    "        [조건] => [결과]  지지도 신뢰도 향상도\n",
    "        [주스] => [콜라]   0.4     1     0.4 / (0.4)*1 = 1\n",
    "        [소주] => [맥주]   0.2    0.33   0.2 / (0.6)*(0.4)\n",
    "</pre>"
   ]
  },
  {
   "cell_type": "code",
   "execution_count": 3,
   "metadata": {
    "ExecuteTime": {
     "end_time": "2021-03-26T06:48:18.294245Z",
     "start_time": "2021-03-26T06:48:18.284291Z"
    }
   },
   "outputs": [],
   "source": [
    "# 트랜잭션 데이터 가져오기\n",
    "import csv\n",
    "with open('cf_basket.csv','r',encoding='utf8') as cf:\n",
    "    transactions=[]\n",
    "    r = csv.reader(cf)\n",
    "    for row in r:\n",
    "        transactions.append(row)"
   ]
  },
  {
   "cell_type": "code",
   "execution_count": 4,
   "metadata": {
    "ExecuteTime": {
     "end_time": "2021-03-26T06:48:29.814562Z",
     "start_time": "2021-03-26T06:48:29.797813Z"
    }
   },
   "outputs": [
    {
     "data": {
      "text/plain": [
       "[['소주', '콜라', '와인'],\n",
       " ['소주', '오렌지주스', '콜라'],\n",
       " ['콜라', '맥주', '와인'],\n",
       " ['소주', '콜라', '맥주'],\n",
       " ['오렌지주스', '와인', '콜라']]"
      ]
     },
     "execution_count": 4,
     "metadata": {},
     "output_type": "execute_result"
    }
   ],
   "source": [
    "transactions"
   ]
  },
  {
   "cell_type": "markdown",
   "metadata": {},
   "source": [
    "# 2. 연관분석\n",
    "- pip install apyori"
   ]
  },
  {
   "cell_type": "code",
   "execution_count": 29,
   "metadata": {
    "ExecuteTime": {
     "end_time": "2021-03-26T07:18:40.423591Z",
     "start_time": "2021-03-26T07:18:40.410600Z"
    }
   },
   "outputs": [],
   "source": [
    "from apyori import apriori\n",
    "rules = apriori(transactions,min_support=0.2,min_confidence=0.1)\n",
    "results=list(rules)"
   ]
  },
  {
   "cell_type": "code",
   "execution_count": 28,
   "metadata": {
    "ExecuteTime": {
     "end_time": "2021-03-26T07:17:53.565815Z",
     "start_time": "2021-03-26T07:17:53.555861Z"
    }
   },
   "outputs": [
    {
     "name": "stdout",
     "output_type": "stream",
     "text": [
      "조건    ->   결과 \t\t지지도\t신뢰도\t향상도\n",
      "['맥주']  =>  ['소주'] \t\t0.200\t0.500\t0.833\n",
      "['소주']  =>  ['맥주'] \t\t0.200\t0.333\t0.833\n",
      "['맥주']  =>  ['와인'] \t\t0.200\t0.500\t0.833\n",
      "['와인']  =>  ['맥주'] \t\t0.200\t0.333\t0.833\n",
      "['소주']  =>  ['오렌지주스'] \t\t0.200\t0.333\t0.833\n",
      "['오렌지주스']  =>  ['소주'] \t\t0.200\t0.500\t0.833\n",
      "['소주']  =>  ['와인'] \t\t0.200\t0.333\t0.556\n",
      "['와인']  =>  ['소주'] \t\t0.200\t0.333\t0.556\n",
      "['오렌지주스']  =>  ['와인'] \t\t0.200\t0.500\t0.833\n",
      "['와인']  =>  ['오렌지주스'] \t\t0.200\t0.333\t0.833\n",
      "['맥주']  =>  ['콜라', '소주'] \t\t0.200\t0.500\t0.833\n",
      "['소주']  =>  ['콜라', '맥주'] \t\t0.200\t0.333\t0.833\n",
      "['콜라', '맥주']  =>  ['소주'] \t\t0.200\t0.500\t0.833\n",
      "['콜라', '소주']  =>  ['맥주'] \t\t0.200\t0.333\t0.833\n",
      "['맥주']  =>  ['콜라', '와인'] \t\t0.200\t0.500\t0.833\n",
      "['와인']  =>  ['콜라', '맥주'] \t\t0.200\t0.333\t0.833\n",
      "['콜라', '맥주']  =>  ['와인'] \t\t0.200\t0.500\t0.833\n",
      "['콜라', '와인']  =>  ['맥주'] \t\t0.200\t0.333\t0.833\n",
      "['소주']  =>  ['콜라', '오렌지주스'] \t\t0.200\t0.333\t0.833\n",
      "['오렌지주스']  =>  ['콜라', '소주'] \t\t0.200\t0.500\t0.833\n",
      "['콜라', '소주']  =>  ['오렌지주스'] \t\t0.200\t0.333\t0.833\n",
      "['콜라', '오렌지주스']  =>  ['소주'] \t\t0.200\t0.500\t0.833\n",
      "['소주']  =>  ['콜라', '와인'] \t\t0.200\t0.333\t0.556\n",
      "['와인']  =>  ['콜라', '소주'] \t\t0.200\t0.333\t0.556\n",
      "['콜라', '소주']  =>  ['와인'] \t\t0.200\t0.333\t0.556\n",
      "['콜라', '와인']  =>  ['소주'] \t\t0.200\t0.333\t0.556\n",
      "['오렌지주스']  =>  ['콜라', '와인'] \t\t0.200\t0.500\t0.833\n",
      "['와인']  =>  ['콜라', '오렌지주스'] \t\t0.200\t0.333\t0.833\n",
      "['콜라', '오렌지주스']  =>  ['와인'] \t\t0.200\t0.500\t0.833\n",
      "['콜라', '와인']  =>  ['오렌지주스'] \t\t0.200\t0.333\t0.833\n"
     ]
    }
   ],
   "source": [
    "print('조건    ->   결과 \\t\\t지지도\\t신뢰도\\t향상도')\n",
    "for row in results:\n",
    "    support = row[1]\n",
    "    ordered_st = row[2]\n",
    "    for item in ordered_st:\n",
    "        lhs = [x for x in item[0]]\n",
    "        rhs = [x for x in item[1]]\n",
    "        confidence = item[2]\n",
    "        lift = item[3]\n",
    "        if lift != 1:\n",
    "            print(lhs,' => ',rhs,'\\t\\t{:5.3f}\\t{:5.3f}\\t{:5.3f}'.format(support,confidence,lift))"
   ]
  },
  {
   "cell_type": "markdown",
   "metadata": {},
   "source": [
    "# 3. 뉴스기사 연관 분석 실습"
   ]
  },
  {
   "cell_type": "markdown",
   "metadata": {},
   "source": [
    "## 3.1 뉴스 RSS 이용해서 기사 검색후 연관분석"
   ]
  },
  {
   "cell_type": "code",
   "execution_count": 35,
   "metadata": {
    "ExecuteTime": {
     "end_time": "2021-03-26T07:40:39.003297Z",
     "start_time": "2021-03-26T07:40:38.939036Z"
    }
   },
   "outputs": [
    {
     "data": {
      "text/plain": [
       "[<link>https://news.joins.com/article/24021331?cloc=rss-news-economy</link>,\n",
       " <link>https://news.joins.com/article/24021323?cloc=rss-news-economy</link>,\n",
       " <link>https://news.joins.com/article/24021317?cloc=rss-news-economy</link>,\n",
       " <link>https://news.joins.com/article/24021309?cloc=rss-news-economy</link>,\n",
       " <link>https://news.joins.com/article/24021300?cloc=rss-news-economy</link>,\n",
       " <link>https://news.joins.com/article/24021294?cloc=rss-news-economy</link>,\n",
       " <link>https://news.joins.com/article/24021290?cloc=rss-news-economy</link>,\n",
       " <link>https://news.joins.com/article/24021287?cloc=rss-news-economy</link>,\n",
       " <link>https://news.joins.com/article/24021263?cloc=rss-news-economy</link>,\n",
       " <link>https://news.joins.com/article/24021234?cloc=rss-news-economy</link>,\n",
       " <link>https://news.joins.com/article/24021228?cloc=rss-news-economy</link>,\n",
       " <link>https://news.joins.com/article/24021164?cloc=rss-news-economy</link>,\n",
       " <link>https://news.joins.com/article/24021110?cloc=rss-news-economy</link>,\n",
       " <link>https://news.joins.com/article/24021095?cloc=rss-news-economy</link>,\n",
       " <link>https://news.joins.com/article/24021080?cloc=rss-news-economy</link>,\n",
       " <link>https://news.joins.com/article/24021056?cloc=rss-news-economy</link>,\n",
       " <link>https://news.joins.com/article/24021054?cloc=rss-news-economy</link>,\n",
       " <link>https://news.joins.com/article/24021051?cloc=rss-news-economy</link>,\n",
       " <link>https://news.joins.com/article/24021019?cloc=rss-news-economy</link>,\n",
       " <link>https://news.joins.com/article/24021013?cloc=rss-news-economy</link>,\n",
       " <link>https://news.joins.com/article/24020992?cloc=rss-news-economy</link>,\n",
       " <link>https://news.joins.com/article/24020984?cloc=rss-news-economy</link>,\n",
       " <link>https://news.joins.com/article/24020897?cloc=rss-news-economy</link>,\n",
       " <link>https://news.joins.com/article/24020901?cloc=rss-news-economy</link>,\n",
       " <link>https://news.joins.com/article/24020900?cloc=rss-news-economy</link>,\n",
       " <link>https://news.joins.com/article/24020902?cloc=rss-news-economy</link>,\n",
       " <link>https://news.joins.com/article/24020903?cloc=rss-news-economy</link>,\n",
       " <link>https://news.joins.com/article/24020895?cloc=rss-news-economy</link>,\n",
       " <link>https://news.joins.com/article/24020887?cloc=rss-news-economy</link>,\n",
       " <link>https://news.joins.com/article/24020888?cloc=rss-news-economy</link>]"
      ]
     },
     "execution_count": 35,
     "metadata": {},
     "output_type": "execute_result"
    }
   ],
   "source": [
    "import requests\n",
    "from bs4 import BeautifulSoup \n",
    "rss_url ='https://rss.joins.com/joins_money_list.xml'\n",
    "money_response = requests.get(rss_url)\n",
    "money_soup = BeautifulSoup(money_response.content,'xml')\n",
    "link_list = money_soup.select('item > link')\n",
    "link_list"
   ]
  },
  {
   "cell_type": "code",
   "execution_count": 47,
   "metadata": {
    "ExecuteTime": {
     "end_time": "2021-03-26T07:49:21.158487Z",
     "start_time": "2021-03-26T07:48:46.242895Z"
    }
   },
   "outputs": [],
   "source": [
    "from konlpy.tag import Kkma\n",
    "kkma = Kkma()\n",
    "news = []\n",
    "for link in link_list:\n",
    "    news_response = requests.get(link.text)\n",
    "    news_soup = BeautifulSoup(news_response.content,'html.parser')\n",
    "    content = news_soup.select_one('#article_body').text\n",
    "    temp = list(filter(lambda word : len(word)>1,kkma.nouns(content)))\n",
    "    news.append(temp)"
   ]
  },
  {
   "cell_type": "code",
   "execution_count": 49,
   "metadata": {
    "ExecuteTime": {
     "end_time": "2021-03-26T07:57:22.333300Z",
     "start_time": "2021-03-26T07:57:22.284339Z"
    }
   },
   "outputs": [],
   "source": [
    "# 연관분석\n",
    "from apyori import apriori\n",
    "rules = apriori(news, \n",
    "                min_support=0.3,\n",
    "                min_confidence=0.2)\n",
    "result = list(rules)"
   ]
  },
  {
   "cell_type": "code",
   "execution_count": 54,
   "metadata": {
    "ExecuteTime": {
     "end_time": "2021-03-26T08:09:13.142269Z",
     "start_time": "2021-03-26T08:09:11.514144Z"
    }
   },
   "outputs": [
    {
     "data": {
      "text/plain": [
       "0      1.173913\n",
       "1      1.173913\n",
       "2      1.666667\n",
       "3      1.666667\n",
       "4      0.984848\n",
       "         ...   \n",
       "729    3.333333\n",
       "730    3.333333\n",
       "731    3.000000\n",
       "732    3.333333\n",
       "733    3.000000\n",
       "Name: lift, Length: 734, dtype: float64"
      ]
     },
     "execution_count": 54,
     "metadata": {},
     "output_type": "execute_result"
    }
   ],
   "source": [
    "import pandas as pd\n",
    "result_df = pd.DataFrame(None,columns=['lhs','rhs','support','confidence','lift'])\n",
    "index=0\n",
    "for row in result:\n",
    "    support = row[1]\n",
    "    order_st = row[2]\n",
    "    for item in order_st:\n",
    "        lhs = ','.join(x for x in item[0])\n",
    "        rhs = ','.join(x for x in item[1])\n",
    "        confidence = item[2]\n",
    "        lift = item[3]\n",
    "        if lift != 1:\n",
    "            result_df.loc[index]=[lhs,rhs,support,confidence,lift]\n",
    "            index+=1"
   ]
  },
  {
   "cell_type": "code",
   "execution_count": 70,
   "metadata": {
    "ExecuteTime": {
     "end_time": "2021-03-26T08:17:09.967583Z",
     "start_time": "2021-03-26T08:17:09.951621Z"
    }
   },
   "outputs": [
    {
     "data": {
      "text/html": [
       "<div>\n",
       "<style scoped>\n",
       "    .dataframe tbody tr th:only-of-type {\n",
       "        vertical-align: middle;\n",
       "    }\n",
       "\n",
       "    .dataframe tbody tr th {\n",
       "        vertical-align: top;\n",
       "    }\n",
       "\n",
       "    .dataframe thead th {\n",
       "        text-align: right;\n",
       "    }\n",
       "</style>\n",
       "<table border=\"1\" class=\"dataframe\">\n",
       "  <thead>\n",
       "    <tr style=\"text-align: right;\">\n",
       "      <th></th>\n",
       "      <th>lhs</th>\n",
       "      <th>rhs</th>\n",
       "      <th>support</th>\n",
       "      <th>confidence</th>\n",
       "      <th>lift</th>\n",
       "    </tr>\n",
       "  </thead>\n",
       "  <tbody>\n",
       "    <tr>\n",
       "      <th>329</th>\n",
       "      <td>관련,기자</td>\n",
       "      <td>한국</td>\n",
       "      <td>0.333333</td>\n",
       "      <td>0.555556</td>\n",
       "      <td>1.111111</td>\n",
       "    </tr>\n",
       "    <tr>\n",
       "      <th>327</th>\n",
       "      <td>기자</td>\n",
       "      <td>관련,한국</td>\n",
       "      <td>0.333333</td>\n",
       "      <td>0.434783</td>\n",
       "      <td>1.086957</td>\n",
       "    </tr>\n",
       "    <tr>\n",
       "      <th>112</th>\n",
       "      <td>기자</td>\n",
       "      <td>한국</td>\n",
       "      <td>0.366667</td>\n",
       "      <td>0.478261</td>\n",
       "      <td>0.956522</td>\n",
       "    </tr>\n",
       "  </tbody>\n",
       "</table>\n",
       "</div>"
      ],
      "text/plain": [
       "       lhs    rhs   support  confidence      lift\n",
       "329  관련,기자     한국  0.333333    0.555556  1.111111\n",
       "327     기자  관련,한국  0.333333    0.434783  1.086957\n",
       "112     기자     한국  0.366667    0.478261  0.956522"
      ]
     },
     "execution_count": 70,
     "metadata": {},
     "output_type": "execute_result"
    }
   ],
   "source": [
    "pd.options.display.max_rows = 644\n",
    "result_df.loc[(result_df.lhs.str.contains('기자'))&(result_df.rhs.str.contains('한국'))].sort_values(by=['lift'],ascending=False)"
   ]
  },
  {
   "cell_type": "code",
   "execution_count": 88,
   "metadata": {
    "ExecuteTime": {
     "end_time": "2021-03-26T09:01:40.087568Z",
     "start_time": "2021-03-26T09:01:39.782677Z"
    }
   },
   "outputs": [
    {
     "data": {
      "text/plain": [
       "['http://v.media.daum.net/v/20210326174916639?f=o',\n",
       " 'http://v.media.daum.net/v/20210326171857722?f=o',\n",
       " 'http://v.media.daum.net/v/20210326174754585?f=o',\n",
       " 'http://v.media.daum.net/v/20210326172955032?f=o']"
      ]
     },
     "execution_count": 88,
     "metadata": {},
     "output_type": "execute_result"
    }
   ],
   "source": [
    "# 원하는 내용 크롤링하여 연관분석\n",
    "url ='https://search.daum.net/search?nil_suggest=btn&w=tot&DA=SBC&q=%EC%BD%94%EB%A1%9C%EB%82%98'\n",
    "corona = requests.get(url)\n",
    "corona_soup = BeautifulSoup(corona.content,'html.parser')\n",
    "link_list = corona_soup.select('#clusterResultUL .f_link_b')\n",
    "links =[]\n",
    "for link in link_list:\n",
    "    links.append(link.get('href'))\n",
    "links"
   ]
  },
  {
   "cell_type": "code",
   "execution_count": 99,
   "metadata": {
    "ExecuteTime": {
     "end_time": "2021-03-26T09:09:47.298149Z",
     "start_time": "2021-03-26T09:09:45.390265Z"
    }
   },
   "outputs": [
    {
     "data": {
      "text/plain": [
       "[]"
      ]
     },
     "execution_count": 99,
     "metadata": {},
     "output_type": "execute_result"
    }
   ],
   "source": [
    "news = []\n",
    "for link in links:\n",
    "    news_response = requests.get(link)\n",
    "    news_soup = BeautifulSoup(news_response.content,'html.parser')\n",
    "    news_content = news_soup.select('#news_body_id .par')\n",
    "#### 링크마다 사이트 구성이 달라서 막힌다\n",
    "### 이런 연유로 여러 뉴스사이트의 데이터를 크롤링할때, 1차적으로 각 뉴스사이트 마다\n",
    "### 뉴스를 따로 취합하여 2차에 합치는 방법을 쓴다."
   ]
  },
  {
   "cell_type": "code",
   "execution_count": null,
   "metadata": {},
   "outputs": [],
   "source": []
  }
 ],
 "metadata": {
  "kernelspec": {
   "display_name": "Python 3",
   "language": "python",
   "name": "python3"
  },
  "language_info": {
   "codemirror_mode": {
    "name": "ipython",
    "version": 3
   },
   "file_extension": ".py",
   "mimetype": "text/x-python",
   "name": "python",
   "nbconvert_exporter": "python",
   "pygments_lexer": "ipython3",
   "version": "3.8.5"
  },
  "toc": {
   "base_numbering": 1,
   "nav_menu": {},
   "number_sections": false,
   "sideBar": true,
   "skip_h1_title": false,
   "title_cell": "Table of Contents",
   "title_sidebar": "Contents",
   "toc_cell": false,
   "toc_position": {},
   "toc_section_display": true,
   "toc_window_display": false
  },
  "varInspector": {
   "cols": {
    "lenName": 16,
    "lenType": 16,
    "lenVar": 40
   },
   "kernels_config": {
    "python": {
     "delete_cmd_postfix": "",
     "delete_cmd_prefix": "del ",
     "library": "var_list.py",
     "varRefreshCmd": "print(var_dic_list())"
    },
    "r": {
     "delete_cmd_postfix": ") ",
     "delete_cmd_prefix": "rm(",
     "library": "var_list.r",
     "varRefreshCmd": "cat(var_dic_list()) "
    }
   },
   "types_to_exclude": [
    "module",
    "function",
    "builtin_function_or_method",
    "instance",
    "_Feature"
   ],
   "window_display": false
  }
 },
 "nbformat": 4,
 "nbformat_minor": 4
}
