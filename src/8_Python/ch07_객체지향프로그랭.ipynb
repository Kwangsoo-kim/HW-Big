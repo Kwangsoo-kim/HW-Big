{
 "cells": [
  {
   "cell_type": "markdown",
   "metadata": {},
   "source": [
    "# <font color='red'>ch07. 객체지향 프로그래밍</font>"
   ]
  },
  {
   "cell_type": "markdown",
   "metadata": {},
   "source": [
    "## 1. 객체와 클래스\n",
    "<pre>\n",
    "class 클래스명(상속받을 클래스명):\n",
    "    함수나 변수 선언\n",
    "    "
   ]
  },
  {
   "cell_type": "code",
   "execution_count": null,
   "metadata": {
    "ExecuteTime": {
     "end_time": "2021-02-25T08:20:55.609046Z",
     "start_time": "2021-02-25T08:20:55.605067Z"
    }
   },
   "outputs": [],
   "source": [
    "class Person:\n",
    "    \"Person 클래스\"\n",
    "    pass\n",
    "p1 = Person()"
   ]
  },
  {
   "cell_type": "code",
   "execution_count": null,
   "metadata": {
    "ExecuteTime": {
     "end_time": "2021-02-25T08:20:57.022886Z",
     "start_time": "2021-02-25T08:20:57.013910Z"
    }
   },
   "outputs": [],
   "source": [
    "type(p1)"
   ]
  },
  {
   "cell_type": "code",
   "execution_count": null,
   "metadata": {
    "ExecuteTime": {
     "end_time": "2021-02-25T08:21:02.361045Z",
     "start_time": "2021-02-25T08:21:02.357075Z"
    }
   },
   "outputs": [],
   "source": [
    "print(p1)"
   ]
  },
  {
   "cell_type": "code",
   "execution_count": null,
   "metadata": {
    "ExecuteTime": {
     "end_time": "2021-02-25T08:21:49.314114Z",
     "start_time": "2021-02-25T08:21:49.310124Z"
    }
   },
   "outputs": [],
   "source": [
    "isinstance(p1,Person)"
   ]
  },
  {
   "cell_type": "code",
   "execution_count": null,
   "metadata": {
    "ExecuteTime": {
     "end_time": "2021-02-25T08:22:06.928921Z",
     "start_time": "2021-02-25T08:22:06.925959Z"
    }
   },
   "outputs": [],
   "source": [
    "print(p1.__doc__)"
   ]
  },
  {
   "cell_type": "markdown",
   "metadata": {},
   "source": [
    "## 2. 변수와 메소드\n",
    "- 일반변수, static 변수, 일반메소드, static 메소드 , 클래스메소드"
   ]
  },
  {
   "cell_type": "code",
   "execution_count": null,
   "metadata": {
    "ExecuteTime": {
     "end_time": "2021-02-25T08:35:44.523259Z",
     "start_time": "2021-02-25T08:35:44.518272Z"
    }
   },
   "outputs": [],
   "source": [
    "# 변수 추가 \n",
    "class Person:\n",
    "    name=\"홍길동\"\n",
    "    gender=\"남자\"\n",
    "p1 = Person()\n",
    "print(p1.name,p1.gender)"
   ]
  },
  {
   "cell_type": "code",
   "execution_count": null,
   "metadata": {
    "ExecuteTime": {
     "end_time": "2021-02-25T08:36:41.296998Z",
     "start_time": "2021-02-25T08:36:41.293031Z"
    }
   },
   "outputs": [],
   "source": [
    "p2 = Person()\n",
    "p2.name = \"이순신\"\n",
    "print(p2.name,p2.gender)"
   ]
  },
  {
   "cell_type": "code",
   "execution_count": null,
   "metadata": {
    "ExecuteTime": {
     "end_time": "2021-02-25T08:40:34.240505Z",
     "start_time": "2021-02-25T08:40:34.236515Z"
    }
   },
   "outputs": [],
   "source": [
    "Person.name=\"리사\"\n",
    "Person.gender=\"여자\""
   ]
  },
  {
   "cell_type": "code",
   "execution_count": null,
   "metadata": {
    "ExecuteTime": {
     "end_time": "2021-02-25T08:40:55.912816Z",
     "start_time": "2021-02-25T08:40:55.908826Z"
    }
   },
   "outputs": [],
   "source": [
    "print(p1.name,p1.gender)\n",
    "print(p2.name,p2.gender)"
   ]
  },
  {
   "cell_type": "code",
   "execution_count": null,
   "metadata": {
    "ExecuteTime": {
     "end_time": "2021-02-25T08:43:31.456451Z",
     "start_time": "2021-02-25T08:43:31.452482Z"
    }
   },
   "outputs": [],
   "source": [
    "p1.name = \"신길동\"\n",
    "p1.gender = \"남자\"\n",
    "print(Person.name,Person.gender)\n",
    "print(p1.name,p1.gender)\n",
    "print(p2.name,p2.gender)"
   ]
  },
  {
   "cell_type": "code",
   "execution_count": null,
   "metadata": {
    "ExecuteTime": {
     "end_time": "2021-02-25T08:46:57.312324Z",
     "start_time": "2021-02-25T08:46:57.308335Z"
    }
   },
   "outputs": [],
   "source": [
    "# 메소드 추가\n",
    "class Person:\n",
    "    name = \"홍길동\"\n",
    "    gender = \"남자\"\n",
    "    def print_info():\n",
    "        print(\"Person 메소드 입니다.\")\n",
    "        \n",
    "print(Person.name,Person.gender)\n",
    "Person.print_info()"
   ]
  },
  {
   "cell_type": "code",
   "execution_count": null,
   "metadata": {
    "ExecuteTime": {
     "end_time": "2021-02-25T08:48:47.824736Z",
     "start_time": "2021-02-25T08:48:47.820765Z"
    }
   },
   "outputs": [],
   "source": [
    "p1 = Person()\n",
    "p1.name = \"이순신\"\n",
    "print(p1.name,p1.gender)\n",
    "print(Person.name,Person.gender)"
   ]
  },
  {
   "cell_type": "code",
   "execution_count": null,
   "metadata": {
    "ExecuteTime": {
     "end_time": "2021-02-25T08:52:26.976117Z",
     "start_time": "2021-02-25T08:52:26.972128Z"
    }
   },
   "outputs": [],
   "source": [
    "Person.print_info()"
   ]
  },
  {
   "cell_type": "code",
   "execution_count": null,
   "metadata": {
    "ExecuteTime": {
     "end_time": "2021-02-25T08:52:32.955917Z",
     "start_time": "2021-02-25T08:52:32.946939Z"
    }
   },
   "outputs": [],
   "source": [
    "p1.print_info()"
   ]
  },
  {
   "cell_type": "code",
   "execution_count": null,
   "metadata": {
    "ExecuteTime": {
     "end_time": "2021-02-25T09:00:24.792646Z",
     "start_time": "2021-02-25T09:00:24.787679Z"
    }
   },
   "outputs": [],
   "source": [
    "#인스턴스 메소드\n",
    "class Person:\n",
    "    name = \"홍길동\"\n",
    "    gender = \"남자\"\n",
    "    age =30\n",
    "    def print_info(self): # 객체만 실행가능한 메소드 = 인스턴스(객체) 메소드 ,Person.print_info()못함. 할 필요도 없고\n",
    "        print(\"{}은 {}살 이고 {}입니다\".format(self.name,self.age,self.gender)) #python에서 self는 java의 this와 유사하다.\n",
    "        \n",
    "print(Person.name,Person.gender)\n",
    "p1 = Person()\n",
    "p1.name = \"리사\"\n",
    "p1.print_info()"
   ]
  },
  {
   "cell_type": "code",
   "execution_count": null,
   "metadata": {
    "ExecuteTime": {
     "end_time": "2021-02-25T09:02:33.046538Z",
     "start_time": "2021-02-25T09:02:33.043558Z"
    }
   },
   "outputs": [],
   "source": [
    "Person.print_info(p1)"
   ]
  },
  {
   "cell_type": "code",
   "execution_count": null,
   "metadata": {
    "ExecuteTime": {
     "end_time": "2021-02-25T09:04:44.416831Z",
     "start_time": "2021-02-25T09:04:44.411844Z"
    }
   },
   "outputs": [],
   "source": [
    "p1.name, p1.gender ,p1.age"
   ]
  },
  {
   "cell_type": "markdown",
   "metadata": {},
   "source": [
    "<pre>\n",
    "**파이썬은 클래스와 인스턴스(객체)의 이름공간 분리되어 있음**\n",
    "**클래스와 인스턴스의 변수명이 다를 수 있다.**\n",
    "**동적으로 인스턴스(객체)에 멤버 추가 가능**\n",
    "</pre>"
   ]
  },
  {
   "cell_type": "code",
   "execution_count": null,
   "metadata": {
    "ExecuteTime": {
     "end_time": "2021-02-25T09:07:22.238669Z",
     "start_time": "2021-02-25T09:07:22.234697Z"
    }
   },
   "outputs": [],
   "source": [
    "p1.address = '마포구 신촌'\n",
    "p1.nickname = '곰돌이푸'"
   ]
  },
  {
   "cell_type": "code",
   "execution_count": null,
   "metadata": {
    "ExecuteTime": {
     "end_time": "2021-02-25T09:07:41.359801Z",
     "start_time": "2021-02-25T09:07:41.355801Z"
    }
   },
   "outputs": [],
   "source": [
    "#클래스 메소드 vs static 메소드 "
   ]
  },
  {
   "cell_type": "code",
   "execution_count": null,
   "metadata": {},
   "outputs": [],
   "source": []
  }
 ],
 "metadata": {
  "kernelspec": {
   "display_name": "Python 3",
   "language": "python",
   "name": "python3"
  },
  "language_info": {
   "codemirror_mode": {
    "name": "ipython",
    "version": 3
   },
   "file_extension": ".py",
   "mimetype": "text/x-python",
   "name": "python",
   "nbconvert_exporter": "python",
   "pygments_lexer": "ipython3",
   "version": "3.8.5"
  },
  "toc": {
   "base_numbering": 1,
   "nav_menu": {},
   "number_sections": false,
   "sideBar": true,
   "skip_h1_title": false,
   "title_cell": "Table of Contents",
   "title_sidebar": "Contents",
   "toc_cell": false,
   "toc_position": {},
   "toc_section_display": true,
   "toc_window_display": false
  },
  "varInspector": {
   "cols": {
    "lenName": 16,
    "lenType": 16,
    "lenVar": 40
   },
   "kernels_config": {
    "python": {
     "delete_cmd_postfix": "",
     "delete_cmd_prefix": "del ",
     "library": "var_list.py",
     "varRefreshCmd": "print(var_dic_list())"
    },
    "r": {
     "delete_cmd_postfix": ") ",
     "delete_cmd_prefix": "rm(",
     "library": "var_list.r",
     "varRefreshCmd": "cat(var_dic_list()) "
    }
   },
   "types_to_exclude": [
    "module",
    "function",
    "builtin_function_or_method",
    "instance",
    "_Feature"
   ],
   "window_display": false
  }
 },
 "nbformat": 4,
 "nbformat_minor": 4
}
