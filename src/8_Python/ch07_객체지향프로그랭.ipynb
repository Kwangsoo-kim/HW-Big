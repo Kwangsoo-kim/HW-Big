{
 "cells": [
  {
   "cell_type": "markdown",
   "metadata": {},
   "source": [
    "# <font color='red'>ch07. 객체지향 프로그래밍</font>"
   ]
  },
  {
   "cell_type": "markdown",
   "metadata": {},
   "source": [
    "## 1. 객체와 클래스\n",
    "<pre>\n",
    "class 클래스명(상속받을 클래스명):\n",
    "    함수나 변수 선언\n",
    "    "
   ]
  },
  {
   "cell_type": "code",
   "execution_count": null,
   "metadata": {
    "ExecuteTime": {
     "end_time": "2021-02-25T08:20:55.609046Z",
     "start_time": "2021-02-25T08:20:55.605067Z"
    }
   },
   "outputs": [],
   "source": [
    "class Person:\n",
    "    \"Person 클래스\"\n",
    "    pass\n",
    "p1 = Person()"
   ]
  },
  {
   "cell_type": "code",
   "execution_count": null,
   "metadata": {
    "ExecuteTime": {
     "end_time": "2021-02-25T08:20:57.022886Z",
     "start_time": "2021-02-25T08:20:57.013910Z"
    }
   },
   "outputs": [],
   "source": [
    "type(p1)"
   ]
  },
  {
   "cell_type": "code",
   "execution_count": null,
   "metadata": {
    "ExecuteTime": {
     "end_time": "2021-02-25T08:21:02.361045Z",
     "start_time": "2021-02-25T08:21:02.357075Z"
    }
   },
   "outputs": [],
   "source": [
    "print(p1)"
   ]
  },
  {
   "cell_type": "code",
   "execution_count": null,
   "metadata": {
    "ExecuteTime": {
     "end_time": "2021-02-25T08:21:49.314114Z",
     "start_time": "2021-02-25T08:21:49.310124Z"
    }
   },
   "outputs": [],
   "source": [
    "isinstance(p1,Person)"
   ]
  },
  {
   "cell_type": "code",
   "execution_count": null,
   "metadata": {
    "ExecuteTime": {
     "end_time": "2021-02-25T08:22:06.928921Z",
     "start_time": "2021-02-25T08:22:06.925959Z"
    }
   },
   "outputs": [],
   "source": [
    "print(p1.__doc__)"
   ]
  },
  {
   "cell_type": "markdown",
   "metadata": {},
   "source": [
    "## 2. 변수와 메소드\n",
    "- 일반변수, static 변수, 일반메소드, static 메소드 , 클래스메소드"
   ]
  },
  {
   "cell_type": "code",
   "execution_count": null,
   "metadata": {
    "ExecuteTime": {
     "end_time": "2021-02-25T08:35:44.523259Z",
     "start_time": "2021-02-25T08:35:44.518272Z"
    }
   },
   "outputs": [],
   "source": [
    "# 변수 추가 \n",
    "class Person:\n",
    "    name=\"홍길동\"\n",
    "    gender=\"남자\"\n",
    "p1 = Person()\n",
    "print(p1.name,p1.gender)"
   ]
  },
  {
   "cell_type": "code",
   "execution_count": null,
   "metadata": {
    "ExecuteTime": {
     "end_time": "2021-02-25T08:36:41.296998Z",
     "start_time": "2021-02-25T08:36:41.293031Z"
    }
   },
   "outputs": [],
   "source": [
    "p2 = Person()\n",
    "p2.name = \"이순신\"\n",
    "print(p2.name,p2.gender)"
   ]
  },
  {
   "cell_type": "code",
   "execution_count": null,
   "metadata": {
    "ExecuteTime": {
     "end_time": "2021-02-25T08:40:34.240505Z",
     "start_time": "2021-02-25T08:40:34.236515Z"
    }
   },
   "outputs": [],
   "source": [
    "Person.name=\"리사\"\n",
    "Person.gender=\"여자\""
   ]
  },
  {
   "cell_type": "code",
   "execution_count": null,
   "metadata": {
    "ExecuteTime": {
     "end_time": "2021-02-25T08:40:55.912816Z",
     "start_time": "2021-02-25T08:40:55.908826Z"
    }
   },
   "outputs": [],
   "source": [
    "print(p1.name,p1.gender)\n",
    "print(p2.name,p2.gender)"
   ]
  },
  {
   "cell_type": "code",
   "execution_count": null,
   "metadata": {
    "ExecuteTime": {
     "end_time": "2021-02-25T08:43:31.456451Z",
     "start_time": "2021-02-25T08:43:31.452482Z"
    }
   },
   "outputs": [],
   "source": [
    "p1.name = \"신길동\"\n",
    "p1.gender = \"남자\"\n",
    "print(Person.name,Person.gender)\n",
    "print(p1.name,p1.gender)\n",
    "print(p2.name,p2.gender)"
   ]
  },
  {
   "cell_type": "code",
   "execution_count": null,
   "metadata": {
    "ExecuteTime": {
     "end_time": "2021-02-25T08:46:57.312324Z",
     "start_time": "2021-02-25T08:46:57.308335Z"
    }
   },
   "outputs": [],
   "source": [
    "# 메소드 추가\n",
    "class Person:\n",
    "    name = \"홍길동\"\n",
    "    gender = \"남자\"\n",
    "    def print_info():\n",
    "        print(\"Person 메소드 입니다.\")\n",
    "        \n",
    "print(Person.name,Person.gender)\n",
    "Person.print_info()"
   ]
  },
  {
   "cell_type": "code",
   "execution_count": null,
   "metadata": {
    "ExecuteTime": {
     "end_time": "2021-02-25T08:48:47.824736Z",
     "start_time": "2021-02-25T08:48:47.820765Z"
    }
   },
   "outputs": [],
   "source": [
    "p1 = Person()\n",
    "p1.name = \"이순신\"\n",
    "print(p1.name,p1.gender)\n",
    "print(Person.name,Person.gender)"
   ]
  },
  {
   "cell_type": "code",
   "execution_count": null,
   "metadata": {
    "ExecuteTime": {
     "end_time": "2021-02-25T08:52:26.976117Z",
     "start_time": "2021-02-25T08:52:26.972128Z"
    }
   },
   "outputs": [],
   "source": [
    "Person.print_info()"
   ]
  },
  {
   "cell_type": "code",
   "execution_count": null,
   "metadata": {
    "ExecuteTime": {
     "end_time": "2021-02-25T08:52:32.955917Z",
     "start_time": "2021-02-25T08:52:32.946939Z"
    }
   },
   "outputs": [],
   "source": [
    "p1.print_info()"
   ]
  },
  {
   "cell_type": "code",
   "execution_count": null,
   "metadata": {
    "ExecuteTime": {
     "end_time": "2021-02-25T09:00:24.792646Z",
     "start_time": "2021-02-25T09:00:24.787679Z"
    }
   },
   "outputs": [],
   "source": [
    "#인스턴스 메소드\n",
    "class Person:\n",
    "    name = \"홍길동\"\n",
    "    gender = \"남자\"\n",
    "    age =30\n",
    "    def print_info(self): # 객체만 실행가능한 메소드 = 인스턴스(객체) 메소드 ,Person.print_info()못함. 할 필요도 없고\n",
    "        print(\"{}은 {}살 이고 {}입니다\".format(self.name,self.age,self.gender)) #python에서 self는 java의 this와 유사하다.\n",
    "        \n",
    "print(Person.name,Person.gender)\n",
    "p1 = Person()\n",
    "p1.name = \"리사\"\n",
    "p1.print_info()"
   ]
  },
  {
   "cell_type": "code",
   "execution_count": null,
   "metadata": {
    "ExecuteTime": {
     "end_time": "2021-02-25T09:02:33.046538Z",
     "start_time": "2021-02-25T09:02:33.043558Z"
    }
   },
   "outputs": [],
   "source": [
    "Person.print_info(p1)"
   ]
  },
  {
   "cell_type": "code",
   "execution_count": null,
   "metadata": {
    "ExecuteTime": {
     "end_time": "2021-02-25T09:04:44.416831Z",
     "start_time": "2021-02-25T09:04:44.411844Z"
    }
   },
   "outputs": [],
   "source": [
    "p1.name, p1.gender ,p1.age"
   ]
  },
  {
   "cell_type": "markdown",
   "metadata": {},
   "source": [
    "<pre>\n",
    "**파이썬은 클래스와 인스턴스(객체)의 이름공간 분리되어 있음**\n",
    "**클래스와 인스턴스의 변수명이 다를 수 있다.**\n",
    "**동적으로 인스턴스(객체)에 멤버 추가 가능**\n",
    "</pre>"
   ]
  },
  {
   "cell_type": "code",
   "execution_count": null,
   "metadata": {
    "ExecuteTime": {
     "end_time": "2021-02-25T09:07:22.238669Z",
     "start_time": "2021-02-25T09:07:22.234697Z"
    }
   },
   "outputs": [],
   "source": [
    "p1.address = '마포구 신촌'\n",
    "p1.nickname = '곰돌이푸'"
   ]
  },
  {
   "cell_type": "markdown",
   "metadata": {},
   "source": [
    "**클래스 메소드 vs static 메소드**\n",
    "1. 인스턴스 메소드 : 인자에 self를 꼭 삽입. 객체를 통해서 호출할 메소드.\n",
    "2. 클래스 메소드 : @classmethod를 통해서 선언한 메소드. 인자에 cls를 꼭 삽입\n",
    "3. static 메소드 : @staticmethod를 통해서 tjs언한 메소드. "
   ]
  },
  {
   "cell_type": "code",
   "execution_count": null,
   "metadata": {
    "ExecuteTime": {
     "end_time": "2021-02-26T00:50:19.196740Z",
     "start_time": "2021-02-26T00:50:19.191760Z"
    }
   },
   "outputs": [],
   "source": [
    "# 인스턴스 메소드 vs 클래스 메소드 vs static 메소드\n",
    "\n",
    "class Person:\n",
    "    name = \"홍길동\"\n",
    "    age = 30\n",
    "    gender =  \"남자\"\n",
    "    def print_info(self): # 인스턴스 메소드 (인자에 self)\n",
    "        print(\"인스턴스 메소드 -{}는{}살{}입니다.\".format(self.name,self.age,self.gender))\n",
    "    @classmethod\n",
    "    def do_(cls): # 클래스 메소드 (인자에 cls)\n",
    "        cls.name = \"신사임당\"\n",
    "        cls.gender = \"여자\"\n",
    "        cls.age = 517\n",
    "        print(\" 클래스 메소드 - {}는 {}살 {}입니다.\".format(cls.name,cls.age,cls.gender))\n",
    "    @staticmethod\n",
    "    def that_(): # static 매소드(인자 없음)\n",
    "        print(\"스태틱 메소드 - {}는 {}살 {}입니다.\".format(Person.name,Person.age,Person.gender))\n",
    "\n",
    "        \n",
    "        "
   ]
  },
  {
   "cell_type": "code",
   "execution_count": null,
   "metadata": {
    "ExecuteTime": {
     "end_time": "2021-02-26T00:50:46.724518Z",
     "start_time": "2021-02-26T00:50:46.719557Z"
    }
   },
   "outputs": [],
   "source": [
    "p1 = Person()\n",
    "p2 = Person()\n",
    "p1.print_info()\n",
    "p2.print_info()"
   ]
  },
  {
   "cell_type": "code",
   "execution_count": null,
   "metadata": {
    "ExecuteTime": {
     "end_time": "2021-02-26T00:52:39.558442Z",
     "start_time": "2021-02-26T00:52:39.542787Z"
    }
   },
   "outputs": [],
   "source": [
    "p1.name = '김말동'\n",
    "p1.age += 1\n",
    "p1.print_info()\n",
    "p2.print_info()\n",
    "p2.that_()     # static 메소드는 객체를 통해서도, 클래스를 통해서도 호출가능\n",
    "Person.that_() # static 메소드 "
   ]
  },
  {
   "cell_type": "code",
   "execution_count": null,
   "metadata": {
    "ExecuteTime": {
     "end_time": "2021-02-26T00:53:32.226930Z",
     "start_time": "2021-02-26T00:53:32.222940Z"
    }
   },
   "outputs": [],
   "source": [
    "Person.do_() # 클래스 메소드 입니다."
   ]
  },
  {
   "cell_type": "code",
   "execution_count": null,
   "metadata": {
    "ExecuteTime": {
     "end_time": "2021-02-26T00:58:22.666211Z",
     "start_time": "2021-02-26T00:58:22.663219Z"
    }
   },
   "outputs": [],
   "source": [
    "p1.print_info()\n",
    "p2.print_info()"
   ]
  },
  {
   "cell_type": "code",
   "execution_count": null,
   "metadata": {
    "ExecuteTime": {
     "end_time": "2021-02-26T01:02:49.247829Z",
     "start_time": "2021-02-26T01:02:49.242863Z"
    }
   },
   "outputs": [],
   "source": [
    "Person.name = \"이순신\"\n",
    "Person.gender = \"남자\"\n",
    "Person.age = 477\n",
    "p1.print_info()\n",
    "p2.print_info()\n",
    "p2.that_()"
   ]
  },
  {
   "cell_type": "markdown",
   "metadata": {
    "ExecuteTime": {
     "end_time": "2021-02-26T01:04:16.617096Z",
     "start_time": "2021-02-26T01:04:16.615114Z"
    }
   },
   "source": [
    "## 3. 생성자(_ _ init _ _())와 소멸자( _ _ del _ _())\n",
    "- 생성자 함수 : _ _ init _ _ (self[,매개변수1,...]) 객체가 생성될 때 자동 실행\n",
    "                생성시 필요한 코드를 포함.변수 초기화 기능\n",
    "- 소멸자 함수 : _ _ del _ _ (self) 객체가 소멸될때 자동 실행.\n",
    "                소멸시 필요한 코드를 포함\n",
    "                인스턴스 객체의 레퍼런스 카운트가 0이 될 때 실행\n",
    "     "
   ]
  },
  {
   "cell_type": "code",
   "execution_count": null,
   "metadata": {
    "ExecuteTime": {
     "end_time": "2021-02-26T01:13:06.956016Z",
     "start_time": "2021-02-26T01:13:06.951054Z"
    }
   },
   "outputs": [],
   "source": [
    "class Person:\n",
    "    def __init__(self):\n",
    "        print(\"Person 객체를 생성합니다.\")\n",
    "        self.name = \"홍길동\" #일반변수\n",
    "        self.gender = \"남자\"\n",
    "    def __del__(self):\n",
    "        print(\"Person 객체를 소멸시킵니다.\")\n",
    "    def print_info(self):\n",
    "        print(\"일반 메소드 - {}님은 {}입니다.\".format(self.name,self.gender))"
   ]
  },
  {
   "cell_type": "code",
   "execution_count": null,
   "metadata": {
    "ExecuteTime": {
     "end_time": "2021-02-26T01:17:35.778970Z",
     "start_time": "2021-02-26T01:17:35.774008Z"
    }
   },
   "outputs": [],
   "source": [
    "p1 = Person()\n",
    "p1.print_info()\n",
    "p1.name = \"김길동\"\n",
    "p1.gender = \"아마도 남자\"\n",
    "p1.print_info()\n",
    "p2 = Person()\n",
    "p2.print_info()\n",
    "del p2\n",
    "del p1"
   ]
  },
  {
   "cell_type": "code",
   "execution_count": null,
   "metadata": {
    "ExecuteTime": {
     "end_time": "2021-02-26T01:16:40.086435Z",
     "start_time": "2021-02-26T01:16:40.070588Z"
    }
   },
   "outputs": [],
   "source": [
    "type(p1),isinstance(p1,Person)"
   ]
  },
  {
   "cell_type": "code",
   "execution_count": null,
   "metadata": {
    "ExecuteTime": {
     "end_time": "2021-02-26T01:19:11.505139Z",
     "start_time": "2021-02-26T01:19:11.502170Z"
    }
   },
   "outputs": [],
   "source": [
    "p1 = Person()"
   ]
  },
  {
   "cell_type": "code",
   "execution_count": null,
   "metadata": {
    "ExecuteTime": {
     "end_time": "2021-02-26T01:19:18.121429Z",
     "start_time": "2021-02-26T01:19:18.117465Z"
    }
   },
   "outputs": [],
   "source": [
    "p1 = Person()"
   ]
  },
  {
   "cell_type": "code",
   "execution_count": null,
   "metadata": {
    "ExecuteTime": {
     "end_time": "2021-02-26T01:20:38.497229Z",
     "start_time": "2021-02-26T01:20:38.494236Z"
    }
   },
   "outputs": [],
   "source": [
    "p2 = p1"
   ]
  },
  {
   "cell_type": "code",
   "execution_count": null,
   "metadata": {
    "ExecuteTime": {
     "end_time": "2021-02-26T01:22:00.608905Z",
     "start_time": "2021-02-26T01:22:00.605939Z"
    }
   },
   "outputs": [],
   "source": [
    "del p1"
   ]
  },
  {
   "cell_type": "code",
   "execution_count": null,
   "metadata": {
    "ExecuteTime": {
     "end_time": "2021-02-26T01:22:08.080959Z",
     "start_time": "2021-02-26T01:22:08.076970Z"
    }
   },
   "outputs": [],
   "source": [
    "del p2"
   ]
  },
  {
   "cell_type": "markdown",
   "metadata": {},
   "source": [
    "**※ 생성자함수를 통한 멤버변수의 초기화 ※** <br>\n",
    "**※ 파이썬은 함수 중복정의 불가 ※**<br>\n",
    "**※ 생성자 함수도 중복정의 불가 ※**\n"
   ]
  },
  {
   "cell_type": "code",
   "execution_count": null,
   "metadata": {
    "ExecuteTime": {
     "end_time": "2021-02-26T01:54:25.632523Z",
     "start_time": "2021-02-26T01:54:25.627556Z"
    }
   },
   "outputs": [],
   "source": [
    "class Person:\n",
    "    def __init__(self,name = \"홍길동\",gender = \"남자\"):\n",
    "        print(\"Person 객체를 생성합니다.\")\n",
    "        self.name = name\n",
    "        self.gender = gender\n",
    "    def __del__(self):\n",
    "        print(\"Person 객체를 소멸시킵니다.\")\n",
    "    def print_info(self):\n",
    "        print(\"일반 메소드 - {}님은 {}입니다.\".format(self.name,self.gender))\n",
    "    def __str__(self):\n",
    "        return(\"일반 메소드 - {}님은 {}입니다.\".format(self.name,self.gender))"
   ]
  },
  {
   "cell_type": "code",
   "execution_count": null,
   "metadata": {
    "ExecuteTime": {
     "end_time": "2021-02-26T01:54:26.768154Z",
     "start_time": "2021-02-26T01:54:26.764186Z"
    }
   },
   "outputs": [],
   "source": [
    "p1 = Person(\"김길동\",\"남자\")\n",
    "p2 = Person(name = \"이길동\")\n",
    "p3 = Person()"
   ]
  },
  {
   "cell_type": "code",
   "execution_count": null,
   "metadata": {
    "ExecuteTime": {
     "end_time": "2021-02-26T01:54:32.639153Z",
     "start_time": "2021-02-26T01:54:32.635195Z"
    }
   },
   "outputs": [],
   "source": [
    "print(p1)\n",
    "print(p2)\n",
    "print(p3)"
   ]
  },
  {
   "cell_type": "markdown",
   "metadata": {
    "ExecuteTime": {
     "end_time": "2021-02-26T01:56:01.793894Z",
     "start_time": "2021-02-26T01:56:01.789906Z"
    }
   },
   "source": [
    "## 4. 상속과 재정의"
   ]
  },
  {
   "cell_type": "code",
   "execution_count": null,
   "metadata": {
    "ExecuteTime": {
     "end_time": "2021-02-26T02:05:47.112228Z",
     "start_time": "2021-02-26T02:05:47.107267Z"
    }
   },
   "outputs": [],
   "source": [
    "class Person:\n",
    "    \"name과 gender를 갖는 Person 타입\"\n",
    "    def __init__(self,name ,gender ):\n",
    "        print(\"Person 객체를 생성합니다.\")\n",
    "        self.name = name\n",
    "        self.gender = gender\n",
    "    def __del__(self):\n",
    "        print(\"Person 객체를 소멸시킵니다.\")\n",
    "    def print_info(self):\n",
    "        print(\"일반 메소드 - {}님은 {}입니다.\".format(self.name,self.gender))\n",
    "    def __str__(self):\n",
    "        return(\"일반 메소드 - {}님은 {}입니다.\".format(self.name,self.gender))"
   ]
  },
  {
   "cell_type": "code",
   "execution_count": null,
   "metadata": {
    "ExecuteTime": {
     "end_time": "2021-02-26T01:59:29.903693Z",
     "start_time": "2021-02-26T01:59:29.900702Z"
    }
   },
   "outputs": [],
   "source": [
    "class Student(Person):\n",
    "    pass"
   ]
  },
  {
   "cell_type": "code",
   "execution_count": null,
   "metadata": {
    "ExecuteTime": {
     "end_time": "2021-02-26T01:59:50.316612Z",
     "start_time": "2021-02-26T01:59:50.307635Z"
    }
   },
   "outputs": [],
   "source": [
    "issubclass(Student,Person)"
   ]
  },
  {
   "cell_type": "code",
   "execution_count": null,
   "metadata": {
    "ExecuteTime": {
     "end_time": "2021-02-26T02:01:03.369564Z",
     "start_time": "2021-02-26T02:01:03.365602Z"
    }
   },
   "outputs": [],
   "source": [
    "p1 = Person(\"홍길동\",\"남자\")"
   ]
  },
  {
   "cell_type": "code",
   "execution_count": null,
   "metadata": {
    "ExecuteTime": {
     "end_time": "2021-02-26T02:01:08.390950Z",
     "start_time": "2021-02-26T02:01:08.386961Z"
    }
   },
   "outputs": [],
   "source": [
    "s1 = Student() # super클래스의 __init__까지 상속"
   ]
  },
  {
   "cell_type": "code",
   "execution_count": null,
   "metadata": {
    "ExecuteTime": {
     "end_time": "2021-02-26T02:03:30.359906Z",
     "start_time": "2021-02-26T02:03:30.355924Z"
    }
   },
   "outputs": [],
   "source": [
    "s1 = Student(\"삼길동\",\"남자\")"
   ]
  },
  {
   "cell_type": "code",
   "execution_count": null,
   "metadata": {
    "ExecuteTime": {
     "end_time": "2021-02-26T02:03:36.230966Z",
     "start_time": "2021-02-26T02:03:36.226997Z"
    }
   },
   "outputs": [],
   "source": [
    "print(s1)"
   ]
  },
  {
   "cell_type": "code",
   "execution_count": null,
   "metadata": {
    "ExecuteTime": {
     "end_time": "2021-02-26T02:15:55.474530Z",
     "start_time": "2021-02-26T02:15:55.469564Z"
    }
   },
   "outputs": [],
   "source": [
    "## 재정의\n",
    "class Student(Person):\n",
    "    \"name과 gender에 major 변수를 갖는 student 타입\"\n",
    "    def __init__(self,name,gender,major):\n",
    "        self.name = name\n",
    "        self.gender = gender\n",
    "        self.major = major \n",
    "    def __del__(self):\n",
    "        pass\n",
    "    def print_info(self):\n",
    "        print(\"일반 메소드 - %s님은 전공 %s에 %s입니다.\"%(self.name,self.major,self.gender))\n",
    "    def __str__(self):\n",
    "        return(\"일반 메소드 - %s님의 전공은 %s이고 %s입니다.\"%(self.name,self.major,self.gender))"
   ]
  },
  {
   "cell_type": "code",
   "execution_count": null,
   "metadata": {
    "ExecuteTime": {
     "end_time": "2021-02-26T02:15:57.870283Z",
     "start_time": "2021-02-26T02:15:57.867290Z"
    }
   },
   "outputs": [],
   "source": [
    "s1 = Student(\"상길동\",\"남자\",\"빅데이터분석\")\n",
    "print(s1)"
   ]
  },
  {
   "cell_type": "code",
   "execution_count": null,
   "metadata": {
    "ExecuteTime": {
     "end_time": "2021-02-26T02:16:48.667850Z",
     "start_time": "2021-02-26T02:16:48.658893Z"
    }
   },
   "outputs": [],
   "source": [
    "isinstance(s1,Student),isinstance(s1,Person)"
   ]
  },
  {
   "cell_type": "code",
   "execution_count": null,
   "metadata": {
    "ExecuteTime": {
     "end_time": "2021-02-26T02:24:22.293094Z",
     "start_time": "2021-02-26T02:24:22.287110Z"
    }
   },
   "outputs": [],
   "source": [
    "## super()를 사용한 재정의 - super()는 부모 클래스의 멤버를 참조\n",
    "class Student(Person):\n",
    "    \"name과 gender에 major 변수를 갖는 student 타입\"\n",
    "    def __init__(self,name,gender,major):\n",
    "        # 부모클래스의 생성자를 호출하여 자식 클래스의 생성자를 쉽게\n",
    "        Person.__init__(self,name,gender)\n",
    "        self.major = major \n",
    "    def __del__(self):\n",
    "        pass\n",
    "    def print_info(self):\n",
    "        print(\"일반 메소드 - %s님은 전공 %s에 %s입니다.\"%(self.name,self.major,self.gender))\n",
    "    def __str__(self):\n",
    "        return super().__str__() + \" 전공은 {}입니다.\".format(self.major)\n",
    "        #return Person.__str__(self) + \"전공은 {}입니다.\".format(self.major) - 둘다 사용가능"
   ]
  },
  {
   "cell_type": "code",
   "execution_count": null,
   "metadata": {
    "ExecuteTime": {
     "end_time": "2021-02-26T02:24:45.297103Z",
     "start_time": "2021-02-26T02:24:45.293129Z"
    }
   },
   "outputs": [],
   "source": [
    "s1= Student('오길동','남자','경영')"
   ]
  },
  {
   "cell_type": "code",
   "execution_count": null,
   "metadata": {
    "ExecuteTime": {
     "end_time": "2021-02-26T02:24:49.477674Z",
     "start_time": "2021-02-26T02:24:49.474692Z"
    }
   },
   "outputs": [],
   "source": [
    "print(s1)"
   ]
  },
  {
   "cell_type": "markdown",
   "metadata": {},
   "source": [
    "**static변수 : 여러 객체들 사이에 데이터를 공유하고 싶을 때 사용**\n",
    "- 클래스 변수이름 앞에 under score 2개(__) 붙이면 내부적으로 클래스명._클래스명변수이름으로 참조"
   ]
  },
  {
   "cell_type": "code",
   "execution_count": null,
   "metadata": {
    "ExecuteTime": {
     "end_time": "2021-02-26T02:51:37.438288Z",
     "start_time": "2021-02-26T02:51:37.432338Z"
    }
   },
   "outputs": [],
   "source": [
    "class Student(Person):\n",
    "    \"name과 gender에 major 변수를 갖는 student 타입\"\n",
    "    __count = 0 # 정적변수(static 변수)\n",
    "    def __init__(self,name,gender,major):\n",
    "        # 부모클래스의 생성자를 호출하여 자식 클래스의 생성자를 쉽게\n",
    "        Student._Student__count += 1 # 인스턴스 생성시 마다 카운트 증가\n",
    "        Person.__init__(self,name,gender)\n",
    "        self.major = major \n",
    "    def __del__(self):\n",
    "         Student._Student__count -= 1 # 인스턴스 소멸시 마다 카운트 감소\n",
    "    def print_info(self):\n",
    "        print(\"일반 메소드 - %s님은 전공 %s에 %s입니다.\"%(self.name,self.major,self.gender))\n",
    "    def __str__(self):\n",
    "        return super().__str__() + \" 전공은 {}입니다.\".format(self.major)\n",
    "    @classmethod\n",
    "    def get_count(cls):\n",
    "        return Student._Student__count"
   ]
  },
  {
   "cell_type": "code",
   "execution_count": null,
   "metadata": {
    "ExecuteTime": {
     "end_time": "2021-02-26T02:51:39.085313Z",
     "start_time": "2021-02-26T02:51:39.081334Z"
    }
   },
   "outputs": [],
   "source": [
    "s1 = Student('홍길동','남자','빅데이터')\n",
    "print(s1)\n",
    "print('객체 개수 : ',Student.get_count())"
   ]
  },
  {
   "cell_type": "code",
   "execution_count": null,
   "metadata": {
    "ExecuteTime": {
     "end_time": "2021-02-26T02:52:08.053426Z",
     "start_time": "2021-02-26T02:52:08.049416Z"
    }
   },
   "outputs": [],
   "source": [
    "s2 = Student('홍삼이','여자','통계')\n",
    "print(s2)\n",
    "print('객체 개수 : ',Student.get_count())"
   ]
  },
  {
   "cell_type": "code",
   "execution_count": null,
   "metadata": {
    "ExecuteTime": {
     "end_time": "2021-02-26T02:52:30.789450Z",
     "start_time": "2021-02-26T02:52:30.784483Z"
    }
   },
   "outputs": [],
   "source": [
    "s3 = Student('이동이','여자','경영')\n",
    "print(s3)\n",
    "print('객체 개수 : ',Student.get_count())"
   ]
  },
  {
   "cell_type": "code",
   "execution_count": null,
   "metadata": {
    "ExecuteTime": {
     "end_time": "2021-02-26T02:58:30.426260Z",
     "start_time": "2021-02-26T02:58:30.417309Z"
    }
   },
   "outputs": [],
   "source": [
    "del s3\n",
    "print('객체 개수 : ',Student.get_count())"
   ]
  },
  {
   "cell_type": "markdown",
   "metadata": {},
   "source": [
    "## 연습문제"
   ]
  },
  {
   "cell_type": "code",
   "execution_count": 7,
   "metadata": {
    "ExecuteTime": {
     "end_time": "2021-02-26T05:34:37.699429Z",
     "start_time": "2021-02-26T05:34:37.691470Z"
    }
   },
   "outputs": [],
   "source": [
    "#실1 \n",
    "class Shape:\n",
    "    def __init__(self,x=0,y=0):\n",
    "        self.x=x\n",
    "        self.y=y\n",
    "    def __del__(self):\n",
    "        pass\n",
    "    def __str__(self):\n",
    "        return 'x 좌표 : {}, y 좌표 : {}'.format(self.x,self.y)\n",
    "    def move(self,x,y):\n",
    "        self.x=x\n",
    "        self.y=y\n",
    "    def cacl_area(self):\n",
    "        raise Exception()\n",
    "    @staticmethod\n",
    "    def str():\n",
    "        print('정적메소드 하나가 있어요')\n",
    "\n",
    "class Triangle(Shape):\n",
    "    __count=0\n",
    "    def __init__(self,width,height,x=0,y=0):\n",
    "        Triangle._Triangle__count +=1\n",
    "        self.x=x\n",
    "        self.y=y\n",
    "        self.width = width\n",
    "        self.height = height\n",
    "    def __del__(self):\n",
    "        Triangle._Triangle__count -=1\n",
    "    def cacl_area(self):\n",
    "        self.area = (self.width*self.height)/2\n",
    "        print('밑변의 길이 : {}, 높이 : {} 의 삼각형의 넓이 : {}'.format(self.width,self.height,self.area))\n",
    "    def __str__(self):\n",
    "        return super().__str__() + \" 밑변의 길이 : {}, 높이 : {} 넓이는 {}입니다.\".format(self.width,self.height,self.area) \n",
    "    @classmethod\n",
    "    def get_count(cls):\n",
    "        return Triangle._Triangle__count"
   ]
  },
  {
   "cell_type": "code",
   "execution_count": 9,
   "metadata": {
    "ExecuteTime": {
     "end_time": "2021-02-26T05:34:40.212799Z",
     "start_time": "2021-02-26T05:34:40.207812Z"
    }
   },
   "outputs": [
    {
     "name": "stdout",
     "output_type": "stream",
     "text": [
      "밑변의 길이 : 10, 높이 : 5 의 삼각형의 넓이 : 25.0\n",
      "x 좌표 : 0, y 좌표 : 0 밑변의 길이 : 10, 높이 : 5 넓이는 25.0입니다.\n",
      "x 좌표 : 0, y 좌표 : 0\n",
      "정적메소드 하나가 있어요\n"
     ]
    }
   ],
   "source": [
    "t1 = Triangle(10,5)\n",
    "t1.cacl_area()\n",
    "print(t1)\n",
    "Triangle.get_count()\n",
    "print(Shape())\n",
    "Shape.str()"
   ]
  },
  {
   "cell_type": "code",
   "execution_count": 17,
   "metadata": {
    "ExecuteTime": {
     "end_time": "2021-02-26T05:53:10.083145Z",
     "start_time": "2021-02-26T05:53:10.079156Z"
    }
   },
   "outputs": [],
   "source": [
    "# 서술형9\n",
    "class Person:\n",
    "    \"서술형 9번 문제\"\n",
    "    def __init__(self,name=\"홍길동\",gender=\"남\"):\n",
    "        self.name=name\n",
    "        self.gender=gender\n",
    "    def __del__(self):\n",
    "        pass\n",
    "    def __str__(self):\n",
    "        return '이름은 '+self.name"
   ]
  },
  {
   "cell_type": "code",
   "execution_count": 18,
   "metadata": {
    "ExecuteTime": {
     "end_time": "2021-02-26T05:53:11.193432Z",
     "start_time": "2021-02-26T05:53:11.189443Z"
    }
   },
   "outputs": [
    {
     "name": "stdout",
     "output_type": "stream",
     "text": [
      "이름은 홍길동\n"
     ]
    }
   ],
   "source": [
    "p=Person()\n",
    "print(p)"
   ]
  },
  {
   "cell_type": "code",
   "execution_count": 19,
   "metadata": {
    "ExecuteTime": {
     "end_time": "2021-02-26T05:53:11.490808Z",
     "start_time": "2021-02-26T05:53:11.486840Z"
    }
   },
   "outputs": [
    {
     "data": {
      "text/plain": [
       "'서술형 9번 문제'"
      ]
     },
     "execution_count": 19,
     "metadata": {},
     "output_type": "execute_result"
    }
   ],
   "source": [
    "p.__doc__ # 독스트링출력"
   ]
  },
  {
   "cell_type": "code",
   "execution_count": 20,
   "metadata": {
    "ExecuteTime": {
     "end_time": "2021-02-26T05:53:12.105628Z",
     "start_time": "2021-02-26T05:53:12.101639Z"
    }
   },
   "outputs": [
    {
     "data": {
      "text/plain": [
       "{'name': '홍길동', 'gender': '남'}"
      ]
     },
     "execution_count": 20,
     "metadata": {},
     "output_type": "execute_result"
    }
   ],
   "source": [
    "p.__dict__ # 선언한변수출력"
   ]
  },
  {
   "cell_type": "code",
   "execution_count": null,
   "metadata": {},
   "outputs": [],
   "source": []
  }
 ],
 "metadata": {
  "kernelspec": {
   "display_name": "Python 3",
   "language": "python",
   "name": "python3"
  },
  "language_info": {
   "codemirror_mode": {
    "name": "ipython",
    "version": 3
   },
   "file_extension": ".py",
   "mimetype": "text/x-python",
   "name": "python",
   "nbconvert_exporter": "python",
   "pygments_lexer": "ipython3",
   "version": "3.8.5"
  },
  "toc": {
   "base_numbering": 1,
   "nav_menu": {},
   "number_sections": false,
   "sideBar": true,
   "skip_h1_title": false,
   "title_cell": "Table of Contents",
   "title_sidebar": "Contents",
   "toc_cell": false,
   "toc_position": {},
   "toc_section_display": true,
   "toc_window_display": false
  },
  "varInspector": {
   "cols": {
    "lenName": 16,
    "lenType": 16,
    "lenVar": 40
   },
   "kernels_config": {
    "python": {
     "delete_cmd_postfix": "",
     "delete_cmd_prefix": "del ",
     "library": "var_list.py",
     "varRefreshCmd": "print(var_dic_list())"
    },
    "r": {
     "delete_cmd_postfix": ") ",
     "delete_cmd_prefix": "rm(",
     "library": "var_list.r",
     "varRefreshCmd": "cat(var_dic_list()) "
    }
   },
   "types_to_exclude": [
    "module",
    "function",
    "builtin_function_or_method",
    "instance",
    "_Feature"
   ],
   "window_display": false
  }
 },
 "nbformat": 4,
 "nbformat_minor": 4
}
