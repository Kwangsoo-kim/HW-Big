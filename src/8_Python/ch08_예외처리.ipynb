{
 "cells": [
  {
   "cell_type": "markdown",
   "metadata": {},
   "source": [
    "# <font color='red'>ch08. 예외처리</font>"
   ]
  },
  {
   "cell_type": "markdown",
   "metadata": {},
   "source": [
    "## 1. 예외처리\n",
    "- 예외가 날 가능성이 있는 부분에 대해 미리 프로그래밍"
   ]
  },
  {
   "cell_type": "code",
   "execution_count": null,
   "metadata": {
    "ExecuteTime": {
     "end_time": "2021-02-26T06:10:09.268323Z",
     "start_time": "2021-02-26T06:09:55.988732Z"
    }
   },
   "outputs": [],
   "source": [
    "filename = input('읽을 파일이름은?')\n",
    "f = open('data/'+filename,'r')\n",
    "firstline = f.readline()\n",
    "print(firstline)\n",
    "f.close()"
   ]
  },
  {
   "cell_type": "code",
   "execution_count": null,
   "metadata": {
    "ExecuteTime": {
     "end_time": "2021-02-26T06:14:12.954866Z",
     "start_time": "2021-02-26T06:14:10.828578Z"
    }
   },
   "outputs": [],
   "source": [
    "num = int(input(\"정수를 입력하세요 >\"))\n"
   ]
  },
  {
   "cell_type": "code",
   "execution_count": null,
   "metadata": {
    "ExecuteTime": {
     "end_time": "2021-02-26T06:16:42.499545Z",
     "start_time": "2021-02-26T06:16:41.508329Z"
    }
   },
   "outputs": [],
   "source": [
    "l = [1,2,3]\n",
    "idx = int(input(\"원하는 인덱스는 ?\"))\n",
    "print(\"{}번째 값은 {}\".format(idx,l[idx]))"
   ]
  },
  {
   "cell_type": "markdown",
   "metadata": {
    "ExecuteTime": {
     "end_time": "2021-02-26T06:18:07.071391Z",
     "start_time": "2021-02-26T06:18:07.068399Z"
    }
   },
   "source": [
    "## 2. 예외처리하기(try~except)"
   ]
  },
  {
   "cell_type": "code",
   "execution_count": null,
   "metadata": {
    "ExecuteTime": {
     "end_time": "2021-02-26T06:23:55.173155Z",
     "start_time": "2021-02-26T06:23:53.979642Z"
    }
   },
   "outputs": [],
   "source": [
    "try:\n",
    "    x = int(input(\"정수는 ?\"))\n",
    "    print(\"입력한 정수는 {}입니다\".format(x))\n",
    "except ValueError as e:\n",
    "    print(\"정수를 입력하지 않으셨군요\")\n",
    "    print(e)"
   ]
  },
  {
   "cell_type": "code",
   "execution_count": null,
   "metadata": {
    "ExecuteTime": {
     "end_time": "2021-02-26T06:43:01.396975Z",
     "start_time": "2021-02-26T06:42:56.706901Z"
    }
   },
   "outputs": [],
   "source": [
    "# 입력한 값이 정수가 아닐 경우 예외 메세지를 출력 다시 입력 받는다.\n",
    "while True :\n",
    "    try:\n",
    "        x = int(input(\"수 : \"))\n",
    "        print(\"입력한 정수는 {}\".format(x))\n",
    "        break;\n",
    "    except Exception:\n",
    "        print(\"유효한 정수를 다시 입력하세요\")\n",
    "    "
   ]
  },
  {
   "cell_type": "code",
   "execution_count": null,
   "metadata": {
    "ExecuteTime": {
     "end_time": "2021-02-26T06:50:05.100598Z",
     "start_time": "2021-02-26T06:50:03.458321Z"
    }
   },
   "outputs": [],
   "source": [
    "# 100을 입력한 정수값으로 나눠 출력한다. (두가지 예외 사항을 따로 처리)\n",
    "# except 절이 여러 절일때 최상 excecpt는 하위클래스부터 나열해야한다. 상위 클래스가 상단에 있으면\n",
    "# 나머지는 무시된다.\n",
    "while True :\n",
    "    try:\n",
    "        x = int(input(\"수 : \"))\n",
    "        print(\"입력한 정수는 {}\".format(x))\n",
    "        result = 100/x\n",
    "        print(\"100/{} = {}\".format(x,result))\n",
    "        break;\n",
    "    except ValueError:\n",
    "        print(\"유효한 정수를 다시 입력하세요.\")\n",
    "    except ZeroDivisionError:\n",
    "        print(\"0으로 나눌 수 없어요. 다시 입력하세요\")"
   ]
  },
  {
   "cell_type": "code",
   "execution_count": null,
   "metadata": {
    "ExecuteTime": {
     "end_time": "2021-02-26T06:58:22.383592Z",
     "start_time": "2021-02-26T06:54:47.978140Z"
    }
   },
   "outputs": [],
   "source": [
    "# 100을 입력한 정수값으로 나눠 출력한다. (두가지 예외 사항을 하나로 처리)\n",
    "# except내용을 묶어주면된다.\n",
    "while True :\n",
    "    try:\n",
    "        x = int(input(\"수 : \"))\n",
    "        print(\"입력한 정수는 {}\".format(x))\n",
    "        result = 100/x\n",
    "        print(\"100/{} = {}\".format(x,result))\n",
    "        break;\n",
    "    except (ValueError,ZeroDivisionError):\n",
    "        print(\"문자나 0은 입력할 수 없다. 유효한 정수를 다시 입력하세요.\")"
   ]
  },
  {
   "cell_type": "code",
   "execution_count": null,
   "metadata": {
    "ExecuteTime": {
     "end_time": "2021-02-26T06:58:42.820355Z",
     "start_time": "2021-02-26T06:58:36.151231Z"
    }
   },
   "outputs": [],
   "source": [
    "# 100을 입력한 정수값으로 나눠 출력한다. (모든 예외를 하나로 처리)\n",
    "# except내용을 묶어주면된다.\n",
    "while True :\n",
    "    try:\n",
    "        x = int(input(\"수 : \"))\n",
    "        print(\"입력한 정수는 {}\".format(x))\n",
    "        result = 100/x\n",
    "        print(\"100/{} = {}\".format(x,result))\n",
    "        break;\n",
    "    except :\n",
    "        print(\"문자나 0은 입력할 수 없다. 유효한 정수를 다시 입력하세요.\")"
   ]
  },
  {
   "cell_type": "code",
   "execution_count": null,
   "metadata": {
    "ExecuteTime": {
     "end_time": "2021-02-26T07:00:38.748559Z",
     "start_time": "2021-02-26T07:00:38.745567Z"
    }
   },
   "outputs": [],
   "source": [
    "# try ~ except ~ finally"
   ]
  },
  {
   "cell_type": "code",
   "execution_count": null,
   "metadata": {
    "ExecuteTime": {
     "end_time": "2021-02-26T07:07:44.787934Z",
     "start_time": "2021-02-26T07:07:44.782968Z"
    }
   },
   "outputs": [],
   "source": [
    "# else 블록 : try 블록에서 예외가 발생되면 except 실행, 예외발생안되면 else 블록실행\n",
    "try:\n",
    "    f = open(\"data/ch08_abc.txt\",\"r\")\n",
    "    data = f.read()\n",
    "    print(data)\n",
    "except FileNotFoundError:\n",
    "    print(\"파일이 없습니다.\")\n",
    "finally: # finally 블록은 try 블ㄹ고에 예외가 발생하든 안하든 꼭 실행\n",
    "    f.close()"
   ]
  },
  {
   "cell_type": "code",
   "execution_count": null,
   "metadata": {
    "ExecuteTime": {
     "end_time": "2021-02-26T07:11:58.048066Z",
     "start_time": "2021-02-26T07:11:50.281240Z"
    }
   },
   "outputs": [],
   "source": [
    "# 예외인수 e\n",
    "while True :\n",
    "    try:\n",
    "        x = int(input(\"수 : \"))\n",
    "        print(\"입력한 정수는 {}\".format(x))\n",
    "        result = 100/x\n",
    "        print(\"100/{} = {}\".format(x,result))\n",
    "        break;\n",
    "    except (ValueError,ZeroDivisionError) as e:\n",
    "        print(\"문자나 0은 입력할 수 없다. 유효한 정수를 다시 입력하세요.\")\n",
    "        print(e) "
   ]
  },
  {
   "cell_type": "markdown",
   "metadata": {
    "ExecuteTime": {
     "end_time": "2021-02-26T07:13:23.390114Z",
     "start_time": "2021-02-26T07:13:23.386123Z"
    }
   },
   "source": [
    "## 3. raise로 예외 발생시키기"
   ]
  },
  {
   "cell_type": "code",
   "execution_count": null,
   "metadata": {
    "ExecuteTime": {
     "end_time": "2021-02-26T07:14:07.451915Z",
     "start_time": "2021-02-26T07:14:07.305994Z"
    }
   },
   "outputs": [],
   "source": [
    "raise NameError(\"예외가 발생\")"
   ]
  },
  {
   "cell_type": "code",
   "execution_count": null,
   "metadata": {
    "ExecuteTime": {
     "end_time": "2021-02-26T07:16:11.316595Z",
     "start_time": "2021-02-26T07:16:11.312631Z"
    }
   },
   "outputs": [],
   "source": [
    "def insert(data):\n",
    "    if len(data)==0:\n",
    "        raise Exception(\"길이가 0이라 출력할 것이 없습니다\")\n",
    "    print(data,'를 입력힐게요')"
   ]
  },
  {
   "cell_type": "code",
   "execution_count": null,
   "metadata": {
    "ExecuteTime": {
     "end_time": "2021-02-26T07:16:18.682700Z",
     "start_time": "2021-02-26T07:16:18.671757Z"
    }
   },
   "outputs": [],
   "source": [
    "insert([])"
   ]
  },
  {
   "cell_type": "code",
   "execution_count": null,
   "metadata": {
    "ExecuteTime": {
     "end_time": "2021-02-26T07:17:37.280547Z",
     "start_time": "2021-02-26T07:17:37.264925Z"
    }
   },
   "outputs": [],
   "source": [
    "try:\n",
    "    insert([1,2,3])\n",
    "except Exception as e:\n",
    "    print(e.args[0])"
   ]
  },
  {
   "cell_type": "markdown",
   "metadata": {},
   "source": [
    "## 4. raise를 이용하여 추상클래스 정의하기\n",
    "- python은 추상클래스를 생성할 순 없으나 raise를 이용해서 추상클래스 흉내낸다\n",
    "## 5. 사용자 정의 예외"
   ]
  },
  {
   "cell_type": "code",
   "execution_count": null,
   "metadata": {
    "ExecuteTime": {
     "end_time": "2021-02-26T07:40:30.082587Z",
     "start_time": "2021-02-26T07:40:30.078597Z"
    }
   },
   "outputs": [],
   "source": [
    "class AbstractError(Exception):\n",
    "    \"추상클래스를 이용하여 객체를 생성할 때 나는 오류\"\n",
    "    def __init__(self):\n",
    "        Exception.__init__(self,\"Shape는 추상클래여서 객체 생성 불가\")"
   ]
  },
  {
   "cell_type": "code",
   "execution_count": null,
   "metadata": {
    "ExecuteTime": {
     "end_time": "2021-02-26T07:41:23.323422Z",
     "start_time": "2021-02-26T07:41:23.319459Z"
    }
   },
   "outputs": [],
   "source": [
    "class Shape:\n",
    "    def __init__(self):\n",
    "        raise AbstractError()\n",
    "    def cal_area(self):\n",
    "        raise AbstractError()"
   ]
  },
  {
   "cell_type": "code",
   "execution_count": null,
   "metadata": {
    "ExecuteTime": {
     "end_time": "2021-02-26T07:42:58.387702Z",
     "start_time": "2021-02-26T07:42:58.383713Z"
    }
   },
   "outputs": [],
   "source": [
    "class Circle(Shape):\n",
    "    def __init__(self,r):\n",
    "        self.r=r\n",
    "    def cal_area(self):\n",
    "        return r*r*3.14"
   ]
  },
  {
   "cell_type": "markdown",
   "metadata": {
    "ExecuteTime": {
     "end_time": "2021-02-26T07:43:50.449860Z",
     "start_time": "2021-02-26T07:43:50.438864Z"
    }
   },
   "source": [
    "## 6. 파일정리작업"
   ]
  },
  {
   "cell_type": "code",
   "execution_count": null,
   "metadata": {
    "ExecuteTime": {
     "end_time": "2021-02-26T07:47:09.122335Z",
     "start_time": "2021-02-26T07:47:02.783794Z"
    }
   },
   "outputs": [],
   "source": [
    "filename = input('파일명은 ?')\n",
    "try:\n",
    "    f = open('data/'+filename,'r')\n",
    "    lines = f.readlines()\n",
    "    print(lines)\n",
    "except:\n",
    "    pass\n",
    "finally:\n",
    "    f.close()"
   ]
  },
  {
   "cell_type": "code",
   "execution_count": null,
   "metadata": {
    "ExecuteTime": {
     "end_time": "2021-02-26T07:52:22.017665Z",
     "start_time": "2021-02-26T07:52:22.012698Z"
    }
   },
   "outputs": [],
   "source": [
    "# with ~ as 절에선 자동으로 close()를 해주기 때문에 close()를 따로 할 필요가 없다.\n",
    "with open('data/ch08_abc.txt','r') as f:\n",
    "    lines = f.readlines()\n",
    "    print(lines)"
   ]
  },
  {
   "cell_type": "markdown",
   "metadata": {},
   "source": [
    "### 연습문제 "
   ]
  },
  {
   "cell_type": "code",
   "execution_count": 4,
   "metadata": {
    "ExecuteTime": {
     "end_time": "2021-02-26T07:59:49.760393Z",
     "start_time": "2021-02-26T07:59:35.134359Z"
    }
   },
   "outputs": [
    {
     "name": "stdout",
     "output_type": "stream",
     "text": [
      "첫 번째 숫자를 입력하세요 :0\n",
      "두 번째 숫자를 입력하세요 :0\n",
      "유효한 숫자가 아닙니다. 다시 시도하세요\n",
      "첫 번째 숫자를 입력하세요 :\n",
      "유효한 숫자가 아닙니다. 다시 시도하세요\n",
      "첫 번째 숫자를 입력하세요 :0\n",
      "두 번째 숫자를 입력하세요 :0\n",
      "유효한 숫자가 아닙니다. 다시 시도하세요\n",
      "첫 번째 숫자를 입력하세요 :10\n",
      "두 번째 숫자를 입력하세요 :0\n",
      "유효한 숫자가 아닙니다. 다시 시도하세요\n",
      "첫 번째 숫자를 입력하세요 :0\n",
      "두 번째 숫자를 입력하세요 :10\n",
      "입력한 수는 0.0 와 10.0입니다.\n",
      "0.0를 10.0로 나누면 0.0입니다.\n"
     ]
    }
   ],
   "source": [
    "#실1\n",
    "while True:\n",
    "    try:\n",
    "        a = float(input(\"첫 번째 숫자를 입력하세요 :\"))\n",
    "        b = float(input(\"두 번째 숫자를 입력하세요 :\"))\n",
    "        c = a/b\n",
    "        print(\"입력한 수는 {} 와 {}입니다.\".format(a,b))\n",
    "        print(\"{}를 {}로 나누면 {}입니다.\".format(a,b,c))\n",
    "        break;\n",
    "    except:\n",
    "        print(\"유효한 숫자가 아닙니다. 다시 시도하세요\")"
   ]
  },
  {
   "cell_type": "code",
   "execution_count": null,
   "metadata": {
    "ExecuteTime": {
     "start_time": "2021-02-26T08:01:24.396Z"
    }
   },
   "outputs": [
    {
     "name": "stdout",
     "output_type": "stream",
     "text": [
      "첫 번째 숫자를 입력하세요 :10\n",
      "두 번째 숫자를 입력하세요 :0\n",
      "0으로 나눌 수 없습니다. 다시 시도하세요\n"
     ]
    }
   ],
   "source": [
    "#실2\n",
    "while True:\n",
    "    try:\n",
    "        a = float(input(\"첫 번째 숫자를 입력하세요 :\"))\n",
    "        b = float(input(\"두 번째 숫자를 입력하세요 :\"))\n",
    "        c = a/b\n",
    "        print(\"입력한 수는 {} 와 {}입니다.\".format(a,b))\n",
    "        print(\"{}를 {}로 나누면 {}입니다.\".format(a,b,c))\n",
    "        break;\n",
    "    except ValueError:\n",
    "        print(\"유효한 숫자가 아닙니다. 다시 시도하세요\")\n",
    "    except ZeroDivisionError:\n",
    "        print(\"0으로 나눌 수 없습니다. 다시 시도하세요\")"
   ]
  },
  {
   "cell_type": "code",
   "execution_count": null,
   "metadata": {},
   "outputs": [],
   "source": []
  },
  {
   "cell_type": "code",
   "execution_count": null,
   "metadata": {},
   "outputs": [],
   "source": []
  }
 ],
 "metadata": {
  "kernelspec": {
   "display_name": "Python 3",
   "language": "python",
   "name": "python3"
  },
  "toc": {
   "base_numbering": 1,
   "nav_menu": {},
   "number_sections": false,
   "sideBar": true,
   "skip_h1_title": false,
   "title_cell": "Table of Contents",
   "title_sidebar": "Contents",
   "toc_cell": false,
   "toc_position": {},
   "toc_section_display": true,
   "toc_window_display": false
  },
  "varInspector": {
   "cols": {
    "lenName": 16,
    "lenType": 16,
    "lenVar": 40
   },
   "kernels_config": {
    "python": {
     "delete_cmd_postfix": "",
     "delete_cmd_prefix": "del ",
     "library": "var_list.py",
     "varRefreshCmd": "print(var_dic_list())"
    },
    "r": {
     "delete_cmd_postfix": ") ",
     "delete_cmd_prefix": "rm(",
     "library": "var_list.r",
     "varRefreshCmd": "cat(var_dic_list()) "
    }
   },
   "types_to_exclude": [
    "module",
    "function",
    "builtin_function_or_method",
    "instance",
    "_Feature"
   ],
   "window_display": false
  }
 },
 "nbformat": 4,
 "nbformat_minor": 4
}
