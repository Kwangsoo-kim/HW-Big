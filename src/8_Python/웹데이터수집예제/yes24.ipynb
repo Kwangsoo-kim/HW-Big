{
 "cells": [
  {
   "cell_type": "code",
   "execution_count": 79,
   "metadata": {
    "ExecuteTime": {
     "end_time": "2021-03-18T03:26:15.507267Z",
     "start_time": "2021-03-18T03:26:14.707997Z"
    }
   },
   "outputs": [],
   "source": [
    "import requests\n",
    "from bs4 import BeautifulSoup\n",
    "import csv\n",
    "url = 'http://www.yes24.com/24/category/bestseller'\n",
    "book_ranking = requests.get(url)\n",
    "soup = BeautifulSoup(book_ranking.content,'html.parser')\n",
    "title_list = soup.select('div#bestList > ol > li > p.copy > a')\n",
    "auther_list = soup.select('div#bestList > ol > li > p.aupu')\n",
    "price_list = soup.select('div#bestList > ol > li > p.price')\n",
    "rank_list=[]\n",
    "results=' '\n",
    "for idx in range(len(title_list)):\n",
    "    result = idx+1,title_list[idx].text,auther_list[idx].text,price_list[idx].text.split('(')[0]\n",
    "    rank_list.append(result)\n",
    "with open('data/1_yes24.csv','w',encoding='cp949') as out:\n",
    "    csv_out = csv.writer(out)\n",
    "    csv_out.writerow(['순위','책이름','저자및출판사','가격'])\n",
    "    for row in rank_list:\n",
    "        csv_out.writerow(row)"
   ]
  },
  {
   "cell_type": "code",
   "execution_count": null,
   "metadata": {},
   "outputs": [],
   "source": []
  }
 ],
 "metadata": {
  "kernelspec": {
   "display_name": "Python 3",
   "language": "python",
   "name": "python3"
  },
  "language_info": {
   "codemirror_mode": {
    "name": "ipython",
    "version": 3
   },
   "file_extension": ".py",
   "mimetype": "text/x-python",
   "name": "python",
   "nbconvert_exporter": "python",
   "pygments_lexer": "ipython3",
   "version": "3.8.5"
  },
  "toc": {
   "base_numbering": 1,
   "nav_menu": {},
   "number_sections": false,
   "sideBar": true,
   "skip_h1_title": false,
   "title_cell": "Table of Contents",
   "title_sidebar": "Contents",
   "toc_cell": false,
   "toc_position": {},
   "toc_section_display": true,
   "toc_window_display": false
  },
  "varInspector": {
   "cols": {
    "lenName": 16,
    "lenType": 16,
    "lenVar": 40
   },
   "kernels_config": {
    "python": {
     "delete_cmd_postfix": "",
     "delete_cmd_prefix": "del ",
     "library": "var_list.py",
     "varRefreshCmd": "print(var_dic_list())"
    },
    "r": {
     "delete_cmd_postfix": ") ",
     "delete_cmd_prefix": "rm(",
     "library": "var_list.r",
     "varRefreshCmd": "cat(var_dic_list()) "
    }
   },
   "types_to_exclude": [
    "module",
    "function",
    "builtin_function_or_method",
    "instance",
    "_Feature"
   ],
   "window_display": false
  }
 },
 "nbformat": 4,
 "nbformat_minor": 4
}
