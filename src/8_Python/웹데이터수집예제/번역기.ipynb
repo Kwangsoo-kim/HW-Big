{
 "cells": [
  {
   "cell_type": "code",
   "execution_count": 7,
   "metadata": {
    "ExecuteTime": {
     "end_time": "2021-03-18T05:19:01.312253Z",
     "start_time": "2021-03-18T05:19:01.294234Z"
    }
   },
   "outputs": [],
   "source": [
    "with open('data/2_한글원본.txt','r',encoding='utf-8') as f:\n",
    "    text = f.read()\n",
    "ready_list = []\n",
    "while len(text) >5000:\n",
    "    temp_str = text[:5000]\n",
    "    ls_idx = temp_str.rfind(' ') \n",
    "    ready_list.append(text[:ls_idx])\n",
    "    text = text[ls_idx:] \n",
    "ready_list.append(text)"
   ]
  },
  {
   "cell_type": "code",
   "execution_count": 8,
   "metadata": {
    "ExecuteTime": {
     "end_time": "2021-03-18T05:19:59.170448Z",
     "start_time": "2021-03-18T05:19:04.357942Z"
    }
   },
   "outputs": [],
   "source": [
    "from selenium import webdriver\n",
    "from selenium.webdriver.common.keys import Keys\n",
    "from bs4 import BeautifulSoup\n",
    "import time\n",
    "dv = webdriver.Chrome()\n",
    "dv.get('https://translate.kakao.com/')\n",
    "popup = dv.find_element_by_css_selector('a.btn_close')\n",
    "popup.click()\n",
    "textarea=dv.find_element_by_id('query')\n",
    "results = ''\n",
    "for data in ready_list:\n",
    "    textarea.send_keys(Keys.CONTROL,'a')\n",
    "    textarea.send_keys(data)\n",
    "    time.sleep(1) \n",
    "    btn = dv.find_element_by_css_selector('button#btnTranslate')\n",
    "    btn.click()\n",
    "    time.sleep(3)\n",
    "    soup = BeautifulSoup(dv.page_source,'html.parser')\n",
    "    result = soup.select_one('div.box_tf > p#result').text\n",
    "    results += result\n",
    "    time.sleep(2)\n",
    "with open('data/2_자동화영어번역본.txt','w',encoding='utf-8') as f:\n",
    "    f.write(results)\n",
    "    f.close()\n",
    "dv.close()"
   ]
  },
  {
   "cell_type": "code",
   "execution_count": null,
   "metadata": {
    "ExecuteTime": {
     "end_time": "2021-03-18T04:09:11.233239Z",
     "start_time": "2021-03-18T04:09:07.730431Z"
    }
   },
   "outputs": [],
   "source": []
  },
  {
   "cell_type": "code",
   "execution_count": null,
   "metadata": {},
   "outputs": [],
   "source": []
  }
 ],
 "metadata": {
  "kernelspec": {
   "display_name": "Python 3",
   "language": "python",
   "name": "python3"
  },
  "language_info": {
   "codemirror_mode": {
    "name": "ipython",
    "version": 3
   },
   "file_extension": ".py",
   "mimetype": "text/x-python",
   "name": "python",
   "nbconvert_exporter": "python",
   "pygments_lexer": "ipython3",
   "version": "3.8.5"
  },
  "toc": {
   "base_numbering": 1,
   "nav_menu": {},
   "number_sections": false,
   "sideBar": true,
   "skip_h1_title": false,
   "title_cell": "Table of Contents",
   "title_sidebar": "Contents",
   "toc_cell": false,
   "toc_position": {},
   "toc_section_display": true,
   "toc_window_display": false
  },
  "varInspector": {
   "cols": {
    "lenName": 16,
    "lenType": 16,
    "lenVar": 40
   },
   "kernels_config": {
    "python": {
     "delete_cmd_postfix": "",
     "delete_cmd_prefix": "del ",
     "library": "var_list.py",
     "varRefreshCmd": "print(var_dic_list())"
    },
    "r": {
     "delete_cmd_postfix": ") ",
     "delete_cmd_prefix": "rm(",
     "library": "var_list.r",
     "varRefreshCmd": "cat(var_dic_list()) "
    }
   },
   "types_to_exclude": [
    "module",
    "function",
    "builtin_function_or_method",
    "instance",
    "_Feature"
   ],
   "window_display": false
  }
 },
 "nbformat": 4,
 "nbformat_minor": 4
}
