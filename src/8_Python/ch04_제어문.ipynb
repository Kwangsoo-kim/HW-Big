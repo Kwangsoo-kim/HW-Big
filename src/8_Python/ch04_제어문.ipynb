{
 "cells": [
  {
   "cell_type": "markdown",
   "metadata": {},
   "source": [
    "# <font color='red'>ch04. 제어문</font>\n",
    "- if, for -in , while , 중첩가능, 중첩 for문 안에서의 break"
   ]
  },
  {
   "cell_type": "markdown",
   "metadata": {
    "ExecuteTime": {
     "end_time": "2021-02-23T05:35:30.243649Z",
     "start_time": "2021-02-23T05:35:30.239668Z"
    }
   },
   "source": [
    "## 1. 조건문"
   ]
  },
  {
   "cell_type": "code",
   "execution_count": null,
   "metadata": {
    "ExecuteTime": {
     "end_time": "2021-02-23T05:39:37.615535Z",
     "start_time": "2021-02-23T05:39:35.140399Z"
    }
   },
   "outputs": [],
   "source": [
    "score = int(input(\"Enter your score >\"))\n",
    "if score >= 90 :\n",
    "    print('참 잘했어요')\n",
    "    print('다음에도 기대할게요')\n",
    "else:\n",
    "    print('분발하세요')\n",
    "    \n",
    "print('점수를 입력받아  잘한 사람에게 메세지를 출력함')"
   ]
  },
  {
   "cell_type": "code",
   "execution_count": null,
   "metadata": {
    "ExecuteTime": {
     "end_time": "2021-02-23T06:13:47.590092Z",
     "start_time": "2021-02-23T06:13:45.574419Z"
    }
   },
   "outputs": [],
   "source": [
    "score = int(input('Enter your score : '))\n",
    "if 90<=score<=100:\n",
    "    grade ='A' # if문 블럭을 벗어나도 사용가능\n",
    "elif 80<= score <90:\n",
    "    grade = 'B'\n",
    "elif 70<= score <80:\n",
    "    grade = 'C'\n",
    "elif 60<= socre < 70:\n",
    "    grade = 'D'\n",
    "elif 0<=score<60:\n",
    "    grade = 'F'\n",
    "else :\n",
    "    grade = '유효하지 않는 점수'\n",
    "print('입력한 점수는 {}이고 {}등급'. format(score,grade))"
   ]
  },
  {
   "cell_type": "markdown",
   "metadata": {
    "ExecuteTime": {
     "end_time": "2021-02-23T06:14:03.301452Z",
     "start_time": "2021-02-23T06:14:03.298487Z"
    }
   },
   "source": [
    "## 2. 반복문"
   ]
  },
  {
   "cell_type": "markdown",
   "metadata": {},
   "source": [
    "### 2.1 for - in\n",
    "- for 변수 in 나열가능한자료 : <br>\n",
    "    반복할 문장1<br>\n",
    "    반복할 문장2<br>\n",
    "    ..<br>\n",
    "  (else):<br>\n",
    "    변수에 값이 할당되지 않은 경우 한번 실행할 문장<br>\n",
    "- else 구문은 선택사항<br>"
   ]
  },
  {
   "cell_type": "code",
   "execution_count": null,
   "metadata": {
    "ExecuteTime": {
     "end_time": "2021-02-23T06:17:07.142433Z",
     "start_time": "2021-02-23T06:17:07.138439Z"
    }
   },
   "outputs": [],
   "source": [
    "for i in range(10):\n",
    "    print(i, end='\\t')\n",
    "else:\n",
    "    print('DONE')"
   ]
  },
  {
   "cell_type": "markdown",
   "metadata": {},
   "source": [
    "### 2.2 while\n",
    "- while 조건: <br>\n",
    "    반복할 문장1 <br>\n",
    "    반복할 문장2 <br>\n",
    "    ....<br>\n",
    "  else:<br>\n",
    "      조건이 거짓일 경우 실행할 문장 \n",
    "- else 구문은 선택사항<br>\n",
    "- 무한 반복문에 빠지지 않도록 조건식이 바뀔수 있는 변수값을 수정하는 코드필요<br>"
   ]
  },
  {
   "cell_type": "code",
   "execution_count": null,
   "metadata": {
    "ExecuteTime": {
     "end_time": "2021-02-23T06:38:00.965169Z",
     "start_time": "2021-02-23T06:38:00.961178Z"
    }
   },
   "outputs": [],
   "source": [
    "i = 0\n",
    "while i<10:\n",
    "    print(i,end='\\t')\n",
    "    i +=1\n",
    "else:\n",
    "    print('i값이 {}이라서 빠져나감'.format(i))"
   ]
  },
  {
   "cell_type": "code",
   "execution_count": null,
   "metadata": {
    "ExecuteTime": {
     "end_time": "2021-02-23T06:38:51.438358Z",
     "start_time": "2021-02-23T06:38:51.433370Z"
    }
   },
   "outputs": [],
   "source": [
    "#1~100까지의 짝수의 합\n",
    "sum=0\n",
    "i=1\n",
    "while i<=100:\n",
    "    if i%2 == 0:\n",
    "        sum += i\n",
    "    i += 1\n",
    "else:\n",
    "    print(\"1부터 100까지 짝수의 합은 \",sum)"
   ]
  },
  {
   "cell_type": "markdown",
   "metadata": {},
   "source": [
    "### 2.3 break,continue"
   ]
  },
  {
   "cell_type": "code",
   "execution_count": null,
   "metadata": {
    "ExecuteTime": {
     "end_time": "2021-02-23T06:40:09.141623Z",
     "start_time": "2021-02-23T06:40:09.137633Z"
    }
   },
   "outputs": [],
   "source": [
    "num = 0\n",
    "while num<=10:\n",
    "    num +=1\n",
    "    if num==5:\n",
    "        continue; # 반복문의 조건으로 감\n",
    "    print(num,end=' ')"
   ]
  },
  {
   "cell_type": "code",
   "execution_count": null,
   "metadata": {
    "ExecuteTime": {
     "end_time": "2021-02-23T07:01:27.041324Z",
     "start_time": "2021-02-23T07:01:12.440760Z"
    }
   },
   "outputs": [],
   "source": [
    "# 숫자 찾기 게임\n",
    "'''\n",
    "1~ 100 사이의 숫자를 맞추는 프로그램을 제작하시오\n",
    "(프로그램 안에서 임의의 숫자가 랜덤하게 만들어지고, 숫자를 맞추도록 한다\n",
    "방법1. 숫자를 틀리면 up,down을 알려주고 숫자 맞추면 종료\n",
    "방법2. 숫자가 틀리면 min~max사이의 수라고 알려주고 숫자를 맞추면 종료)\n",
    "'''\n",
    "import random\n",
    "min=1\n",
    "max=100\n",
    "randomNum = random.randint(min,max)\n",
    "inputNum=0\n",
    "while True:\n",
    "    print(min,'~',max,'사이의 컴퓨터가 선택한 특정 수를 맞춰 보세요 : ')\n",
    "    inputNum=int(input())\n",
    "    if randomNum < inputNum:\n",
    "        max = inputNum -1\n",
    "        print('당신이 입력한 수보다 작은 수예요(DOWN)')\n",
    "    elif inputNum < randomNum:\n",
    "        min = inputNum+1\n",
    "        print('당신이 입력한 수보다 큰 수예요(UP)')\n",
    "    else:\n",
    "        print('축하축하')\n",
    "        break;"
   ]
  },
  {
   "cell_type": "markdown",
   "metadata": {},
   "source": [
    "## 3. 중첩루프 : 반복문 안에 반복문\n",
    "- 2차원 이상의 데이터 구조의 모든 항목들을 처리하기 위해사용"
   ]
  },
  {
   "cell_type": "code",
   "execution_count": 1,
   "metadata": {
    "ExecuteTime": {
     "end_time": "2021-02-23T07:05:09.667528Z",
     "start_time": "2021-02-23T07:05:09.664533Z"
    }
   },
   "outputs": [
    {
     "name": "stdout",
     "output_type": "stream",
     "text": [
      "[[1, 2, 3, 4, 5], [10, 20, 30, 40], [11, 22, 33, 44]]\n"
     ]
    }
   ],
   "source": [
    "list_2d = [[1,2,3,4,5],[10,20,30,40],[11,22,33,44]]\n",
    "print(list_2d)"
   ]
  },
  {
   "cell_type": "code",
   "execution_count": 3,
   "metadata": {
    "ExecuteTime": {
     "end_time": "2021-02-23T07:07:53.917194Z",
     "start_time": "2021-02-23T07:07:53.912232Z"
    }
   },
   "outputs": [
    {
     "name": "stdout",
     "output_type": "stream",
     "text": [
      "0행0열 : 1\t0행1열 : 2\t0행2열 : 3\t0행3열 : 4\t0행4열 : 5\t\n",
      "1행0열 : 10\t1행1열 : 20\t1행2열 : 30\t1행3열 : 40\t\n",
      "2행0열 : 11\t2행1열 : 22\t2행2열 : 33\t2행3열 : 44\t\n"
     ]
    }
   ],
   "source": [
    "for i in range(len(list_2d)):\n",
    "    for j in range(len(list_2d[i])):\n",
    "        print('{}행{}열 : {}'.format(i,j,list_2d[i][j]),end='\\t')\n",
    "    print()"
   ]
  },
  {
   "cell_type": "code",
   "execution_count": 4,
   "metadata": {
    "ExecuteTime": {
     "end_time": "2021-02-23T07:09:34.164117Z",
     "start_time": "2021-02-23T07:09:34.160150Z"
    }
   },
   "outputs": [
    {
     "name": "stdout",
     "output_type": "stream",
     "text": [
      "0행 0열 : 1\t0행 1열 : 2\t0행 2열 : 3\t0행 3열 : 4\t0행 4열 : 5\t\n",
      "1행 0열 : 10\t1행 1열 : 20\t1행 2열 : 30\t1행 3열 : 40\t\n",
      "2행 0열 : 11\t2행 1열 : 22\t2행 2열 : 33\t2행 3열 : 44\t\n"
     ]
    }
   ],
   "source": [
    "for i, row in enumerate(list_2d):\n",
    "    for j, data in enumerate(row):\n",
    "        print('{}행 {}열 : {}'.format(i,j,data),end='\\t')\n",
    "    print()"
   ]
  },
  {
   "cell_type": "code",
   "execution_count": 17,
   "metadata": {
    "ExecuteTime": {
     "end_time": "2021-02-23T07:16:29.966277Z",
     "start_time": "2021-02-23T07:16:29.959322Z"
    }
   },
   "outputs": [
    {
     "name": "stdout",
     "output_type": "stream",
     "text": [
      "2 * 1 =  2\t3 * 1 =  3\t4 * 1 =  4\t5 * 1 =  5\t6 * 1 =  6\t7 * 1 =  7\t8 * 1 =  8\t9 * 1 =  9\t\n",
      "2 * 2 =  4\t3 * 2 =  6\t4 * 2 =  8\t5 * 2 = 10\t6 * 2 = 12\t7 * 2 = 14\t8 * 2 = 16\t9 * 2 = 18\t\n",
      "2 * 3 =  6\t3 * 3 =  9\t4 * 3 = 12\t5 * 3 = 15\t6 * 3 = 18\t7 * 3 = 21\t8 * 3 = 24\t9 * 3 = 27\t\n",
      "2 * 4 =  8\t3 * 4 = 12\t4 * 4 = 16\t5 * 4 = 20\t6 * 4 = 24\t7 * 4 = 28\t8 * 4 = 32\t9 * 4 = 36\t\n",
      "2 * 5 = 10\t3 * 5 = 15\t4 * 5 = 20\t5 * 5 = 25\t6 * 5 = 30\t7 * 5 = 35\t8 * 5 = 40\t9 * 5 = 45\t\n",
      "2 * 6 = 12\t3 * 6 = 18\t4 * 6 = 24\t5 * 6 = 30\t6 * 6 = 36\t7 * 6 = 42\t8 * 6 = 48\t9 * 6 = 54\t\n",
      "2 * 7 = 14\t3 * 7 = 21\t4 * 7 = 28\t5 * 7 = 35\t6 * 7 = 42\t7 * 7 = 49\t8 * 7 = 56\t9 * 7 = 63\t\n",
      "2 * 8 = 16\t3 * 8 = 24\t4 * 8 = 32\t5 * 8 = 40\t6 * 8 = 48\t7 * 8 = 56\t8 * 8 = 64\t9 * 8 = 72\t\n",
      "2 * 9 = 18\t3 * 9 = 27\t4 * 9 = 36\t5 * 9 = 45\t6 * 9 = 54\t7 * 9 = 63\t8 * 9 = 72\t9 * 9 = 81\t\n"
     ]
    }
   ],
   "source": [
    "# 2~9단까지 구구단 전체를 출력하시오\n",
    "'''\n",
    "2*1 =2 3*1=3 4*1=4 ... 9*1=9\n",
    "2*2 =4 3*2=6 4*2=8 ... 9*2=18\n",
    "'''\n",
    "for i in range(1,10):\n",
    "    for j in range(2,10):\n",
    "        print('{} * {} = {:2}'.format(j,i,i*j),end='\\t')\n",
    "    print()\n"
   ]
  },
  {
   "cell_type": "markdown",
   "metadata": {},
   "source": [
    "## 4. 중첩루프 탈출"
   ]
  },
  {
   "cell_type": "code",
   "execution_count": 18,
   "metadata": {
    "ExecuteTime": {
     "end_time": "2021-02-23T07:19:45.055275Z",
     "start_time": "2021-02-23T07:19:45.038324Z"
    }
   },
   "outputs": [
    {
     "name": "stdout",
     "output_type": "stream",
     "text": [
      "0 1\n",
      "0 2\n",
      "2 1\n"
     ]
    }
   ],
   "source": [
    "# 이 예제에서 break는 안쪽 반복문을 빠져나옴  \n",
    "for a in range(3):       # a = 0,1,2\n",
    "    for b in range(1,3): # b = 1,2\n",
    "        if a==b:\n",
    "            break;\n",
    "        print(a,b)"
   ]
  },
  {
   "cell_type": "code",
   "execution_count": 21,
   "metadata": {
    "ExecuteTime": {
     "end_time": "2021-02-23T07:37:37.058982Z",
     "start_time": "2021-02-23T07:37:37.053995Z"
    }
   },
   "outputs": [
    {
     "name": "stdout",
     "output_type": "stream",
     "text": [
      "0 1\n",
      "0 2\n"
     ]
    }
   ],
   "source": [
    "# break를 만나면 바깥쪽 반복문까지 탈출; 방법1. 플래그 이용\n",
    "break_out_flag = False\n",
    "for a in range(3):\n",
    "    for b in range(1,3):\n",
    "        if a== b:\n",
    "            break_out_flag=True\n",
    "            break;\n",
    "        print(a,b)\n",
    "    if break_out_flag:\n",
    "        break;"
   ]
  },
  {
   "cell_type": "code",
   "execution_count": null,
   "metadata": {},
   "outputs": [],
   "source": [
    "# break를 만나면 바깥쪽 반복문까지 탈출; 방법2. Exception이용"
   ]
  },
  {
   "cell_type": "code",
   "execution_count": 22,
   "metadata": {
    "ExecuteTime": {
     "end_time": "2021-02-23T07:43:10.258058Z",
     "start_time": "2021-02-23T07:43:10.254088Z"
    }
   },
   "outputs": [],
   "source": [
    "class BreakOutLoop(Exception):\n",
    "    pass # 아무것도 추가하지 않겠다"
   ]
  },
  {
   "cell_type": "code",
   "execution_count": 24,
   "metadata": {
    "ExecuteTime": {
     "end_time": "2021-02-23T07:44:21.489920Z",
     "start_time": "2021-02-23T07:44:21.485951Z"
    }
   },
   "outputs": [
    {
     "name": "stdout",
     "output_type": "stream",
     "text": [
      "0 1\n",
      "0 2\n"
     ]
    }
   ],
   "source": [
    "for a in range(3):\n",
    "    try:\n",
    "        for b in range(1,3):\n",
    "            if a == b:\n",
    "                raise BreakOutLoop\n",
    "            print(a,b)\n",
    "    except BreakOutLoop:\n",
    "        break;"
   ]
  },
  {
   "cell_type": "code",
   "execution_count": 26,
   "metadata": {
    "ExecuteTime": {
     "end_time": "2021-02-23T07:46:27.722922Z",
     "start_time": "2021-02-23T07:46:27.717955Z"
    }
   },
   "outputs": [
    {
     "name": "stdout",
     "output_type": "stream",
     "text": [
      "0 1\n",
      "0 2\n",
      "a와 b가 같아지면 break\n"
     ]
    }
   ],
   "source": [
    "try:\n",
    "    for a in range(3):\n",
    "        for b in range(1,3):\n",
    "            if a == b :\n",
    "                raise BreakOutLoop\n",
    "            print(a,b)\n",
    "except BreakOutLoop:\n",
    "    print('a와 b가 같아지면 break')"
   ]
  },
  {
   "cell_type": "markdown",
   "metadata": {},
   "source": [
    "## 연습문제"
   ]
  },
  {
   "cell_type": "code",
   "execution_count": 29,
   "metadata": {
    "ExecuteTime": {
     "end_time": "2021-02-23T07:50:32.727289Z",
     "start_time": "2021-02-23T07:50:31.524521Z"
    }
   },
   "outputs": [
    {
     "name": "stdout",
     "output_type": "stream",
     "text": [
      "숫자를 입력하세요4\n",
      "짝수입니다.\n"
     ]
    }
   ],
   "source": [
    "#1.\n",
    "num=0\n",
    "while True:\n",
    "    num = int(input('숫자를 입력하세요'))\n",
    "    if num<1:\n",
    "        print('양의 정수를 입력하세요')\n",
    "    elif num%2==0:\n",
    "        print('짝수입니다.')\n",
    "        break;\n",
    "    elif num%2==1:\n",
    "        print('홀수입니다.')\n",
    "        break;"
   ]
  },
  {
   "cell_type": "code",
   "execution_count": 56,
   "metadata": {
    "ExecuteTime": {
     "end_time": "2021-02-23T08:02:04.984997Z",
     "start_time": "2021-02-23T08:02:04.981008Z"
    }
   },
   "outputs": [
    {
     "name": "stdout",
     "output_type": "stream",
     "text": [
      "408\n"
     ]
    }
   ],
   "source": [
    "#2.\n",
    "sum=0\n",
    "for i in range(1,51):\n",
    "    if(i%3==0):\n",
    "        sum +=i\n",
    "    else:\n",
    "        pass\n",
    "print(sum)"
   ]
  },
  {
   "cell_type": "code",
   "execution_count": 53,
   "metadata": {
    "ExecuteTime": {
     "end_time": "2021-02-23T08:00:00.260570Z",
     "start_time": "2021-02-23T08:00:00.253608Z"
    }
   },
   "outputs": [
    {
     "name": "stdout",
     "output_type": "stream",
     "text": [
      "*****\n",
      "*****\n",
      "*****\n",
      "*****\n",
      "*****\n",
      "\n",
      "*\n",
      "**\n",
      "***\n",
      "****\n",
      "*****\n",
      "\n",
      "*****\n",
      "****\n",
      "***\n",
      "**\n",
      "*\n",
      "\n",
      "    *\n",
      "   **\n",
      "  ***\n",
      " ****\n",
      "*****\n",
      "\n",
      "*****\n",
      " ****\n",
      "  ***\n",
      "   **\n",
      "    *\n"
     ]
    }
   ],
   "source": [
    "#3\n",
    "\n",
    "#3.a\n",
    "for i in range(5):\n",
    "    print('*'*5)\n",
    "print()\n",
    "\n",
    "#3.b\n",
    "for i in range(1,6):\n",
    "    print('*'*i)\n",
    "print()\n",
    "\n",
    "#3.c\n",
    "for i in range(5,0,-1):\n",
    "    print('*'*i)\n",
    "print()\n",
    "\n",
    "#3.d\n",
    "for i in range(1,6):\n",
    "    print('{:>5}'.format('*'*i))\n",
    "print()    \n",
    "#3.e\n",
    "for i in range(5,0,-1):\n",
    "    print('{:>5}'.format('*'*i))"
   ]
  },
  {
   "cell_type": "markdown",
   "metadata": {},
   "source": [
    "## 연습문제"
   ]
  },
  {
   "cell_type": "code",
   "execution_count": 55,
   "metadata": {
    "ExecuteTime": {
     "end_time": "2021-02-23T08:01:44.025409Z",
     "start_time": "2021-02-23T08:01:44.021454Z"
    }
   },
   "outputs": [
    {
     "name": "stdout",
     "output_type": "stream",
     "text": [
      "165\n"
     ]
    }
   ],
   "source": [
    "#1\n",
    "sum = 0\n",
    "for i in range(1,31):\n",
    "    if i%3==0:\n",
    "        sum=sum+i\n",
    "    else:\n",
    "        pass\n",
    "print(sum)"
   ]
  },
  {
   "cell_type": "code",
   "execution_count": 57,
   "metadata": {
    "ExecuteTime": {
     "end_time": "2021-02-23T08:03:06.376943Z",
     "start_time": "2021-02-23T08:03:06.361321Z"
    }
   },
   "outputs": [
    {
     "name": "stdout",
     "output_type": "stream",
     "text": [
      "13579"
     ]
    }
   ],
   "source": [
    "#2\n",
    "num=0\n",
    "while num <=10:\n",
    "    if num%2==1:\n",
    "        print(num,end='')\n",
    "    num +=1"
   ]
  },
  {
   "cell_type": "code",
   "execution_count": 58,
   "metadata": {
    "ExecuteTime": {
     "end_time": "2021-02-23T08:04:19.441784Z",
     "start_time": "2021-02-23T08:04:19.436796Z"
    }
   },
   "outputs": [
    {
     "name": "stdout",
     "output_type": "stream",
     "text": [
      "123\n",
      "4567\n",
      "89\n"
     ]
    }
   ],
   "source": [
    "#3\n",
    "list2d =[[1,2,3],[4,5,6,7],[8,9]]\n",
    "for row in list2d:\n",
    "    for data in row:\n",
    "        print(data,end='')\n",
    "    print()"
   ]
  },
  {
   "cell_type": "code",
   "execution_count": 60,
   "metadata": {
    "ExecuteTime": {
     "end_time": "2021-02-23T08:06:43.440896Z",
     "start_time": "2021-02-23T08:06:43.435909Z"
    }
   },
   "outputs": [
    {
     "name": "stdout",
     "output_type": "stream",
     "text": [
      "0 apple\n",
      "1 banana\n"
     ]
    }
   ],
   "source": [
    "#4\n",
    "colors={'red':'apple','yellow':'banana'}\n",
    "for i,v in enumerate(colors.values()):\n",
    "    print(i,v)"
   ]
  },
  {
   "cell_type": "code",
   "execution_count": 61,
   "metadata": {
    "ExecuteTime": {
     "end_time": "2021-02-23T08:07:22.417647Z",
     "start_time": "2021-02-23T08:07:22.412658Z"
    }
   },
   "outputs": [
    {
     "name": "stdout",
     "output_type": "stream",
     "text": [
      "1 0\n"
     ]
    }
   ],
   "source": [
    "#5\n",
    "for i in range(0,2):\n",
    "    for j in range(0,2):\n",
    "        if i==j:\n",
    "            break\n",
    "        print(i,j)"
   ]
  },
  {
   "cell_type": "code",
   "execution_count": 62,
   "metadata": {
    "ExecuteTime": {
     "end_time": "2021-02-23T08:08:36.593102Z",
     "start_time": "2021-02-23T08:08:36.589139Z"
    }
   },
   "outputs": [
    {
     "name": "stdout",
     "output_type": "stream",
     "text": [
      "0 0\n",
      "1 0\n",
      "1 1\n"
     ]
    }
   ],
   "source": [
    "#6\n",
    "for i in range(0,2):\n",
    "    for j in range(0,2):\n",
    "        print(i,j)\n",
    "        if i==j:\n",
    "            break"
   ]
  },
  {
   "cell_type": "code",
   "execution_count": 63,
   "metadata": {
    "ExecuteTime": {
     "end_time": "2021-02-23T08:10:05.273141Z",
     "start_time": "2021-02-23T08:10:05.269151Z"
    }
   },
   "outputs": [
    {
     "name": "stdout",
     "output_type": "stream",
     "text": [
      "3579"
     ]
    }
   ],
   "source": [
    "#7\n",
    "L=[3,4,5,6,7,8,9,10]\n",
    "for i, data in enumerate(L):\n",
    "    if(i%2==0):\n",
    "        print(data,end='')\n",
    "# i는 인덱스"
   ]
  },
  {
   "cell_type": "code",
   "execution_count": null,
   "metadata": {},
   "outputs": [],
   "source": []
  }
 ],
 "metadata": {
  "kernelspec": {
   "display_name": "Python 3",
   "language": "python",
   "name": "python3"
  },
  "language_info": {
   "codemirror_mode": {
    "name": "ipython",
    "version": 3
   },
   "file_extension": ".py",
   "mimetype": "text/x-python",
   "name": "python",
   "nbconvert_exporter": "python",
   "pygments_lexer": "ipython3",
   "version": "3.8.5"
  },
  "toc": {
   "base_numbering": 1,
   "nav_menu": {},
   "number_sections": false,
   "sideBar": true,
   "skip_h1_title": false,
   "title_cell": "Table of Contents",
   "title_sidebar": "Contents",
   "toc_cell": false,
   "toc_position": {},
   "toc_section_display": true,
   "toc_window_display": false
  },
  "varInspector": {
   "cols": {
    "lenName": 16,
    "lenType": 16,
    "lenVar": 40
   },
   "kernels_config": {
    "python": {
     "delete_cmd_postfix": "",
     "delete_cmd_prefix": "del ",
     "library": "var_list.py",
     "varRefreshCmd": "print(var_dic_list())"
    },
    "r": {
     "delete_cmd_postfix": ") ",
     "delete_cmd_prefix": "rm(",
     "library": "var_list.r",
     "varRefreshCmd": "cat(var_dic_list()) "
    }
   },
   "types_to_exclude": [
    "module",
    "function",
    "builtin_function_or_method",
    "instance",
    "_Feature"
   ],
   "window_display": false
  }
 },
 "nbformat": 4,
 "nbformat_minor": 4
}
