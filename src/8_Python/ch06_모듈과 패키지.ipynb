{
 "cells": [
  {
   "cell_type": "markdown",
   "metadata": {},
   "source": [
    "# <font color='red'>ch06. 모듈과 패키지</font>"
   ]
  },
  {
   "cell_type": "markdown",
   "metadata": {},
   "source": [
    "## 1. 모듈 사용하기\n",
    "- 파이썬 모듈은 파이썬 정의와 문장을 담고 있는 파일(함수, 변수, 클래스가 있는 *.py파일)\n",
    "- 200여개의 파이썬 모듈이 파이썬 인터프리터에 포함"
   ]
  },
  {
   "cell_type": "code",
   "execution_count": null,
   "metadata": {
    "ExecuteTime": {
     "end_time": "2021-02-25T06:10:24.475842Z",
     "start_time": "2021-02-25T06:10:24.465848Z"
    }
   },
   "outputs": [],
   "source": [
    "# 1 .import 모듈명(패키지명) ; 모듈 안의 함수를 모두 사용할 수 있다.\n",
    "import time #time 모듈안 함수, 변수, 클래스 사용\n",
    "time.ctime()"
   ]
  },
  {
   "cell_type": "code",
   "execution_count": null,
   "metadata": {
    "ExecuteTime": {
     "end_time": "2021-02-25T06:10:24.609809Z",
     "start_time": "2021-02-25T06:10:24.477815Z"
    }
   },
   "outputs": [],
   "source": [
    "time.time() #unixtime(1970년이후 밀리세컨)"
   ]
  },
  {
   "cell_type": "code",
   "execution_count": null,
   "metadata": {
    "ExecuteTime": {
     "end_time": "2021-02-25T06:10:24.689267Z",
     "start_time": "2021-02-25T06:10:24.613799Z"
    }
   },
   "outputs": [],
   "source": [
    "del time # time 모듈을 메모리에서 unload"
   ]
  },
  {
   "cell_type": "code",
   "execution_count": null,
   "metadata": {
    "ExecuteTime": {
     "end_time": "2021-02-25T06:10:24.747873Z",
     "start_time": "2021-02-25T06:10:24.691262Z"
    }
   },
   "outputs": [],
   "source": [
    "# 2. from 모듈명 import 함수명\n",
    "#    from 패키지명 import 모듈명  (패키지는 디렉토리, 모듈은 .py파일)\n",
    "#    from 패키지명.모듈명 import 함수명\n",
    "from time import ctime\n",
    "ctime()"
   ]
  },
  {
   "cell_type": "code",
   "execution_count": null,
   "metadata": {
    "ExecuteTime": {
     "end_time": "2021-02-25T06:10:24.805682Z",
     "start_time": "2021-02-25T06:10:24.749843Z"
    }
   },
   "outputs": [],
   "source": [
    "del ctime # 메모리에 있는 ctime함수를 unload"
   ]
  },
  {
   "cell_type": "code",
   "execution_count": null,
   "metadata": {
    "ExecuteTime": {
     "end_time": "2021-02-25T06:10:24.874359Z",
     "start_time": "2021-02-25T06:10:24.806681Z"
    }
   },
   "outputs": [],
   "source": [
    "# 3. import 모듈명 as 별칭 : 모듈명을 메모리에 load하고 별칭으로 사용\n",
    "import time as t\n",
    "t.ctime()"
   ]
  },
  {
   "cell_type": "code",
   "execution_count": null,
   "metadata": {
    "ExecuteTime": {
     "end_time": "2021-02-25T06:10:24.940369Z",
     "start_time": "2021-02-25T06:10:24.878350Z"
    }
   },
   "outputs": [],
   "source": [
    "# 4. from 모듈명 import 함수명 as 별칭\n",
    "#    from 패키지명 import 모둘명 as 별칭\n",
    "#    from 패키지명.모듈명 import 함수명 as 별칭\n",
    "from time import ctime as ct\n",
    "ct()"
   ]
  },
  {
   "cell_type": "code",
   "execution_count": null,
   "metadata": {
    "ExecuteTime": {
     "end_time": "2021-02-25T06:10:25.013895Z",
     "start_time": "2021-02-25T06:10:24.949347Z"
    }
   },
   "outputs": [],
   "source": [
    "import time"
   ]
  },
  {
   "cell_type": "code",
   "execution_count": null,
   "metadata": {
    "ExecuteTime": {
     "end_time": "2021-02-25T06:10:25.074444Z",
     "start_time": "2021-02-25T06:10:25.015890Z"
    }
   },
   "outputs": [],
   "source": [
    "dir(time) # time내 변수, 함수, 크래스등을 list로 볼 수 있음"
   ]
  },
  {
   "cell_type": "markdown",
   "metadata": {},
   "source": [
    "<pre>\n",
    "import A - A모듈을 가져옴 \n",
    "import A as B - A모듈을 B이름으로 가져옴\n",
    "from A import B - A 모듈안에 B함수(A패키지안에 B모듈)을 가져옴\n",
    "from A import B as C -  A 모듈안에 B함수(A패키지안에 B모듈)을 C이름으로 가져옴\n",
    "from A.B import C - A패키지안에 B모듈안에 C함수를 가져옴\n",
    "from A.B import C as D - A패키지안에 B모듈안에 C함수를 D이름으로 가져옴\n",
    "<pre>"
   ]
  },
  {
   "cell_type": "markdown",
   "metadata": {
    "ExecuteTime": {
     "end_time": "2021-02-25T05:33:16.207337Z",
     "start_time": "2021-02-25T05:33:16.203346Z"
    }
   },
   "source": [
    "## 2. 사용자 정의 모듈\n",
    "- 함수나 클래스 등을 파이썬 파일에 저장해서 모듈을 만들고 재사용 할 수 있음\n",
    "- 모듈을 가져오는 순서 (1) 내장 모듈 (2) sys.path 변수에 저장된 경로"
   ]
  },
  {
   "cell_type": "code",
   "execution_count": null,
   "metadata": {
    "ExecuteTime": {
     "end_time": "2021-02-25T06:10:25.140155Z",
     "start_time": "2021-02-25T06:10:25.075421Z"
    }
   },
   "outputs": [],
   "source": [
    "import sys \n",
    "sys.path"
   ]
  },
  {
   "cell_type": "code",
   "execution_count": null,
   "metadata": {
    "ExecuteTime": {
     "end_time": "2021-02-25T06:10:25.210086Z",
     "start_time": "2021-02-25T06:10:25.141151Z"
    }
   },
   "outputs": [],
   "source": [
    "sys.path.append('D:/kks/src/pylib')\n",
    "sys.path"
   ]
  },
  {
   "cell_type": "code",
   "execution_count": null,
   "metadata": {
    "ExecuteTime": {
     "end_time": "2021-02-25T06:10:25.284506Z",
     "start_time": "2021-02-25T06:10:25.212056Z"
    }
   },
   "outputs": [],
   "source": [
    "import fibonacci"
   ]
  },
  {
   "cell_type": "code",
   "execution_count": null,
   "metadata": {
    "ExecuteTime": {
     "end_time": "2021-02-25T06:10:25.363945Z",
     "start_time": "2021-02-25T06:10:25.285482Z"
    }
   },
   "outputs": [],
   "source": [
    "# 커널을 재시작 했다면\n",
    "import sys\n",
    "sys.path.append('D:/kks/src/pylib')\n",
    "import fibonacci"
   ]
  },
  {
   "cell_type": "code",
   "execution_count": null,
   "metadata": {
    "ExecuteTime": {
     "end_time": "2021-02-25T06:10:25.450032Z",
     "start_time": "2021-02-25T06:10:25.364941Z"
    }
   },
   "outputs": [],
   "source": [
    "fibonacci.fibo_print(100)"
   ]
  },
  {
   "cell_type": "code",
   "execution_count": null,
   "metadata": {
    "ExecuteTime": {
     "end_time": "2021-02-25T06:10:25.517876Z",
     "start_time": "2021-02-25T06:10:25.451008Z"
    }
   },
   "outputs": [],
   "source": [
    "temp = fibonacci.fibo_return(200)\n",
    "temp"
   ]
  },
  {
   "cell_type": "code",
   "execution_count": null,
   "metadata": {
    "ExecuteTime": {
     "end_time": "2021-02-25T06:10:25.583963Z",
     "start_time": "2021-02-25T06:10:25.518873Z"
    }
   },
   "outputs": [],
   "source": [
    "del fibonacci"
   ]
  },
  {
   "cell_type": "code",
   "execution_count": null,
   "metadata": {
    "ExecuteTime": {
     "end_time": "2021-02-25T06:10:25.673491Z",
     "start_time": "2021-02-25T06:10:25.584960Z"
    }
   },
   "outputs": [],
   "source": [
    "import fibonacci as fibo"
   ]
  },
  {
   "cell_type": "code",
   "execution_count": null,
   "metadata": {
    "ExecuteTime": {
     "end_time": "2021-02-25T06:10:25.741719Z",
     "start_time": "2021-02-25T06:10:25.674489Z"
    }
   },
   "outputs": [],
   "source": [
    "fibo.fibo_print(200)"
   ]
  },
  {
   "cell_type": "code",
   "execution_count": null,
   "metadata": {
    "ExecuteTime": {
     "end_time": "2021-02-25T06:10:25.807849Z",
     "start_time": "2021-02-25T06:10:25.742715Z"
    }
   },
   "outputs": [],
   "source": [
    "del fibo"
   ]
  },
  {
   "cell_type": "code",
   "execution_count": null,
   "metadata": {
    "ExecuteTime": {
     "end_time": "2021-02-25T06:10:25.874081Z",
     "start_time": "2021-02-25T06:10:25.809823Z"
    }
   },
   "outputs": [],
   "source": [
    "from fibonacci import fibo_print, fibo_return\n",
    "fibo_print(300)"
   ]
  },
  {
   "cell_type": "code",
   "execution_count": null,
   "metadata": {
    "ExecuteTime": {
     "end_time": "2021-02-25T06:10:25.941479Z",
     "start_time": "2021-02-25T06:10:25.876067Z"
    }
   },
   "outputs": [],
   "source": [
    "from fibonacci import fibo_print as fibo_p\n",
    "fibo_p(300)"
   ]
  },
  {
   "cell_type": "code",
   "execution_count": null,
   "metadata": {
    "ExecuteTime": {
     "end_time": "2021-02-25T06:10:26.023810Z",
     "start_time": "2021-02-25T06:10:25.944460Z"
    }
   },
   "outputs": [],
   "source": [
    "import sys\n",
    "sys.path.append('D:/kks/src/pylib')\n",
    "import fibonacci"
   ]
  },
  {
   "cell_type": "code",
   "execution_count": null,
   "metadata": {
    "ExecuteTime": {
     "end_time": "2021-02-25T06:12:37.025764Z",
     "start_time": "2021-02-25T06:12:37.018757Z"
    }
   },
   "outputs": [],
   "source": [
    "from importlib import reload # reload : 패키지나 모듈을 다시 load 시키는 함수\n",
    "reload(fibonacci)"
   ]
  },
  {
   "cell_type": "code",
   "execution_count": null,
   "metadata": {
    "ExecuteTime": {
     "end_time": "2021-02-25T06:13:26.415109Z",
     "start_time": "2021-02-25T06:13:26.338500Z"
    }
   },
   "outputs": [],
   "source": [
    "!python D:/kks/src/pylib/fibonacci.py 500"
   ]
  },
  {
   "cell_type": "code",
   "execution_count": null,
   "metadata": {
    "ExecuteTime": {
     "end_time": "2021-02-25T06:16:03.557938Z",
     "start_time": "2021-02-25T06:16:03.449994Z"
    }
   },
   "outputs": [],
   "source": [
    "# 직접 컴파일된 파일을 가져와서 직접 사용하는 방법 \n",
    "import py_compile\n",
    "py_compile.compile('D:/kks/src/pylib/fibonacci.py')"
   ]
  },
  {
   "cell_type": "code",
   "execution_count": null,
   "metadata": {
    "ExecuteTime": {
     "end_time": "2021-02-25T06:16:33.150203Z",
     "start_time": "2021-02-25T06:16:33.066106Z"
    }
   },
   "outputs": [],
   "source": [
    "!python -m py_compile \"D:/kks/src/pylib/fibonacci.py\""
   ]
  },
  {
   "cell_type": "code",
   "execution_count": null,
   "metadata": {
    "ExecuteTime": {
     "end_time": "2021-02-25T06:17:01.221188Z",
     "start_time": "2021-02-25T06:17:01.153369Z"
    }
   },
   "outputs": [],
   "source": [
    "! python D:/kks/src/pylib/__pycache__/fibonacci.cpython-38.pyc 1000"
   ]
  },
  {
   "cell_type": "markdown",
   "metadata": {
    "ExecuteTime": {
     "end_time": "2021-02-25T06:45:01.223997Z",
     "start_time": "2021-02-25T06:45:01.221017Z"
    }
   },
   "source": [
    "## 3. 패키지\n",
    "- 모듈이름이 A.B라면 A라는 패키지 안에 B라는 서브 모듈\n",
    "- 다중모듈패키지 ex.넘파이,.."
   ]
  },
  {
   "cell_type": "code",
   "execution_count": null,
   "metadata": {
    "ExecuteTime": {
     "end_time": "2021-02-25T07:07:59.229699Z",
     "start_time": "2021-02-25T07:07:59.225710Z"
    }
   },
   "outputs": [],
   "source": [
    "# 커널 재시작시 꼭 sys에 경로 추가\n",
    "import sys\n",
    "sys.path.append('D:/kks/src/pylib')"
   ]
  },
  {
   "cell_type": "code",
   "execution_count": null,
   "metadata": {},
   "outputs": [],
   "source": [
    "import sample_pac # 상위 패키를 import 한다고 하위 패키지 import 되지 않음"
   ]
  },
  {
   "cell_type": "code",
   "execution_count": null,
   "metadata": {
    "ExecuteTime": {
     "end_time": "2021-02-25T06:50:57.108102Z",
     "start_time": "2021-02-25T06:50:57.099101Z"
    }
   },
   "outputs": [],
   "source": [
    "import sample_pac.ab.a"
   ]
  },
  {
   "cell_type": "code",
   "execution_count": null,
   "metadata": {
    "ExecuteTime": {
     "end_time": "2021-02-25T06:51:12.063098Z",
     "start_time": "2021-02-25T06:51:12.059108Z"
    }
   },
   "outputs": [],
   "source": [
    "sample_pac.ab.a.hello()"
   ]
  },
  {
   "cell_type": "code",
   "execution_count": null,
   "metadata": {
    "ExecuteTime": {
     "end_time": "2021-02-25T06:51:42.534814Z",
     "start_time": "2021-02-25T06:51:42.530852Z"
    }
   },
   "outputs": [],
   "source": [
    "# a로 활용\n",
    "from sample_pac.ab import a"
   ]
  },
  {
   "cell_type": "code",
   "execution_count": null,
   "metadata": {
    "ExecuteTime": {
     "end_time": "2021-02-25T06:51:45.902520Z",
     "start_time": "2021-02-25T06:51:45.898531Z"
    }
   },
   "outputs": [],
   "source": [
    "a.hello()"
   ]
  },
  {
   "cell_type": "code",
   "execution_count": null,
   "metadata": {
    "ExecuteTime": {
     "end_time": "2021-02-25T06:52:04.902544Z",
     "start_time": "2021-02-25T06:52:04.898553Z"
    }
   },
   "outputs": [],
   "source": [
    "# 함수만 활용\n",
    "from sample_pac.ab.a import hello"
   ]
  },
  {
   "cell_type": "code",
   "execution_count": null,
   "metadata": {
    "ExecuteTime": {
     "end_time": "2021-02-25T06:52:07.950605Z",
     "start_time": "2021-02-25T06:52:07.946607Z"
    }
   },
   "outputs": [],
   "source": [
    "hello()"
   ]
  },
  {
   "cell_type": "code",
   "execution_count": null,
   "metadata": {
    "ExecuteTime": {
     "end_time": "2021-02-25T06:53:37.687277Z",
     "start_time": "2021-02-25T06:53:37.683285Z"
    }
   },
   "outputs": [],
   "source": [
    "from sample_pac.ab import b"
   ]
  },
  {
   "cell_type": "code",
   "execution_count": null,
   "metadata": {
    "ExecuteTime": {
     "end_time": "2021-02-25T06:53:42.151420Z",
     "start_time": "2021-02-25T06:53:42.147461Z"
    }
   },
   "outputs": [],
   "source": [
    "b.world()"
   ]
  },
  {
   "cell_type": "code",
   "execution_count": null,
   "metadata": {
    "ExecuteTime": {
     "end_time": "2021-02-25T06:59:37.762737Z",
     "start_time": "2021-02-25T06:59:37.753771Z"
    }
   },
   "outputs": [],
   "source": [
    "# sample_pac만 로드해서 하위 패키지 a,b사용\n",
    "# __init__.py에 __all__ 문장 필요\n",
    "from sample_pac.ab import *"
   ]
  },
  {
   "cell_type": "code",
   "execution_count": null,
   "metadata": {
    "ExecuteTime": {
     "end_time": "2021-02-25T06:59:47.262173Z",
     "start_time": "2021-02-25T06:59:47.258209Z"
    }
   },
   "outputs": [],
   "source": [
    "a.hello()\n",
    "b.world()"
   ]
  },
  {
   "cell_type": "code",
   "execution_count": null,
   "metadata": {
    "ExecuteTime": {
     "end_time": "2021-02-25T07:08:02.587826Z",
     "start_time": "2021-02-25T07:08:02.577832Z"
    }
   },
   "outputs": [],
   "source": [
    "from sample_pac.cd import c"
   ]
  },
  {
   "cell_type": "code",
   "execution_count": null,
   "metadata": {
    "ExecuteTime": {
     "end_time": "2021-02-25T07:09:28.077517Z",
     "start_time": "2021-02-25T07:09:28.074525Z"
    }
   },
   "outputs": [],
   "source": [
    "c.nice()"
   ]
  },
  {
   "cell_type": "code",
   "execution_count": null,
   "metadata": {
    "ExecuteTime": {
     "end_time": "2021-02-25T07:41:30.923531Z",
     "start_time": "2021-02-25T07:41:30.907908Z"
    }
   },
   "outputs": [],
   "source": [
    "## 특수속성들\n",
    "#__init__ - 초기화 메소드. 패키지로 인식되게 해준다.\n",
    "#__all__  - import할 수 있는 모듈을 정의\n",
    "#__path__ - 절대경로의 변경\n",
    "#__file__ - 현재 수행중인 코드를 담고있는 파일의 위치한 path를 알려줌"
   ]
  },
  {
   "cell_type": "code",
   "execution_count": null,
   "metadata": {
    "ExecuteTime": {
     "end_time": "2021-02-25T07:41:44.522729Z",
     "start_time": "2021-02-25T07:41:44.513733Z"
    }
   },
   "outputs": [],
   "source": [
    "from mypkg import foo"
   ]
  },
  {
   "cell_type": "code",
   "execution_count": null,
   "metadata": {
    "ExecuteTime": {
     "end_time": "2021-02-25T07:41:58.140314Z",
     "start_time": "2021-02-25T07:41:58.137320Z"
    }
   },
   "outputs": [],
   "source": [
    "foo.foo_hello()"
   ]
  },
  {
   "cell_type": "markdown",
   "metadata": {},
   "source": [
    "## 4. 패키지 설치 및 삭제"
   ]
  },
  {
   "cell_type": "code",
   "execution_count": null,
   "metadata": {
    "ExecuteTime": {
     "end_time": "2021-02-25T07:57:38.243144Z",
     "start_time": "2021-02-25T07:57:36.392111Z"
    }
   },
   "outputs": [],
   "source": [
    "#패키지 설치\n",
    "!pip install objgraph"
   ]
  },
  {
   "cell_type": "code",
   "execution_count": 1,
   "metadata": {
    "ExecuteTime": {
     "end_time": "2021-02-25T08:06:38.918712Z",
     "start_time": "2021-02-25T08:06:38.782088Z"
    }
   },
   "outputs": [
    {
     "ename": "ModuleNotFoundError",
     "evalue": "No module named 'objgraph'",
     "output_type": "error",
     "traceback": [
      "\u001b[1;31m---------------------------------------------------------------------------\u001b[0m",
      "\u001b[1;31mModuleNotFoundError\u001b[0m                       Traceback (most recent call last)",
      "\u001b[1;32m<ipython-input-1-c14b5401869b>\u001b[0m in \u001b[0;36m<module>\u001b[1;34m\u001b[0m\n\u001b[1;32m----> 1\u001b[1;33m \u001b[1;32mimport\u001b[0m \u001b[0mobjgraph\u001b[0m\u001b[1;33m\u001b[0m\u001b[1;33m\u001b[0m\u001b[0m\n\u001b[0m\u001b[0;32m      2\u001b[0m \u001b[0mobjgraph\u001b[0m\u001b[1;33m.\u001b[0m\u001b[0mshow_most_common_types\u001b[0m\u001b[1;33m(\u001b[0m\u001b[1;33m)\u001b[0m \u001b[1;31m#메모리 사용량 출력\u001b[0m\u001b[1;33m\u001b[0m\u001b[1;33m\u001b[0m\u001b[0m\n",
      "\u001b[1;31mModuleNotFoundError\u001b[0m: No module named 'objgraph'"
     ]
    }
   ],
   "source": [
    "import objgraph\n",
    "objgraph.show_most_common_types() #메모리 사용량 출력"
   ]
  },
  {
   "cell_type": "code",
   "execution_count": null,
   "metadata": {},
   "outputs": [],
   "source": [
    "# pip unistall 패키지명 으로 삭제 가능"
   ]
  }
 ],
 "metadata": {
  "kernelspec": {
   "display_name": "Python 3",
   "language": "python",
   "name": "python3"
  },
  "language_info": {
   "codemirror_mode": {
    "name": "ipython",
    "version": 3
   },
   "file_extension": ".py",
   "mimetype": "text/x-python",
   "name": "python",
   "nbconvert_exporter": "python",
   "pygments_lexer": "ipython3",
   "version": "3.8.5"
  },
  "toc": {
   "base_numbering": 1,
   "nav_menu": {},
   "number_sections": false,
   "sideBar": true,
   "skip_h1_title": false,
   "title_cell": "Table of Contents",
   "title_sidebar": "Contents",
   "toc_cell": false,
   "toc_position": {},
   "toc_section_display": true,
   "toc_window_display": false
  },
  "varInspector": {
   "cols": {
    "lenName": 16,
    "lenType": 16,
    "lenVar": 40
   },
   "kernels_config": {
    "python": {
     "delete_cmd_postfix": "",
     "delete_cmd_prefix": "del ",
     "library": "var_list.py",
     "varRefreshCmd": "print(var_dic_list())"
    },
    "r": {
     "delete_cmd_postfix": ") ",
     "delete_cmd_prefix": "rm(",
     "library": "var_list.r",
     "varRefreshCmd": "cat(var_dic_list()) "
    }
   },
   "types_to_exclude": [
    "module",
    "function",
    "builtin_function_or_method",
    "instance",
    "_Feature"
   ],
   "window_display": false
  }
 },
 "nbformat": 4,
 "nbformat_minor": 4
}
