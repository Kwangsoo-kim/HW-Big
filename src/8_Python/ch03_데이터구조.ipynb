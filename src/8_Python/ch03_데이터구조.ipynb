{
 "cells": [
  {
   "cell_type": "markdown",
   "metadata": {},
   "source": [
    "<b><font size=\"5\" color=\"red\"> ch03. 데이터 구조 </font></b>"
   ]
  },
  {
   "cell_type": "markdown",
   "metadata": {},
   "source": [
    "### 1. 리스트"
   ]
  },
  {
   "cell_type": "markdown",
   "metadata": {},
   "source": [
    "#### 1.1 리스트 만들기\n",
    "- []를 이용해서 만들며, 여러개 값을 하나의 변수에 저장/관리할 수 있음\n",
    "- 인덱스 : 각 요소의 위치. 인덱스는 0부터 시작. 맨 마지막 인덱스는 -1\n",
    "- 슬라이싱 : 부분 데이터셋을 뽑아 내는 것. 인덱스를 이용해서 쓰기와 읽기를 지원"
   ]
  },
  {
   "cell_type": "code",
   "execution_count": 17,
   "metadata": {
    "ExecuteTime": {
     "end_time": "2021-02-22T07:41:16.517289Z",
     "start_time": "2021-02-22T07:41:16.512303Z"
    }
   },
   "outputs": [
    {
     "data": {
      "text/plain": [
       "list"
      ]
     },
     "execution_count": 17,
     "metadata": {},
     "output_type": "execute_result"
    }
   ],
   "source": [
    "fruits = ['banana','apple','orange','grape']\n",
    "type(fruits)"
   ]
  },
  {
   "cell_type": "code",
   "execution_count": 2,
   "metadata": {
    "ExecuteTime": {
     "end_time": "2021-02-22T07:21:30.019719Z",
     "start_time": "2021-02-22T07:21:30.015750Z"
    }
   },
   "outputs": [
    {
     "name": "stdout",
     "output_type": "stream",
     "text": [
      "['banana', 'apple', 'orange', 'grape']\n"
     ]
    }
   ],
   "source": [
    "print(fruits)"
   ]
  },
  {
   "cell_type": "code",
   "execution_count": 3,
   "metadata": {
    "ExecuteTime": {
     "end_time": "2021-02-22T07:21:38.035760Z",
     "start_time": "2021-02-22T07:21:38.031770Z"
    }
   },
   "outputs": [
    {
     "name": "stdout",
     "output_type": "stream",
     "text": [
      "banana\n"
     ]
    }
   ],
   "source": [
    "print(fruits[0])"
   ]
  },
  {
   "cell_type": "code",
   "execution_count": 12,
   "metadata": {
    "ExecuteTime": {
     "end_time": "2021-02-22T07:37:41.600343Z",
     "start_time": "2021-02-22T07:37:41.584720Z"
    }
   },
   "outputs": [
    {
     "data": {
      "text/plain": [
       "[0, 1, 2, 3, 4, 5]"
      ]
     },
     "execution_count": 12,
     "metadata": {},
     "output_type": "execute_result"
    }
   ],
   "source": [
    "list(range(6)) # range(from,to,by) ; from 부터 to 바로 앞까지 by씩 증가되면서 만들어진 list\n",
    "                    # from 생략시 0부터 / by 생략시 1씩"
   ]
  },
  {
   "cell_type": "code",
   "execution_count": 13,
   "metadata": {
    "ExecuteTime": {
     "end_time": "2021-02-22T07:38:26.636550Z",
     "start_time": "2021-02-22T07:38:26.632561Z"
    }
   },
   "outputs": [
    {
     "data": {
      "text/plain": [
       "[0, 2, 4, 6, 8]"
      ]
     },
     "execution_count": 13,
     "metadata": {},
     "output_type": "execute_result"
    }
   ],
   "source": [
    "list(range(0,10,2))"
   ]
  },
  {
   "cell_type": "code",
   "execution_count": 14,
   "metadata": {
    "ExecuteTime": {
     "end_time": "2021-02-22T07:39:14.268767Z",
     "start_time": "2021-02-22T07:39:14.263780Z"
    }
   },
   "outputs": [
    {
     "data": {
      "text/plain": [
       "[10, 8, 6, 4, 2, 0]"
      ]
     },
     "execution_count": 14,
     "metadata": {},
     "output_type": "execute_result"
    }
   ],
   "source": [
    "list(range(10,-1,-2))"
   ]
  },
  {
   "cell_type": "code",
   "execution_count": 15,
   "metadata": {
    "ExecuteTime": {
     "end_time": "2021-02-22T07:39:30.395776Z",
     "start_time": "2021-02-22T07:39:30.391782Z"
    }
   },
   "outputs": [
    {
     "name": "stdout",
     "output_type": "stream",
     "text": [
      "0\t1\t2\t3\t4\t"
     ]
    }
   ],
   "source": [
    "for i in range(5):\n",
    "    print(i, end='\\t')"
   ]
  },
  {
   "cell_type": "code",
   "execution_count": 19,
   "metadata": {
    "ExecuteTime": {
     "end_time": "2021-02-22T07:41:56.579718Z",
     "start_time": "2021-02-22T07:41:56.575760Z"
    }
   },
   "outputs": [
    {
     "name": "stdout",
     "output_type": "stream",
     "text": [
      "0번째 : banana\n",
      "1번째 : apple\n",
      "2번째 : orange\n",
      "3번째 : grape\n"
     ]
    }
   ],
   "source": [
    "# 0번째는 : banana..\n",
    "for idx in range(len(fruits)):\n",
    "    print('{}번째 : {}'.format(idx,fruits[idx]))"
   ]
  },
  {
   "cell_type": "code",
   "execution_count": 21,
   "metadata": {
    "ExecuteTime": {
     "end_time": "2021-02-22T07:45:29.317508Z",
     "start_time": "2021-02-22T07:45:29.312516Z"
    }
   },
   "outputs": [
    {
     "name": "stdout",
     "output_type": "stream",
     "text": [
      "[[1, 2, 3, 4, 5], [10, 20, 30, 40, 50], [1, 3, 5, 7, 9], [2, 4, 6, 8, 10]]\n"
     ]
    }
   ],
   "source": [
    "# 2차원 리스트\n",
    "numbers_2d = [[1,2,3,4,5,],[10,20,30,40,50],[1,3,5,7,9],[2,4,6,8,10]]\n",
    "print(numbers_2d)"
   ]
  },
  {
   "cell_type": "code",
   "execution_count": 23,
   "metadata": {
    "ExecuteTime": {
     "end_time": "2021-02-22T07:48:24.547859Z",
     "start_time": "2021-02-22T07:48:24.544891Z"
    }
   },
   "outputs": [
    {
     "name": "stdout",
     "output_type": "stream",
     "text": [
      "[10, 20, 30, 40, 50]\n",
      "10\n"
     ]
    }
   ],
   "source": [
    "print(numbers_2d[1])\n",
    "print(numbers_2d[1][0])"
   ]
  },
  {
   "cell_type": "code",
   "execution_count": 26,
   "metadata": {
    "ExecuteTime": {
     "end_time": "2021-02-22T07:50:39.340373Z",
     "start_time": "2021-02-22T07:50:39.336403Z"
    }
   },
   "outputs": [
    {
     "name": "stdout",
     "output_type": "stream",
     "text": [
      "1\t2\t3\t4\t5\t\n",
      "10\t20\t30\t40\t50\t\n",
      "1\t3\t5\t7\t9\t\n",
      "2\t4\t6\t8\t10\t\n"
     ]
    }
   ],
   "source": [
    "for row in numbers_2d:\n",
    "    for data in row:\n",
    "        print(data,end='\\t')\n",
    "    print()"
   ]
  },
  {
   "cell_type": "code",
   "execution_count": 29,
   "metadata": {
    "ExecuteTime": {
     "end_time": "2021-02-22T07:55:24.342174Z",
     "start_time": "2021-02-22T07:55:24.337187Z"
    }
   },
   "outputs": [
    {
     "name": "stdout",
     "output_type": "stream",
     "text": [
      "0행 0열의 데이터는  1\n",
      "0행 1열의 데이터는  2\n",
      "0행 2열의 데이터는  3\n",
      "0행 3열의 데이터는  4\n",
      "0행 4열의 데이터는  5\n",
      "1행 0열의 데이터는 10\n",
      "1행 1열의 데이터는 20\n",
      "1행 2열의 데이터는 30\n",
      "1행 3열의 데이터는 40\n",
      "1행 4열의 데이터는 50\n",
      "2행 0열의 데이터는  1\n",
      "2행 1열의 데이터는  3\n",
      "2행 2열의 데이터는  5\n",
      "2행 3열의 데이터는  7\n",
      "2행 4열의 데이터는  9\n",
      "3행 0열의 데이터는  2\n",
      "3행 1열의 데이터는  4\n",
      "3행 2열의 데이터는  6\n",
      "3행 3열의 데이터는  8\n",
      "3행 4열의 데이터는 10\n"
     ]
    }
   ],
   "source": [
    "for i in range(len(numbers_2d)):\n",
    "    for j in range(len(numbers_2d[i])):\n",
    "        print('{}행 {}열의 데이터는 {:2}'.format(i,j,numbers_2d[i][j]))"
   ]
  },
  {
   "cell_type": "markdown",
   "metadata": {
    "ExecuteTime": {
     "end_time": "2021-02-22T08:00:15.933002Z",
     "start_time": "2021-02-22T08:00:15.929021Z"
    }
   },
   "source": [
    "#### 1.2 기본 정보 조회"
   ]
  },
  {
   "cell_type": "code",
   "execution_count": 33,
   "metadata": {
    "ExecuteTime": {
     "end_time": "2021-02-22T08:03:29.532665Z",
     "start_time": "2021-02-22T08:03:29.528675Z"
    }
   },
   "outputs": [],
   "source": [
    "numbers = [1,2,3,4,5]\n",
    "numbers_2d = [[1000,2,3,4,5],[10,20,30,40,50],[1,3,5,7,9],[2,4,6,8,10]]"
   ]
  },
  {
   "cell_type": "code",
   "execution_count": 34,
   "metadata": {
    "ExecuteTime": {
     "end_time": "2021-02-22T08:03:35.523341Z",
     "start_time": "2021-02-22T08:03:35.520336Z"
    }
   },
   "outputs": [
    {
     "name": "stdout",
     "output_type": "stream",
     "text": [
      "numbers의 요소수 :  5\n",
      "numbers_2d의 요소수 :  4\n"
     ]
    }
   ],
   "source": [
    "# 요소 수\n",
    "print('numbers의 요소수 : ',len(numbers))\n",
    "print('numbers_2d의 요소수 : ',len(numbers_2d))"
   ]
  },
  {
   "cell_type": "code",
   "execution_count": 35,
   "metadata": {
    "ExecuteTime": {
     "end_time": "2021-02-22T08:05:25.677331Z",
     "start_time": "2021-02-22T08:05:25.672370Z"
    }
   },
   "outputs": [
    {
     "data": {
      "text/plain": [
       "(1, 5)"
      ]
     },
     "execution_count": 35,
     "metadata": {},
     "output_type": "execute_result"
    }
   ],
   "source": [
    "# 최소값 min, 최대값 max\n",
    "min(numbers),max(numbers)"
   ]
  },
  {
   "cell_type": "code",
   "execution_count": 36,
   "metadata": {
    "ExecuteTime": {
     "end_time": "2021-02-22T08:05:47.100870Z",
     "start_time": "2021-02-22T08:05:47.095884Z"
    }
   },
   "outputs": [
    {
     "data": {
      "text/plain": [
       "([1, 3, 5, 7, 9], [1000, 2, 3, 4, 5])"
      ]
     },
     "execution_count": 36,
     "metadata": {},
     "output_type": "execute_result"
    }
   ],
   "source": [
    "# 2차원 리스트에서는 max()함수는 부분 리스트 중 첫 요소가 가장 큰 값을 갖는 리스트를 반환\n",
    "#                  min()함수는 부분 리스트 중 첫 요소가 가장 작은 값을 갖는 리스트를 반환\n",
    "min(numbers_2d),max(numbers_2d)"
   ]
  },
  {
   "cell_type": "markdown",
   "metadata": {},
   "source": [
    "#### 1.3 요소추가"
   ]
  },
  {
   "cell_type": "code",
   "execution_count": 37,
   "metadata": {
    "ExecuteTime": {
     "end_time": "2021-02-22T08:09:36.702480Z",
     "start_time": "2021-02-22T08:09:36.700467Z"
    }
   },
   "outputs": [],
   "source": [
    "# + 두 리스트를 연결\n",
    "# * 리스트를 곱한 수 만큼 반복\n",
    "# append() 요소를 맨뒤에 추가\n",
    "# extend() 리스트를 요소별로 맨 뒤에 추가\n",
    "# insert() 지정된 index 위치에 삽입"
   ]
  },
  {
   "cell_type": "code",
   "execution_count": 38,
   "metadata": {
    "ExecuteTime": {
     "end_time": "2021-02-22T08:10:01.294807Z",
     "start_time": "2021-02-22T08:10:01.289820Z"
    }
   },
   "outputs": [
    {
     "data": {
      "text/plain": [
       "[1, 2, 3, 4, 5, 1, 2, 3, 4, 5]"
      ]
     },
     "execution_count": 38,
     "metadata": {},
     "output_type": "execute_result"
    }
   ],
   "source": [
    "numbers = [1,2,3,4,5]\n",
    "numbers = numbers + numbers # 리스트 연결\n",
    "numbers"
   ]
  },
  {
   "cell_type": "code",
   "execution_count": 39,
   "metadata": {
    "ExecuteTime": {
     "end_time": "2021-02-22T08:10:38.797130Z",
     "start_time": "2021-02-22T08:10:38.793128Z"
    }
   },
   "outputs": [
    {
     "name": "stdout",
     "output_type": "stream",
     "text": [
      "[1, 2, 3, 4, 5, 1, 2, 3, 4, 5, 1, 2, 3, 4, 5]\n"
     ]
    }
   ],
   "source": [
    "numbers = [1,2,3,4,5]\n",
    "print(numbers*3) # 반복"
   ]
  },
  {
   "cell_type": "code",
   "execution_count": 40,
   "metadata": {
    "ExecuteTime": {
     "end_time": "2021-02-22T08:11:51.253367Z",
     "start_time": "2021-02-22T08:11:51.248380Z"
    }
   },
   "outputs": [
    {
     "data": {
      "text/plain": [
       "[1, 2, 3, 4]"
      ]
     },
     "execution_count": 40,
     "metadata": {},
     "output_type": "execute_result"
    }
   ],
   "source": [
    "# append()함수 이용\n",
    "# 요소의 맨뒤에 추가 \n",
    "numbers =[1,2,3]\n",
    "numbers.append(4)\n",
    "numbers"
   ]
  },
  {
   "cell_type": "code",
   "execution_count": 44,
   "metadata": {
    "ExecuteTime": {
     "end_time": "2021-02-22T08:15:18.206013Z",
     "start_time": "2021-02-22T08:15:18.201046Z"
    }
   },
   "outputs": [
    {
     "data": {
      "text/plain": [
       "[1, 2, 3, 4, 5, 6]"
      ]
     },
     "execution_count": 44,
     "metadata": {},
     "output_type": "execute_result"
    }
   ],
   "source": [
    "# extend()\n",
    "numbers=[1,2,3]\n",
    "num=[4,5,6]\n",
    "numbers.extend(num)\n",
    "numbers"
   ]
  },
  {
   "cell_type": "code",
   "execution_count": 45,
   "metadata": {
    "ExecuteTime": {
     "end_time": "2021-02-22T08:16:01.533901Z",
     "start_time": "2021-02-22T08:16:01.528910Z"
    }
   },
   "outputs": [
    {
     "data": {
      "text/plain": [
       "[1, 'xx', 2, 3, 4, 5]"
      ]
     },
     "execution_count": 45,
     "metadata": {},
     "output_type": "execute_result"
    }
   ],
   "source": [
    "#insert(idx,추가할내용) : idx번재 인덱스에 추가할 내용 삽입\n",
    "numbers = [1,2,3,4,5]\n",
    "numbers.insert(1,'xx')\n",
    "numbers"
   ]
  },
  {
   "cell_type": "markdown",
   "metadata": {
    "ExecuteTime": {
     "end_time": "2021-02-22T08:16:45.357513Z",
     "start_time": "2021-02-22T08:16:45.354521Z"
    }
   },
   "source": [
    "#### 1.4 인덱싱"
   ]
  },
  {
   "cell_type": "markdown",
   "metadata": {},
   "source": [
    "- count() : 리스트에서 데이터의 개수 반환\n",
    "- index() : 해당 요소의 위치 반환\n",
    "- [index] : 인덱스를 이용한 접근"
   ]
  },
  {
   "cell_type": "code",
   "execution_count": 49,
   "metadata": {
    "ExecuteTime": {
     "end_time": "2021-02-22T08:18:55.796510Z",
     "start_time": "2021-02-22T08:18:55.791524Z"
    }
   },
   "outputs": [
    {
     "name": "stdout",
     "output_type": "stream",
     "text": [
      "[1, 2, 3, [1, 2, 3], 1, 2, 3]\n",
      "[[1, 2, 3], [1, 2, 3]]\n"
     ]
    }
   ],
   "source": [
    "numbers = [1,2,3,[1,2,3],1,2,3]\n",
    "numbers_2d = [[1,2,3],[1,2,3]]\n",
    "print(numbers)\n",
    "print(numbers_2d)"
   ]
  },
  {
   "cell_type": "code",
   "execution_count": 50,
   "metadata": {
    "ExecuteTime": {
     "end_time": "2021-02-22T08:19:01.975404Z",
     "start_time": "2021-02-22T08:19:01.959756Z"
    }
   },
   "outputs": [
    {
     "data": {
      "text/plain": [
       "2"
      ]
     },
     "execution_count": 50,
     "metadata": {},
     "output_type": "execute_result"
    }
   ],
   "source": [
    "numbers.count(2)"
   ]
  },
  {
   "cell_type": "code",
   "execution_count": 51,
   "metadata": {
    "ExecuteTime": {
     "end_time": "2021-02-22T08:19:31.644700Z",
     "start_time": "2021-02-22T08:19:31.640710Z"
    }
   },
   "outputs": [
    {
     "data": {
      "text/plain": [
       "0"
      ]
     },
     "execution_count": 51,
     "metadata": {},
     "output_type": "execute_result"
    }
   ],
   "source": [
    "# 없는건 0\n",
    "numbers.count(9)"
   ]
  },
  {
   "cell_type": "code",
   "execution_count": 52,
   "metadata": {
    "ExecuteTime": {
     "end_time": "2021-02-22T08:19:51.996574Z",
     "start_time": "2021-02-22T08:19:51.992584Z"
    }
   },
   "outputs": [
    {
     "data": {
      "text/plain": [
       "1"
      ]
     },
     "execution_count": 52,
     "metadata": {},
     "output_type": "execute_result"
    }
   ],
   "source": [
    "numbers.count([1,2,3])"
   ]
  },
  {
   "cell_type": "code",
   "execution_count": 53,
   "metadata": {
    "ExecuteTime": {
     "end_time": "2021-02-22T08:20:30.976306Z",
     "start_time": "2021-02-22T08:20:30.960658Z"
    }
   },
   "outputs": [
    {
     "data": {
      "text/plain": [
       "0"
      ]
     },
     "execution_count": 53,
     "metadata": {},
     "output_type": "execute_result"
    }
   ],
   "source": [
    "numbers_2d.count(2)"
   ]
  },
  {
   "cell_type": "code",
   "execution_count": 54,
   "metadata": {
    "ExecuteTime": {
     "end_time": "2021-02-22T08:20:39.267514Z",
     "start_time": "2021-02-22T08:20:39.264537Z"
    }
   },
   "outputs": [
    {
     "data": {
      "text/plain": [
       "2"
      ]
     },
     "execution_count": 54,
     "metadata": {},
     "output_type": "execute_result"
    }
   ],
   "source": [
    "numbers_2d.count([1,2,3])"
   ]
  },
  {
   "cell_type": "code",
   "execution_count": 55,
   "metadata": {
    "ExecuteTime": {
     "end_time": "2021-02-22T08:21:44.540733Z",
     "start_time": "2021-02-22T08:21:44.536763Z"
    }
   },
   "outputs": [
    {
     "data": {
      "text/plain": [
       "1"
      ]
     },
     "execution_count": 55,
     "metadata": {},
     "output_type": "execute_result"
    }
   ],
   "source": [
    "# 0번째 인덱스 부터 처음 나오는 2의 인덱스\n",
    "numbers.index(2)"
   ]
  },
  {
   "cell_type": "code",
   "execution_count": 56,
   "metadata": {
    "ExecuteTime": {
     "end_time": "2021-02-22T08:22:51.629743Z",
     "start_time": "2021-02-22T08:22:51.624781Z"
    }
   },
   "outputs": [
    {
     "data": {
      "text/plain": [
       "5"
      ]
     },
     "execution_count": 56,
     "metadata": {},
     "output_type": "execute_result"
    }
   ],
   "source": [
    "# 4번째 인덱스 아후부터 처음 나오는 2의 인덱스\n",
    "numbers = [1,2,3,[1,2,3],1,2,3]\n",
    "numbers.index(2,4)\n",
    "# index함수는 없는 값을 찾으면 에러 난다."
   ]
  },
  {
   "cell_type": "markdown",
   "metadata": {
    "ExecuteTime": {
     "end_time": "2021-02-22T08:23:50.786975Z",
     "start_time": "2021-02-22T08:23:50.783990Z"
    }
   },
   "source": [
    "#### 1.5 원하는 리스트 내용만 추출 ; 리스트 슬라이싱 - 인덱스 보다 많이 쓴다."
   ]
  },
  {
   "cell_type": "markdown",
   "metadata": {},
   "source": [
    "- [from : to : by] ; from 부터 to 바로 앞까지 by번 증가하는 index 아이템 추출\n",
    "                       from,to,by 생략 가능\n",
    "                       인덱스는 음수 가능 "
   ]
  },
  {
   "cell_type": "code",
   "execution_count": 58,
   "metadata": {
    "ExecuteTime": {
     "end_time": "2021-02-22T08:39:23.157244Z",
     "start_time": "2021-02-22T08:39:23.153274Z"
    }
   },
   "outputs": [],
   "source": [
    "numbers =[1,2,3,4,5]"
   ]
  },
  {
   "cell_type": "code",
   "execution_count": 60,
   "metadata": {
    "ExecuteTime": {
     "end_time": "2021-02-22T08:40:06.750369Z",
     "start_time": "2021-02-22T08:40:06.745383Z"
    }
   },
   "outputs": [
    {
     "data": {
      "text/plain": [
       "[3, 4, 5]"
      ]
     },
     "execution_count": 60,
     "metadata": {},
     "output_type": "execute_result"
    }
   ],
   "source": [
    "numbers[2:9] # 2부터 9번 인덱스 바로 앞까지. 에러 안난다. "
   ]
  },
  {
   "cell_type": "code",
   "execution_count": 61,
   "metadata": {
    "ExecuteTime": {
     "end_time": "2021-02-22T08:40:23.948803Z",
     "start_time": "2021-02-22T08:40:23.944818Z"
    }
   },
   "outputs": [
    {
     "data": {
      "text/plain": [
       "[5, 4, 3, 2, 1]"
      ]
     },
     "execution_count": 61,
     "metadata": {},
     "output_type": "execute_result"
    }
   ],
   "source": [
    "numbers[::-1]"
   ]
  },
  {
   "cell_type": "code",
   "execution_count": 62,
   "metadata": {
    "ExecuteTime": {
     "end_time": "2021-02-22T08:40:49.485452Z",
     "start_time": "2021-02-22T08:40:49.480490Z"
    }
   },
   "outputs": [
    {
     "data": {
      "text/plain": [
       "[1, 2, 3, 4, 5]"
      ]
     },
     "execution_count": 62,
     "metadata": {},
     "output_type": "execute_result"
    }
   ],
   "source": [
    "numbers[::]"
   ]
  },
  {
   "cell_type": "code",
   "execution_count": 64,
   "metadata": {
    "ExecuteTime": {
     "end_time": "2021-02-22T08:42:40.630012Z",
     "start_time": "2021-02-22T08:42:40.625053Z"
    }
   },
   "outputs": [
    {
     "data": {
      "text/plain": [
       "[1, 2, 3, 4]"
      ]
     },
     "execution_count": 64,
     "metadata": {},
     "output_type": "execute_result"
    }
   ],
   "source": [
    "numbers[-5:-1]"
   ]
  },
  {
   "cell_type": "code",
   "execution_count": 65,
   "metadata": {
    "ExecuteTime": {
     "end_time": "2021-02-22T08:42:54.662757Z",
     "start_time": "2021-02-22T08:42:54.658786Z"
    }
   },
   "outputs": [
    {
     "data": {
      "text/plain": [
       "[]"
      ]
     },
     "execution_count": 65,
     "metadata": {},
     "output_type": "execute_result"
    }
   ],
   "source": [
    "numbers[-1:-5] # -1부터 -5바로 전까지 1씩 인덱스를 전진하며 액세스"
   ]
  },
  {
   "cell_type": "code",
   "execution_count": 66,
   "metadata": {
    "ExecuteTime": {
     "end_time": "2021-02-22T08:43:23.430134Z",
     "start_time": "2021-02-22T08:43:23.424148Z"
    }
   },
   "outputs": [
    {
     "data": {
      "text/plain": [
       "[[10, 20, 30], [11, 12, 13]]"
      ]
     },
     "execution_count": 66,
     "metadata": {},
     "output_type": "execute_result"
    }
   ],
   "source": [
    "numbers_2d = [[1,2,3],[10,20,30],[11,12,13],[21,22,23]]\n",
    "numbers_2d[1:3]"
   ]
  },
  {
   "cell_type": "code",
   "execution_count": 67,
   "metadata": {
    "ExecuteTime": {
     "end_time": "2021-02-22T08:44:02.271883Z",
     "start_time": "2021-02-22T08:44:02.257116Z"
    }
   },
   "outputs": [
    {
     "data": {
      "text/plain": [
       "[2, 3]"
      ]
     },
     "execution_count": 67,
     "metadata": {},
     "output_type": "execute_result"
    }
   ],
   "source": [
    "numbers_2d[0][1:3]"
   ]
  },
  {
   "cell_type": "code",
   "execution_count": 68,
   "metadata": {
    "ExecuteTime": {
     "end_time": "2021-02-22T08:44:43.436197Z",
     "start_time": "2021-02-22T08:44:43.433205Z"
    }
   },
   "outputs": [],
   "source": [
    "# 람다식을 이용해서 list의 원하는 데이터 엑세스"
   ]
  },
  {
   "cell_type": "code",
   "execution_count": 71,
   "metadata": {
    "ExecuteTime": {
     "end_time": "2021-02-22T08:47:35.246334Z",
     "start_time": "2021-02-22T08:47:35.241378Z"
    }
   },
   "outputs": [
    {
     "data": {
      "text/plain": [
       "[1, 3, 5, 9, 10, 12, 13, 18, 19, 20]"
      ]
     },
     "execution_count": 71,
     "metadata": {},
     "output_type": "execute_result"
    }
   ],
   "source": [
    "numbers = [1,3,5,9,10,12,13,18,19,20]\n",
    "# 모든 데이터 다 가져오기\n",
    "#for data in numbers:\n",
    "#    print(data)\n",
    "[data for data in numbers]"
   ]
  },
  {
   "cell_type": "code",
   "execution_count": 72,
   "metadata": {
    "ExecuteTime": {
     "end_time": "2021-02-22T08:50:41.734452Z",
     "start_time": "2021-02-22T08:50:41.729465Z"
    }
   },
   "outputs": [
    {
     "data": {
      "text/plain": [
       "[10, 12, 18, 20]"
      ]
     },
     "execution_count": 72,
     "metadata": {},
     "output_type": "execute_result"
    }
   ],
   "source": [
    "# 짝수 데이터만 가져오기\n",
    "[x for x in numbers if x%2==0]"
   ]
  },
  {
   "cell_type": "code",
   "execution_count": 73,
   "metadata": {
    "ExecuteTime": {
     "end_time": "2021-02-22T08:51:35.333813Z",
     "start_time": "2021-02-22T08:51:35.328826Z"
    }
   },
   "outputs": [
    {
     "data": {
      "text/plain": [
       "[10, 12, 13, 18, 19, 20]"
      ]
     },
     "execution_count": 73,
     "metadata": {},
     "output_type": "execute_result"
    }
   ],
   "source": [
    "# 10이상의 데이터만 list로 가져오기\n",
    "[data for data in numbers if data>=10]"
   ]
  },
  {
   "cell_type": "code",
   "execution_count": 74,
   "metadata": {
    "ExecuteTime": {
     "end_time": "2021-02-22T08:54:06.429359Z",
     "start_time": "2021-02-22T08:54:06.425369Z"
    }
   },
   "outputs": [],
   "source": [
    "# 과일의 글씨가 5글자 이상인 과일만 추출\n",
    "fruits = ['orange','apple','mango','kiwi']"
   ]
  },
  {
   "cell_type": "code",
   "execution_count": 75,
   "metadata": {
    "ExecuteTime": {
     "end_time": "2021-02-22T08:54:28.917297Z",
     "start_time": "2021-02-22T08:54:28.912336Z"
    }
   },
   "outputs": [
    {
     "data": {
      "text/plain": [
       "['orange', 'apple', 'mango']"
      ]
     },
     "execution_count": 75,
     "metadata": {},
     "output_type": "execute_result"
    }
   ],
   "source": [
    "[x for x in fruits if len(x)>=5]"
   ]
  },
  {
   "cell_type": "code",
   "execution_count": 77,
   "metadata": {
    "ExecuteTime": {
     "end_time": "2021-02-22T08:58:13.935732Z",
     "start_time": "2021-02-22T08:58:13.920083Z"
    }
   },
   "outputs": [
    {
     "data": {
      "text/plain": [
       "[1, 4, 9, 16, 25]"
      ]
     },
     "execution_count": 77,
     "metadata": {},
     "output_type": "execute_result"
    }
   ],
   "source": [
    "# 리스트의 제곱을 추출하라\n",
    "L = [1,2,3,4,5]\n",
    "[x**2 for x in L ]"
   ]
  },
  {
   "cell_type": "code",
   "execution_count": 78,
   "metadata": {
    "ExecuteTime": {
     "end_time": "2021-02-22T08:58:51.574249Z",
     "start_time": "2021-02-22T08:58:51.569263Z"
    }
   },
   "outputs": [
    {
     "data": {
      "text/plain": [
       "[1, 8, 27, 64, 125]"
      ]
     },
     "execution_count": 78,
     "metadata": {},
     "output_type": "execute_result"
    }
   ],
   "source": [
    "# 리스트의 세제곱을 추출하라\n",
    "L = [1,2,3,4,5]\n",
    "[x**3 for x in L]"
   ]
  },
  {
   "cell_type": "code",
   "execution_count": 79,
   "metadata": {
    "ExecuteTime": {
     "end_time": "2021-02-22T08:59:07.477031Z",
     "start_time": "2021-02-22T08:59:07.473040Z"
    }
   },
   "outputs": [
    {
     "data": {
      "text/plain": [
       "[2, 4, 6, 8, 10]"
      ]
     },
     "execution_count": 79,
     "metadata": {},
     "output_type": "execute_result"
    }
   ],
   "source": [
    "# 리스트 값의 두배의 수를 추출하라\n",
    "L = [1,2,3,4,5]\n",
    "[x*2 for x in L]"
   ]
  },
  {
   "cell_type": "code",
   "execution_count": null,
   "metadata": {},
   "outputs": [],
   "source": []
  }
 ],
 "metadata": {
  "kernelspec": {
   "display_name": "Python 3",
   "language": "python",
   "name": "python3"
  },
  "language_info": {
   "codemirror_mode": {
    "name": "ipython",
    "version": 3
   },
   "file_extension": ".py",
   "mimetype": "text/x-python",
   "name": "python",
   "nbconvert_exporter": "python",
   "pygments_lexer": "ipython3",
   "version": "3.8.5"
  },
  "toc": {
   "base_numbering": 1,
   "nav_menu": {},
   "number_sections": false,
   "sideBar": true,
   "skip_h1_title": false,
   "title_cell": "Table of Contents",
   "title_sidebar": "Contents",
   "toc_cell": false,
   "toc_position": {},
   "toc_section_display": true,
   "toc_window_display": false
  },
  "varInspector": {
   "cols": {
    "lenName": 16,
    "lenType": 16,
    "lenVar": 40
   },
   "kernels_config": {
    "python": {
     "delete_cmd_postfix": "",
     "delete_cmd_prefix": "del ",
     "library": "var_list.py",
     "varRefreshCmd": "print(var_dic_list())"
    },
    "r": {
     "delete_cmd_postfix": ") ",
     "delete_cmd_prefix": "rm(",
     "library": "var_list.r",
     "varRefreshCmd": "cat(var_dic_list()) "
    }
   },
   "types_to_exclude": [
    "module",
    "function",
    "builtin_function_or_method",
    "instance",
    "_Feature"
   ],
   "window_display": false
  }
 },
 "nbformat": 4,
 "nbformat_minor": 4
}
