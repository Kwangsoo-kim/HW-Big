{
 "cells": [
  {
   "cell_type": "markdown",
   "metadata": {},
   "source": [
    "# <font color='red'>ch09_파일io프로그래밍</font>"
   ]
  },
  {
   "cell_type": "markdown",
   "metadata": {},
   "source": [
    "## 1. 파일에 데이터 저장하고 불러오기"
   ]
  },
  {
   "cell_type": "code",
   "execution_count": 1,
   "metadata": {
    "ExecuteTime": {
     "end_time": "2021-02-26T08:33:30.006885Z",
     "start_time": "2021-02-26T08:33:30.002896Z"
    }
   },
   "outputs": [
    {
     "name": "stdout",
     "output_type": "stream",
     "text": [
      "True\n"
     ]
    }
   ],
   "source": [
    "# 'w' = write, 'a' = append, 'r'= read\n",
    "f = open('data/ch09_sample.txt','w')\n",
    "print(f.writable())"
   ]
  },
  {
   "cell_type": "code",
   "execution_count": 2,
   "metadata": {
    "ExecuteTime": {
     "end_time": "2021-02-26T08:34:36.599644Z",
     "start_time": "2021-02-26T08:34:36.590668Z"
    }
   },
   "outputs": [
    {
     "data": {
      "text/plain": [
       "24"
      ]
     },
     "execution_count": 2,
     "metadata": {},
     "output_type": "execute_result"
    }
   ],
   "source": [
    "f.write('Hello\\nWorld\\nHello\\nPython')\n",
    "# close()를 해줘야 해당 내용이 적용된다."
   ]
  },
  {
   "cell_type": "code",
   "execution_count": 3,
   "metadata": {
    "ExecuteTime": {
     "end_time": "2021-02-26T08:34:55.170491Z",
     "start_time": "2021-02-26T08:34:55.166495Z"
    }
   },
   "outputs": [],
   "source": [
    "f.close()"
   ]
  },
  {
   "cell_type": "code",
   "execution_count": 4,
   "metadata": {
    "ExecuteTime": {
     "end_time": "2021-02-26T08:38:10.043571Z",
     "start_time": "2021-02-26T08:38:10.038606Z"
    }
   },
   "outputs": [
    {
     "name": "stdout",
     "output_type": "stream",
     "text": [
      "True\n"
     ]
    }
   ],
   "source": [
    "# with 구문 이용하면 파일을 열어 사용한후 매번 닫아주는 코드를 작성하지 않아도 된다.\n",
    "with open('data/ch09_sample.txt','w') as f:\n",
    "    print(f.writable())\n",
    "    f.write('Python is easy.\\nPython is smart.')"
   ]
  },
  {
   "cell_type": "code",
   "execution_count": 6,
   "metadata": {
    "ExecuteTime": {
     "end_time": "2021-02-26T08:40:23.310007Z",
     "start_time": "2021-02-26T08:40:23.294049Z"
    }
   },
   "outputs": [],
   "source": [
    "with open('data/ch09_sample.txt','a') as f:\n",
    "    print('프린트 함수로 파일 쓰기가 가능합니다.', file=f)"
   ]
  },
  {
   "cell_type": "code",
   "execution_count": 8,
   "metadata": {
    "ExecuteTime": {
     "end_time": "2021-02-26T08:46:54.721889Z",
     "start_time": "2021-02-26T08:46:54.717900Z"
    }
   },
   "outputs": [],
   "source": [
    "with open('data/ch09_sample.txt','a') as f:\n",
    "    f.write('1 방법. Hello\\nWorld\\n')\n",
    "    textlist = ['Python is easy.','R is easy.','Java is easy.']\n",
    "    f.write('2 방법')\n",
    "    for line in textlist:\n",
    "        f.write(line+'\\n')\n",
    "    f.write('3 방법')\n",
    "    f.writelines(textlist)"
   ]
  },
  {
   "cell_type": "code",
   "execution_count": 9,
   "metadata": {
    "ExecuteTime": {
     "end_time": "2021-02-26T08:49:36.136803Z",
     "start_time": "2021-02-26T08:49:36.125854Z"
    }
   },
   "outputs": [
    {
     "name": "stdout",
     "output_type": "stream",
     "text": [
      "['Python is easy.\\n', 'Python is smart.프린트 함수로 파일 쓰기가 가능합니다.\\n', '1 방법. Hello\\n', 'World\\n', '2 방법Python is easy.R is easy.Java is easy.3 방법Python is easy.R is easy.Java is easy.1 방법. Hello\\n', 'World\\n', '2 방법Python is easy.\\n', 'R is easy.\\n', 'Java is easy.\\n', '3 방법Python is easy.R is easy.Java is easy.']\n"
     ]
    }
   ],
   "source": [
    "with open('data/ch09_sample.txt','r') as f:\n",
    "    lines = f.readlines() # 한꺼번에 읽기\n",
    "    print(lines)"
   ]
  },
  {
   "cell_type": "code",
   "execution_count": 10,
   "metadata": {
    "ExecuteTime": {
     "end_time": "2021-02-26T08:51:30.002730Z",
     "start_time": "2021-02-26T08:51:29.997742Z"
    }
   },
   "outputs": [
    {
     "name": "stdout",
     "output_type": "stream",
     "text": [
      "Python is easy.\n",
      "Python is smart.프린트 함수로 파일 쓰기가 가능합니다.\n",
      "1 방법. Hello\n",
      "World\n",
      "2 방법Python is easy.R is easy.Java is easy.3 방법Python is easy.R is easy.Java is easy.1 방법. Hello\n",
      "World\n",
      "2 방법Python is easy.\n",
      "R is easy.\n",
      "Java is easy.\n",
      "3 방법Python is easy.R is easy.Java is easy.\n"
     ]
    }
   ],
   "source": [
    "with open('data/ch09_sample.txt','r') as f:\n",
    "    lines = f.readlines()\n",
    "    for line in lines:\n",
    "        print(line.strip())  # strip 공백제거"
   ]
  },
  {
   "cell_type": "code",
   "execution_count": 11,
   "metadata": {
    "ExecuteTime": {
     "end_time": "2021-02-26T08:56:36.570647Z",
     "start_time": "2021-02-26T08:56:36.565680Z"
    }
   },
   "outputs": [
    {
     "name": "stdout",
     "output_type": "stream",
     "text": [
      "Python is easy.\n",
      "Python is smart.프린트 함수로 파일 쓰기가 가능합니다.\n",
      "1 방법. Hello\n",
      "World\n",
      "2 방법Python is easy.R is easy.Java is easy.3 방법Python is easy.R is easy.Java is easy.1 방법. Hello\n",
      "World\n",
      "2 방법Python is easy.\n",
      "R is easy.\n",
      "Java is easy.\n",
      "3 방법Python is easy.R is easy.Java is easy."
     ]
    }
   ],
   "source": [
    "# 파일을 한줄읽고 한줄 출력하고, 한줄 읽고 한줄 출력,...........\n",
    "with open('data/ch09_sample.txt','r') as f:\n",
    "    line = f.readline()\n",
    "    while line != '':\n",
    "        print(line, end='')\n",
    "        line = f.readline()"
   ]
  },
  {
   "cell_type": "markdown",
   "metadata": {},
   "source": [
    "## 2. 피클을 이용한 객체 저장 및 불러오기"
   ]
  },
  {
   "cell_type": "markdown",
   "metadata": {},
   "source": [
    "### 2.1 형식이 있는 텍스트 데이터"
   ]
  },
  {
   "cell_type": "code",
   "execution_count": 12,
   "metadata": {
    "ExecuteTime": {
     "end_time": "2021-02-26T09:11:07.932355Z",
     "start_time": "2021-02-26T09:11:07.925374Z"
    }
   },
   "outputs": [
    {
     "name": "stdout",
     "output_type": "stream",
     "text": [
      "이름 : 홍길동\t나이 : 20\t메일 : kildong@tjoeun.co.kr\t주소 : 서울시강동구\n",
      "이름 : 홍길순\t나이 : 22\t메일 : kilsoon@tjoeun.co.kr\t주소 : 서울시마포구\n"
     ]
    }
   ],
   "source": [
    "with open('data/ch09_member.txt','r',encoding='UTF8') as f:\n",
    "    lines = f.readlines()\n",
    "    for line in lines:\n",
    "        data = line.strip().split(',')\n",
    "        name = data[0]\n",
    "        age = int(data[1].strip())\n",
    "        email = data[2].strip()\n",
    "        address = data[3].strip()\n",
    "        print('이름 : {}\\t나이 : {}\\t메일 : {}\\t주소 : {}'.format(name,age,email,address))"
   ]
  },
  {
   "cell_type": "markdown",
   "metadata": {},
   "source": [
    "### 2.2 피클링"
   ]
  },
  {
   "cell_type": "code",
   "execution_count": 13,
   "metadata": {
    "ExecuteTime": {
     "end_time": "2021-02-26T09:15:44.449836Z",
     "start_time": "2021-02-26T09:15:44.444849Z"
    }
   },
   "outputs": [],
   "source": [
    "class Member:\n",
    "    def __init__(self,name,age,email,address):\n",
    "        self.name=name\n",
    "        self.age=age\n",
    "        self.email=email\n",
    "        self.address=address\n",
    "    def __str__(self):\n",
    "        return '이름 : {}\\t나이 : {}\\t메일 : {}\\t주소 : {}'.format(self.name,self.age,self.email,self.address)"
   ]
  },
  {
   "cell_type": "code",
   "execution_count": 14,
   "metadata": {
    "ExecuteTime": {
     "end_time": "2021-02-26T09:17:00.568399Z",
     "start_time": "2021-02-26T09:17:00.564430Z"
    }
   },
   "outputs": [],
   "source": [
    "user1 = Member('홍길동',20,'hong@hong.com','서울')\n",
    "user2 = Member('이길동',20,'2ong@hong.com','대전')\n",
    "user3 = Member('삼길동',20,'3ong@hong.com','대구')\n",
    "user_list = [user1,user2,user3]"
   ]
  },
  {
   "cell_type": "code",
   "execution_count": 15,
   "metadata": {
    "ExecuteTime": {
     "end_time": "2021-02-26T09:19:14.892107Z",
     "start_time": "2021-02-26T09:19:14.876485Z"
    }
   },
   "outputs": [],
   "source": [
    "# 객체를 파일로 'wb' - 바이너리 타입. 피클쓸때 사용\n",
    "with open('data/ch09_member.data','wb') as f:\n",
    "    import pickle\n",
    "    pickle.dump(user_list,f)"
   ]
  },
  {
   "cell_type": "code",
   "execution_count": 16,
   "metadata": {
    "ExecuteTime": {
     "end_time": "2021-02-26T09:19:59.830047Z",
     "start_time": "2021-02-26T09:19:59.820074Z"
    }
   },
   "outputs": [],
   "source": [
    "# 파일불러오기 'rb' - 바이너리 타입 읽어오기.\n",
    "with open('data/ch09_member.data','rb') as f:\n",
    "    ul = pickle.load(f)"
   ]
  },
  {
   "cell_type": "code",
   "execution_count": 17,
   "metadata": {
    "ExecuteTime": {
     "end_time": "2021-02-26T09:20:09.791027Z",
     "start_time": "2021-02-26T09:20:09.787063Z"
    }
   },
   "outputs": [
    {
     "name": "stdout",
     "output_type": "stream",
     "text": [
      "이름 : 홍길동\t나이 : 20\t메일 : hong@hong.com\t주소 : 서울\n",
      "이름 : 이길동\t나이 : 20\t메일 : 2ong@hong.com\t주소 : 대전\n",
      "이름 : 삼길동\t나이 : 20\t메일 : 3ong@hong.com\t주소 : 대구\n"
     ]
    }
   ],
   "source": [
    "for user in ul:\n",
    "    print(user)\n",
    "## 편하긴 하나 메모장으로 못읽음"
   ]
  },
  {
   "cell_type": "code",
   "execution_count": null,
   "metadata": {},
   "outputs": [],
   "source": []
  }
 ],
 "metadata": {
  "kernelspec": {
   "display_name": "Python 3",
   "language": "python",
   "name": "python3"
  },
  "language_info": {
   "codemirror_mode": {
    "name": "ipython",
    "version": 3
   },
   "file_extension": ".py",
   "mimetype": "text/x-python",
   "name": "python",
   "nbconvert_exporter": "python",
   "pygments_lexer": "ipython3",
   "version": "3.8.5"
  },
  "toc": {
   "base_numbering": 1,
   "nav_menu": {},
   "number_sections": false,
   "sideBar": true,
   "skip_h1_title": false,
   "title_cell": "Table of Contents",
   "title_sidebar": "Contents",
   "toc_cell": false,
   "toc_position": {},
   "toc_section_display": true,
   "toc_window_display": false
  },
  "varInspector": {
   "cols": {
    "lenName": 16,
    "lenType": 16,
    "lenVar": 40
   },
   "kernels_config": {
    "python": {
     "delete_cmd_postfix": "",
     "delete_cmd_prefix": "del ",
     "library": "var_list.py",
     "varRefreshCmd": "print(var_dic_list())"
    },
    "r": {
     "delete_cmd_postfix": ") ",
     "delete_cmd_prefix": "rm(",
     "library": "var_list.r",
     "varRefreshCmd": "cat(var_dic_list()) "
    }
   },
   "types_to_exclude": [
    "module",
    "function",
    "builtin_function_or_method",
    "instance",
    "_Feature"
   ],
   "window_display": false
  }
 },
 "nbformat": 4,
 "nbformat_minor": 4
}
