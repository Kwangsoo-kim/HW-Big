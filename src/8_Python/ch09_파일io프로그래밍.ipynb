{
 "cells": [
  {
   "cell_type": "markdown",
   "metadata": {},
   "source": [
    "# <font color='red'>ch09_파일io프로그래밍</font>"
   ]
  },
  {
   "cell_type": "markdown",
   "metadata": {},
   "source": [
    "## 1. 파일에 데이터 저장하고 불러오기"
   ]
  },
  {
   "cell_type": "code",
   "execution_count": null,
   "metadata": {
    "ExecuteTime": {
     "end_time": "2021-02-26T08:33:30.006885Z",
     "start_time": "2021-02-26T08:33:30.002896Z"
    }
   },
   "outputs": [],
   "source": [
    "# 'w' = write, 'a' = append, 'r'= read\n",
    "f = open('data/ch09_sample.txt','w')\n",
    "print(f.writable())"
   ]
  },
  {
   "cell_type": "code",
   "execution_count": null,
   "metadata": {
    "ExecuteTime": {
     "end_time": "2021-02-26T08:34:36.599644Z",
     "start_time": "2021-02-26T08:34:36.590668Z"
    }
   },
   "outputs": [],
   "source": [
    "f.write('Hello\\nWorld\\nHello\\nPython')\n",
    "# close()를 해줘야 해당 내용이 적용된다."
   ]
  },
  {
   "cell_type": "code",
   "execution_count": null,
   "metadata": {
    "ExecuteTime": {
     "end_time": "2021-02-26T08:34:55.170491Z",
     "start_time": "2021-02-26T08:34:55.166495Z"
    }
   },
   "outputs": [],
   "source": [
    "f.close()"
   ]
  },
  {
   "cell_type": "code",
   "execution_count": null,
   "metadata": {
    "ExecuteTime": {
     "end_time": "2021-02-26T08:38:10.043571Z",
     "start_time": "2021-02-26T08:38:10.038606Z"
    }
   },
   "outputs": [],
   "source": [
    "# with 구문 이용하면 파일을 열어 사용한후 매번 닫아주는 코드를 작성하지 않아도 된다.\n",
    "with open('data/ch09_sample.txt','w') as f:\n",
    "    print(f.writable())\n",
    "    f.write('Python is easy.\\nPython is smart.')"
   ]
  },
  {
   "cell_type": "code",
   "execution_count": null,
   "metadata": {
    "ExecuteTime": {
     "end_time": "2021-02-26T08:40:23.310007Z",
     "start_time": "2021-02-26T08:40:23.294049Z"
    }
   },
   "outputs": [],
   "source": [
    "with open('data/ch09_sample.txt','a') as f:\n",
    "    print('프린트 함수로 파일 쓰기가 가능합니다.', file=f)"
   ]
  },
  {
   "cell_type": "code",
   "execution_count": null,
   "metadata": {
    "ExecuteTime": {
     "end_time": "2021-02-26T08:46:54.721889Z",
     "start_time": "2021-02-26T08:46:54.717900Z"
    }
   },
   "outputs": [],
   "source": [
    "with open('data/ch09_sample.txt','a') as f:\n",
    "    f.write('1 방법. Hello\\nWorld\\n')\n",
    "    textlist = ['Python is easy.','R is easy.','Java is easy.']\n",
    "    f.write('2 방법')\n",
    "    for line in textlist:\n",
    "        f.write(line+'\\n')\n",
    "    f.write('3 방법')\n",
    "    f.writelines(textlist)"
   ]
  },
  {
   "cell_type": "code",
   "execution_count": null,
   "metadata": {
    "ExecuteTime": {
     "end_time": "2021-02-26T08:49:36.136803Z",
     "start_time": "2021-02-26T08:49:36.125854Z"
    }
   },
   "outputs": [],
   "source": [
    "with open('data/ch09_sample.txt','r') as f:\n",
    "    lines = f.readlines() # 한꺼번에 읽기\n",
    "    print(lines)"
   ]
  },
  {
   "cell_type": "code",
   "execution_count": null,
   "metadata": {
    "ExecuteTime": {
     "end_time": "2021-02-26T08:51:30.002730Z",
     "start_time": "2021-02-26T08:51:29.997742Z"
    }
   },
   "outputs": [],
   "source": [
    "with open('data/ch09_sample.txt','r') as f:\n",
    "    lines = f.readlines()\n",
    "    for line in lines:\n",
    "        print(line.strip())  # strip 공백제거"
   ]
  },
  {
   "cell_type": "code",
   "execution_count": null,
   "metadata": {
    "ExecuteTime": {
     "end_time": "2021-02-26T08:56:36.570647Z",
     "start_time": "2021-02-26T08:56:36.565680Z"
    }
   },
   "outputs": [],
   "source": [
    "# 파일을 한줄읽고 한줄 출력하고, 한줄 읽고 한줄 출력,...........\n",
    "with open('data/ch09_sample.txt','r') as f:\n",
    "    line = f.readline()\n",
    "    while line != '':\n",
    "        print(line, end='')\n",
    "        line = f.readline()"
   ]
  },
  {
   "cell_type": "markdown",
   "metadata": {},
   "source": [
    "## 2. 피클을 이용한 객체 저장 및 불러오기"
   ]
  },
  {
   "cell_type": "markdown",
   "metadata": {},
   "source": [
    "### 2.1 형식이 있는 텍스트 데이터"
   ]
  },
  {
   "cell_type": "code",
   "execution_count": null,
   "metadata": {
    "ExecuteTime": {
     "end_time": "2021-02-26T09:11:07.932355Z",
     "start_time": "2021-02-26T09:11:07.925374Z"
    }
   },
   "outputs": [],
   "source": [
    "with open('data/ch09_member.txt','r',encoding='UTF8') as f:\n",
    "    lines = f.readlines()\n",
    "    for line in lines:\n",
    "        data = line.strip().split(',')\n",
    "        name = data[0]\n",
    "        age = int(data[1].strip())\n",
    "        email = data[2].strip()\n",
    "        address = data[3].strip()\n",
    "        print('이름 : {}\\t나이 : {}\\t메일 : {}\\t주소 : {}'.format(name,age,email,address))"
   ]
  },
  {
   "cell_type": "markdown",
   "metadata": {},
   "source": [
    "### 2.2 피클링"
   ]
  },
  {
   "cell_type": "code",
   "execution_count": null,
   "metadata": {
    "ExecuteTime": {
     "end_time": "2021-03-02T07:38:08.674335Z",
     "start_time": "2021-03-02T07:38:08.669368Z"
    }
   },
   "outputs": [],
   "source": [
    "class Member:\n",
    "    def __init__(self,name,age,email,address):\n",
    "        self.name=name\n",
    "        self.age=age\n",
    "        self.email=email\n",
    "        self.address=address\n",
    "    def __str__(self):\n",
    "        return '이름 : {}\\t나이 : {}\\t메일 : {}\\t주소 : {}'.format(self.name,self.age,self.email,self.address)"
   ]
  },
  {
   "cell_type": "code",
   "execution_count": null,
   "metadata": {
    "ExecuteTime": {
     "end_time": "2021-03-02T07:38:09.137754Z",
     "start_time": "2021-03-02T07:38:09.133765Z"
    }
   },
   "outputs": [],
   "source": [
    "user1 = Member('홍길동',20,'hong@hong.com','서울')\n",
    "user2 = Member('이길동',20,'2ong@hong.com','대전')\n",
    "user3 = Member('삼길동',20,'3ong@hong.com','대구')\n",
    "user_list = [user1,user2,user3]"
   ]
  },
  {
   "cell_type": "code",
   "execution_count": null,
   "metadata": {
    "ExecuteTime": {
     "end_time": "2021-03-02T07:38:18.841219Z",
     "start_time": "2021-03-02T07:38:18.837220Z"
    }
   },
   "outputs": [],
   "source": [
    "user_list"
   ]
  },
  {
   "cell_type": "code",
   "execution_count": null,
   "metadata": {
    "ExecuteTime": {
     "end_time": "2021-02-26T09:19:14.892107Z",
     "start_time": "2021-02-26T09:19:14.876485Z"
    }
   },
   "outputs": [],
   "source": [
    "# 객체를 파일로 'wb' - 바이너리 타입. 피클쓸때 사용\n",
    "with open('data/ch09_member.data','wb') as f:\n",
    "    import pickle\n",
    "    pickle.dump(user_list,f)"
   ]
  },
  {
   "cell_type": "code",
   "execution_count": null,
   "metadata": {
    "ExecuteTime": {
     "end_time": "2021-02-26T09:19:59.830047Z",
     "start_time": "2021-02-26T09:19:59.820074Z"
    }
   },
   "outputs": [],
   "source": [
    "# 파일불러오기 'rb' - 바이너리 타입 읽어오기.\n",
    "with open('data/ch09_member.data','rb') as f:\n",
    "    ul = pickle.load(f)"
   ]
  },
  {
   "cell_type": "code",
   "execution_count": null,
   "metadata": {
    "ExecuteTime": {
     "end_time": "2021-02-26T09:20:09.791027Z",
     "start_time": "2021-02-26T09:20:09.787063Z"
    }
   },
   "outputs": [],
   "source": [
    "for user in ul:\n",
    "    print(user)\n",
    "## 편하긴 하나 메모장으로 못읽음"
   ]
  },
  {
   "cell_type": "markdown",
   "metadata": {},
   "source": [
    "## 3. CSV 형식 파일 읽기/쓰기"
   ]
  },
  {
   "cell_type": "markdown",
   "metadata": {
    "ExecuteTime": {
     "end_time": "2021-03-02T00:41:50.426810Z",
     "start_time": "2021-03-02T00:41:50.422849Z"
    }
   },
   "source": [
    "### 3.1 reader"
   ]
  },
  {
   "cell_type": "code",
   "execution_count": null,
   "metadata": {
    "ExecuteTime": {
     "end_time": "2021-03-02T00:56:26.337863Z",
     "start_time": "2021-03-02T00:56:26.332901Z"
    }
   },
   "outputs": [],
   "source": [
    "# UTF8로 인코딩된 csv파일 read\n",
    "import csv\n",
    "with open('data/ch09_member1.csv','r',encoding='UTF8') as f:\n",
    "    reader = csv.reader(f)\n",
    "    #print(list(reader))\n",
    "    for row in reader:\n",
    "        print(row)"
   ]
  },
  {
   "cell_type": "code",
   "execution_count": null,
   "metadata": {
    "ExecuteTime": {
     "end_time": "2021-03-02T01:04:25.706106Z",
     "start_time": "2021-03-02T01:04:25.702125Z"
    }
   },
   "outputs": [],
   "source": [
    "# CP949로 인코딩된 csv파일 read\n",
    "with open('data/ch09_member2.csv','r') as f:\n",
    "    reader = csv.reader(f)\n",
    "    for row in reader:\n",
    "        print('-'.join(row))"
   ]
  },
  {
   "cell_type": "code",
   "execution_count": null,
   "metadata": {
    "ExecuteTime": {
     "end_time": "2021-03-02T01:09:22.263698Z",
     "start_time": "2021-03-02T01:09:22.253732Z"
    }
   },
   "outputs": [],
   "source": [
    "# numeric엔 따옴표를 뺌 \n",
    "with open('data/ch09_member1.csv', encoding='utf8') as f:\n",
    "    reader = csv.reader(f,quotechar = '\"',quoting=csv.QUOTE_NONNUMERIC)\n",
    "    for row in reader:\n",
    "        print(row)"
   ]
  },
  {
   "cell_type": "markdown",
   "metadata": {
    "ExecuteTime": {
     "end_time": "2021-03-02T01:11:09.343698Z",
     "start_time": "2021-03-02T01:11:09.341683Z"
    }
   },
   "source": [
    "### 3.2 writer"
   ]
  },
  {
   "cell_type": "code",
   "execution_count": null,
   "metadata": {
    "ExecuteTime": {
     "end_time": "2021-03-02T07:34:46.209568Z",
     "start_time": "2021-03-02T07:34:46.206576Z"
    }
   },
   "outputs": [],
   "source": [
    "user_list = [['홍길동',20,'hong@hong.com','서울'],['이길동',30,'2ong@hong.com','대전'],['삼길동',40,'3ong@hong.com','대구']]"
   ]
  },
  {
   "cell_type": "code",
   "execution_count": null,
   "metadata": {
    "ExecuteTime": {
     "end_time": "2021-03-02T01:16:50.769828Z",
     "start_time": "2021-03-02T01:16:50.765834Z"
    }
   },
   "outputs": [],
   "source": [
    "# newline = '' 옵션을 빼면 개행 2번\n",
    "try:\n",
    "    with open('data/ch09_member3.csv','w',newline='', encoding='utf8') as f:\n",
    "        writer = csv.writer(f)\n",
    "        for user in user_list:\n",
    "            writer.writerow(user)\n",
    "except FileNotFoundError as e:\n",
    "    print(e)"
   ]
  },
  {
   "cell_type": "code",
   "execution_count": null,
   "metadata": {
    "ExecuteTime": {
     "end_time": "2021-03-02T01:25:03.521210Z",
     "start_time": "2021-03-02T01:25:03.517248Z"
    }
   },
   "outputs": [],
   "source": [
    "# 숫자만 따옴표 안 붙고, 문자엔 따옴표가 붙게 csv write\n",
    "import csv\n",
    "with open('data/ch0_member3-2.csv','w',newline='') as f:\n",
    "    writer = csv.writer(f,quoting = csv.QUOTE_NONNUMERIC)\n",
    "    writer.writerows(user_list) # for문 돌려도 된다"
   ]
  },
  {
   "cell_type": "code",
   "execution_count": null,
   "metadata": {
    "ExecuteTime": {
     "end_time": "2021-03-02T07:35:17.522357Z",
     "start_time": "2021-03-02T07:35:17.517390Z"
    }
   },
   "outputs": [],
   "source": [
    "user_list[0]"
   ]
  },
  {
   "cell_type": "markdown",
   "metadata": {},
   "source": [
    "### 3.3 DictReader\n",
    "- csv 파일의 자료를 딕셔너리 데이터로 읽기 "
   ]
  },
  {
   "cell_type": "code",
   "execution_count": null,
   "metadata": {
    "ExecuteTime": {
     "end_time": "2021-03-02T01:58:26.963756Z",
     "start_time": "2021-03-02T01:58:26.948767Z"
    }
   },
   "outputs": [],
   "source": [
    "# header가 있는 csv파일을 딕셔너리데이터로 읽기\n",
    "import csv\n",
    "with open('data/ch09_member3-3.csv','r',encoding='utf8') as f:\n",
    "    dict_reader = csv.DictReader(f)\n",
    "    for row in dict_reader:\n",
    "        print(row['name'],row['age'],row['email'],row['address'])"
   ]
  },
  {
   "cell_type": "code",
   "execution_count": null,
   "metadata": {
    "ExecuteTime": {
     "end_time": "2021-03-02T02:03:24.265337Z",
     "start_time": "2021-03-02T02:03:24.259375Z"
    }
   },
   "outputs": [],
   "source": [
    "# header가 없는 csv파일을 딕셔너리 데이터로 일기\n",
    "with open('data/ch09_member3.csv','r',encoding='utf8') as f:\n",
    "    dict_reader = csv.DictReader(f,\n",
    "                                fieldnames=['Name','Age','Email','Address'])\n",
    "    for row in dict_reader:\n",
    "        print(row['Name'],row['Age'],row['Email'],row['Address'])"
   ]
  },
  {
   "cell_type": "code",
   "execution_count": null,
   "metadata": {
    "ExecuteTime": {
     "end_time": "2021-03-02T02:08:16.794521Z",
     "start_time": "2021-03-02T02:08:16.788536Z"
    }
   },
   "outputs": [],
   "source": [
    "# 한행에 팀장 표시 추가 \n",
    "# 한행만 있어도 뽑아주기는 한다\n",
    "with open('data/ch09_member2.csv','r',encoding='CP949') as f:\n",
    "    dict_reader = csv.DictReader(f,\n",
    "                                fieldnames=['Name','Age','Email','Address','Job'])\n",
    "    for row in dict_reader:\n",
    "        print(row['Name'],row['Age'],row['Email'],row['Address'],row['Job'])"
   ]
  },
  {
   "cell_type": "code",
   "execution_count": null,
   "metadata": {
    "ExecuteTime": {
     "end_time": "2021-03-02T02:23:24.441560Z",
     "start_time": "2021-03-02T02:23:24.436571Z"
    }
   },
   "outputs": [],
   "source": [
    "#한행에 팀장 표시 추가(header가 있는 경우)\n",
    "with open('data/ch09_member3-3.csv','r',encoding='utf8') as f:\n",
    "    dict_reader = csv.DictReader(f,restval='')\n",
    "    for row in dict_reader:\n",
    "            print(row['name'],row['age'],row['email'],row['address'],row['job'])"
   ]
  },
  {
   "cell_type": "markdown",
   "metadata": {},
   "source": [
    "### 3.4 DictWriter\n",
    "- 딕셔너리 변수의 내용을 csv파일로 쓰기 "
   ]
  },
  {
   "cell_type": "code",
   "execution_count": null,
   "metadata": {
    "ExecuteTime": {
     "end_time": "2021-03-02T02:48:02.577447Z",
     "start_time": "2021-03-02T02:48:02.571487Z"
    }
   },
   "outputs": [],
   "source": [
    "user1 = {'name':'홍길동','age':20,'email':'1hong@hong.com','address':'서울'}\n",
    "user2 = {'name':'이길동','age':25,'email':'2hong@hong.com','address':'대전'}\n",
    "user3 = {'name':'박길동','age':30,'email':'3hong@hong.com','address':'대구'}\n",
    "user_list = [user1,user2,user3]\n",
    "fieldnames = list(user1.keys()) # 해더로 쓸 내용"
   ]
  },
  {
   "cell_type": "markdown",
   "metadata": {},
   "source": [
    "<pre>\n",
    "ex>\n",
    "csv 파일 내용\n",
    "name,age,email,address\n",
    "홍길동,20,1hong@hong.com,서울\n",
    ".......\n",
    "</pre>"
   ]
  },
  {
   "cell_type": "code",
   "execution_count": null,
   "metadata": {
    "ExecuteTime": {
     "end_time": "2021-03-02T02:49:20.047683Z",
     "start_time": "2021-03-02T02:49:20.043733Z"
    }
   },
   "outputs": [],
   "source": [
    "with open('data/ch09_member4.csv','w',encoding='utf8',newline='') as f:\n",
    "    dict_writer = csv.DictWriter(f,fieldnames=fieldnames)\n",
    "    dict_writer.writeheader() # header 부분 write\n",
    "    for user in user_list:\n",
    "        dict_writer.writerow(user)"
   ]
  },
  {
   "cell_type": "code",
   "execution_count": null,
   "metadata": {
    "ExecuteTime": {
     "end_time": "2021-03-02T02:52:13.400466Z",
     "start_time": "2021-03-02T02:52:13.395480Z"
    }
   },
   "outputs": [],
   "source": [
    "user1 = {'name':'홍길동','age':20,'email':'1hong@hong.com','address':'서울'}\n",
    "user2 = {'name':'이길동','age':25,'email':'2hong@hong.com','address':'대전','job':'팀장'}\n",
    "user3 = {'name':'박길동','age':30,'email':'3hong@hong.com','address':'대구'}\n",
    "user_list = [user1,user2,user3]\n",
    "fieldnames = list(user1.keys()) # 해더로 쓸 내용"
   ]
  },
  {
   "cell_type": "code",
   "execution_count": null,
   "metadata": {
    "ExecuteTime": {
     "end_time": "2021-03-02T02:54:17.039897Z",
     "start_time": "2021-03-02T02:54:17.034911Z"
    }
   },
   "outputs": [],
   "source": [
    "with open('data/ch09_member5.csv','w',newline='',encoding='utf8') as f:\n",
    "    dict_writer = csv.DictWriter(f,fieldnames = fieldnames,extrasaction='ignore')\n",
    "    # job 무시 하고 입력\n",
    "    dict_writer.writeheader()\n",
    "    dict_writer.writerows(user_list)"
   ]
  },
  {
   "cell_type": "code",
   "execution_count": null,
   "metadata": {
    "ExecuteTime": {
     "end_time": "2021-03-02T02:59:18.302446Z",
     "start_time": "2021-03-02T02:59:18.291501Z"
    }
   },
   "outputs": [],
   "source": [
    "with open('data/ch09_member5.csv','w',newline='',encoding='utf8') as f:\n",
    "    dict_writer = csv.DictWriter(f,fieldnames = fieldnames,extrasaction='raise')\n",
    "    # fieldnames에 없는 항목이 들어오면 error 발생\n",
    "    # job추가시 job항목 없는 데이터에는 None\n",
    "    dict_writer.writeheader()\n",
    "    dict_writer.writerows(user_list)"
   ]
  },
  {
   "cell_type": "markdown",
   "metadata": {},
   "source": [
    "## 4. JSON 데이터 저장하고 불러오기(dump,load)"
   ]
  },
  {
   "cell_type": "markdown",
   "metadata": {},
   "source": [
    "### 4.1 JSON dump"
   ]
  },
  {
   "cell_type": "code",
   "execution_count": null,
   "metadata": {
    "ExecuteTime": {
     "end_time": "2021-03-02T03:08:42.480410Z",
     "start_time": "2021-03-02T03:08:42.476440Z"
    }
   },
   "outputs": [],
   "source": [
    "data = [\n",
    "    {\"name\":\"홍길동\",\n",
    "     \"age\":20,\n",
    "     \"email\":\"1hong@name.com\"},\n",
    "    {\"name\":\"이길동\",\n",
    "     \"age\":25,\n",
    "     \"email\":\"2hong@name.com\"},\n",
    "    {\"name\":\"박길동\",\n",
    "     \"age\":30,\n",
    "     \"email\":\"3hong@name.com\"}\n",
    "]"
   ]
  },
  {
   "cell_type": "code",
   "execution_count": null,
   "metadata": {
    "ExecuteTime": {
     "end_time": "2021-03-02T03:08:44.616450Z",
     "start_time": "2021-03-02T03:08:44.610490Z"
    }
   },
   "outputs": [],
   "source": [
    "data"
   ]
  },
  {
   "cell_type": "code",
   "execution_count": null,
   "metadata": {
    "ExecuteTime": {
     "end_time": "2021-03-02T03:12:40.200332Z",
     "start_time": "2021-03-02T03:12:40.196341Z"
    }
   },
   "outputs": [],
   "source": [
    "# 딕셔너리 List를 json파일로 저장\n",
    "# ensure_ascii=False 부분이 없으면 한글이 유니코드로 저장.깨짐\n",
    "# indent='\\t' 데이터 간격 띄어줌\n",
    "import json\n",
    "with open('data/ch09_memeber1.json','w') as jsonfile:\n",
    "    json.dump(data,jsonfile,ensure_ascii=False,indent='\\t')"
   ]
  },
  {
   "cell_type": "code",
   "execution_count": null,
   "metadata": {
    "ExecuteTime": {
     "end_time": "2021-03-02T03:16:39.319182Z",
     "start_time": "2021-03-02T03:16:39.315190Z"
    }
   },
   "outputs": [],
   "source": [
    "# Member 객체 리스트를 json파일로 저장"
   ]
  },
  {
   "cell_type": "code",
   "execution_count": null,
   "metadata": {
    "ExecuteTime": {
     "end_time": "2021-03-02T03:21:19.944426Z",
     "start_time": "2021-03-02T03:21:19.939439Z"
    }
   },
   "outputs": [],
   "source": [
    "class Member:\n",
    "    def __init__(self,name,age,email,address):\n",
    "        self.name=name\n",
    "        self.age=age\n",
    "        self.email=email\n",
    "        self.address=address\n",
    "    def as_dict(self):\n",
    "        return {\"name\":self.name,\"age\":self.age,\"email\":self.email,\"address\":self.address}\n",
    "    def __str__(self):\n",
    "        return \"{}\\t{}\\t{}\\t{}\".format(self.name,self.age,self.email,self.address)"
   ]
  },
  {
   "cell_type": "code",
   "execution_count": null,
   "metadata": {
    "ExecuteTime": {
     "end_time": "2021-03-02T03:23:12.839223Z",
     "start_time": "2021-03-02T03:23:12.835258Z"
    }
   },
   "outputs": [],
   "source": [
    "member1 = Member(\"홍길동\",20,\"1hong@hong.com\",\"서울\")\n",
    "member2 = Member(\"이길동\",25,\"2hong@hong.com\",\"대전\")\n",
    "member3 = Member(\"박길동\",30,\"3hong@hong.com\",\"대구\")\n",
    "member_list = [member1,member2,member3]"
   ]
  },
  {
   "cell_type": "code",
   "execution_count": null,
   "metadata": {
    "ExecuteTime": {
     "end_time": "2021-03-02T03:25:34.487194Z",
     "start_time": "2021-03-02T03:25:34.483205Z"
    }
   },
   "outputs": [],
   "source": [
    "with open('data/ch09_member2.json','w',encoding='utf8') as jsonfile:\n",
    "    json.dump(member_list,jsonfile,ensure_ascii=False,indent='\\t',default=Member.as_dict)"
   ]
  },
  {
   "cell_type": "code",
   "execution_count": null,
   "metadata": {},
   "outputs": [],
   "source": [
    "# whos는 주석과 같이 쓸 수 없음"
   ]
  },
  {
   "cell_type": "code",
   "execution_count": null,
   "metadata": {
    "ExecuteTime": {
     "end_time": "2021-03-02T03:37:04.536070Z",
     "start_time": "2021-03-02T03:37:04.531109Z"
    }
   },
   "outputs": [],
   "source": [
    "whos"
   ]
  },
  {
   "cell_type": "code",
   "execution_count": null,
   "metadata": {
    "ExecuteTime": {
     "end_time": "2021-03-02T03:38:40.415377Z",
     "start_time": "2021-03-02T03:38:40.411400Z"
    }
   },
   "outputs": [],
   "source": [
    "del member1,member2,member3,member_list"
   ]
  },
  {
   "cell_type": "markdown",
   "metadata": {
    "ExecuteTime": {
     "end_time": "2021-03-02T03:39:23.342167Z",
     "start_time": "2021-03-02T03:39:23.339196Z"
    }
   },
   "source": [
    "### 4.2 JSON load"
   ]
  },
  {
   "cell_type": "code",
   "execution_count": null,
   "metadata": {
    "ExecuteTime": {
     "end_time": "2021-03-02T03:43:17.290469Z",
     "start_time": "2021-03-02T03:43:17.274827Z"
    }
   },
   "outputs": [],
   "source": [
    "# json 파일을 딕셔너리 리스트 변수로 load\n",
    "with open('data/ch09_member2.json','r',encoding='utf8') as jsonfile:\n",
    "    member_list = json.load(jsonfile)\n",
    "    for row in member_list:\n",
    "        print(row)"
   ]
  },
  {
   "cell_type": "code",
   "execution_count": null,
   "metadata": {
    "ExecuteTime": {
     "end_time": "2021-03-02T03:43:29.637944Z",
     "start_time": "2021-03-02T03:43:29.633958Z"
    }
   },
   "outputs": [],
   "source": [
    "member_list"
   ]
  },
  {
   "cell_type": "code",
   "execution_count": null,
   "metadata": {
    "ExecuteTime": {
     "end_time": "2021-03-02T03:46:18.965909Z",
     "start_time": "2021-03-02T03:46:18.962916Z"
    }
   },
   "outputs": [],
   "source": [
    "#json 파일을 객체 리스트 변수로 load()"
   ]
  },
  {
   "cell_type": "code",
   "execution_count": null,
   "metadata": {
    "ExecuteTime": {
     "end_time": "2021-03-02T03:46:29.988095Z",
     "start_time": "2021-03-02T03:46:29.983102Z"
    }
   },
   "outputs": [],
   "source": [
    "class Member:\n",
    "    def __init__(self,name,age,email,address):\n",
    "        self.name=name\n",
    "        self.age=age\n",
    "        self.email=email\n",
    "        self.address=address\n",
    "    def as_dict(self):\n",
    "        return {\"name\":self.name,\"age\":self.age,\"email\":self.email,\"address\":self.address}\n",
    "    def __str__(self):\n",
    "        return \"{}\\t{}\\t{}\\t{}\".format(self.name,self.age,self.email,self.address)"
   ]
  },
  {
   "cell_type": "code",
   "execution_count": null,
   "metadata": {
    "ExecuteTime": {
     "end_time": "2021-03-02T03:49:02.471332Z",
     "start_time": "2021-03-02T03:49:02.467343Z"
    }
   },
   "outputs": [],
   "source": [
    "def as_member(dict):\n",
    "    return Member(dict['name'],dict['age'],dict['email'],dict['address'])"
   ]
  },
  {
   "cell_type": "code",
   "execution_count": null,
   "metadata": {
    "ExecuteTime": {
     "end_time": "2021-03-02T03:51:18.711936Z",
     "start_time": "2021-03-02T03:51:18.706949Z"
    }
   },
   "outputs": [],
   "source": [
    "with open('data/ch09_member2.json','r',encoding='utf8') as jsonfile:\n",
    "    member_list = json.load(jsonfile, object_hook=as_member)\n",
    "    for member in member_list:\n",
    "        print(member)"
   ]
  },
  {
   "cell_type": "markdown",
   "metadata": {
    "ExecuteTime": {
     "end_time": "2021-03-02T03:51:44.285694Z",
     "start_time": "2021-03-02T03:51:44.281703Z"
    }
   },
   "source": [
    "## 5. HDF5 파일 읽기/쓰기"
   ]
  },
  {
   "cell_type": "markdown",
   "metadata": {},
   "source": [
    "### 5.1 h5py 사용"
   ]
  },
  {
   "cell_type": "code",
   "execution_count": null,
   "metadata": {
    "ExecuteTime": {
     "end_time": "2021-03-02T04:09:50.102403Z",
     "start_time": "2021-03-02T04:09:39.418629Z"
    }
   },
   "outputs": [],
   "source": [
    "import seaborn as sns\n",
    "iris_df = sns.load_dataset(\"iris\")\n",
    "iris_df "
   ]
  },
  {
   "cell_type": "code",
   "execution_count": null,
   "metadata": {
    "ExecuteTime": {
     "end_time": "2021-03-02T04:10:59.489620Z",
     "start_time": "2021-03-02T04:10:59.485630Z"
    }
   },
   "outputs": [],
   "source": [
    "iris_dict = iris_df.to_dict() # 데이터 프레임 변수를 딕셔너리 변수로 변환"
   ]
  },
  {
   "cell_type": "code",
   "execution_count": null,
   "metadata": {
    "ExecuteTime": {
     "end_time": "2021-03-02T04:11:10.649313Z",
     "start_time": "2021-03-02T04:11:10.618044Z"
    }
   },
   "outputs": [],
   "source": [
    "iris_dict"
   ]
  },
  {
   "cell_type": "code",
   "execution_count": null,
   "metadata": {
    "ExecuteTime": {
     "end_time": "2021-03-02T04:14:30.542579Z",
     "start_time": "2021-03-02T04:14:30.538609Z"
    }
   },
   "outputs": [],
   "source": [
    "for group, value in iris_dict.items():\n",
    "    print(group,value)\n",
    "    print('\\n')"
   ]
  },
  {
   "cell_type": "code",
   "execution_count": null,
   "metadata": {
    "ExecuteTime": {
     "end_time": "2021-03-02T04:16:25.492829Z",
     "start_time": "2021-03-02T04:16:25.466919Z"
    }
   },
   "outputs": [],
   "source": [
    "for group, value in iris_dict.items():\n",
    "    print('변수는',group)\n",
    "    for key, data in value.items():\n",
    "        print(\"{}:{}\".format(key,data),end='\\t')\n",
    "    print('\\n')"
   ]
  },
  {
   "cell_type": "code",
   "execution_count": null,
   "metadata": {
    "ExecuteTime": {
     "end_time": "2021-03-02T05:32:07.291782Z",
     "start_time": "2021-03-02T05:32:06.940683Z"
    }
   },
   "outputs": [],
   "source": [
    "# iris_dict를 hdf5파일로 쓰기\n",
    "import h5py\n",
    "with h5py.File('data/ch09_iris.hdf5','w') as f:\n",
    "    for group,value in iris_dict.items():\n",
    "        grp = f.create_group(group)\n",
    "        for key, data in value.items():\n",
    "            grp.create_dataset(str(key),data=data)"
   ]
  },
  {
   "cell_type": "code",
   "execution_count": null,
   "metadata": {
    "ExecuteTime": {
     "end_time": "2021-03-02T05:45:39.761356Z",
     "start_time": "2021-03-02T05:45:37.117758Z"
    }
   },
   "outputs": [],
   "source": [
    "# iris_df 를 hdf5 파일로 쓰기\n",
    "iris_df.to_hdf(\"data/ch09_iris2.hdf5\", key = \"iris\")"
   ]
  },
  {
   "cell_type": "markdown",
   "metadata": {},
   "source": [
    "### 5.2 pandas 라이브러리를 통해 HDF5파일 읽어오기"
   ]
  },
  {
   "cell_type": "code",
   "execution_count": null,
   "metadata": {
    "ExecuteTime": {
     "end_time": "2021-03-02T05:51:07.488935Z",
     "start_time": "2021-03-02T05:51:07.409149Z"
    }
   },
   "outputs": [],
   "source": [
    "import pandas as pd\n",
    "iris_df2 = pd.read_hdf('data/ch09_iris2.hdf5',key = 'iris')\n",
    "iris_df2"
   ]
  },
  {
   "cell_type": "markdown",
   "metadata": {},
   "source": [
    "## 6. 연습문제\n",
    "- 고객관리 애플리케이션"
   ]
  },
  {
   "cell_type": "code",
   "execution_count": 1,
   "metadata": {
    "ExecuteTime": {
     "end_time": "2021-03-02T09:15:54.082574Z",
     "start_time": "2021-03-02T09:15:54.075593Z"
    }
   },
   "outputs": [],
   "source": [
    "# 필요한 클래스나 함수들 정의\n",
    "\n",
    "class Customer:\n",
    "    def __init__(self,name,tel,email,age,grade,etc):\n",
    "        self.name=name\n",
    "        self.tel=tel\n",
    "        self.email=email\n",
    "        self.age=age\n",
    "        self.grade=grade\n",
    "        self.etc=etc\n",
    "    def to_list_style(self):\n",
    "        temp = [self.name, self.tel, self.email, str(self.age), str(self.grade), self.etc,'\\n']\n",
    "        return ' '.join(temp)\n",
    "    def as_dict(self):\n",
    "        return {\"name\":self.name,\"tel\":self.tel,\"email\":self.email,\"age\":self.age,\"grade\":self.grade,\"etc\":self.etc}\n",
    "    def __str__(self):\n",
    "        return \"{} {} {} {} {} {}\".format(self.grade,self.name,self.tel,self.email,self.age,self.etc)"
   ]
  },
  {
   "cell_type": "code",
   "execution_count": 2,
   "metadata": {
    "ExecuteTime": {
     "end_time": "2021-03-02T09:15:54.491382Z",
     "start_time": "2021-03-02T09:15:54.486422Z"
    }
   },
   "outputs": [],
   "source": [
    "def to_customer(row):\n",
    "    data = row.strip().split(' ')\n",
    "    name = data[0]\n",
    "    tel = data[1]\n",
    "    email = data[2]\n",
    "    age = int(data[3])\n",
    "    grade = int(data[4])\n",
    "    etc = data[5]\n",
    "    return Customer(name,tel,email,age,grade,etc)"
   ]
  },
  {
   "cell_type": "code",
   "execution_count": 3,
   "metadata": {
    "ExecuteTime": {
     "end_time": "2021-03-02T09:15:55.232894Z",
     "start_time": "2021-03-02T09:15:55.227910Z"
    }
   },
   "outputs": [],
   "source": [
    "def load_customers():\n",
    "    customer_list = []\n",
    "    try:\n",
    "        with open('data/ch09_customer.txt','r',encoding='utf8') as f:\n",
    "            lines = f.readlines()\n",
    "            for row in lines:\n",
    "                customer = to_customer(row)\n",
    "                customer_list.append(customer)\n",
    "        print('데이터가 로드 되었습니다.')\n",
    "    except FileNotFoundError:\n",
    "        print('데이터 파일이 없어 초기화 하였습니다.')\n",
    "        f = open('data/ch09_customers.txt','w',encoding='utf8')\n",
    "        f.write('')\n",
    "        f.close()\n",
    "    return customer_list"
   ]
  },
  {
   "cell_type": "code",
   "execution_count": 4,
   "metadata": {
    "ExecuteTime": {
     "end_time": "2021-03-02T09:15:57.071529Z",
     "start_time": "2021-03-02T09:15:57.068518Z"
    }
   },
   "outputs": [],
   "source": [
    "# 1입력\n",
    "def insert():\n",
    "    name = input('이름: ')\n",
    "    tel = input('전화번호: ')\n",
    "    email = input('이메일: ')\n",
    "    age = input('나이: ')\n",
    "    grade = input('등급: ')\n",
    "    etc = input('기타 :')\n",
    "    customer = Customer(name,tel,email,age,grade,etc)\n",
    "    return customer"
   ]
  },
  {
   "cell_type": "code",
   "execution_count": 9,
   "metadata": {
    "ExecuteTime": {
     "end_time": "2021-03-02T09:16:06.080527Z",
     "start_time": "2021-03-02T09:16:06.075541Z"
    }
   },
   "outputs": [],
   "source": [
    "def main():\n",
    "    customer_list = load_customers()\n",
    "    while True:\n",
    "        print(\"1:입력\",\"2:전체출력\",\"3:삭제\", \"4:이름찾기\",\"5:내보내기(CSV)\", \n",
    "              \"9:종료\", sep=\"|\", end=\"\")\n",
    "        menu = int(input(\"메뉴 선택 : \"))\n",
    "        if menu == 1:\n",
    "            customer = insert()\n",
    "            customer_list.append(customer)\n",
    "        elif menu == 2:\n",
    "            all_print(customer_list)\n",
    "        elif menu == 3:\n",
    "            del_cus()\n",
    "        elif menu == 4:\n",
    "            search_cus(customer_list)\n",
    "        elif menu == 5:\n",
    "            out_csv(customer_list)\n",
    "        elif menu == 9:\n",
    "            save_custxt(customer_list)\n",
    "            break\n",
    "        "
   ]
  },
  {
   "cell_type": "code",
   "execution_count": 10,
   "metadata": {
    "ExecuteTime": {
     "end_time": "2021-03-02T09:16:39.890586Z",
     "start_time": "2021-03-02T09:16:07.323538Z"
    }
   },
   "outputs": [
    {
     "name": "stdout",
     "output_type": "stream",
     "text": [
      "데이터 파일이 없어 초기화 하였습니다.\n",
      "1:입력|2:전체출력|3:삭제|4:이름찾기|5:내보내기(CSV)|9:종료메뉴 선택 : 1\n",
      "이름: 홍\n",
      "전화번호: 010-3333-3333\n",
      "이메일: hong@ghon.gon\n",
      "나이: 30\n",
      "등급: 5\n",
      "기타 :gidddddd\n",
      "1:입력|2:전체출력|3:삭제|4:이름찾기|5:내보내기(CSV)|9:종료메뉴 선택 : 2\n",
      "\n",
      "===================================================\n",
      "        고객 정보                                      \n",
      "---------------------------------------------------\n",
      "GRADE\t이름\t전화\t\t메일\t\t나이\t기타\t\n",
      "***** \t홍\t010-3333-3333\thong@ghon.gon\t30\tgidddddd\n",
      "1:입력|2:전체출력|3:삭제|4:이름찾기|5:내보내기(CSV)|9:종료메뉴 선택 : 5\n",
      "원하는 파일명 ? 9_cusc.csv\n",
      "데이터 내보내기 성공\n",
      "1:입력|2:전체출력|3:삭제|4:이름찾기|5:내보내기(CSV)|9:종료메뉴 선택 : 9\n"
     ]
    }
   ],
   "source": [
    "if __name__=='__main__':\n",
    "    main()"
   ]
  },
  {
   "cell_type": "code",
   "execution_count": 5,
   "metadata": {
    "ExecuteTime": {
     "end_time": "2021-03-02T09:15:59.567918Z",
     "start_time": "2021-03-02T09:15:59.563929Z"
    }
   },
   "outputs": [],
   "source": [
    "# 전체출력\n",
    "def all_print(customer_list):\n",
    "    print(\"\"\"\n",
    "===================================================\n",
    "        고객 정보                                      \n",
    "---------------------------------------------------\n",
    "GRADE\\t이름\\t전화\\t\\t메일\\t\\t나이\\t기타\\t\"\"\")\n",
    "    for cus in customer_list:\n",
    "        print(int(cus.grade)*'*','\\t'+cus.name+'\\t'+cus.tel+'\\t'+cus.email+'\\t'+cus.age+'\\t'+cus.etc)\n",
    "        \n"
   ]
  },
  {
   "cell_type": "code",
   "execution_count": null,
   "metadata": {
    "ExecuteTime": {
     "end_time": "2021-03-02T08:27:27.767447Z",
     "start_time": "2021-03-02T08:27:27.764455Z"
    }
   },
   "outputs": [],
   "source": [
    "def del_cus(n):\n",
    "    del customer_list[n]"
   ]
  },
  {
   "cell_type": "code",
   "execution_count": 6,
   "metadata": {
    "ExecuteTime": {
     "end_time": "2021-03-02T09:16:00.886996Z",
     "start_time": "2021-03-02T09:16:00.883998Z"
    }
   },
   "outputs": [],
   "source": [
    "def search_cus(customer_list):\n",
    "    sname=input(\"찾을 고객 이름은 ? \")\n",
    "    print(\"\"\"\n",
    "===================================================\n",
    "        고객 정보                                      \n",
    "---------------------------------------------------\n",
    "GRADE\\t이름\\t전화\\t\\t메일\\t\\t나이\\t기타\\t\"\"\")\n",
    "    for cus in customer_list:\n",
    "        if (cus.name==sname):\n",
    "            print(int(cus.grade)*'*','\\t'+cus.name+'\\t'+cus.tel+'\\t'+cus.email+'\\t'+cus.age+'\\t'+cus.etc)"
   ]
  },
  {
   "cell_type": "code",
   "execution_count": 7,
   "metadata": {
    "ExecuteTime": {
     "end_time": "2021-03-02T09:16:02.209854Z",
     "start_time": "2021-03-02T09:16:02.203860Z"
    }
   },
   "outputs": [],
   "source": [
    "def out_csv(customer_list):\n",
    "    import csv\n",
    "    cus_dict=[]\n",
    "    for cus in customer_list:\n",
    "        cus_dict.append(Customer.as_dict(cus))\n",
    "    cusnames=list(cus_dict[0].keys())\n",
    "    filename=input('원하는 파일명 ? ')\n",
    "    try:\n",
    "        with open('data/'+filename,'w',encoding='utf8',newline='') as f:\n",
    "            dict_writer = csv.DictWriter(f,fieldnames=cusnames)\n",
    "            dict_writer.writeheader() # header 부분 write\n",
    "            for cus in cus_dict:\n",
    "                dict_writer.writerow(cus)\n",
    "            print('데이터 내보내기 성공')\n",
    "    except FileNotFoundError as e:\n",
    "        print('데이터 내보내기 실패 : '+e)"
   ]
  },
  {
   "cell_type": "code",
   "execution_count": 8,
   "metadata": {
    "ExecuteTime": {
     "end_time": "2021-03-02T09:16:02.600326Z",
     "start_time": "2021-03-02T09:16:02.596326Z"
    }
   },
   "outputs": [],
   "source": [
    "def save_custxt(customer_list):\n",
    "    customer_tlist=[]\n",
    "    for cus in customer_list:\n",
    "        customer_tlist.append(cus.to_list_style())\n",
    "    with open('data/ch09_customers.txt','w',encoding='utf8') as f:\n",
    "        f.writelines(customer_tlist)"
   ]
  },
  {
   "cell_type": "code",
   "execution_count": null,
   "metadata": {
    "ExecuteTime": {
     "end_time": "2021-03-02T08:57:53.635216Z",
     "start_time": "2021-03-02T08:57:53.627259Z"
    }
   },
   "outputs": [],
   "source": [
    "save_custxt(customer_list)"
   ]
  },
  {
   "cell_type": "code",
   "execution_count": null,
   "metadata": {
    "ExecuteTime": {
     "end_time": "2021-03-02T08:57:42.123731Z",
     "start_time": "2021-03-02T08:57:42.115753Z"
    }
   },
   "outputs": [],
   "source": [
    "customer_list"
   ]
  },
  {
   "cell_type": "code",
   "execution_count": 11,
   "metadata": {
    "ExecuteTime": {
     "end_time": "2021-03-02T09:17:45.615495Z",
     "start_time": "2021-03-02T09:17:45.612498Z"
    }
   },
   "outputs": [
    {
     "name": "stdout",
     "output_type": "stream",
     "text": [
      "데이터 파일이 없어 초기화 하였습니다.\n"
     ]
    }
   ],
   "source": [
    "for cus in load_customers():\n",
    "    print(cus)"
   ]
  },
  {
   "cell_type": "code",
   "execution_count": null,
   "metadata": {},
   "outputs": [],
   "source": []
  }
 ],
 "metadata": {
  "kernelspec": {
   "display_name": "Python 3",
   "language": "python",
   "name": "python3"
  },
  "language_info": {
   "codemirror_mode": {
    "name": "ipython",
    "version": 3
   },
   "file_extension": ".py",
   "mimetype": "text/x-python",
   "name": "python",
   "nbconvert_exporter": "python",
   "pygments_lexer": "ipython3",
   "version": "3.8.5"
  },
  "toc": {
   "base_numbering": 1,
   "nav_menu": {},
   "number_sections": false,
   "sideBar": true,
   "skip_h1_title": false,
   "title_cell": "Table of Contents",
   "title_sidebar": "Contents",
   "toc_cell": false,
   "toc_position": {},
   "toc_section_display": true,
   "toc_window_display": false
  },
  "varInspector": {
   "cols": {
    "lenName": 16,
    "lenType": 16,
    "lenVar": 40
   },
   "kernels_config": {
    "python": {
     "delete_cmd_postfix": "",
     "delete_cmd_prefix": "del ",
     "library": "var_list.py",
     "varRefreshCmd": "print(var_dic_list())"
    },
    "r": {
     "delete_cmd_postfix": ") ",
     "delete_cmd_prefix": "rm(",
     "library": "var_list.r",
     "varRefreshCmd": "cat(var_dic_list()) "
    }
   },
   "oldHeight": 122,
   "position": {
    "height": "475px",
    "left": "584px",
    "right": "20px",
    "top": "118px",
    "width": "350px"
   },
   "types_to_exclude": [
    "module",
    "function",
    "builtin_function_or_method",
    "instance",
    "_Feature"
   ],
   "varInspector_section_display": "block",
   "window_display": false
  }
 },
 "nbformat": 4,
 "nbformat_minor": 4
}
