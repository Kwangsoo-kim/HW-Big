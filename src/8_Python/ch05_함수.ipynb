{
 "cells": [
  {
   "cell_type": "markdown",
   "metadata": {},
   "source": [
    "# ch05. 함수\n",
    "- 반복해서 사용한 코드를 묶어 놓고 그것에 이름을 붙인 것\n",
    "- 반복해서 사용할 코드는 함수를 이용하면 훨씬 구조적이고 간결한 코드를 작성할 수 있다.\n",
    "- 함수의 정의\n",
    "<pre>\n",
    "def 함수명([para1,para2,..):\n",
    "    expressions\n",
    "<pre>\n"
   ]
  },
  {
   "cell_type": "markdown",
   "metadata": {
    "ExecuteTime": {
     "end_time": "2021-02-24T00:38:47.688439Z",
     "start_time": "2021-02-24T00:38:47.685428Z"
    }
   },
   "source": [
    "## 1. 함수의 정의 및 사용"
   ]
  },
  {
   "cell_type": "code",
   "execution_count": null,
   "metadata": {
    "ExecuteTime": {
     "end_time": "2021-02-24T08:55:11.062675Z",
     "start_time": "2021-02-24T08:55:11.059685Z"
    }
   },
   "outputs": [],
   "source": [
    "def my_hello():\n",
    "    print('Hello,World')\n",
    "    print('Hello,Python')"
   ]
  },
  {
   "cell_type": "code",
   "execution_count": null,
   "metadata": {
    "ExecuteTime": {
     "end_time": "2021-02-24T08:55:11.149443Z",
     "start_time": "2021-02-24T08:55:11.064671Z"
    }
   },
   "outputs": [],
   "source": [
    "my_hello()"
   ]
  },
  {
   "cell_type": "code",
   "execution_count": null,
   "metadata": {
    "ExecuteTime": {
     "end_time": "2021-02-24T08:55:11.224243Z",
     "start_time": "2021-02-24T08:55:11.151438Z"
    }
   },
   "outputs": [],
   "source": [
    "print(__name__)"
   ]
  },
  {
   "cell_type": "code",
   "execution_count": null,
   "metadata": {
    "ExecuteTime": {
     "end_time": "2021-02-24T08:55:11.306024Z",
     "start_time": "2021-02-24T08:55:11.226238Z"
    }
   },
   "outputs": [],
   "source": [
    "if __name__ == '__main__':\n",
    "    my_hello()"
   ]
  },
  {
   "cell_type": "code",
   "execution_count": null,
   "metadata": {
    "ExecuteTime": {
     "end_time": "2021-02-24T08:55:11.397778Z",
     "start_time": "2021-02-24T08:55:11.310014Z"
    }
   },
   "outputs": [],
   "source": [
    "def my_add(num1,num2,num3=0):\n",
    "    return num1+num2+num3\n",
    "print(my_add(20,30,40))\n",
    "print(my_add(20,30))\n",
    "\n",
    "## 기본값을 가지는 매개변수는 맨뒤에 와야한다.(키워드인수)"
   ]
  },
  {
   "cell_type": "markdown",
   "metadata": {},
   "source": [
    "#### docstring"
   ]
  },
  {
   "cell_type": "code",
   "execution_count": null,
   "metadata": {
    "ExecuteTime": {
     "end_time": "2021-02-24T08:55:11.488051Z",
     "start_time": "2021-02-24T08:55:11.398787Z"
    }
   },
   "outputs": [],
   "source": [
    "def my_function():\n",
    "    \"\"\"\n",
    "    함수의 첫 라인에 독스트링을 포함시킬 수 있다.\n",
    "    독스트링은 함수의 설명서를 달아주는 역할. 주석보다 더 많은 기능\n",
    "    \"\"\"\n",
    "    pass"
   ]
  },
  {
   "cell_type": "code",
   "execution_count": null,
   "metadata": {
    "ExecuteTime": {
     "end_time": "2021-02-24T08:55:11.596761Z",
     "start_time": "2021-02-24T08:55:11.490046Z"
    }
   },
   "outputs": [],
   "source": [
    "print(my_function.__doc__)"
   ]
  },
  {
   "cell_type": "code",
   "execution_count": null,
   "metadata": {
    "ExecuteTime": {
     "end_time": "2021-02-24T08:55:11.679550Z",
     "start_time": "2021-02-24T08:55:11.597758Z"
    }
   },
   "outputs": [],
   "source": [
    "def fibonacci(n):\n",
    "    \"\"\"\n",
    "    매개변수로 들어온 n값 미만까지 피보나치 수열을 출력합니다. \n",
    "    \"\"\"\n",
    "    a,b =0,1\n",
    "    while a<n:\n",
    "        print(a, end=' ')\n",
    "        a,b=b,a+b\n",
    "    print()\n",
    "\n",
    "if __name__=='__main__':\n",
    "    fibonacci(10)"
   ]
  },
  {
   "cell_type": "code",
   "execution_count": null,
   "metadata": {
    "ExecuteTime": {
     "end_time": "2021-02-24T08:55:11.883993Z",
     "start_time": "2021-02-24T08:55:11.681534Z"
    }
   },
   "outputs": [],
   "source": [
    "fibonacci()"
   ]
  },
  {
   "cell_type": "markdown",
   "metadata": {
    "ExecuteTime": {
     "end_time": "2021-02-24T01:03:46.061260Z",
     "start_time": "2021-02-24T01:03:46.045612Z"
    }
   },
   "source": [
    "### 1.2 지역변수와 전역변수"
   ]
  },
  {
   "cell_type": "code",
   "execution_count": null,
   "metadata": {
    "ExecuteTime": {
     "end_time": "2021-02-24T08:55:11.919898Z",
     "start_time": "2021-02-24T08:55:11.080Z"
    }
   },
   "outputs": [],
   "source": [
    "global_var = 100 # 전역변수\n",
    "def func1():\n",
    "    print(global_var)\n",
    "\n",
    "func1()"
   ]
  },
  {
   "cell_type": "code",
   "execution_count": null,
   "metadata": {
    "ExecuteTime": {
     "end_time": "2021-02-24T08:55:11.920894Z",
     "start_time": "2021-02-24T08:55:11.083Z"
    }
   },
   "outputs": [],
   "source": [
    "def func2():\n",
    "    local_var = 200 # 지역변수\n",
    "    print(local_var)\n",
    "    \n",
    "func2()"
   ]
  },
  {
   "cell_type": "code",
   "execution_count": null,
   "metadata": {
    "ExecuteTime": {
     "end_time": "2021-02-24T08:55:11.921891Z",
     "start_time": "2021-02-24T08:55:11.085Z"
    }
   },
   "outputs": [],
   "source": [
    "# 렉시컬 특성\n",
    "g_var = 100\n",
    "def func3():\n",
    "    print('before',g_var)\n",
    "    g_var = 200 # 지역변수를 선언하면서 할당\n",
    "    print('after',g_var)\n",
    "\n",
    "func3()"
   ]
  },
  {
   "cell_type": "code",
   "execution_count": null,
   "metadata": {
    "ExecuteTime": {
     "end_time": "2021-02-24T08:55:11.923886Z",
     "start_time": "2021-02-24T08:55:11.088Z"
    }
   },
   "outputs": [],
   "source": [
    "g_var = 100\n",
    "def func3():\n",
    "    global g_var # g_var 변수는 전역변수로 사용하겠다는 선언문\n",
    "    print('before',g_var)\n",
    "    g_var = 200  # global로 인해서 해당 g_var는 전역변수 g_var와 같다.\n",
    "    print('after',g_var)\n",
    "    \n",
    "func3()\n",
    "print(g_var)"
   ]
  },
  {
   "cell_type": "code",
   "execution_count": null,
   "metadata": {
    "ExecuteTime": {
     "end_time": "2021-02-24T08:55:11.924883Z",
     "start_time": "2021-02-24T08:55:11.090Z"
    }
   },
   "outputs": [],
   "source": [
    "global_var = 100 # 전역변수\n",
    "def func1():\n",
    "    global_var = 200 # 지역변수 선언 \n",
    "    print(global_var) # 지역변수가 우선순위가 더 높다\n",
    "print('func1() 실행 전 global_var값',global_var) # 전역변수\n",
    "func1()\n",
    "print('func1() 실행 후 global_var값',global_var) # 전역변수"
   ]
  },
  {
   "cell_type": "code",
   "execution_count": null,
   "metadata": {
    "ExecuteTime": {
     "end_time": "2021-02-24T08:55:11.925881Z",
     "start_time": "2021-02-24T08:55:11.092Z"
    }
   },
   "outputs": [],
   "source": [
    "global_var = 100 # 전역변수\n",
    "def func1():\n",
    "    global global_var\n",
    "    global_var = 200 # 전역변수 수정 \n",
    "    print(global_var) \n",
    "print('func1() 실행 전 global_var값',global_var) # 전역변수\n",
    "func1()\n",
    "print('func1() 실행 후 global_var값',global_var) # 전역변수"
   ]
  },
  {
   "cell_type": "markdown",
   "metadata": {},
   "source": [
    "### 1.3 값에 의한 호출\n",
    "- 함수에 인수로 전달되는 변수가 스칼라 변수(숫자, 문자 ,논리)일 경우 "
   ]
  },
  {
   "cell_type": "code",
   "execution_count": null,
   "metadata": {
    "ExecuteTime": {
     "end_time": "2021-02-24T08:55:11.926878Z",
     "start_time": "2021-02-24T08:55:11.095Z"
    }
   },
   "outputs": [],
   "source": [
    "foo ='a'# 전역변수\n",
    "id(foo)"
   ]
  },
  {
   "cell_type": "code",
   "execution_count": null,
   "metadata": {
    "ExecuteTime": {
     "end_time": "2021-02-24T08:55:11.927875Z",
     "start_time": "2021-02-24T08:55:11.098Z"
    }
   },
   "outputs": [],
   "source": [
    "def func1(foo): # 매개변수는 지역변수\n",
    "    print('before :',foo,'의 주소는',id(foo))\n",
    "    foo = foo*3\n",
    "    print('after :',foo,'의 주소는',id(foo))\n",
    "\n",
    "func1(foo)"
   ]
  },
  {
   "cell_type": "code",
   "execution_count": null,
   "metadata": {
    "ExecuteTime": {
     "end_time": "2021-02-24T08:55:11.928872Z",
     "start_time": "2021-02-24T08:55:11.100Z"
    }
   },
   "outputs": [],
   "source": [
    "print(foo)"
   ]
  },
  {
   "cell_type": "markdown",
   "metadata": {},
   "source": [
    "### 1.4 참조에 의한 호출\n",
    "- 함수에 인수로 전달되는 변수가 리스트,딕셔너리,셋.... 일 경우"
   ]
  },
  {
   "cell_type": "code",
   "execution_count": null,
   "metadata": {
    "ExecuteTime": {
     "end_time": "2021-02-24T08:55:11.929870Z",
     "start_time": "2021-02-24T08:55:11.104Z"
    }
   },
   "outputs": [],
   "source": [
    "L = [1,2,3,4,5]\n",
    "id(L)"
   ]
  },
  {
   "cell_type": "code",
   "execution_count": null,
   "metadata": {
    "ExecuteTime": {
     "end_time": "2021-02-24T08:55:11.930867Z",
     "start_time": "2021-02-24T08:55:11.106Z"
    }
   },
   "outputs": [],
   "source": [
    "def func2(foo): # foo는 지역변수\n",
    "    print('before : ',foo,'의 주소 : ',id(foo))\n",
    "    foo.append(6)\n",
    "    print('after : ',foo,'의 주소 : ',id(foo))\n",
    "    \n",
    "func2(L)\n",
    "print('함수 호출 후에 L : ',L,'의 주소 : ',id(L))"
   ]
  },
  {
   "cell_type": "markdown",
   "metadata": {
    "ExecuteTime": {
     "end_time": "2021-02-24T01:49:56.184072Z",
     "start_time": "2021-02-24T01:49:56.181079Z"
    }
   },
   "source": [
    "### 1.5 함수의 이름 변경\n",
    "- python : 함수형 언어, 객체 지향 언어"
   ]
  },
  {
   "cell_type": "code",
   "execution_count": null,
   "metadata": {
    "ExecuteTime": {
     "end_time": "2021-02-24T08:55:11.931864Z",
     "start_time": "2021-02-24T08:55:11.109Z"
    }
   },
   "outputs": [],
   "source": [
    "def fibonacci(n):\n",
    "    \"\"\"\n",
    "    매개변수로 들어온 n값 미만까지 피보나치 수열을 출력합니다. \n",
    "    \"\"\"\n",
    "    a,b =0,1\n",
    "    while a<n:\n",
    "        print(a, end=' ')\n",
    "        a,b=b,a+b\n",
    "    print()"
   ]
  },
  {
   "cell_type": "code",
   "execution_count": null,
   "metadata": {
    "ExecuteTime": {
     "end_time": "2021-02-24T08:55:11.932861Z",
     "start_time": "2021-02-24T08:55:11.111Z"
    }
   },
   "outputs": [],
   "source": [
    "type(fibonacci)"
   ]
  },
  {
   "cell_type": "code",
   "execution_count": null,
   "metadata": {
    "ExecuteTime": {
     "end_time": "2021-02-24T08:55:11.933861Z",
     "start_time": "2021-02-24T08:55:11.114Z"
    }
   },
   "outputs": [],
   "source": [
    "fibo = fibonacci #fibonacci 함수이름이  fibo로도 사용가능"
   ]
  },
  {
   "cell_type": "code",
   "execution_count": null,
   "metadata": {
    "ExecuteTime": {
     "end_time": "2021-02-24T08:55:11.934857Z",
     "start_time": "2021-02-24T08:55:11.116Z"
    }
   },
   "outputs": [],
   "source": [
    "fibo(100)"
   ]
  },
  {
   "cell_type": "markdown",
   "metadata": {
    "ExecuteTime": {
     "end_time": "2021-02-24T01:54:42.497349Z",
     "start_time": "2021-02-24T01:54:42.494376Z"
    }
   },
   "source": [
    "## 2. 함수의 실행 결과를 반환하는 return"
   ]
  },
  {
   "cell_type": "code",
   "execution_count": null,
   "metadata": {
    "ExecuteTime": {
     "end_time": "2021-02-24T08:55:11.935853Z",
     "start_time": "2021-02-24T08:55:11.119Z"
    }
   },
   "outputs": [],
   "source": [
    "def fibonacci(n):\n",
    "    \"\"\"\n",
    "    매개변수로 들어온 n값 미만까지 피보나치 수열을 출력합니다. \n",
    "    \"\"\"\n",
    "    a,b =0,1\n",
    "    while a<n:\n",
    "        print(a, end=' ')\n",
    "        a,b=b,a+b\n",
    "    print()\n",
    "def fibonacci(n):\n",
    "    \"n값 미만의 피보나치 수열을 return\"\n",
    "    result = []\n",
    "    a,b=0,1\n",
    "    while a<n:\n",
    "        result.append(a)\n",
    "        a,b=b,a+b\n",
    "    return result\n",
    "# 할당값을 받기 위해선 return값으로 도출해야한다. "
   ]
  },
  {
   "cell_type": "code",
   "execution_count": null,
   "metadata": {
    "ExecuteTime": {
     "end_time": "2021-02-24T08:55:11.936851Z",
     "start_time": "2021-02-24T08:55:11.122Z"
    }
   },
   "outputs": [],
   "source": [
    "L = fibonacci(100)"
   ]
  },
  {
   "cell_type": "code",
   "execution_count": null,
   "metadata": {
    "ExecuteTime": {
     "end_time": "2021-02-24T08:55:11.937849Z",
     "start_time": "2021-02-24T08:55:11.124Z"
    }
   },
   "outputs": [],
   "source": [
    "L"
   ]
  },
  {
   "cell_type": "markdown",
   "metadata": {},
   "source": [
    "### 2.1 여러개 값 반환"
   ]
  },
  {
   "cell_type": "code",
   "execution_count": null,
   "metadata": {
    "ExecuteTime": {
     "end_time": "2021-02-24T08:55:11.938846Z",
     "start_time": "2021-02-24T08:55:11.127Z"
    }
   },
   "outputs": [],
   "source": [
    "def swap(a,b):\n",
    "    return b,a"
   ]
  },
  {
   "cell_type": "code",
   "execution_count": null,
   "metadata": {
    "ExecuteTime": {
     "end_time": "2021-02-24T08:55:11.938846Z",
     "start_time": "2021-02-24T08:55:11.130Z"
    }
   },
   "outputs": [],
   "source": [
    "x=5\n",
    "y=10\n",
    "print('함수 실행 전 ', x,y)\n",
    "x,y = swap(x,y)\n",
    "print('함수 실행 후 ', x,y)"
   ]
  },
  {
   "cell_type": "code",
   "execution_count": null,
   "metadata": {
    "ExecuteTime": {
     "end_time": "2021-02-24T08:55:11.939843Z",
     "start_time": "2021-02-24T08:55:11.132Z"
    }
   },
   "outputs": [],
   "source": [
    "a = swap(x,y)\n",
    "print(type(a))\n",
    "print(a)\n",
    "#모든 언어는 리턴값은 1개다. 튜플로 넘어옴"
   ]
  },
  {
   "cell_type": "markdown",
   "metadata": {
    "ExecuteTime": {
     "end_time": "2021-02-24T02:11:14.683086Z",
     "start_time": "2021-02-24T02:11:14.679122Z"
    }
   },
   "source": [
    "## 3. 함수의 매개변수"
   ]
  },
  {
   "cell_type": "markdown",
   "metadata": {},
   "source": [
    "### 3.1 기본값을 갖는 매개변수"
   ]
  },
  {
   "cell_type": "code",
   "execution_count": null,
   "metadata": {
    "ExecuteTime": {
     "end_time": "2021-02-24T08:55:11.940841Z",
     "start_time": "2021-02-24T08:55:11.136Z"
    }
   },
   "outputs": [],
   "source": [
    "# 기본값을 갖는 매개변수는 선택적으로 사용가능\n",
    "# 맨 뒤에 넣어야함\n",
    "def make_url(ip,port=80):\n",
    "    return 'http://{}:{}'.format(ip,port)\n",
    "make_url('localhost',80)"
   ]
  },
  {
   "cell_type": "code",
   "execution_count": null,
   "metadata": {
    "ExecuteTime": {
     "end_time": "2021-02-24T08:55:11.941837Z",
     "start_time": "2021-02-24T08:55:11.138Z"
    }
   },
   "outputs": [],
   "source": [
    "make_url(\"localhost\")"
   ]
  },
  {
   "cell_type": "markdown",
   "metadata": {},
   "source": [
    "### 3.2 기본변수를 갖는 매개변수"
   ]
  },
  {
   "cell_type": "code",
   "execution_count": null,
   "metadata": {
    "ExecuteTime": {
     "end_time": "2021-02-24T08:55:11.942835Z",
     "start_time": "2021-02-24T08:55:11.141Z"
    }
   },
   "outputs": [],
   "source": [
    "i = 5\n",
    "# 기본변수가 스칼라 변수일때 arg의 기본값은 함수가 정의되는 지점에 한번만 평가\n",
    "def func2(arg=i): \n",
    "    print('arg = ', arg)"
   ]
  },
  {
   "cell_type": "code",
   "execution_count": null,
   "metadata": {
    "ExecuteTime": {
     "end_time": "2021-02-24T08:55:11.943833Z",
     "start_time": "2021-02-24T08:55:11.144Z"
    }
   },
   "outputs": [],
   "source": [
    "i = 6\n",
    "func2()"
   ]
  },
  {
   "cell_type": "code",
   "execution_count": null,
   "metadata": {
    "ExecuteTime": {
     "end_time": "2021-02-24T08:55:11.944830Z",
     "start_time": "2021-02-24T08:55:11.149Z"
    }
   },
   "outputs": [],
   "source": [
    "# 기본변수가 리스트,셋,딕셔너리 또는 객체일때 함수를 호출 후 다시 전달\n",
    "list_=[]\n",
    "def func3(a,L=list_):\n",
    "    L.append(a)\n",
    "    return L\n",
    "print(func3(1))"
   ]
  },
  {
   "cell_type": "code",
   "execution_count": null,
   "metadata": {
    "ExecuteTime": {
     "end_time": "2021-02-24T08:55:11.945827Z",
     "start_time": "2021-02-24T08:55:11.153Z"
    }
   },
   "outputs": [],
   "source": [
    "print(func3(2))"
   ]
  },
  {
   "cell_type": "code",
   "execution_count": null,
   "metadata": {
    "ExecuteTime": {
     "end_time": "2021-02-24T08:55:11.946825Z",
     "start_time": "2021-02-24T08:55:11.156Z"
    }
   },
   "outputs": [],
   "source": [
    "def func(a,L=[]):\n",
    "    L.append(a)\n",
    "    return L"
   ]
  },
  {
   "cell_type": "code",
   "execution_count": null,
   "metadata": {
    "ExecuteTime": {
     "end_time": "2021-02-24T08:55:11.946825Z",
     "start_time": "2021-02-24T08:55:11.159Z"
    }
   },
   "outputs": [],
   "source": [
    "print(func(1))"
   ]
  },
  {
   "cell_type": "code",
   "execution_count": null,
   "metadata": {
    "ExecuteTime": {
     "end_time": "2021-02-24T08:55:11.947822Z",
     "start_time": "2021-02-24T08:55:11.162Z"
    }
   },
   "outputs": [],
   "source": [
    "print(func(2))\n",
    "# L에 할당된 주소값으로 리턴됨으로 중첩된다."
   ]
  },
  {
   "cell_type": "markdown",
   "metadata": {
    "ExecuteTime": {
     "end_time": "2021-02-24T02:47:45.856030Z",
     "start_time": "2021-02-24T02:47:45.853063Z"
    }
   },
   "source": [
    "### 3.3 순서인수와 키워드 인수\n",
    "- 순서인수 : 순서적으로 반드시 와야하는 인수\n",
    "- 순서인수와 키워드 인수가 같이 올 때는 키워드 인수가 반드시 뒤에 온다"
   ]
  },
  {
   "cell_type": "code",
   "execution_count": null,
   "metadata": {
    "ExecuteTime": {
     "end_time": "2021-02-24T08:55:11.948819Z",
     "start_time": "2021-02-24T08:55:11.165Z"
    }
   },
   "outputs": [],
   "source": [
    "# 기본변수의 초기화 방법\n",
    "def func4(a,L=None):\n",
    "    if L is None:\n",
    "        L = []\n",
    "    L.append(a)\n",
    "    return L\n",
    "func4(10)"
   ]
  },
  {
   "cell_type": "code",
   "execution_count": null,
   "metadata": {
    "ExecuteTime": {
     "end_time": "2021-02-24T08:55:11.949816Z",
     "start_time": "2021-02-24T08:55:11.167Z"
    }
   },
   "outputs": [],
   "source": [
    "func4(5)"
   ]
  },
  {
   "cell_type": "code",
   "execution_count": null,
   "metadata": {
    "ExecuteTime": {
     "end_time": "2021-02-24T08:55:11.950814Z",
     "start_time": "2021-02-24T08:55:11.170Z"
    }
   },
   "outputs": [],
   "source": [
    "# 함수의 중첩을 원한다면\n",
    "list_=[]\n",
    "func4(10,list_)"
   ]
  },
  {
   "cell_type": "code",
   "execution_count": null,
   "metadata": {
    "ExecuteTime": {
     "end_time": "2021-02-24T08:55:11.952809Z",
     "start_time": "2021-02-24T08:55:11.172Z"
    }
   },
   "outputs": [],
   "source": [
    "func4(20,list_)"
   ]
  },
  {
   "cell_type": "markdown",
   "metadata": {
    "ExecuteTime": {
     "end_time": "2021-02-24T03:07:10.191985Z",
     "start_time": "2021-02-24T03:07:10.187995Z"
    }
   },
   "source": [
    "### 3.4 튜플 매개변수를 이용한 가변인수 설정"
   ]
  },
  {
   "cell_type": "code",
   "execution_count": null,
   "metadata": {
    "ExecuteTime": {
     "end_time": "2021-02-24T08:55:11.953806Z",
     "start_time": "2021-02-24T08:55:11.175Z"
    }
   },
   "outputs": [],
   "source": [
    "def add(a,b):\n",
    "    return a+b\n",
    "print(add(1,2))"
   ]
  },
  {
   "cell_type": "code",
   "execution_count": null,
   "metadata": {
    "ExecuteTime": {
     "end_time": "2021-02-24T08:55:11.954803Z",
     "start_time": "2021-02-24T08:55:11.178Z"
    }
   },
   "outputs": [],
   "source": [
    "def add(a,b,c):\n",
    "    return a+b+c\n",
    "print(add(1,2,3))"
   ]
  },
  {
   "cell_type": "code",
   "execution_count": null,
   "metadata": {
    "ExecuteTime": {
     "end_time": "2021-02-24T08:55:11.955805Z",
     "start_time": "2021-02-24T08:55:11.181Z"
    }
   },
   "outputs": [],
   "source": [
    "print(add(10,20))\n",
    "# 파이썬은 함수의 중복(overloading)을 허용하지 않는다"
   ]
  },
  {
   "cell_type": "code",
   "execution_count": null,
   "metadata": {
    "ExecuteTime": {
     "end_time": "2021-02-24T08:55:11.957795Z",
     "start_time": "2021-02-24T08:55:11.183Z"
    }
   },
   "outputs": [],
   "source": [
    "# args앞에 * : args가 튜플로 전달\n",
    "def add(*args): # args = ()\n",
    "    sum = 0\n",
    "    for num in args:\n",
    "        sum += num\n",
    "    return sum\n",
    "\n",
    "print(add(1,2,3,4,5))\n",
    "print(add(1))\n",
    "print(add(1,2,3))"
   ]
  },
  {
   "cell_type": "code",
   "execution_count": null,
   "metadata": {
    "ExecuteTime": {
     "end_time": "2021-02-24T08:55:11.958793Z",
     "start_time": "2021-02-24T08:55:11.186Z"
    }
   },
   "outputs": [],
   "source": [
    "#cf\n",
    "def concat(*args,sep):\n",
    "    return sep.join(args)"
   ]
  },
  {
   "cell_type": "code",
   "execution_count": null,
   "metadata": {
    "ExecuteTime": {
     "end_time": "2021-02-24T08:55:11.959790Z",
     "start_time": "2021-02-24T08:55:11.188Z"
    }
   },
   "outputs": [],
   "source": [
    "# 해결책 1\n",
    "concat('hello','world',sep='/')\n",
    "# sep 지정을 안해주면 args에 같이 딸려 들어가기 때문에 sep 지정은 필수다.\n",
    "# 함수에 args를 사용할 시에는, args매개변수 제외하고 함수 사용시 변수를 지정해줘야 한다."
   ]
  },
  {
   "cell_type": "code",
   "execution_count": null,
   "metadata": {
    "ExecuteTime": {
     "end_time": "2021-02-24T08:55:11.960788Z",
     "start_time": "2021-02-24T08:55:11.190Z"
    }
   },
   "outputs": [],
   "source": [
    "# 해결책2\n",
    "# sep변수를 앞으로 당겨서 맨 앞 변수 설정되면 , 뒤는 전부 args로 넘기는 방법.\n",
    "def concat(sep,*args):\n",
    "    return sep.join(args)"
   ]
  },
  {
   "cell_type": "code",
   "execution_count": null,
   "metadata": {
    "ExecuteTime": {
     "end_time": "2021-02-24T08:55:11.961785Z",
     "start_time": "2021-02-24T08:55:11.193Z"
    }
   },
   "outputs": [],
   "source": [
    "concat('/','hello','world','venus')"
   ]
  },
  {
   "cell_type": "code",
   "execution_count": null,
   "metadata": {
    "ExecuteTime": {
     "end_time": "2021-02-24T08:55:11.962782Z",
     "start_time": "2021-02-24T08:55:11.196Z"
    }
   },
   "outputs": [],
   "source": [
    "# 해결책3\n",
    "# sep 의 기본값을 지정해주는 방법\n",
    "def concat(*args,sep='/'): # 순서인수 > 튜플인수 > 키워드인수(기본값을 가진 변수)\n",
    "    return sep.join(args)"
   ]
  },
  {
   "cell_type": "code",
   "execution_count": null,
   "metadata": {
    "ExecuteTime": {
     "end_time": "2021-02-24T08:55:11.963779Z",
     "start_time": "2021-02-24T08:55:11.198Z"
    }
   },
   "outputs": [],
   "source": [
    "concat('earth','mars','venus')"
   ]
  },
  {
   "cell_type": "markdown",
   "metadata": {},
   "source": [
    "### 3.5 딕셔너리 매개변수\n",
    "- 순서인수, 튜플인수, 키워드인수, 딕셔너리인수 등은 같이 사용될 수 있음."
   ]
  },
  {
   "cell_type": "code",
   "execution_count": null,
   "metadata": {
    "ExecuteTime": {
     "end_time": "2021-02-24T08:55:11.964777Z",
     "start_time": "2021-02-24T08:55:11.201Z"
    }
   },
   "outputs": [],
   "source": [
    "def func5(**args): #args가 딕셔너리로 전달(**)\n",
    "    for key,value in args.items():\n",
    "        print(\"{}:{}\".format(key,value))\n",
    "func5(name='홍길동',age=20,address='서울시')"
   ]
  },
  {
   "cell_type": "code",
   "execution_count": null,
   "metadata": {
    "ExecuteTime": {
     "end_time": "2021-02-24T08:55:11.965775Z",
     "start_time": "2021-02-24T08:55:11.204Z"
    }
   },
   "outputs": [],
   "source": [
    "#순서인수,튜플인수,키워드인수,딕셔너리인수 순으로 사용\n",
    "def func6(a,*b,**c):\n",
    "        print('a = ',a)\n",
    "        print('b = ',b)\n",
    "        print('c = ',c)"
   ]
  },
  {
   "cell_type": "code",
   "execution_count": null,
   "metadata": {
    "ExecuteTime": {
     "end_time": "2021-02-24T08:55:11.966772Z",
     "start_time": "2021-02-24T08:55:11.206Z"
    }
   },
   "outputs": [],
   "source": [
    "func6(10,1,2,3,4,5,name='kim',age=30)"
   ]
  },
  {
   "cell_type": "markdown",
   "metadata": {
    "ExecuteTime": {
     "end_time": "2021-02-24T03:55:11.533558Z",
     "start_time": "2021-02-24T03:55:11.530566Z"
    }
   },
   "source": [
    "### 3.6 함수정의시 매개변수의 순서"
   ]
  },
  {
   "cell_type": "code",
   "execution_count": null,
   "metadata": {
    "ExecuteTime": {
     "end_time": "2021-02-24T08:55:11.967769Z",
     "start_time": "2021-02-24T08:55:11.210Z"
    }
   },
   "outputs": [],
   "source": [
    "def func(a,b,c,*d,e=10,**f):\n",
    "    print('a = ',a)\n",
    "    print('b = ',b)\n",
    "    print('c = ',c)\n",
    "    print('d = ',d)\n",
    "    print('e = ',e)\n",
    "    print('f = ',f)"
   ]
  },
  {
   "cell_type": "code",
   "execution_count": null,
   "metadata": {
    "ExecuteTime": {
     "end_time": "2021-02-24T08:55:11.968766Z",
     "start_time": "2021-02-24T08:55:11.212Z"
    }
   },
   "outputs": [],
   "source": [
    "func(10,20,30,1,2,3,4,5,e=10,name='kim',age=30,address='mapo')"
   ]
  },
  {
   "cell_type": "code",
   "execution_count": null,
   "metadata": {
    "ExecuteTime": {
     "end_time": "2021-02-24T08:55:11.969764Z",
     "start_time": "2021-02-24T08:55:11.214Z"
    }
   },
   "outputs": [],
   "source": [
    "def add(*args):\n",
    "    sum = 0\n",
    "    for num in args:\n",
    "        sum += num\n",
    "    return sum\n",
    "add(1,2,3,4)"
   ]
  },
  {
   "cell_type": "markdown",
   "metadata": {
    "ExecuteTime": {
     "end_time": "2021-02-24T04:01:08.526311Z",
     "start_time": "2021-02-24T04:01:08.522322Z"
    }
   },
   "source": [
    "### 3.7 인수의 언패킹"
   ]
  },
  {
   "cell_type": "markdown",
   "metadata": {},
   "source": [
    "**튜플 언패킹**"
   ]
  },
  {
   "cell_type": "code",
   "execution_count": null,
   "metadata": {
    "ExecuteTime": {
     "end_time": "2021-02-24T08:55:11.969764Z",
     "start_time": "2021-02-24T08:55:11.218Z"
    }
   },
   "outputs": [],
   "source": [
    "# 튜플인수명앞에 *붙이면 언패킹된다.\n",
    "numbers = (1,2,3,4)\n",
    "add(*numbers)"
   ]
  },
  {
   "cell_type": "code",
   "execution_count": null,
   "metadata": {
    "ExecuteTime": {
     "end_time": "2021-02-24T08:55:11.971758Z",
     "start_time": "2021-02-24T08:55:11.220Z"
    }
   },
   "outputs": [],
   "source": [
    "# 예제: 다음과 같은 실행결과를 갖는 튜플인수를 갖는 range2\n",
    "\n",
    "def range2(*args):\n",
    "    length = len(args)\n",
    "    result=[]\n",
    "    if length == 0:\n",
    "        raise Exception('매개변수가 없으면 안 돼')\n",
    "    elif length == 1:\n",
    "        for i in range(args[0]):\n",
    "            result.append(i)\n",
    "    elif length == 2:\n",
    "        for i in range(args[0],args[1]):\n",
    "            result.append(i)\n",
    "    elif length == 3:\n",
    "        for i in range(args[0],args[1],args[2]):\n",
    "            result.append(i)\n",
    "    else:\n",
    "        raise Exception('매개변수가 3개 초과하면 안 돼')\n",
    "    return result\n",
    "\n",
    "print(range2(10))\n",
    "print(range2(5,10))\n",
    "print(range2(5,10,2))"
   ]
  },
  {
   "cell_type": "code",
   "execution_count": null,
   "metadata": {
    "ExecuteTime": {
     "end_time": "2021-02-24T08:55:11.972755Z",
     "start_time": "2021-02-24T08:55:11.225Z"
    }
   },
   "outputs": [],
   "source": [
    "t =(5,10,2)\n",
    "range2(*t) # 튜플 인수 언패킹"
   ]
  },
  {
   "cell_type": "markdown",
   "metadata": {},
   "source": [
    "**딕셔너리 인수 언패킹**"
   ]
  },
  {
   "cell_type": "code",
   "execution_count": null,
   "metadata": {
    "ExecuteTime": {
     "end_time": "2021-02-24T08:55:11.973753Z",
     "start_time": "2021-02-24T08:55:11.230Z"
    }
   },
   "outputs": [],
   "source": [
    "def func5(**data):\n",
    "    for item in data.items():\n",
    "        print(item)\n",
    "func5(name='홍길동',age=30,address='마포')"
   ]
  },
  {
   "cell_type": "code",
   "execution_count": null,
   "metadata": {
    "ExecuteTime": {
     "end_time": "2021-02-24T08:55:11.974751Z",
     "start_time": "2021-02-24T08:55:11.232Z"
    }
   },
   "outputs": [],
   "source": [
    "customerInfo = {'name':'홍길동','age':30,'address':'마포'}\n",
    "# func5(customerInfo)\n",
    "func5(**customerInfo) #딕셔너리 인수 언패킹"
   ]
  },
  {
   "cell_type": "markdown",
   "metadata": {},
   "source": [
    "# 4. 람다식\n",
    "- 람다식은 작은 익명함수를 의미함\n",
    "- 실행할 문장을 한문장만 작성할 수 있다.\n",
    "- return 구문이 없어도 statement결과를 반환함\n",
    "- 리스트컴프리헨션 같이 참조\n",
    "- filter(),map()함수 같이 참조"
   ]
  },
  {
   "cell_type": "code",
   "execution_count": null,
   "metadata": {
    "ExecuteTime": {
     "end_time": "2021-02-24T08:55:11.975747Z",
     "start_time": "2021-02-24T08:55:11.235Z"
    }
   },
   "outputs": [],
   "source": [
    "l=[1,2,3]\n",
    "[x**3 for x in l]"
   ]
  },
  {
   "cell_type": "markdown",
   "metadata": {},
   "source": [
    "### 4.1 람다식 : 한줄짜리 작은 익명함수를 의미 "
   ]
  },
  {
   "cell_type": "code",
   "execution_count": null,
   "metadata": {
    "ExecuteTime": {
     "end_time": "2021-02-24T08:55:11.976745Z",
     "start_time": "2021-02-24T08:55:11.239Z"
    }
   },
   "outputs": [],
   "source": [
    "def add(a,b):\n",
    "    return a+b\n",
    "add(5,6)"
   ]
  },
  {
   "cell_type": "code",
   "execution_count": null,
   "metadata": {
    "ExecuteTime": {
     "end_time": "2021-02-24T08:55:11.977742Z",
     "start_time": "2021-02-24T08:55:11.241Z"
    }
   },
   "outputs": [],
   "source": [
    "add2 = lambda a,b : a+b"
   ]
  },
  {
   "cell_type": "code",
   "execution_count": null,
   "metadata": {
    "ExecuteTime": {
     "end_time": "2021-02-24T08:55:11.977742Z",
     "start_time": "2021-02-24T08:55:11.244Z"
    }
   },
   "outputs": [],
   "source": [
    "add2(10,20)"
   ]
  },
  {
   "cell_type": "markdown",
   "metadata": {},
   "source": [
    "### 4.2 함수의 인수에 람다식 사용"
   ]
  },
  {
   "cell_type": "code",
   "execution_count": null,
   "metadata": {
    "ExecuteTime": {
     "end_time": "2021-02-24T08:55:11.979736Z",
     "start_time": "2021-02-24T08:55:11.247Z"
    }
   },
   "outputs": [],
   "source": [
    "def map_template(func,L=[]):\n",
    "    result=[]\n",
    "    for item in L:\n",
    "        result.append(func(item))\n",
    "    return result"
   ]
  },
  {
   "cell_type": "code",
   "execution_count": null,
   "metadata": {
    "ExecuteTime": {
     "end_time": "2021-02-24T08:55:11.980734Z",
     "start_time": "2021-02-24T08:55:11.249Z"
    }
   },
   "outputs": [],
   "source": [
    "#함수 만들어서 쓴느 방법\n",
    "list_data = [1,2,3,4,5]\n",
    "def x_2(x):\n",
    "    return x*2\n",
    "map_template(x_2,list_data)"
   ]
  },
  {
   "cell_type": "code",
   "execution_count": null,
   "metadata": {
    "ExecuteTime": {
     "end_time": "2021-02-24T08:55:11.981731Z",
     "start_time": "2021-02-24T08:55:11.251Z"
    }
   },
   "outputs": [],
   "source": [
    "# 람다식으로 쓰는 방법\n",
    "map_template(lambda x : x*2, list_data)"
   ]
  },
  {
   "cell_type": "code",
   "execution_count": null,
   "metadata": {
    "ExecuteTime": {
     "end_time": "2021-02-24T08:55:11.981731Z",
     "start_time": "2021-02-24T08:55:11.254Z"
    }
   },
   "outputs": [],
   "source": [
    "# map() 함수 이용\n",
    "list(map(lambda x:x*2,list_data))"
   ]
  },
  {
   "cell_type": "code",
   "execution_count": null,
   "metadata": {
    "ExecuteTime": {
     "end_time": "2021-02-24T08:55:11.982729Z",
     "start_time": "2021-02-24T08:55:11.257Z"
    }
   },
   "outputs": [],
   "source": [
    "# 리스트 컴프리핸션\n",
    "[x*2 for x in list_data] "
   ]
  },
  {
   "cell_type": "code",
   "execution_count": null,
   "metadata": {
    "ExecuteTime": {
     "end_time": "2021-02-24T08:55:11.983726Z",
     "start_time": "2021-02-24T08:55:11.259Z"
    }
   },
   "outputs": [],
   "source": [
    "list_data = [1,2,3,4,5]\n",
    "def filter_template(func,L=[]):\n",
    "    result = []\n",
    "    for item in L:\n",
    "        if func(item):\n",
    "            result.append(item)\n",
    "    return result"
   ]
  },
  {
   "cell_type": "code",
   "execution_count": null,
   "metadata": {
    "ExecuteTime": {
     "end_time": "2021-02-24T08:55:11.984723Z",
     "start_time": "2021-02-24T08:55:11.262Z"
    }
   },
   "outputs": [],
   "source": [
    "def evenyesorno(x):\n",
    "    if x%2==0:\n",
    "        return True\n",
    "filter_template(evenyesorno,list_data)"
   ]
  },
  {
   "cell_type": "code",
   "execution_count": null,
   "metadata": {
    "ExecuteTime": {
     "end_time": "2021-02-24T08:55:11.985721Z",
     "start_time": "2021-02-24T08:55:11.264Z"
    }
   },
   "outputs": [],
   "source": [
    "filter_template(lambda x : x%2==0,list_data)"
   ]
  },
  {
   "cell_type": "code",
   "execution_count": null,
   "metadata": {
    "ExecuteTime": {
     "end_time": "2021-02-24T08:55:11.986718Z",
     "start_time": "2021-02-24T08:55:11.267Z"
    }
   },
   "outputs": [],
   "source": [
    "#filter() 함수\n",
    "list(filter(lambda x : x%2==0, list_data))"
   ]
  },
  {
   "cell_type": "code",
   "execution_count": null,
   "metadata": {
    "ExecuteTime": {
     "end_time": "2021-02-24T08:55:11.987715Z",
     "start_time": "2021-02-24T08:55:11.269Z"
    }
   },
   "outputs": [],
   "source": [
    "#리스트 컴프리헨션\n",
    "[x for x in list_data if x%2==0]"
   ]
  },
  {
   "cell_type": "markdown",
   "metadata": {},
   "source": [
    "**람다식은 함수가 실행할 문장이 한문장일 경우사용** <br>\n",
    "**람다식이 가장 많이 사용되는 곳은 함수의 인수로 전달할때나 return할때**"
   ]
  },
  {
   "cell_type": "code",
   "execution_count": null,
   "metadata": {
    "ExecuteTime": {
     "end_time": "2021-02-24T08:55:11.988712Z",
     "start_time": "2021-02-24T08:55:11.272Z"
    }
   },
   "outputs": [],
   "source": [
    "pairs =[(1,'one'),(3,'three'),(2,'two'),(4,'four')]\n",
    "pairs.sort()\n",
    "pairs"
   ]
  },
  {
   "cell_type": "code",
   "execution_count": null,
   "metadata": {
    "ExecuteTime": {
     "end_time": "2021-02-24T08:55:11.989710Z",
     "start_time": "2021-02-24T08:55:11.275Z"
    }
   },
   "outputs": [],
   "source": [
    "pairs.sort(key=lambda pair :pair[1])\n",
    "pairs"
   ]
  },
  {
   "cell_type": "code",
   "execution_count": null,
   "metadata": {
    "ExecuteTime": {
     "end_time": "2021-02-24T08:55:11.990707Z",
     "start_time": "2021-02-24T08:55:11.278Z"
    }
   },
   "outputs": [],
   "source": [
    "def apply(data,func=None):\n",
    "    if func == None:\n",
    "        return data\n",
    "    else:\n",
    "        return func(data)\n",
    "apply(100, lambda x : x**3)"
   ]
  },
  {
   "cell_type": "markdown",
   "metadata": {},
   "source": [
    "### 4.3 리턴문에 람다식 이용"
   ]
  },
  {
   "cell_type": "code",
   "execution_count": null,
   "metadata": {
    "ExecuteTime": {
     "end_time": "2021-02-24T08:55:11.991705Z",
     "start_time": "2021-02-24T08:55:11.281Z"
    }
   },
   "outputs": [],
   "source": [
    "# 함수를 return하는 함수\n",
    "# make_box((5,)) -> 1차원 5개짜리 list를 만드는 함수 fun -> fun(10)->[10,10,10,10,10]\n",
    "# make_box((2,3)) -> 2차원 2행 3열 list를 만드는 함수 fun -> fun(10)->[[10,10,10],[10,10,10]]\n",
    "def make_box(shape):\n",
    "    def box(init_value):\n",
    "        if len(shape)==1:\n",
    "            return [init_value] * shape[0]\n",
    "        elif len(shape)==2:\n",
    "            return [[init_value] * shape[1]]*shape[0]\n",
    "    return box"
   ]
  },
  {
   "cell_type": "code",
   "execution_count": null,
   "metadata": {
    "ExecuteTime": {
     "end_time": "2021-02-24T08:55:11.992702Z",
     "start_time": "2021-02-24T08:55:11.284Z"
    }
   },
   "outputs": [],
   "source": [
    "box1 = make_box([5,])"
   ]
  },
  {
   "cell_type": "code",
   "execution_count": null,
   "metadata": {
    "ExecuteTime": {
     "end_time": "2021-02-24T08:55:11.992702Z",
     "start_time": "2021-02-24T08:55:11.286Z"
    }
   },
   "outputs": [],
   "source": [
    "type(box1)"
   ]
  },
  {
   "cell_type": "code",
   "execution_count": null,
   "metadata": {
    "ExecuteTime": {
     "end_time": "2021-02-24T08:55:11.993700Z",
     "start_time": "2021-02-24T08:55:11.289Z"
    }
   },
   "outputs": [],
   "source": [
    "box1(10)"
   ]
  },
  {
   "cell_type": "code",
   "execution_count": null,
   "metadata": {
    "ExecuteTime": {
     "end_time": "2021-02-24T08:55:11.994697Z",
     "start_time": "2021-02-24T08:55:11.291Z"
    }
   },
   "outputs": [],
   "source": [
    "box2 = make_box([2,3])"
   ]
  },
  {
   "cell_type": "code",
   "execution_count": null,
   "metadata": {
    "ExecuteTime": {
     "end_time": "2021-02-24T08:55:11.995694Z",
     "start_time": "2021-02-24T08:55:11.294Z"
    }
   },
   "outputs": [],
   "source": [
    "box2(10)"
   ]
  },
  {
   "cell_type": "code",
   "execution_count": null,
   "metadata": {
    "ExecuteTime": {
     "end_time": "2021-02-24T08:55:11.996691Z",
     "start_time": "2021-02-24T08:55:11.297Z"
    }
   },
   "outputs": [],
   "source": [
    "def make_box1(shape):\n",
    "    if len(shape)==1:\n",
    "        return lambda x : [x]*shape[0]\n",
    "    elif len(shape)==2:\n",
    "        return lambda x : [[x]*shape[1]]*shape[0]"
   ]
  },
  {
   "cell_type": "code",
   "execution_count": null,
   "metadata": {
    "ExecuteTime": {
     "end_time": "2021-02-24T08:55:11.997689Z",
     "start_time": "2021-02-24T08:55:11.299Z"
    }
   },
   "outputs": [],
   "source": [
    "box1 = make_box1((3,2))\n",
    "box1(5)"
   ]
  },
  {
   "cell_type": "code",
   "execution_count": null,
   "metadata": {
    "ExecuteTime": {
     "end_time": "2021-02-24T08:55:11.998686Z",
     "start_time": "2021-02-24T08:55:11.302Z"
    }
   },
   "outputs": [],
   "source": [
    "box2=make_box1((7,))\n",
    "box2(10)"
   ]
  },
  {
   "cell_type": "markdown",
   "metadata": {},
   "source": [
    "## 5. 파이썬 내장함수\n",
    "-import하지 않고 바로 사용가능한 함수. 키워드처럼 간주되므로 식별자로 사용하는것 피함"
   ]
  },
  {
   "cell_type": "code",
   "execution_count": null,
   "metadata": {
    "ExecuteTime": {
     "end_time": "2021-02-24T08:55:11.999683Z",
     "start_time": "2021-02-24T08:55:11.307Z"
    }
   },
   "outputs": [],
   "source": [
    "globals() # 전역변수들 dic"
   ]
  },
  {
   "cell_type": "code",
   "execution_count": null,
   "metadata": {
    "ExecuteTime": {
     "end_time": "2021-02-24T08:55:12.000681Z",
     "start_time": "2021-02-24T08:55:11.311Z"
    }
   },
   "outputs": [],
   "source": [
    "def abc(n): # 매겨변수로 들어온 수 5 [0,1,2,3,4]\n",
    "    L=[]\n",
    "    for i in range(n):\n",
    "        L.append(i)\n",
    "    print(locals()) # 지역변수를 출력\n",
    "    return L\n",
    "abc(5)"
   ]
  },
  {
   "cell_type": "code",
   "execution_count": null,
   "metadata": {
    "ExecuteTime": {
     "end_time": "2021-02-24T08:55:12.000681Z",
     "start_time": "2021-02-24T08:55:11.314Z"
    }
   },
   "outputs": [],
   "source": [
    "isinstance(3.5,float)"
   ]
  },
  {
   "cell_type": "code",
   "execution_count": null,
   "metadata": {
    "ExecuteTime": {
     "end_time": "2021-02-24T08:55:12.001678Z",
     "start_time": "2021-02-24T08:55:11.317Z"
    }
   },
   "outputs": [],
   "source": [
    "class Test:\n",
    "    def __init__(self,a,b):\n",
    "        self.a = a\n",
    "        self.b = b\n",
    "    def print_info(self):\n",
    "        print(self.a,self.b)"
   ]
  },
  {
   "cell_type": "code",
   "execution_count": null,
   "metadata": {
    "ExecuteTime": {
     "end_time": "2021-02-24T08:55:12.002675Z",
     "start_time": "2021-02-24T08:55:11.319Z"
    }
   },
   "outputs": [],
   "source": [
    "t=Test(10,8)\n",
    "t.print_info()"
   ]
  },
  {
   "cell_type": "code",
   "execution_count": null,
   "metadata": {
    "ExecuteTime": {
     "end_time": "2021-02-24T08:55:12.003673Z",
     "start_time": "2021-02-24T08:55:11.322Z"
    }
   },
   "outputs": [],
   "source": [
    "# all - 다 True값인지\n",
    "# any - 어느 한개가 True값인지\n",
    "#round - 소수점 반올림"
   ]
  },
  {
   "cell_type": "code",
   "execution_count": null,
   "metadata": {
    "ExecuteTime": {
     "end_time": "2021-02-24T08:55:12.004670Z",
     "start_time": "2021-02-24T08:55:11.325Z"
    }
   },
   "outputs": [],
   "source": [
    "import numpy as np\n",
    "np.floor(3.67),np.ceil(3.67),np.round(3.67)"
   ]
  },
  {
   "cell_type": "markdown",
   "metadata": {},
   "source": [
    "## 6. 연습문제"
   ]
  },
  {
   "cell_type": "code",
   "execution_count": null,
   "metadata": {
    "ExecuteTime": {
     "end_time": "2021-02-24T08:55:12.006665Z",
     "start_time": "2021-02-24T08:55:11.328Z"
    }
   },
   "outputs": [],
   "source": [
    "#실1\n",
    "def get_max_min(data_list):\n",
    "    a= max(data_list)\n",
    "    b= min(data_list)\n",
    "    return '최대값 {},최소값 {}'.format(a,b)\n",
    "\n",
    "L=[1,2,3,4,5,6,7]\n",
    "get_max_min(L)"
   ]
  },
  {
   "cell_type": "code",
   "execution_count": null,
   "metadata": {
    "ExecuteTime": {
     "end_time": "2021-02-24T08:55:12.007662Z",
     "start_time": "2021-02-24T08:55:11.330Z"
    }
   },
   "outputs": [],
   "source": [
    "#실2\n",
    "def bmical(kg,m):\n",
    "    BMI = round(((kg/(m*m))*10000),2)\n",
    "    if BMI>=30:\n",
    "        return BMI,'고도비만'\n",
    "    elif 25<= BMI<30:\n",
    "        return BMI,'비만'\n",
    "    elif 18.5 <= BMI <25:\n",
    "        return BMI,'표준'\n",
    "    elif BMI <18.5 :\n",
    "        return BMI,'마른체형'\n",
    "\n",
    "bmical(80,180)"
   ]
  },
  {
   "cell_type": "code",
   "execution_count": null,
   "metadata": {
    "ExecuteTime": {
     "end_time": "2021-02-24T08:55:12.008659Z",
     "start_time": "2021-02-24T08:55:11.333Z"
    }
   },
   "outputs": [],
   "source": [
    "#실3\n",
    "import math\n",
    "def get_triangle(width,height):\n",
    "    area = (width*height)/2\n",
    "    roundd = width+height+round(math.sqrt(width**2+height**2))\n",
    "    return '면적 {},둘레 {}'.format(area,roundd)\n",
    "get_triangle(10,10)"
   ]
  },
  {
   "cell_type": "code",
   "execution_count": null,
   "metadata": {
    "ExecuteTime": {
     "end_time": "2021-02-24T08:55:12.009657Z",
     "start_time": "2021-02-24T08:55:11.336Z"
    }
   },
   "outputs": [],
   "source": [
    "#실4 \n",
    "def mysum(start,end):\n",
    "    summ=0\n",
    "    for i in range(start,end+1):\n",
    "        summ +=i\n",
    "    return summ\n",
    "mysum(5,10)"
   ]
  },
  {
   "cell_type": "code",
   "execution_count": null,
   "metadata": {
    "ExecuteTime": {
     "end_time": "2021-02-24T08:55:12.010653Z",
     "start_time": "2021-02-24T08:55:11.338Z"
    }
   },
   "outputs": [],
   "source": [
    "#실5\n",
    "def get_abbrs(l):\n",
    "    L=[]\n",
    "    for i in range(len(l)):\n",
    "        L.append(l[i][0:3])\n",
    "    return L\n",
    "get_abbrs(l)"
   ]
  },
  {
   "cell_type": "code",
   "execution_count": null,
   "metadata": {
    "ExecuteTime": {
     "end_time": "2021-02-24T08:55:12.011651Z",
     "start_time": "2021-02-24T08:55:11.341Z"
    }
   },
   "outputs": [],
   "source": [
    "#실6\n",
    "f = lambda x,y : x**y\n",
    "f(2,2)"
   ]
  },
  {
   "cell_type": "code",
   "execution_count": null,
   "metadata": {
    "ExecuteTime": {
     "end_time": "2021-02-24T08:55:12.012649Z",
     "start_time": "2021-02-24T08:55:11.344Z"
    }
   },
   "outputs": [],
   "source": [
    "#실7\n",
    "#람다\n",
    "ex = [1,2,3,4,5]\n",
    "def ex7(l,func=ex1):\n",
    "    ex1 = lambda x : x**2\n",
    "    result = []\n",
    "    for item in l:\n",
    "           result.append(ex1(item))\n",
    "    return result\n",
    "\n",
    "ex7(ex)"
   ]
  },
  {
   "cell_type": "code",
   "execution_count": null,
   "metadata": {
    "ExecuteTime": {
     "end_time": "2021-02-24T08:55:12.013646Z",
     "start_time": "2021-02-24T08:55:11.346Z"
    }
   },
   "outputs": [],
   "source": [
    "#맵함수\n",
    "list(map(lambda x:x**2,ex))"
   ]
  },
  {
   "cell_type": "code",
   "execution_count": null,
   "metadata": {
    "ExecuteTime": {
     "end_time": "2021-02-24T08:55:12.014643Z",
     "start_time": "2021-02-24T08:55:11.349Z"
    }
   },
   "outputs": [],
   "source": [
    "#리스트컴프리헨션\n",
    "[x**2 for x in ex] "
   ]
  },
  {
   "cell_type": "code",
   "execution_count": null,
   "metadata": {
    "ExecuteTime": {
     "end_time": "2021-02-24T08:55:12.015641Z",
     "start_time": "2021-02-24T08:55:11.351Z"
    }
   },
   "outputs": [],
   "source": [
    "#실8\n",
    "a =[1,2,3]\n",
    "print(*a)\n",
    "print(a)\n",
    "#리스트 언팩킹"
   ]
  },
  {
   "cell_type": "code",
   "execution_count": null,
   "metadata": {
    "ExecuteTime": {
     "end_time": "2021-02-24T08:55:12.016638Z",
     "start_time": "2021-02-24T08:55:11.354Z"
    }
   },
   "outputs": [],
   "source": [
    "#실9\n",
    "date_info = {'year':'2019','month':'9','day':'6'}\n",
    "result = '{year}-{month}-{day}'.format(**date_info)\n",
    "result\n",
    "#딕셔너리 언팩킹"
   ]
  },
  {
   "cell_type": "code",
   "execution_count": null,
   "metadata": {
    "ExecuteTime": {
     "end_time": "2021-02-24T08:55:12.017635Z",
     "start_time": "2021-02-24T08:55:11.357Z"
    }
   },
   "outputs": [],
   "source": [
    "#실10"
   ]
  },
  {
   "cell_type": "code",
   "execution_count": null,
   "metadata": {
    "ExecuteTime": {
     "end_time": "2021-02-24T09:04:14.677977Z",
     "start_time": "2021-02-24T09:04:14.672990Z"
    }
   },
   "outputs": [],
   "source": [
    "#실11\n",
    "la=[1,2,3,4,5]\n",
    "def scalar_vector_product(a,*l):\n",
    "    result = []\n",
    "    for i in range(len(l)):\n",
    "        result.append(l[i]*a)\n",
    "    return result\n",
    "\n",
    "scalar_vector_product(3,*la)"
   ]
  },
  {
   "cell_type": "code",
   "execution_count": null,
   "metadata": {
    "ExecuteTime": {
     "end_time": "2021-02-24T09:04:00.132507Z",
     "start_time": "2021-02-24T09:04:00.128543Z"
    }
   },
   "outputs": [],
   "source": []
  },
  {
   "cell_type": "code",
   "execution_count": null,
   "metadata": {},
   "outputs": [],
   "source": []
  },
  {
   "cell_type": "code",
   "execution_count": null,
   "metadata": {},
   "outputs": [],
   "source": []
  }
 ],
 "metadata": {
  "kernelspec": {
   "display_name": "Python 3",
   "language": "python",
   "name": "python3"
  },
  "language_info": {
   "codemirror_mode": {
    "name": "ipython",
    "version": 3
   },
   "file_extension": ".py",
   "mimetype": "text/x-python",
   "name": "python",
   "nbconvert_exporter": "python",
   "pygments_lexer": "ipython3",
   "version": "3.8.5"
  },
  "toc": {
   "base_numbering": 1,
   "nav_menu": {},
   "number_sections": false,
   "sideBar": true,
   "skip_h1_title": false,
   "title_cell": "Table of Contents",
   "title_sidebar": "Contents",
   "toc_cell": false,
   "toc_position": {},
   "toc_section_display": true,
   "toc_window_display": false
  },
  "varInspector": {
   "cols": {
    "lenName": 16,
    "lenType": 16,
    "lenVar": 40
   },
   "kernels_config": {
    "python": {
     "delete_cmd_postfix": "",
     "delete_cmd_prefix": "del ",
     "library": "var_list.py",
     "varRefreshCmd": "print(var_dic_list())"
    },
    "r": {
     "delete_cmd_postfix": ") ",
     "delete_cmd_prefix": "rm(",
     "library": "var_list.r",
     "varRefreshCmd": "cat(var_dic_list()) "
    }
   },
   "types_to_exclude": [
    "module",
    "function",
    "builtin_function_or_method",
    "instance",
    "_Feature"
   ],
   "window_display": false
  }
 },
 "nbformat": 4,
 "nbformat_minor": 4
}
