{
 "cells": [
  {
   "cell_type": "code",
   "execution_count": 8,
   "metadata": {
    "ExecuteTime": {
     "end_time": "2021-03-03T05:49:27.603847Z",
     "start_time": "2021-03-03T05:49:27.588200Z"
    }
   },
   "outputs": [],
   "source": [
    "# Member클래스\n",
    "class Member():\n",
    "    def __init__(self,name,phone,age,grade,email,etc):\n",
    "        self.name=name\n",
    "        self.phone=phone\n",
    "        self.email=email\n",
    "        self.age=age\n",
    "        self.grade=grade\n",
    "        self.etc=etc\n",
    "    def as_dict(self):\n",
    "        return {\"name\":self.name,\"phone\":self.phone,\"email\":self.email,\"age\":self.age,\"grade\":self.grade,\"etc\":self.etc}"
   ]
  },
  {
   "cell_type": "code",
   "execution_count": 9,
   "metadata": {
    "ExecuteTime": {
     "end_time": "2021-03-03T05:49:28.029390Z",
     "start_time": "2021-03-03T05:49:28.026423Z"
    }
   },
   "outputs": [],
   "source": [
    "import pandas as pd\n",
    "import sqlite3"
   ]
  },
  {
   "cell_type": "code",
   "execution_count": 10,
   "metadata": {
    "ExecuteTime": {
     "end_time": "2021-03-03T05:49:30.909891Z",
     "start_time": "2021-03-03T05:49:30.905920Z"
    }
   },
   "outputs": [],
   "source": [
    "#sqlite\n",
    "conn=sqlite3.connect('ex_member.db')\n",
    "conn\n",
    "cursor=conn.cursor()"
   ]
  },
  {
   "cell_type": "code",
   "execution_count": 14,
   "metadata": {
    "ExecuteTime": {
     "end_time": "2021-03-03T05:50:01.856018Z",
     "start_time": "2021-03-03T05:50:01.691408Z"
    }
   },
   "outputs": [
    {
     "data": {
      "text/plain": [
       "<sqlite3.Cursor at 0x1c42c8e17a0>"
      ]
     },
     "execution_count": 14,
     "metadata": {},
     "output_type": "execute_result"
    }
   ],
   "source": [
    "cursor.execute(\"\"\"\n",
    "    CREATE TABLE MEMBER(\n",
    "        NAME TEXT,\n",
    "        PHONE TEXT,\n",
    "        EMAIL TEXT,\n",
    "        AGE INT,\n",
    "        GRADE INT,\n",
    "        ETC TEXT\n",
    "    )\n",
    "\"\"\")"
   ]
  },
  {
   "cell_type": "code",
   "execution_count": 21,
   "metadata": {
    "ExecuteTime": {
     "end_time": "2021-03-03T05:52:55.319912Z",
     "start_time": "2021-03-03T05:52:55.315920Z"
    }
   },
   "outputs": [],
   "source": [
    "#입력\n",
    "def insert_sql():\n",
    "    name = input(\"이름을 입력하세요 :\")\n",
    "    phone = input(\"전화번호를 입력하세요 :\")\n",
    "    email = input(\"이메일을 입력하세 :\")\n",
    "    try: \n",
    "        age = int(input(\"나이를 입력하세요 :\"))\n",
    "    except:\n",
    "        print(\"숫자를 입력해라. 초기값 20 :\")\n",
    "        age= 20\n",
    "    grade = input(\"고객등급을 입력하세요 :\")\n",
    "    etc = input(\"특징을 입력하세요 :\")\n",
    "    cursor.execute(\"INSERT INTO MEMBER VALUES (:name,:phone,:email,:age,:grade,:etc)\",{'name':name,'phone':phone,'email':email,'age':age,'grade':grade,'etc':etc})\n",
    "    conn.commit()"
   ]
  },
  {
   "cell_type": "code",
   "execution_count": 32,
   "metadata": {
    "ExecuteTime": {
     "end_time": "2021-03-03T06:00:18.579886Z",
     "start_time": "2021-03-03T06:00:03.435444Z"
    }
   },
   "outputs": [
    {
     "name": "stdout",
     "output_type": "stream",
     "text": [
      "이름을 입력하세요 :박\n",
      "전화번호를 입력하세요 :0101\n",
      "이메일을 입력하세 :33@33.com\n",
      "나이를 입력하세요 :20\n",
      "고객등급을 입력하세요 :1\n",
      "특징을 입력하세요 :대머리\n"
     ]
    }
   ],
   "source": [
    "insert_sql()"
   ]
  },
  {
   "cell_type": "code",
   "execution_count": 9,
   "metadata": {
    "ExecuteTime": {
     "end_time": "2021-03-03T05:36:31.070742Z",
     "start_time": "2021-03-03T05:36:31.065756Z"
    }
   },
   "outputs": [
    {
     "ename": "IndentationError",
     "evalue": "expected an indented block (<ipython-input-9-790fcc310ddb>, line 9)",
     "output_type": "error",
     "traceback": [
      "\u001b[1;36m  File \u001b[1;32m\"<ipython-input-9-790fcc310ddb>\"\u001b[1;36m, line \u001b[1;32m9\u001b[0m\n\u001b[1;33m    elif menu == 3:\u001b[0m\n\u001b[1;37m    ^\u001b[0m\n\u001b[1;31mIndentationError\u001b[0m\u001b[1;31m:\u001b[0m expected an indented block\n"
     ]
    }
   ],
   "source": [
    "def main():\n",
    "    while True:\n",
    "        print(\"1:입력\",\"2:전체출력\",\"3:삭제\", \"4:이름찾기\",\"5:내보내기(CSV)\", \n",
    "              \"9:종료\", sep=\"|\", end=\"\")\n",
    "        menu = int(input(\"메뉴 선택 : \"))\n",
    "        if menu == 1:\n",
    "            insert_sql()\n",
    "        elif menu == 2:\n",
    "            print_all()\n",
    "        elif menu == 3:\n",
    "            search_name()\n",
    "        elif menu == 4:\n",
    "            del_email()\n",
    "        elif menu == 5:\n",
    "        elif menu == 9:\n",
    "            break        "
   ]
  },
  {
   "cell_type": "code",
   "execution_count": null,
   "metadata": {},
   "outputs": [],
   "source": [
    "if __name__=='__main__':\n",
    "    global conn\n",
    "    conn = sqlite3.connect('data.db')\n",
    "    main()"
   ]
  },
  {
   "cell_type": "code",
   "execution_count": 33,
   "metadata": {
    "ExecuteTime": {
     "end_time": "2021-03-03T06:00:21.967683Z",
     "start_time": "2021-03-03T06:00:21.963685Z"
    }
   },
   "outputs": [],
   "source": [
    "# 전체 조회\n",
    "def print_all():\n",
    "    members=cursor.execute(\"SELECT * FROM MEMBER\")\n",
    "    for m in members:\n",
    "        print('이름:',m[0],',전화번호:',m[1],',이메일:',m[2],',나이:',m[3],',고객등급:',m[4],',기타정보:',m[5])"
   ]
  },
  {
   "cell_type": "code",
   "execution_count": 35,
   "metadata": {
    "ExecuteTime": {
     "end_time": "2021-03-03T06:00:28.335490Z",
     "start_time": "2021-03-03T06:00:28.331501Z"
    }
   },
   "outputs": [
    {
     "name": "stdout",
     "output_type": "stream",
     "text": [
      "이름: 홍 ,전화번호: 010 ,이메일: kim@k.com ,나이: 30 ,고객등급: 4 ,기타정보: 대머리\n",
      "이름: 박 ,전화번호: 0101 ,이메일: 33@33.com ,나이: 20 ,고객등급: 1 ,기타정보: 대머리\n"
     ]
    }
   ],
   "source": [
    "print_all()"
   ]
  },
  {
   "cell_type": "code",
   "execution_count": 51,
   "metadata": {
    "ExecuteTime": {
     "end_time": "2021-03-03T06:07:50.656569Z",
     "start_time": "2021-03-03T06:07:50.652599Z"
    }
   },
   "outputs": [],
   "source": [
    "# 이름찾기\n",
    "def search_name():\n",
    "    name = input(\"찾을 이름을 입력하세요 : \")\n",
    "    members=cursor.execute(\"SELECT * FROM MEMBER WHERE NAME = :name\",{'name':name})\n",
    "    for m in members:\n",
    "        print('이름:',m[0],',전화번호:',m[1],',이메일:',m[2],',나이:',m[3],',고객등급:',m[4],',기타정보:',m[5])"
   ]
  },
  {
   "cell_type": "code",
   "execution_count": 53,
   "metadata": {
    "ExecuteTime": {
     "end_time": "2021-03-03T06:13:27.052824Z",
     "start_time": "2021-03-03T06:13:27.049853Z"
    }
   },
   "outputs": [],
   "source": [
    "# 메일삭제\n",
    "def del_email():\n",
    "    name = input(\"이메일을 삭제하고 싶은 사람의 이름을 입력하세요 : \")\n",
    "    cursor.execute(\"UPDATE MEMBER SET EMAIL = ' ' WHERE NAME = :name\",{'name':name})\n",
    "    print(name+'의 이메일 삭제')"
   ]
  },
  {
   "cell_type": "code",
   "execution_count": 105,
   "metadata": {
    "ExecuteTime": {
     "end_time": "2021-03-03T06:30:05.971575Z",
     "start_time": "2021-03-03T06:30:05.966614Z"
    }
   },
   "outputs": [],
   "source": [
    "# CSV 내보내기\n",
    "mlist=[]\n",
    "def out_csv():\n",
    "    cursor.execute(\"SELECT * FROM MEMBER\")\n",
    "    members = cursor.fetchall()\n",
    "    for data in members:\n",
    "        name = data[0]\n",
    "        phone = data[1]\n",
    "        email = data[2]\n",
    "        age = int(data[3])\n",
    "        grade = int(data[4])\n",
    "        etc = data[5]\n",
    "        result = Member(name,phone,email,age,grade,etc)\n",
    "        mlist.append(result)"
   ]
  },
  {
   "cell_type": "code",
   "execution_count": 106,
   "metadata": {
    "ExecuteTime": {
     "end_time": "2021-03-03T06:30:07.266124Z",
     "start_time": "2021-03-03T06:30:07.262134Z"
    }
   },
   "outputs": [],
   "source": [
    "out_csv()"
   ]
  },
  {
   "cell_type": "code",
   "execution_count": 109,
   "metadata": {
    "ExecuteTime": {
     "end_time": "2021-03-03T06:30:28.466657Z",
     "start_time": "2021-03-03T06:30:28.462652Z"
    }
   },
   "outputs": [
    {
     "name": "stdout",
     "output_type": "stream",
     "text": [
      "<__main__.Member object at 0x000001C42A7BF370>\n"
     ]
    }
   ],
   "source": [
    "def out_csv():\n",
    "    m_list=[]\n",
    "    for m in customer_list:\n",
    "        cus_dict.append(Customer.as_dict(cus))\n",
    "    cusnames=list(cus_dict[0].keys())\n",
    "    filename=input('원하는 파일명 ? ')\n",
    "    try:\n",
    "        with open('data/'+filename,'w',encoding='utf8',newline='') as f:\n",
    "            dict_writer = csv.DictWriter(f,fieldnames=cusnames)\n",
    "            dict_writer.writeheader() # header 부분 write\n",
    "            for cus in cus_dict:\n",
    "                dict_writer.writerow(cus)\n",
    "            print('데이터 내보내기 성공')\n",
    "    except FileNotFoundError as e:\n",
    "        print('데이터 내보내기 실패 : '+e)"
   ]
  },
  {
   "cell_type": "code",
   "execution_count": null,
   "metadata": {},
   "outputs": [],
   "source": []
  }
 ],
 "metadata": {
  "kernelspec": {
   "display_name": "Python 3",
   "language": "python",
   "name": "python3"
  },
  "language_info": {
   "codemirror_mode": {
    "name": "ipython",
    "version": 3
   },
   "file_extension": ".py",
   "mimetype": "text/x-python",
   "name": "python",
   "nbconvert_exporter": "python",
   "pygments_lexer": "ipython3",
   "version": "3.8.5"
  },
  "toc": {
   "base_numbering": 1,
   "nav_menu": {},
   "number_sections": false,
   "sideBar": true,
   "skip_h1_title": false,
   "title_cell": "Table of Contents",
   "title_sidebar": "Contents",
   "toc_cell": false,
   "toc_position": {},
   "toc_section_display": true,
   "toc_window_display": false
  },
  "varInspector": {
   "cols": {
    "lenName": 16,
    "lenType": 16,
    "lenVar": 40
   },
   "kernels_config": {
    "python": {
     "delete_cmd_postfix": "",
     "delete_cmd_prefix": "del ",
     "library": "var_list.py",
     "varRefreshCmd": "print(var_dic_list())"
    },
    "r": {
     "delete_cmd_postfix": ") ",
     "delete_cmd_prefix": "rm(",
     "library": "var_list.r",
     "varRefreshCmd": "cat(var_dic_list()) "
    }
   },
   "types_to_exclude": [
    "module",
    "function",
    "builtin_function_or_method",
    "instance",
    "_Feature"
   ],
   "window_display": false
  }
 },
 "nbformat": 4,
 "nbformat_minor": 4
}
