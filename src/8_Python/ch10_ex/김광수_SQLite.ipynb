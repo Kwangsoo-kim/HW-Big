{
 "cells": [
  {
   "cell_type": "code",
   "execution_count": 2,
   "metadata": {
    "ExecuteTime": {
     "end_time": "2021-03-03T07:07:12.055229Z",
     "start_time": "2021-03-03T07:07:11.818320Z"
    }
   },
   "outputs": [],
   "source": [
    "import pandas as pd\n",
    "import sqlite3\n",
    "import csv"
   ]
  },
  {
   "cell_type": "code",
   "execution_count": 3,
   "metadata": {
    "ExecuteTime": {
     "end_time": "2021-03-03T07:07:12.239820Z",
     "start_time": "2021-03-03T07:07:12.234834Z"
    },
    "code_folding": []
   },
   "outputs": [],
   "source": [
    "# Member클래스\n",
    "class Member():\n",
    "    def __init__(self,name,phone,age,grade,email,etc):\n",
    "        self.name=name\n",
    "        self.phone=phone\n",
    "        self.email=email\n",
    "        self.age=age\n",
    "        self.grade=grade\n",
    "        self.etc=etc\n",
    "    def as_dict(self):\n",
    "        return {\"name\":self.name,\"phone\":self.phone,\"email\":self.email,\"age\":self.age,\"grade\":self.grade,\"etc\":self.etc}"
   ]
  },
  {
   "cell_type": "code",
   "execution_count": 4,
   "metadata": {
    "ExecuteTime": {
     "end_time": "2021-03-03T07:07:12.575814Z",
     "start_time": "2021-03-03T07:07:12.569830Z"
    }
   },
   "outputs": [],
   "source": [
    "# 1. 입력\n",
    "def insert_sql():\n",
    "    name = input(\"이름을 입력하세요 :\")\n",
    "    phone = input(\"전화번호를 입력하세요 :\")\n",
    "    email = input(\"이메일을 입력하세 :\")\n",
    "    try: \n",
    "        age = int(input(\"나이를 입력하세요 :\"))\n",
    "    except:\n",
    "        print(\"숫자를 입력해라. 초기값 20 :\")\n",
    "        age= 20\n",
    "    grade = input(\"고객등급을 입력하세요 :\")\n",
    "    etc = input(\"특징을 입력하세요 :\")\n",
    "    cursor.execute(\"INSERT INTO MEMBER VALUES (:name,:phone,:email,:age,:grade,:etc)\",{'name':name,'phone':phone,'email':email,'age':age,'grade':grade,'etc':etc})\n",
    "    conn.commit()"
   ]
  },
  {
   "cell_type": "code",
   "execution_count": 5,
   "metadata": {
    "ExecuteTime": {
     "end_time": "2021-03-03T07:07:13.129994Z",
     "start_time": "2021-03-03T07:07:13.114371Z"
    }
   },
   "outputs": [],
   "source": [
    "# 2. 전체 조회\n",
    "def print_all():\n",
    "    members=cursor.execute(\"SELECT * FROM MEMBER\")\n",
    "    for m in members:\n",
    "        print('이름:',m[0],',전화번호:',m[1],',이메일:',m[2],',나이:',m[3],',고객등급:',m[4],',기타정보:',m[5])"
   ]
  },
  {
   "cell_type": "code",
   "execution_count": 6,
   "metadata": {
    "ExecuteTime": {
     "end_time": "2021-03-03T07:07:13.446970Z",
     "start_time": "2021-03-03T07:07:13.442980Z"
    }
   },
   "outputs": [],
   "source": [
    "# 3. 이름찾기\n",
    "def search_name():\n",
    "    name = input(\"찾을 이름을 입력하세요 : \")\n",
    "    members=cursor.execute(\"SELECT * FROM MEMBER WHERE NAME = :name\",{'name':name})\n",
    "    for m in members:\n",
    "        print('이름:',m[0],',전화번호:',m[1],',이메일:',m[2],',나이:',m[3],',고객등급:',m[4],',기타정보:',m[5])"
   ]
  },
  {
   "cell_type": "code",
   "execution_count": 7,
   "metadata": {
    "ExecuteTime": {
     "end_time": "2021-03-03T07:07:13.796545Z",
     "start_time": "2021-03-03T07:07:13.794574Z"
    }
   },
   "outputs": [],
   "source": [
    "# 4. 메일삭제\n",
    "def del_email():\n",
    "    name = input(\"이메일을 삭제하고 싶은 사람의 이름을 입력하세요 : \")\n",
    "    cursor.execute(\"UPDATE MEMBER SET EMAIL = ' ' WHERE NAME = :name\",{'name':name})\n",
    "    print(name+'의 이메일 삭제')"
   ]
  },
  {
   "cell_type": "code",
   "execution_count": 8,
   "metadata": {
    "ExecuteTime": {
     "end_time": "2021-03-03T07:07:14.385207Z",
     "start_time": "2021-03-03T07:07:14.378251Z"
    }
   },
   "outputs": [],
   "source": [
    "# 5. CSV내보내기\n",
    "def out_csv():\n",
    "    m_list=[]\n",
    "    cursor.execute(\"SELECT * FROM MEMBER\")\n",
    "    members = cursor.fetchall()\n",
    "    for data in members:\n",
    "        name = data[0]\n",
    "        phone = data[1]\n",
    "        email = data[2]\n",
    "        age = int(data[3])\n",
    "        grade = int(data[4])\n",
    "        etc = data[5]\n",
    "        result = Member(name,phone,email,age,grade,etc)\n",
    "        m_list.append(Member.as_dict(result))\n",
    "    mnames=list(m_list[0].keys())\n",
    "    filename=input('원하는 파일명 ? ')\n",
    "    try:\n",
    "        with open(filename,'w',encoding='utf8',newline='') as f:\n",
    "            dict_writer = csv.DictWriter(f,fieldnames=mnames)\n",
    "            dict_writer.writeheader() \n",
    "            for m in m_list:\n",
    "                dict_writer.writerow(m)\n",
    "            print('데이터 내보내기 성공')\n",
    "    except FileNotFoundError as e:\n",
    "        print('데이터 내보내기 실패 : '+e)"
   ]
  },
  {
   "cell_type": "code",
   "execution_count": 9,
   "metadata": {
    "ExecuteTime": {
     "end_time": "2021-03-03T07:07:15.103236Z",
     "start_time": "2021-03-03T07:07:15.098255Z"
    }
   },
   "outputs": [],
   "source": [
    "def main():\n",
    "    while True:\n",
    "        print(\"1:입력\",\"2:전체출력\",\"3:이름찾기\", \"4:메일삭제\",\"5:내보내기(CSV)\", \n",
    "              \"9:종료\", sep=\"|\", end=\"\")\n",
    "        menu = int(input(\"메뉴 선택 : \"))\n",
    "        if menu == 1:\n",
    "            insert_sql()\n",
    "        elif menu == 2:\n",
    "            print_all()\n",
    "        elif menu == 3:\n",
    "            search_name()\n",
    "        elif menu == 4:\n",
    "            del_email()\n",
    "        elif menu == 5:\n",
    "             out_csv()\n",
    "        elif menu == 9:\n",
    "            conn.close()\n",
    "            break        "
   ]
  },
  {
   "cell_type": "code",
   "execution_count": 10,
   "metadata": {
    "ExecuteTime": {
     "end_time": "2021-03-03T07:07:37.556726Z",
     "start_time": "2021-03-03T07:07:15.707120Z"
    }
   },
   "outputs": [
    {
     "name": "stdout",
     "output_type": "stream",
     "text": [
      "1:입력|2:전체출력|3:이름찾기|4:메일삭제|5:내보내기(CSV)|9:종료메뉴 선택 : 2\n",
      "이름: 홍길동 ,전화번호: 010-9999-999 ,이메일: kim@mail.com ,나이: 40 ,고객등급: 2 ,기타정보: 대머리\n",
      "이름: 이길동 ,전화번호: 010-8888-6666 ,이메일: do@mail.com ,나이: 30 ,고객등급: 3 ,기타정보: 대머리\n",
      "이름: 삼길동 ,전화번호: 010-3333-4444 ,이메일: sam@mail.com ,나이: 45 ,고객등급: 5 ,기타정보: 대머리2\n",
      "1:입력|2:전체출력|3:이름찾기|4:메일삭제|5:내보내기(CSV)|9:종료메뉴 선택 : 5\n",
      "원하는 파일명 ? test_sqlite.csv\n",
      "데이터 내보내기 성공\n",
      "1:입력|2:전체출력|3:이름찾기|4:메일삭제|5:내보내기(CSV)|9:종료메뉴 선택 : 9\n"
     ]
    }
   ],
   "source": [
    "if __name__=='__main__':\n",
    "    global conn\n",
    "    conn = sqlite3.connect('data.db')\n",
    "    cursor=conn.cursor()\n",
    "    main()"
   ]
  },
  {
   "cell_type": "code",
   "execution_count": null,
   "metadata": {},
   "outputs": [],
   "source": []
  }
 ],
 "metadata": {
  "kernelspec": {
   "display_name": "Python 3",
   "language": "python",
   "name": "python3"
  },
  "language_info": {
   "codemirror_mode": {
    "name": "ipython",
    "version": 3
   },
   "file_extension": ".py",
   "mimetype": "text/x-python",
   "name": "python",
   "nbconvert_exporter": "python",
   "pygments_lexer": "ipython3",
   "version": "3.8.5"
  },
  "toc": {
   "base_numbering": 1,
   "nav_menu": {},
   "number_sections": false,
   "sideBar": true,
   "skip_h1_title": false,
   "title_cell": "Table of Contents",
   "title_sidebar": "Contents",
   "toc_cell": false,
   "toc_position": {},
   "toc_section_display": true,
   "toc_window_display": false
  },
  "varInspector": {
   "cols": {
    "lenName": 16,
    "lenType": 16,
    "lenVar": 40
   },
   "kernels_config": {
    "python": {
     "delete_cmd_postfix": "",
     "delete_cmd_prefix": "del ",
     "library": "var_list.py",
     "varRefreshCmd": "print(var_dic_list())"
    },
    "r": {
     "delete_cmd_postfix": ") ",
     "delete_cmd_prefix": "rm(",
     "library": "var_list.r",
     "varRefreshCmd": "cat(var_dic_list()) "
    }
   },
   "types_to_exclude": [
    "module",
    "function",
    "builtin_function_or_method",
    "instance",
    "_Feature"
   ],
   "window_display": false
  }
 },
 "nbformat": 4,
 "nbformat_minor": 4
}
