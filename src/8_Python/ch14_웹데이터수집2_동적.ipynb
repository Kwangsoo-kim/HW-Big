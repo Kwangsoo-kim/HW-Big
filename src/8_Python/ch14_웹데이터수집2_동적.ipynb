{
 "cells": [
  {
   "cell_type": "markdown",
   "metadata": {
    "ExecuteTime": {
     "end_time": "2021-03-17T08:34:15.493534Z",
     "start_time": "2021-03-17T08:34:15.483587Z"
    }
   },
   "source": [
    "**<font size=\"6\" color=\"red\">ch14. 웹데이터 수집</font>**"
   ]
  },
  {
   "cell_type": "markdown",
   "metadata": {},
   "source": [
    "# 3. Selenium을 이용한 웹 데이터 수집\n",
    "- https://selenium-python.readthedocs.io/index.html\n",
    "<pre>\n",
    "'pip install selenium'\n",
    "'크롬 드라이브 다운'\n",
    "</pre>"
   ]
  },
  {
   "cell_type": "code",
   "execution_count": 7,
   "metadata": {
    "ExecuteTime": {
     "end_time": "2021-03-17T08:57:39.717848Z",
     "start_time": "2021-03-17T08:57:38.481223Z"
    }
   },
   "outputs": [],
   "source": [
    "from selenium import webdriver\n",
    "dv = webdriver.Chrome() # src폴더에 옮겨 놓으면 된다. 아니면 파일 존재하는 주소입력"
   ]
  },
  {
   "cell_type": "code",
   "execution_count": 8,
   "metadata": {
    "ExecuteTime": {
     "end_time": "2021-03-17T08:57:42.463052Z",
     "start_time": "2021-03-17T08:57:41.016111Z"
    }
   },
   "outputs": [],
   "source": [
    "dv.get('http://python.org')"
   ]
  },
  {
   "cell_type": "code",
   "execution_count": 11,
   "metadata": {
    "ExecuteTime": {
     "end_time": "2021-03-17T08:59:58.602207Z",
     "start_time": "2021-03-17T08:59:58.504319Z"
    }
   },
   "outputs": [],
   "source": [
    "# 이름으로 접근\n",
    "elem=dv.find_element_by_name('q')\n",
    "# 검색창 클리어\n",
    "elem.clear()\n",
    "# pycon입력\n",
    "elem.send_keys('pycon')"
   ]
  },
  {
   "cell_type": "code",
   "execution_count": 13,
   "metadata": {
    "ExecuteTime": {
     "end_time": "2021-03-17T09:03:04.258863Z",
     "start_time": "2021-03-17T09:03:02.392955Z"
    }
   },
   "outputs": [],
   "source": [
    "# 이후 엔터만 입력해도 검색된다면 \n",
    "from selenium.webdriver.common.keys import Keys\n",
    "elem.send_keys(Keys.RETURN) # Enter 키 입력과 같다."
   ]
  },
  {
   "cell_type": "code",
   "execution_count": 16,
   "metadata": {
    "ExecuteTime": {
     "end_time": "2021-03-17T09:13:08.741923Z",
     "start_time": "2021-03-17T09:13:08.376939Z"
    }
   },
   "outputs": [
    {
     "name": "stdout",
     "output_type": "stream",
     "text": [
      "PSF PyCon Trademark Usage Policy - https://www.python.org/psf/trademarks/pycon\n",
      "Conferences and Workshops - https://www.python.org/community/workshops\n",
      "PyCon Italia 2016 (PyCon Sette) - https://www.python.org/events/python-events/378/\n",
      "2008-04-14 PSF Board Meeting Minutes - https://www.python.org/psf/records/board/minutes/2008-04-14\n",
      "2012-07-16 PSF Board Meeting Minutes - https://www.python.org/psf/records/board/minutes/2012-07-16\n",
      "2013-02-06 PSF Board Meeting Minutes - https://www.python.org/psf/records/board/minutes/2013-02-06\n",
      "PyCon Home at python.org - https://www.python.org/community/pycon\n",
      "PyCon Australia 2013 - https://www.python.org/events/python-events/57/\n",
      "PyCon AU 2019 - https://www.python.org/events/python-events/776/\n",
      "PyCon Australia 2014 - https://www.python.org/events/python-events/10/\n",
      "PyCon Ireland 2012 - https://www.python.org/events/python-events/76/\n",
      "PyCon Ireland 2016 - https://www.python.org/events/python-events/429/\n",
      "PyCon AU 2018 - https://www.python.org/events/python-events/696/\n",
      "PyCon Ireland 2015 - https://www.python.org/events/python-events/333/\n",
      "PyCon PL 2014 - https://www.python.org/events/python-events/191/\n",
      "PyCon AU 2015 - https://www.python.org/events/python-events/273/\n",
      "PyCon MY 2015 - https://www.python.org/events/python-events/313/\n",
      "PyCon Australia 2016 - https://www.python.org/events/python-events/357/\n",
      "PyCon MY 2014 - https://www.python.org/events/python-events/151/\n",
      "PyCon Ireland 2014 - https://www.python.org/events/python-events/149/\n"
     ]
    }
   ],
   "source": [
    "# 검색결과 중 title 가져오기\n",
    "# 결과가 다중일땐 elements , element는 하나일때 \n",
    "result_list = dv.find_elements_by_css_selector('form > ul > li > h3 > a')\n",
    "for result in result_list:\n",
    "    print('%s - %s'%(result.text,result.get_attribute('href')))"
   ]
  },
  {
   "cell_type": "code",
   "execution_count": 17,
   "metadata": {
    "ExecuteTime": {
     "end_time": "2021-03-17T09:14:09.367905Z",
     "start_time": "2021-03-17T09:14:04.992107Z"
    }
   },
   "outputs": [],
   "source": [
    "# 브라우저 종료\n",
    "dv.close()"
   ]
  },
  {
   "cell_type": "markdown",
   "metadata": {},
   "source": [
    "**맞춤법 검사기(네이버 맞춤법 검사기 이용)**"
   ]
  },
  {
   "cell_type": "code",
   "execution_count": 7,
   "metadata": {
    "ExecuteTime": {
     "end_time": "2021-03-18T00:53:11.462956Z",
     "start_time": "2021-03-18T00:53:06.333356Z"
    }
   },
   "outputs": [],
   "source": [
    "from selenium import webdriver\n",
    "from selenium.webdriver.common.keys import Keys\n",
    "from bs4 import BeautifulSoup\n",
    "import time\n",
    "driver = webdriver.Chrome()\n",
    "# 네이버 접속\n",
    "driver.get('https://www.naver.com')"
   ]
  },
  {
   "cell_type": "code",
   "execution_count": 8,
   "metadata": {
    "ExecuteTime": {
     "end_time": "2021-03-18T00:53:12.236503Z",
     "start_time": "2021-03-18T00:53:11.480908Z"
    }
   },
   "outputs": [],
   "source": [
    "# 맞춤법 검사기 페이지 찾아가기\n",
    "elem = driver.find_element_by_name('query')\n",
    "elem.clear()\n",
    "elem.send_keys('맞춤법 검사기')\n",
    "elem.send_keys(Keys.RETURN)"
   ]
  },
  {
   "cell_type": "code",
   "execution_count": 9,
   "metadata": {
    "ExecuteTime": {
     "end_time": "2021-03-18T00:59:21.392658Z",
     "start_time": "2021-03-18T00:59:21.270061Z"
    }
   },
   "outputs": [],
   "source": [
    "# 맞춤법 검사기 사용\n",
    "textarea = driver.find_element_by_class_name('txt_gray')\n",
    "textarea.send_keys('한녕하세요. 방갑습니다.')"
   ]
  },
  {
   "cell_type": "code",
   "execution_count": 10,
   "metadata": {
    "ExecuteTime": {
     "end_time": "2021-03-18T00:59:39.576558Z",
     "start_time": "2021-03-18T00:59:39.501068Z"
    }
   },
   "outputs": [],
   "source": [
    "btn = driver.find_element_by_class_name('btn_check')\n",
    "btn.click()"
   ]
  },
  {
   "cell_type": "code",
   "execution_count": 18,
   "metadata": {
    "ExecuteTime": {
     "end_time": "2021-03-18T01:06:26.409796Z",
     "start_time": "2021-03-18T01:06:26.261144Z"
    }
   },
   "outputs": [
    {
     "data": {
      "text/plain": [
       "'안녕하세요. 반갑습니다.'"
      ]
     },
     "execution_count": 18,
     "metadata": {},
     "output_type": "execute_result"
    }
   ],
   "source": [
    "# 파씽\n",
    "soup = BeautifulSoup(driver.page_source,'html.parser')\n",
    "result = soup.select_one('p._result_text.stand_txt').text\n",
    "result"
   ]
  },
  {
   "cell_type": "code",
   "execution_count": 19,
   "metadata": {
    "ExecuteTime": {
     "end_time": "2021-03-18T01:07:00.160572Z",
     "start_time": "2021-03-18T01:06:55.828116Z"
    }
   },
   "outputs": [],
   "source": [
    "driver.close()"
   ]
  },
  {
   "cell_type": "code",
   "execution_count": 30,
   "metadata": {
    "ExecuteTime": {
     "end_time": "2021-03-18T01:17:17.637724Z",
     "start_time": "2021-03-18T01:16:59.195883Z"
    }
   },
   "outputs": [
    {
     "name": "stdout",
     "output_type": "stream",
     "text": [
      "안녕하세요. 반갑습니다.\n"
     ]
    }
   ],
   "source": [
    "driver = webdriver.Chrome()\n",
    "driver.get('https://www.naver.com')\n",
    "elem = driver.find_element_by_name('query')\n",
    "elem.clear()\n",
    "elem.send_keys('맞춤법 검사기')\n",
    "elem.send_keys(Keys.RETURN)\n",
    "time.sleep(1) # 한번에 실행할때 인터넷의 속도란게 있기때문에 텀을 줘야함\n",
    "textarea = driver.find_element_by_class_name('txt_gray')\n",
    "textarea.send_keys('한녕하세요. 방갑습니다.')\n",
    "time.sleep(1) # 한번에 실행할때 인터넷의 속도란게 있기때문에 텀을 줘야함\n",
    "btn = driver.find_element_by_class_name('btn_check')\n",
    "btn.click()\n",
    "time.sleep(1) # 한번에 실행할때 인터넷의 속도란게 있기때문에 텀을 줘야함\n",
    "soup = BeautifulSoup(driver.page_source,'html.parser')\n",
    "result = soup.select_one('p._result_text.stand_txt').text\n",
    "print(result)\n",
    "time.sleep(1) # 한번에 실행할때 인터넷의 속도란게 있기때문에 텀을 줘야함\n",
    "driver.close()"
   ]
  },
  {
   "cell_type": "markdown",
   "metadata": {},
   "source": [
    "**맞춤법검사가 안 된 text파일을 맞춤법 검사가 완료된 text파일로 output**"
   ]
  },
  {
   "cell_type": "code",
   "execution_count": 38,
   "metadata": {
    "ExecuteTime": {
     "end_time": "2021-03-18T02:01:37.300796Z",
     "start_time": "2021-03-18T02:01:36.146001Z"
    },
    "scrolled": true
   },
   "outputs": [],
   "source": [
    "with open('data/ch14.txt','r',encoding='utf-8') as f:\n",
    "    text = f.read()\n",
    "ready_list = []\n",
    "while len(text) >500:\n",
    "    temp_str = text[:500]\n",
    "    ls_idx = temp_str.rfind(' ') # 500번째 글자 바로앞 스페이스 인덱스. 단어당 검사기 때문에 잘라준다.\n",
    "    ready_list.append(text[:ls_idx])\n",
    "    text = text[ls_idx:] # 500글자 넘어가는내용 다시 text로 \n",
    "ready_list.append(text)"
   ]
  },
  {
   "cell_type": "code",
   "execution_count": 45,
   "metadata": {
    "ExecuteTime": {
     "end_time": "2021-03-18T02:14:24.779649Z",
     "start_time": "2021-03-18T02:14:02.584944Z"
    }
   },
   "outputs": [],
   "source": [
    "driver = webdriver.Chrome()\n",
    "driver.get('https://www.naver.com')\n",
    "elem = driver.find_element_by_name('query')\n",
    "elem.clear()\n",
    "elem.send_keys('맞춤법 검사기')\n",
    "elem.send_keys(Keys.RETURN)\n",
    "time.sleep(1) # 한번에 실행할때 인터넷의 속도란게 있기때문에 텀을 줘야함\n",
    "textarea = driver.find_element_by_class_name('txt_gray')\n",
    "results = ''\n",
    "for ready in ready_list:\n",
    "    textarea.send_keys(Keys.CONTROL,'a')\n",
    "    textarea.send_keys(ready)\n",
    "    time.sleep(1) # 한번에 실행할때 인터넷의 속도란게 있기때문에 텀을 줘야함\n",
    "    btn = driver.find_element_by_class_name('btn_check')\n",
    "    btn.click()\n",
    "    time.sleep(1) # 한번에 실행할때 인터넷의 속도란게 있기때문에 텀을 줘야함\n",
    "    soup = BeautifulSoup(driver.page_source,'html.parser')\n",
    "    result = soup.select_one('p._result_text.stand_txt').text\n",
    "    results += result.replace('.','.\\n')\n",
    "    time.sleep(1) # 한번에 실행할때 인터넷의 속도란게 있기때문에 텀을 줘야함\n",
    "with open('data/ch14_result.txt','w',encoding='utf-8') as f:\n",
    "    f.write(results)\n",
    "    f.close()\n",
    "driver.close()"
   ]
  },
  {
   "cell_type": "code",
   "execution_count": 40,
   "metadata": {
    "ExecuteTime": {
     "end_time": "2021-03-18T02:06:56.037323Z",
     "start_time": "2021-03-18T02:06:51.896633Z"
    }
   },
   "outputs": [],
   "source": []
  },
  {
   "cell_type": "code",
   "execution_count": null,
   "metadata": {},
   "outputs": [],
   "source": []
  }
 ],
 "metadata": {
  "kernelspec": {
   "display_name": "Python 3",
   "language": "python",
   "name": "python3"
  },
  "language_info": {
   "codemirror_mode": {
    "name": "ipython",
    "version": 3
   },
   "file_extension": ".py",
   "mimetype": "text/x-python",
   "name": "python",
   "nbconvert_exporter": "python",
   "pygments_lexer": "ipython3",
   "version": "3.8.5"
  },
  "toc": {
   "base_numbering": 1,
   "nav_menu": {},
   "number_sections": false,
   "sideBar": true,
   "skip_h1_title": false,
   "title_cell": "Table of Contents",
   "title_sidebar": "Contents",
   "toc_cell": false,
   "toc_position": {},
   "toc_section_display": true,
   "toc_window_display": false
  },
  "varInspector": {
   "cols": {
    "lenName": 16,
    "lenType": 16,
    "lenVar": 40
   },
   "kernels_config": {
    "python": {
     "delete_cmd_postfix": "",
     "delete_cmd_prefix": "del ",
     "library": "var_list.py",
     "varRefreshCmd": "print(var_dic_list())"
    },
    "r": {
     "delete_cmd_postfix": ") ",
     "delete_cmd_prefix": "rm(",
     "library": "var_list.r",
     "varRefreshCmd": "cat(var_dic_list()) "
    }
   },
   "types_to_exclude": [
    "module",
    "function",
    "builtin_function_or_method",
    "instance",
    "_Feature"
   ],
   "window_display": false
  }
 },
 "nbformat": 4,
 "nbformat_minor": 4
}
