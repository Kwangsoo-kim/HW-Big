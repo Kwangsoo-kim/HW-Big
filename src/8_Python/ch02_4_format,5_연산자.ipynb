{
 "cells": [
  {
   "cell_type": "markdown",
   "metadata": {},
   "source": [
    "# 4. 포맷팅"
   ]
  },
  {
   "cell_type": "markdown",
   "metadata": {},
   "source": [
    "- 포맷팅이란 출력할 문자, 숫자, 날짜 데이터에 형식을 지정하는 것\n",
    "- 변수와 텍스트를 결합해서 보기 좋은 형식의 새로운 텍스트를 만들때 사용"
   ]
  },
  {
   "cell_type": "markdown",
   "metadata": {},
   "source": [
    "### 문자열에 형식 지정"
   ]
  },
  {
   "cell_type": "code",
   "execution_count": 7,
   "metadata": {
    "ExecuteTime": {
     "end_time": "2021-02-22T00:47:34.158571Z",
     "start_time": "2021-02-22T00:47:34.154603Z"
    }
   },
   "outputs": [
    {
     "name": "stdout",
     "output_type": "stream",
     "text": [
      "홍길동님의 나이는30살 입니다.\n",
      "홍길동님의 나이는30살 입니다.\n"
     ]
    }
   ],
   "source": [
    "name = \"홍길동\"\n",
    "age = 30\n",
    "print(name,'님의 나이는',age,'살 입니다.',sep='')\n",
    "# sep 안하면 한칸 띄어써진다.\n",
    "print(name+'님의 나이는'+str(age)+'살 입니다.')"
   ]
  },
  {
   "cell_type": "code",
   "execution_count": 12,
   "metadata": {
    "ExecuteTime": {
     "end_time": "2021-02-22T00:54:34.262824Z",
     "start_time": "2021-02-22T00:54:34.258835Z"
    }
   },
   "outputs": [
    {
     "data": {
      "text/plain": [
       "'홍길동님의 나이는 30살 입니다'"
      ]
     },
     "execution_count": 12,
     "metadata": {},
     "output_type": "execute_result"
    }
   ],
   "source": [
    "# 이전 스타일\n",
    "# Java pirntf 스타일\n",
    "# %s-문자열, %c-문자,%d-정수,%f-실수,%%-문자%\n",
    "\"%s님의 나이는 %d살 입니다\"%(name,age)"
   ]
  },
  {
   "cell_type": "code",
   "execution_count": 13,
   "metadata": {
    "ExecuteTime": {
     "end_time": "2021-02-22T00:54:42.726758Z",
     "start_time": "2021-02-22T00:54:42.721771Z"
    }
   },
   "outputs": [
    {
     "data": {
      "text/plain": [
       "'홍길동님의 나이는 30살 입니다'"
      ]
     },
     "execution_count": 13,
     "metadata": {},
     "output_type": "execute_result"
    }
   ],
   "source": [
    "# 새로운 스타일\n",
    "\"{}님의 나이는 {}살 입니다\".format(name,age)"
   ]
  },
  {
   "cell_type": "code",
   "execution_count": 15,
   "metadata": {
    "ExecuteTime": {
     "end_time": "2021-02-22T00:58:13.423041Z",
     "start_time": "2021-02-22T00:58:13.418071Z"
    }
   },
   "outputs": [
    {
     "data": {
      "text/plain": [
       "'30님의 나이는 홍길동살 입니다'"
      ]
     },
     "execution_count": 15,
     "metadata": {},
     "output_type": "execute_result"
    }
   ],
   "source": [
    "# 순서지정가능\n",
    "\"{1}님의 나이는 {0}살 입니다\".format(name,age)"
   ]
  },
  {
   "cell_type": "markdown",
   "metadata": {},
   "source": [
    "### format()함수 문법"
   ]
  },
  {
   "cell_type": "markdown",
   "metadata": {
    "ExecuteTime": {
     "end_time": "2021-02-22T00:59:16.487314Z",
     "start_time": "2021-02-22T00:59:16.482327Z"
    }
   },
   "source": [
    "#### '{[인덱스]:[공백대체문자][정렬방법][자릿수][타입]}'.format(변수명)"
   ]
  },
  {
   "cell_type": "code",
   "execution_count": 18,
   "metadata": {
    "ExecuteTime": {
     "end_time": "2021-02-22T01:04:04.042991Z",
     "start_time": "2021-02-22T01:04:04.040024Z"
    }
   },
   "outputs": [],
   "source": [
    "# 인덱스 : 출력할 인수의 인덱스(순서)\n",
    "# 정렬방법 : <기호 - 왼쪽정렬, >기호 - 오른쪽정렬, ^기호 - 가운데 정렬\n",
    "# 자릿수 : 출력할 최대 자릿수 지정. 변수보다 적은 자릿수가 지정될 경우 무시되고 변수가 다 출력.\n",
    "# 타입 : d는 10진수, f는 실수, s는 문자, b는 2진수, o는 8진수, x는 16진수"
   ]
  },
  {
   "cell_type": "code",
   "execution_count": 19,
   "metadata": {
    "ExecuteTime": {
     "end_time": "2021-02-22T01:05:42.652979Z",
     "start_time": "2021-02-22T01:05:39.522435Z"
    }
   },
   "outputs": [
    {
     "name": "stdout",
     "output_type": "stream",
     "text": [
      "이름은 ?홍길동\n",
      "나이는 ?30\n",
      "홍길동님의 나이는 30입니다\n",
      "홍길동님의 나이는 30입니다\n"
     ]
    }
   ],
   "source": [
    "name = input('이름은 ?')\n",
    "age = int(input('나이는 ?'))\n",
    "print(\"{}님의 나이는 {}살 입니다\".format(name,age))\n",
    "print(\"{1}님의 나이는 {0}살 입니다\".format(age,name))"
   ]
  },
  {
   "cell_type": "code",
   "execution_count": 21,
   "metadata": {
    "ExecuteTime": {
     "end_time": "2021-02-22T01:07:13.101983Z",
     "start_time": "2021-02-22T01:07:13.098037Z"
    }
   },
   "outputs": [
    {
     "name": "stdout",
     "output_type": "stream",
     "text": [
      "30살 홍길동님은 30이 참 좋은 걸 알려나\n"
     ]
    }
   ],
   "source": [
    "# {}만 쓸 경우 변수의 수가 {}개수보다 적으면 오류\n",
    "# {}안에 인덱스를 쓸 경우 변수의 수와 {}개수가 맞지 않아도 오류가 나지 않는다.\n",
    "print(\"{0}살 {1}님은 {0}살이 참 좋은 걸 알려나\".format(age,name))"
   ]
  },
  {
   "cell_type": "code",
   "execution_count": 24,
   "metadata": {
    "ExecuteTime": {
     "end_time": "2021-02-22T01:16:34.878807Z",
     "start_time": "2021-02-22T01:16:34.874840Z"
    }
   },
   "outputs": [
    {
     "name": "stdout",
     "output_type": "stream",
     "text": [
      "출력 : [12345],[     12345],[12345]\n",
      "출력 : [Hello],[Hello     ],[Hello]\n"
     ]
    }
   ],
   "source": [
    "# 숫자의 경우 출력할 변수보다 큰 자리수를 지정하면 오른쪽 정렬(기본값)\n",
    "# 문자인 경우 출력할 변수보다 큰 자리숫를 지정하면 왼쪽 정렬(기본값)\n",
    "# 변수보다 작은 자리수를 지정하면 자리수 지정이 무시되고 다 출력\n",
    "a = 12345\n",
    "s = \"Hello\"\n",
    "print(\"출력 : [{}],[{:10}],[{:3}]\".format(a,a,a))\n",
    "print(\"출력 : [{}],[{:10}],[{:3}]\".format(s,s,s))"
   ]
  },
  {
   "cell_type": "code",
   "execution_count": 28,
   "metadata": {
    "ExecuteTime": {
     "end_time": "2021-02-22T01:21:46.109706Z",
     "start_time": "2021-02-22T01:21:46.106727Z"
    }
   },
   "outputs": [
    {
     "name": "stdout",
     "output_type": "stream",
     "text": [
      "출력\n",
      "10진수 - 12345 \n",
      "실수 - 12345.000000\n",
      "실수 - 12345.0\n",
      "2진수 - 11000000111001\n",
      "8진수 - 30071\n",
      "16진수 - 3039\n",
      "\n"
     ]
    }
   ],
   "source": [
    "a = 12345 # 숫자의 경우 다양한 진수로 표현가능\n",
    "print(\"\"\"출력\n",
    "10진수 - {:d} \n",
    "실수 - {:f}\n",
    "실수 - {:7.1f}\n",
    "2진수 - {:b}\n",
    "8진수 - {:o}\n",
    "16진수 - {:x}\n",
    "\"\"\".format(a,a,a,a,a,a))"
   ]
  },
  {
   "cell_type": "code",
   "execution_count": 33,
   "metadata": {
    "ExecuteTime": {
     "end_time": "2021-02-22T01:36:51.310811Z",
     "start_time": "2021-02-22T01:36:51.305849Z"
    }
   },
   "outputs": [
    {
     "name": "stdout",
     "output_type": "stream",
     "text": [
      "출력 : [    10],[20    ],[  30  ]\n"
     ]
    }
   ],
   "source": [
    "# 정렬방법 < > ^(정확하게 가운데가 안되면 한칸 왼쪽으로 나온다)\n",
    "a,b,c = 10,20,30\n",
    "print(\"출력 : [{:>6}],[{:<6}],[{:^6}]\".format(a,b,c))"
   ]
  },
  {
   "cell_type": "code",
   "execution_count": 34,
   "metadata": {
    "ExecuteTime": {
     "end_time": "2021-02-22T01:40:16.741497Z",
     "start_time": "2021-02-22T01:40:16.738522Z"
    }
   },
   "outputs": [
    {
     "name": "stdout",
     "output_type": "stream",
     "text": [
      "출력 : [$$$$$$$$10],[Hello***************],[Hel_______]\n"
     ]
    }
   ],
   "source": [
    "#  인덱스:공백대체문자 정렬방법 자리수 타입\n",
    "a = 10\n",
    "s = \"Hello\"\n",
    "print(\"출력 : [{0:$>10}],[{1:*<20}],[{1:_<10.3}]\".format(a,s))\n",
    "                                        # 전체 10자리 확보, 변수는 3자리 출력"
   ]
  },
  {
   "cell_type": "code",
   "execution_count": 36,
   "metadata": {
    "ExecuteTime": {
     "end_time": "2021-02-22T01:42:55.155504Z",
     "start_time": "2021-02-22T01:42:55.146529Z"
    }
   },
   "outputs": [
    {
     "ename": "ValueError",
     "evalue": "Invalid format specifier",
     "output_type": "error",
     "traceback": [
      "\u001b[1;31m---------------------------------------------------------------------------\u001b[0m",
      "\u001b[1;31mValueError\u001b[0m                                Traceback (most recent call last)",
      "\u001b[1;32m<ipython-input-36-68b344c66074>\u001b[0m in \u001b[0;36m<module>\u001b[1;34m\u001b[0m\n\u001b[0;32m      1\u001b[0m \u001b[1;31m# 공백대체문자를 지정할때는 반드시 정렬기호, 자리수를 표현해야 한다.\u001b[0m\u001b[1;33m\u001b[0m\u001b[1;33m\u001b[0m\u001b[1;33m\u001b[0m\u001b[0m\n\u001b[1;32m----> 2\u001b[1;33m \u001b[0mprint\u001b[0m\u001b[1;33m(\u001b[0m\u001b[1;34m\"{0:$10} / {1:*20}\"\u001b[0m\u001b[1;33m.\u001b[0m\u001b[0mformat\u001b[0m\u001b[1;33m(\u001b[0m\u001b[0ma\u001b[0m\u001b[1;33m,\u001b[0m\u001b[0ms\u001b[0m\u001b[1;33m)\u001b[0m\u001b[1;33m)\u001b[0m\u001b[1;33m\u001b[0m\u001b[1;33m\u001b[0m\u001b[0m\n\u001b[0m",
      "\u001b[1;31mValueError\u001b[0m: Invalid format specifier"
     ]
    }
   ],
   "source": [
    "# 공백대체문자를 지정할때는 반드시 정렬방법기호, 자리수를 표현해야 한다.\n",
    "print(\"{0:$10} / {1:*20}\".format(a,s)) # 정렬방법이 없어서 오류난다."
   ]
  },
  {
   "cell_type": "code",
   "execution_count": 47,
   "metadata": {
    "ExecuteTime": {
     "end_time": "2021-02-22T01:52:28.679553Z",
     "start_time": "2021-02-22T01:52:28.674592Z"
    }
   },
   "outputs": [
    {
     "name": "stdout",
     "output_type": "stream",
     "text": [
      "출력 : [      -123] [      +123] [      +123]\n",
      "출력 : [-      123] [+      123] [       123]\n",
      "출력 : [-      123] [+      123] [0000000123]\n",
      "출력 : [-******123] [+$$$$$$123] [_______123]\n"
     ]
    }
   ],
   "source": [
    "# +를 붙이면 양수의 경우 숫자앞에 +부호를 붙여준다.\n",
    "# =을 붙이면 전체 자리수만큼 출력하는 문자의 맨 앞에 부호 표시(양수는 부호x)\n",
    "# =+를 붙이면 혼용가능\n",
    "# 자리수 앞에 0을 채우면 빈자리에 0을 채워준다(공백대체문자와는 다르다.)\n",
    "# 공백대체문자는 = 앞에(자리수 앞에 0은 공백대체문자가 있을때 무시된다.)\n",
    "a,b = 123,-123\n",
    "print(\"출력 : [{:+10}] [{:+10}] [{:+10}]\".format(b,a,a))\n",
    "print(\"출력 : [{:=10}] [{:=+10}] [{:=10}]\".format(b,a,a))\n",
    "print(\"출력 : [{:=10}] [{:=+10}] [{:=010}]\".format(b,a,a))\n",
    "print(\"출력 : [{:*=10}] [{:$=+10}] [{:_=010}]\".format(b,a,a))"
   ]
  },
  {
   "cell_type": "code",
   "execution_count": 55,
   "metadata": {
    "ExecuteTime": {
     "end_time": "2021-02-22T01:57:39.862452Z",
     "start_time": "2021-02-22T01:57:39.858463Z"
    }
   },
   "outputs": [
    {
     "name": "stdout",
     "output_type": "stream",
     "text": [
      "    [0123456789]\n",
      "a = [       2.8]\n",
      "a = [      2.79]\n",
      "s = [        He]\n"
     ]
    }
   ],
   "source": [
    "# 전체 자리수.표현 될 자리수\n",
    "a = 2.785\n",
    "s = \"Hello\"\n",
    "print(\"    [0123456789]\")\n",
    "print(\"a = [{:>10.2}]\".format(a))\n",
    "print(\"s = [{:>10.2}]\".format(s))"
   ]
  },
  {
   "cell_type": "code",
   "execution_count": 57,
   "metadata": {
    "ExecuteTime": {
     "end_time": "2021-02-22T01:59:16.843258Z",
     "start_time": "2021-02-22T01:59:16.840292Z"
    }
   },
   "outputs": [
    {
     "name": "stdout",
     "output_type": "stream",
     "text": [
      "a = [2.79]\n"
     ]
    }
   ],
   "source": [
    "# 전체 자리수.소수점자리수 \n",
    "# 전체 자리수에는 소수점도 포함\n",
    "print(\"a = [{:4.2f}]\".format(a)) #f 타입으로 하면 반올림해서 2자리까지"
   ]
  },
  {
   "cell_type": "code",
   "execution_count": 62,
   "metadata": {
    "ExecuteTime": {
     "end_time": "2021-02-22T02:06:35.132046Z",
     "start_time": "2021-02-22T02:06:35.128056Z"
    }
   },
   "outputs": [
    {
     "name": "stdout",
     "output_type": "stream",
     "text": [
      "출력 : [0123456789]\n",
      "출력 : [      2.79]\n",
      "출력 : [     +2.79]\n"
     ]
    }
   ],
   "source": [
    "# format함수의 매개변수에 출력포맷\n",
    "a = 2.785\n",
    "print(\"출력 : [0123456789]\")\n",
    "print(\"출력 : [{:>10.3}]\".format(a))\n",
    "print(\"출력 : [{:{}{}{}.{}}]\".format(a,'>','+',10,3))"
   ]
  },
  {
   "cell_type": "code",
   "execution_count": 63,
   "metadata": {
    "ExecuteTime": {
     "end_time": "2021-02-22T02:07:51.998344Z",
     "start_time": "2021-02-22T02:07:51.994375Z"
    }
   },
   "outputs": [
    {
     "name": "stdout",
     "output_type": "stream",
     "text": [
      "출력 : [0123456789]\n",
      "출력 : [     +2.79]\n",
      "출력 : [     +2.79]\n"
     ]
    }
   ],
   "source": [
    "# 가독성을 높이고자 포맷인자에 이름부여\n",
    "a = 2.785\n",
    "print(\"출력 : [0123456789]\")\n",
    "print(\"출력 : [{:>+10.3}]\".format(a))\n",
    "print(\"출력 : [{:{dir}{sign}{width}.{precision}}]\".format(a,dir='>',sign = '+', width =10, precision = 3))"
   ]
  },
  {
   "cell_type": "code",
   "execution_count": 68,
   "metadata": {
    "ExecuteTime": {
     "end_time": "2021-02-22T02:12:12.918607Z",
     "start_time": "2021-02-22T02:12:12.914616Z"
    }
   },
   "outputs": [
    {
     "name": "stdout",
     "output_type": "stream",
     "text": [
      "10진수 : [      15]\n",
      " 2진수 : [00001111]\n",
      " 8진수 : [00000017]\n",
      "16진수 : [0f]\n"
     ]
    }
   ],
   "source": [
    "a = 15\n",
    "print(\"10진수 : [{:8d}]\".format(a))\n",
    "print(\" 2진수 : [{:08b}]\".format(a))\n",
    "print(\" 8진수 : [{:08o}]\".format(a))\n",
    "print(\"16진수 : [{:02x}]\".format(a))"
   ]
  },
  {
   "cell_type": "markdown",
   "metadata": {},
   "source": [
    "### 날짜 출력"
   ]
  },
  {
   "cell_type": "code",
   "execution_count": 70,
   "metadata": {
    "ExecuteTime": {
     "end_time": "2021-02-22T02:20:04.727562Z",
     "start_time": "2021-02-22T02:20:04.722599Z"
    }
   },
   "outputs": [
    {
     "data": {
      "text/plain": [
       "time.struct_time(tm_year=2021, tm_mon=2, tm_mday=22, tm_hour=11, tm_min=20, tm_sec=4, tm_wday=0, tm_yday=53, tm_isdst=0)"
      ]
     },
     "execution_count": 70,
     "metadata": {},
     "output_type": "execute_result"
    }
   ],
   "source": [
    "# %Y : 연도4자리, %y : 연도2자리, %m : 월, %d : 일\n",
    "# %H : 24시간 , %I : 12시간, %p : PM또는AM, %M : 분, %S : 초 \n",
    "from time import localtime # time 패키지에서 localtime이라는 함수 사용\n",
    "now = localtime()\n",
    "now # 현재 날짜와 시간"
   ]
  },
  {
   "cell_type": "code",
   "execution_count": 71,
   "metadata": {
    "ExecuteTime": {
     "end_time": "2021-02-22T02:23:07.261110Z",
     "start_time": "2021-02-22T02:23:07.257140Z"
    }
   },
   "outputs": [
    {
     "name": "stdout",
     "output_type": "stream",
     "text": [
      "2021년 - 02월 - 22일 11:20:04\n",
      "2021년 - 02월 - 22일 AM 11:20:04\n"
     ]
    }
   ],
   "source": [
    "# 날짜를 문자열로 출력하기 위해 format보다 strftime()함수 이용\n",
    "from time import strftime\n",
    "print(strftime(\"%Y년 - %m월 - %d일 %H:%M:%S\",now))\n",
    "print(strftime(\"%Y년 - %m월 - %d일 %p %I:%M:%S\",now))"
   ]
  },
  {
   "cell_type": "code",
   "execution_count": 78,
   "metadata": {
    "ExecuteTime": {
     "end_time": "2021-02-22T02:40:13.941836Z",
     "start_time": "2021-02-22T02:40:13.937828Z"
    }
   },
   "outputs": [
    {
     "name": "stdout",
     "output_type": "stream",
     "text": [
      "2021년 04월 30일 18시 20분 00초\n",
      "2021년 04월 30일 PM 06시 20분 00초\n"
     ]
    }
   ],
   "source": [
    "# format 함수 이용 \n",
    "from datetime import datetime\n",
    "thatday = datetime(2021, 4, 30, 18, 20, 0)\n",
    "print(\"{:%Y년 %m월 %d일 %H시 %M분 %S초}\".format(thatday))\n",
    "print(\"{:%Y년 %m월 %d일 %p %I시 %M분 %S초}\".format(thatday))"
   ]
  },
  {
   "cell_type": "code",
   "execution_count": 82,
   "metadata": {
    "ExecuteTime": {
     "end_time": "2021-02-22T02:42:52.557620Z",
     "start_time": "2021-02-22T02:42:52.553647Z"
    }
   },
   "outputs": [
    {
     "name": "stdout",
     "output_type": "stream",
     "text": [
      "Hello, 홍길동. you are 30 years old\n",
      "Hello, 홍길동. you are 30 years old\n",
      "Hello, 홍길동. you are 30 yerar old\n"
     ]
    }
   ],
   "source": [
    "name = \"홍길동\"\n",
    "age = 30\n",
    "print(f\"Hello, {name}. you are {age} years old\")\n",
    "print(\"Hello, %s. you are %d years old\"%(name,age))\n",
    "print(\"Hello, {}. you are {} yerar old\".format(name,age))"
   ]
  },
  {
   "cell_type": "markdown",
   "metadata": {
    "ExecuteTime": {
     "end_time": "2021-02-22T02:43:22.623370Z",
     "start_time": "2021-02-22T02:43:22.620389Z"
    }
   },
   "source": [
    "# 5. 연산자"
   ]
  },
  {
   "cell_type": "markdown",
   "metadata": {
    "ExecuteTime": {
     "end_time": "2021-02-22T02:43:37.960473Z",
     "start_time": "2021-02-22T02:43:37.956508Z"
    }
   },
   "source": [
    "### 산술연산자"
   ]
  },
  {
   "cell_type": "code",
   "execution_count": 85,
   "metadata": {
    "ExecuteTime": {
     "end_time": "2021-02-22T02:45:38.831421Z",
     "start_time": "2021-02-22T02:45:38.826427Z"
    }
   },
   "outputs": [
    {
     "name": "stdout",
     "output_type": "stream",
     "text": [
      "1000\n",
      "3\n",
      "3.3333333333333335\n",
      "3.0\n"
     ]
    }
   ],
   "source": [
    "a = 10\n",
    "print(a**3) # a의 3제곱\n",
    "print(a//3) # a 나누기 3의 몫\n",
    "print(a/3)  # 3.333333\n",
    "print(9/3)  # 3.0 (파이썬에서 /연산자의 결과는 실수)\n",
    "print(a%3)  # a 나누기 3의 나머지"
   ]
  },
  {
   "cell_type": "code",
   "execution_count": 87,
   "metadata": {
    "ExecuteTime": {
     "end_time": "2021-02-22T02:47:19.337384Z",
     "start_time": "2021-02-22T02:47:19.334392Z"
    }
   },
   "outputs": [
    {
     "name": "stdout",
     "output_type": "stream",
     "text": [
      "1.0\n"
     ]
    }
   ],
   "source": [
    "print(10.0%3.0) # 실수끼리 나머지 연산가능\n",
    "print(3.8%1.2)  # 실수끼리 나머지 연산시 결과가 다소 오차가 존재할 수 있음"
   ]
  },
  {
   "cell_type": "markdown",
   "metadata": {
    "ExecuteTime": {
     "end_time": "2021-02-22T02:48:26.078279Z",
     "start_time": "2021-02-22T02:48:26.074310Z"
    }
   },
   "source": [
    "### 대입연산자\n",
    "- = += -= //= /= %="
   ]
  },
  {
   "cell_type": "code",
   "execution_count": 90,
   "metadata": {
    "ExecuteTime": {
     "end_time": "2021-02-22T02:49:53.664342Z",
     "start_time": "2021-02-22T02:49:53.659356Z"
    }
   },
   "outputs": [
    {
     "data": {
      "text/plain": [
       "5"
      ]
     },
     "execution_count": 90,
     "metadata": {},
     "output_type": "execute_result"
    }
   ],
   "source": [
    "a = 10\n",
    "a //= 2 # a= a/2\n",
    "a"
   ]
  },
  {
   "cell_type": "markdown",
   "metadata": {
    "ExecuteTime": {
     "end_time": "2021-02-22T02:50:03.591969Z",
     "start_time": "2021-02-22T02:50:03.588977Z"
    }
   },
   "source": [
    "### 논리연산자\n",
    "- & | not and or"
   ]
  },
  {
   "cell_type": "code",
   "execution_count": 94,
   "metadata": {
    "ExecuteTime": {
     "end_time": "2021-02-22T02:53:32.854922Z",
     "start_time": "2021-02-22T02:53:32.850958Z"
    }
   },
   "outputs": [
    {
     "name": "stdout",
     "output_type": "stream",
     "text": [
      "True\n",
      "1\n",
      "True\n"
     ]
    }
   ],
   "source": [
    "print((10>3)&(10>5)) # 논리연산자 True & True\n",
    "print(15 & 1)        # 비트연산자 1111 & 0001\n",
    "print(5<8<10)        # 논리연산자 연속으로 가능\n"
   ]
  },
  {
   "cell_type": "code",
   "execution_count": 95,
   "metadata": {
    "ExecuteTime": {
     "end_time": "2021-02-22T02:55:14.558356Z",
     "start_time": "2021-02-22T02:55:14.554348Z"
    }
   },
   "outputs": [
    {
     "name": "stdout",
     "output_type": "stream",
     "text": [
      "False\n"
     ]
    }
   ],
   "source": [
    "print(10>3 & 10>5) \n",
    "# 연산자 우선 순위 : 비트연산자가 논리비교연산보다 높다\n",
    "# print(10>2>5)"
   ]
  },
  {
   "cell_type": "code",
   "execution_count": 97,
   "metadata": {
    "ExecuteTime": {
     "end_time": "2021-02-22T02:59:22.734201Z",
     "start_time": "2021-02-22T02:59:22.730257Z"
    }
   },
   "outputs": [
    {
     "name": "stdout",
     "output_type": "stream",
     "text": [
      "빈스트링은 False인가\n"
     ]
    }
   ],
   "source": [
    "# ''(빈스트링)은 False로 그외는 True\n",
    "if '':\n",
    "    print('빈스트링은 True인가')\n",
    "else:\n",
    "    print('빈스트링은 False인가')"
   ]
  },
  {
   "cell_type": "code",
   "execution_count": 98,
   "metadata": {
    "ExecuteTime": {
     "end_time": "2021-02-22T03:00:03.938355Z",
     "start_time": "2021-02-22T03:00:03.930377Z"
    }
   },
   "outputs": [
    {
     "ename": "TypeError",
     "evalue": "unsupported operand type(s) for |: 'bool' and 'str'",
     "output_type": "error",
     "traceback": [
      "\u001b[1;31m---------------------------------------------------------------------------\u001b[0m",
      "\u001b[1;31mTypeError\u001b[0m                                 Traceback (most recent call last)",
      "\u001b[1;32m<ipython-input-98-92d7eb23b8ac>\u001b[0m in \u001b[0;36m<module>\u001b[1;34m\u001b[0m\n\u001b[0;32m      1\u001b[0m \u001b[1;31m# 논리연산자에 문자열이 오면 에러\u001b[0m\u001b[1;33m\u001b[0m\u001b[1;33m\u001b[0m\u001b[1;33m\u001b[0m\u001b[0m\n\u001b[1;32m----> 2\u001b[1;33m \u001b[1;32mTrue\u001b[0m \u001b[1;33m|\u001b[0m\u001b[1;34m''\u001b[0m\u001b[1;33m\u001b[0m\u001b[1;33m\u001b[0m\u001b[0m\n\u001b[0m",
      "\u001b[1;31mTypeError\u001b[0m: unsupported operand type(s) for |: 'bool' and 'str'"
     ]
    }
   ],
   "source": [
    "# 논리연산자에 문자열이 오면 에러\n",
    "True |''"
   ]
  },
  {
   "cell_type": "code",
   "execution_count": 99,
   "metadata": {
    "ExecuteTime": {
     "end_time": "2021-02-22T03:00:29.022328Z",
     "start_time": "2021-02-22T03:00:29.018359Z"
    }
   },
   "outputs": [
    {
     "data": {
      "text/plain": [
       "True"
      ]
     },
     "execution_count": 99,
     "metadata": {},
     "output_type": "execute_result"
    }
   ],
   "source": [
    "True | bool('')"
   ]
  },
  {
   "cell_type": "code",
   "execution_count": 100,
   "metadata": {
    "ExecuteTime": {
     "end_time": "2021-02-22T03:01:48.683033Z",
     "start_time": "2021-02-22T03:01:48.659095Z"
    }
   },
   "outputs": [
    {
     "name": "stdout",
     "output_type": "stream",
     "text": [
      " D 드라이브의 볼륨: 학생방\n",
      " 볼륨 일련 번호: 6CF0-520F\n",
      "\n",
      " D:\\kks\\src\\8_Python 디렉터리\n",
      "\n",
      "2021-02-22  오후 12:01    <DIR>          .\n",
      "2021-02-22  오후 12:01    <DIR>          ..\n",
      "2021-02-22  오전 09:41    <DIR>          .ipynb_checkpoints\n",
      "2021-02-19  오후 04:10             3,321 ch01_파이썬 개요 및 개발환경 구성.ipynb\n",
      "2021-02-19  오후 06:11            31,608 ch02_1_변수,2_화면입출력,3_기본자료형.ipynb\n",
      "2021-02-22  오후 12:01            25,575 ch02_4_format,5_연산자.ipynb\n",
      "2021-02-19  오후 02:53               201 ex.py\n",
      "               4개 파일              60,705 바이트\n",
      "               3개 디렉터리  404,908,425,216 바이트 남음\n"
     ]
    }
   ],
   "source": [
    "# 주피터노트북에서 !는 명령행을 실행시킬 수 있음\n",
    "!dir"
   ]
  },
  {
   "cell_type": "code",
   "execution_count": 103,
   "metadata": {
    "ExecuteTime": {
     "end_time": "2021-02-22T03:05:57.758104Z",
     "start_time": "2021-02-22T03:05:57.754114Z"
    }
   },
   "outputs": [
    {
     "name": "stdout",
     "output_type": "stream",
     "text": [
      "False\n",
      "True\n",
      "False\n"
     ]
    }
   ],
   "source": [
    "# 논리의 반전은 ! 아니고 not \n",
    "print(not True)\n",
    "print( not 0) # 0은 False. 그 외 숫자는 True\n",
    "a = False\n",
    "if not a:\n",
    "    print(a)"
   ]
  },
  {
   "cell_type": "code",
   "execution_count": 104,
   "metadata": {
    "ExecuteTime": {
     "end_time": "2021-02-22T03:06:38.125785Z",
     "start_time": "2021-02-22T03:06:38.121824Z"
    }
   },
   "outputs": [
    {
     "name": "stdout",
     "output_type": "stream",
     "text": [
      "두수는 다르다\n"
     ]
    }
   ],
   "source": [
    "# 해당경우 !사용가능\n",
    "a,b = 15,16\n",
    "if a!=b:\n",
    "    print('두수는 다르다')"
   ]
  },
  {
   "cell_type": "code",
   "execution_count": 115,
   "metadata": {
    "ExecuteTime": {
     "end_time": "2021-02-22T03:13:57.390253Z",
     "start_time": "2021-02-22T03:13:57.386263Z"
    }
   },
   "outputs": [
    {
     "name": "stdout",
     "output_type": "stream",
     "text": [
      "0\n",
      "100\n",
      "False\n"
     ]
    }
   ],
   "source": [
    "# and 연산자 : 거짓으로 판별되는 첫번째 항의 결과가 반환 \n",
    "#              모든 항이 참이면 마지막 항의 결과 반환\n",
    "print(True and 3 and 0)\n",
    "print(True and 3 and 100)\n",
    "print(3 and 5.4 and False and 'Hello' and 0 and 'python')"
   ]
  },
  {
   "cell_type": "code",
   "execution_count": 114,
   "metadata": {
    "ExecuteTime": {
     "end_time": "2021-02-22T03:13:44.670256Z",
     "start_time": "2021-02-22T03:13:44.666266Z"
    }
   },
   "outputs": [
    {
     "name": "stdout",
     "output_type": "stream",
     "text": [
      "0\n",
      "100\n"
     ]
    }
   ],
   "source": [
    "# or 연산자 : 참으로 판별되는 첫번째 항의 결과가 반환\n",
    "#            모든 항이 거짓이면 마지막 항의 결과 반환\n",
    "print('' or False or None or 0)\n",
    "print('' or 100 or None or False)"
   ]
  },
  {
   "cell_type": "markdown",
   "metadata": {
    "ExecuteTime": {
     "end_time": "2021-02-22T03:14:08.544248Z",
     "start_time": "2021-02-22T03:14:08.540283Z"
    }
   },
   "source": [
    "### 비교연산자\n",
    "<pre>\n",
    "- > >= < <= == !=\n",
    "</pre>"
   ]
  },
  {
   "cell_type": "code",
   "execution_count": 126,
   "metadata": {
    "ExecuteTime": {
     "end_time": "2021-02-22T03:18:50.470698Z",
     "start_time": "2021-02-22T03:18:50.466719Z"
    }
   },
   "outputs": [
    {
     "name": "stdout",
     "output_type": "stream",
     "text": [
      "True\n",
      "False\n",
      "True\n"
     ]
    }
   ],
   "source": [
    "#문자도 비교 가능, ASCII 코드 순서로 판별 : 특수문자 < 숫자문자 < 대문자 < 소문자 < 한글\n",
    "print('하'>'파')\n",
    "print('1'>'a')\n",
    "print(True>False) #True는 1 , False는 0 으로 매핑"
   ]
  },
  {
   "cell_type": "code",
   "execution_count": 130,
   "metadata": {
    "ExecuteTime": {
     "end_time": "2021-02-22T03:22:53.260947Z",
     "start_time": "2021-02-22T03:22:51.610790Z"
    }
   },
   "outputs": [
    {
     "name": "stdout",
     "output_type": "stream",
     "text": [
      "점수를 입력하세요\n",
      "20\n",
      "불합격입니다\n"
     ]
    }
   ],
   "source": [
    "score = int(input('점수를 입력하세요\\n')) # 입력한 수는 str로 반환 \n",
    "if score >= 60 :\n",
    "    print('합격입니다')\n",
    "else:\n",
    "    print('불합격입니다')"
   ]
  },
  {
   "cell_type": "markdown",
   "metadata": {},
   "source": [
    "### 비트 연산자"
   ]
  },
  {
   "cell_type": "code",
   "execution_count": null,
   "metadata": {},
   "outputs": [],
   "source": [
    "a ='''\n",
    "x  y  x&y  x|y  x^y(XOR)\n",
    "0  0   0    0    0\n",
    "0  1   0    1    1\n",
    "1  0   0    1    1\n",
    "1  1   1    1    0\n",
    "'''"
   ]
  },
  {
   "cell_type": "code",
   "execution_count": 135,
   "metadata": {
    "ExecuteTime": {
     "end_time": "2021-02-22T03:48:16.559055Z",
     "start_time": "2021-02-22T03:48:16.554068Z"
    }
   },
   "outputs": [
    {
     "name": "stdout",
     "output_type": "stream",
     "text": [
      "00001111\n",
      "00000010\n",
      "2\n",
      "15\n",
      "13\n"
     ]
    }
   ],
   "source": [
    "a = 15 # 0 ~ 1111\n",
    "b = 2  # 0 ~ 0010\n",
    "print('{:08b}'.format(a))\n",
    "print('{:08b}'.format(b))\n",
    "print(a & b) # 0 ~ 0010\n",
    "print(a | b) # 0 ~ 1111\n",
    "print(a ^ b) # 0 ~ 1101"
   ]
  },
  {
   "cell_type": "code",
   "execution_count": 138,
   "metadata": {
    "ExecuteTime": {
     "end_time": "2021-02-22T03:54:21.863287Z",
     "start_time": "2021-02-22T03:54:21.858300Z"
    }
   },
   "outputs": [
    {
     "name": "stdout",
     "output_type": "stream",
     "text": [
      "3\n",
      "60\n",
      "-16\n"
     ]
    }
   ],
   "source": [
    "# shift 연산\n",
    "# a >> b ; a를 오른쪽으로 b bit 이동(a를 2의 b승으로 나누는 결과)\n",
    "# a << b ; a를 왼쪽으로 b bit 이동(a를 2의 b승으로 곱한 결과)\n",
    "print(a >> 2) # a를 오른쪽으로 2bit 이동 \n",
    "print(a << 2) # a를 왼쪽으로 2bit 이동\n",
    "# not 논리연산의 반전. ~ 비트연산의 반전\n",
    "print(~a) # 11110000 (음수는 2의 보수를 취함)"
   ]
  },
  {
   "cell_type": "markdown",
   "metadata": {
    "ExecuteTime": {
     "end_time": "2021-02-22T03:56:04.536143Z",
     "start_time": "2021-02-22T03:56:04.533152Z"
    }
   },
   "source": [
    "### isinstance\n",
    "- isinstance(data,type) ; 스칼라 데이터나 객체의 유형을 확인하는 함수. 어떤 값이 특정 유형인지를 확인"
   ]
  },
  {
   "cell_type": "code",
   "execution_count": 140,
   "metadata": {
    "ExecuteTime": {
     "end_time": "2021-02-22T03:58:12.574049Z",
     "start_time": "2021-02-22T03:58:12.570047Z"
    }
   },
   "outputs": [
    {
     "data": {
      "text/plain": [
       "True"
      ]
     },
     "execution_count": 140,
     "metadata": {},
     "output_type": "execute_result"
    }
   ],
   "source": [
    "isinstance(3.5,float)"
   ]
  },
  {
   "cell_type": "markdown",
   "metadata": {},
   "source": [
    "### 연습문제"
   ]
  },
  {
   "cell_type": "code",
   "execution_count": 141,
   "metadata": {
    "ExecuteTime": {
     "end_time": "2021-02-22T04:01:25.886980Z",
     "start_time": "2021-02-22T04:01:25.882990Z"
    }
   },
   "outputs": [
    {
     "name": "stdout",
     "output_type": "stream",
     "text": [
      "홍길동님의 나이는 23살입니다\n"
     ]
    }
   ],
   "source": [
    "#1.\n",
    "a = \"홍길동\"\n",
    "b = 23\n",
    "print(\"{}님의 나이는 {}살입니다\".format(a,b))"
   ]
  },
  {
   "cell_type": "code",
   "execution_count": 142,
   "metadata": {
    "ExecuteTime": {
     "end_time": "2021-02-22T04:03:27.644105Z",
     "start_time": "2021-02-22T04:03:22.474171Z"
    }
   },
   "outputs": [
    {
     "name": "stdout",
     "output_type": "stream",
     "text": [
      "첫번째 숫자를 입력하세요15\n",
      "두번째 숫자를 입력하세요3\n",
      "18\n",
      "12\n",
      "45\n",
      "5.0\n",
      "5\n",
      "0\n"
     ]
    }
   ],
   "source": [
    "#2\n",
    "a = int(input('첫번째 숫자를 입력하세요'))\n",
    "b = int(input('두번째 숫자를 입력하세요'))\n",
    "print(a+b)\n",
    "print(a-b)\n",
    "print(a*b)\n",
    "try:\n",
    "    print(a/b)\n",
    "    print(a//b)\n",
    "    print(a%b)\n",
    "except Exception:\n",
    "    print('두번째 수에 0을 입력하여 나누기 연산이 불가능합니다.')"
   ]
  },
  {
   "cell_type": "code",
   "execution_count": 172,
   "metadata": {
    "ExecuteTime": {
     "end_time": "2021-02-22T07:02:00.245934Z",
     "start_time": "2021-02-22T07:02:00.241951Z"
    },
    "scrolled": true
   },
   "outputs": [
    {
     "name": "stdout",
     "output_type": "stream",
     "text": [
      "World Hello\n",
      "World Hello\n"
     ]
    }
   ],
   "source": [
    "#3\n",
    "x = 'Hello World'\n",
    "print(x[6:11],x[0:5])\n",
    "x_split = x.split()\n",
    "print(\" \".join(x_split[::-1]))"
   ]
  },
  {
   "cell_type": "code",
   "execution_count": 149,
   "metadata": {
    "ExecuteTime": {
     "end_time": "2021-02-22T04:06:44.078903Z",
     "start_time": "2021-02-22T04:06:44.074913Z"
    }
   },
   "outputs": [
    {
     "name": "stdout",
     "output_type": "stream",
     "text": [
      "bcdefa\n"
     ]
    }
   ],
   "source": [
    "#4\n",
    "x = 'abcdef'\n",
    "print(x[1:6]+x[0])"
   ]
  },
  {
   "cell_type": "code",
   "execution_count": 154,
   "metadata": {
    "ExecuteTime": {
     "end_time": "2021-02-22T04:07:36.981807Z",
     "start_time": "2021-02-22T04:07:36.978840Z"
    }
   },
   "outputs": [
    {
     "name": "stdout",
     "output_type": "stream",
     "text": [
      "fedcba\n"
     ]
    }
   ],
   "source": [
    "#5\n",
    "x ='abcdef'\n",
    "print(x[::-1])"
   ]
  },
  {
   "cell_type": "code",
   "execution_count": 166,
   "metadata": {
    "ExecuteTime": {
     "end_time": "2021-02-22T04:11:38.403938Z",
     "start_time": "2021-02-22T04:11:37.025937Z"
    }
   },
   "outputs": [
    {
     "name": "stdout",
     "output_type": "stream",
     "text": [
      "오늘의 온도를 입력하세요\n",
      "32\n",
      "89.60\n"
     ]
    }
   ],
   "source": [
    "#6\n",
    "C = int(input('섭씨 온도를 입력하세요\\n'))\n",
    "F =(C*1.8) +32\n",
    "print('{:.2f}'.format(F))"
   ]
  },
  {
   "cell_type": "code",
   "execution_count": null,
   "metadata": {},
   "outputs": [],
   "source": []
  }
 ],
 "metadata": {
  "kernelspec": {
   "display_name": "Python 3",
   "language": "python",
   "name": "python3"
  },
  "language_info": {
   "codemirror_mode": {
    "name": "ipython",
    "version": 3
   },
   "file_extension": ".py",
   "mimetype": "text/x-python",
   "name": "python",
   "nbconvert_exporter": "python",
   "pygments_lexer": "ipython3",
   "version": "3.8.5"
  },
  "toc": {
   "base_numbering": 1,
   "nav_menu": {},
   "number_sections": false,
   "sideBar": true,
   "skip_h1_title": false,
   "title_cell": "Table of Contents",
   "title_sidebar": "Contents",
   "toc_cell": false,
   "toc_position": {},
   "toc_section_display": true,
   "toc_window_display": false
  },
  "varInspector": {
   "cols": {
    "lenName": 16,
    "lenType": 16,
    "lenVar": 40
   },
   "kernels_config": {
    "python": {
     "delete_cmd_postfix": "",
     "delete_cmd_prefix": "del ",
     "library": "var_list.py",
     "varRefreshCmd": "print(var_dic_list())"
    },
    "r": {
     "delete_cmd_postfix": ") ",
     "delete_cmd_prefix": "rm(",
     "library": "var_list.r",
     "varRefreshCmd": "cat(var_dic_list()) "
    }
   },
   "types_to_exclude": [
    "module",
    "function",
    "builtin_function_or_method",
    "instance",
    "_Feature"
   ],
   "window_display": false
  }
 },
 "nbformat": 4,
 "nbformat_minor": 4
}
