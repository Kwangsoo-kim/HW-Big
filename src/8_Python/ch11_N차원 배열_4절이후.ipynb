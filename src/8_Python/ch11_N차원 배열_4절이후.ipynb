{
 "cells": [
  {
   "cell_type": "markdown",
   "metadata": {},
   "source": [
    "# <font color='red'>ch11_N차원 배열 다루기</font>"
   ]
  },
  {
   "cell_type": "markdown",
   "metadata": {},
   "source": [
    "## 4 복사와 뷰"
   ]
  },
  {
   "cell_type": "markdown",
   "metadata": {},
   "source": [
    "### 4.1 모두 복사 안함(스칼라 변수만 제외)"
   ]
  },
  {
   "cell_type": "code",
   "execution_count": 1,
   "metadata": {
    "ExecuteTime": {
     "end_time": "2021-03-05T02:57:15.963955Z",
     "start_time": "2021-03-05T02:57:15.953981Z"
    }
   },
   "outputs": [
    {
     "data": {
      "text/plain": [
       "array([ 0,  1,  2,  3,  4,  5,  6,  7,  8,  9, 10, 11])"
      ]
     },
     "execution_count": 1,
     "metadata": {},
     "output_type": "execute_result"
    }
   ],
   "source": [
    "a = np.arange(12)\n",
    "a"
   ]
  },
  {
   "cell_type": "code",
   "execution_count": 2,
   "metadata": {
    "ExecuteTime": {
     "end_time": "2021-03-05T02:57:24.426883Z",
     "start_time": "2021-03-05T02:57:24.422886Z"
    }
   },
   "outputs": [
    {
     "data": {
      "text/plain": [
       "((12,), numpy.ndarray)"
      ]
     },
     "execution_count": 2,
     "metadata": {},
     "output_type": "execute_result"
    }
   ],
   "source": [
    "a.shape, type(a)"
   ]
  },
  {
   "cell_type": "code",
   "execution_count": 7,
   "metadata": {
    "ExecuteTime": {
     "end_time": "2021-03-05T03:01:19.259014Z",
     "start_time": "2021-03-05T03:01:19.254048Z"
    }
   },
   "outputs": [
    {
     "data": {
      "text/plain": [
       "True"
      ]
     },
     "execution_count": 7,
     "metadata": {},
     "output_type": "execute_result"
    }
   ],
   "source": [
    "b = a # a와 b는 같은 넘파이배열 객체이지만 이름만 다름(복사 안됨)\n",
    "a is b"
   ]
  },
  {
   "cell_type": "code",
   "execution_count": 6,
   "metadata": {
    "ExecuteTime": {
     "end_time": "2021-03-05T03:01:08.507044Z",
     "start_time": "2021-03-05T03:01:08.502082Z"
    }
   },
   "outputs": [
    {
     "data": {
      "text/plain": [
       "array([[ 0,  1,  2,  3],\n",
       "       [ 4,  5,  6,  7],\n",
       "       [ 8,  9, 10, 11]])"
      ]
     },
     "execution_count": 6,
     "metadata": {},
     "output_type": "execute_result"
    }
   ],
   "source": [
    "b.shape=3,4\n",
    "b"
   ]
  },
  {
   "cell_type": "code",
   "execution_count": 8,
   "metadata": {
    "ExecuteTime": {
     "end_time": "2021-03-05T03:01:32.217959Z",
     "start_time": "2021-03-05T03:01:32.214962Z"
    }
   },
   "outputs": [
    {
     "data": {
      "text/plain": [
       "array([[ 0,  1,  2,  3],\n",
       "       [ 4,  5,  6,  7],\n",
       "       [ 8,  9, 10, 11]])"
      ]
     },
     "execution_count": 8,
     "metadata": {},
     "output_type": "execute_result"
    }
   ],
   "source": [
    "a"
   ]
  },
  {
   "cell_type": "code",
   "execution_count": 9,
   "metadata": {
    "ExecuteTime": {
     "end_time": "2021-03-05T03:02:06.147625Z",
     "start_time": "2021-03-05T03:02:06.143635Z"
    }
   },
   "outputs": [
    {
     "data": {
      "text/plain": [
       "(2368668665696, 2368668665696)"
      ]
     },
     "execution_count": 9,
     "metadata": {},
     "output_type": "execute_result"
    }
   ],
   "source": [
    "id(a),id(b)\n",
    "# 주소만 전달된다."
   ]
  },
  {
   "cell_type": "code",
   "execution_count": 10,
   "metadata": {
    "ExecuteTime": {
     "end_time": "2021-03-05T03:02:45.885967Z",
     "start_time": "2021-03-05T03:02:45.870193Z"
    }
   },
   "outputs": [],
   "source": [
    "def f(data):\n",
    "    print(id(data))"
   ]
  },
  {
   "cell_type": "code",
   "execution_count": 12,
   "metadata": {
    "ExecuteTime": {
     "end_time": "2021-03-05T03:02:55.898835Z",
     "start_time": "2021-03-05T03:02:55.894870Z"
    }
   },
   "outputs": [
    {
     "name": "stdout",
     "output_type": "stream",
     "text": [
      "2368668665696\n",
      "2368668665696\n"
     ]
    },
    {
     "data": {
      "text/plain": [
       "(None, None)"
      ]
     },
     "execution_count": 12,
     "metadata": {},
     "output_type": "execute_result"
    }
   ],
   "source": [
    "f(a),f(b)"
   ]
  },
  {
   "cell_type": "markdown",
   "metadata": {
    "ExecuteTime": {
     "end_time": "2021-03-05T03:05:40.701902Z",
     "start_time": "2021-03-05T03:05:40.686259Z"
    }
   },
   "source": [
    "### 4.2 얕은 복사 view"
   ]
  },
  {
   "cell_type": "code",
   "execution_count": 14,
   "metadata": {
    "ExecuteTime": {
     "end_time": "2021-03-05T03:09:34.172072Z",
     "start_time": "2021-03-05T03:09:34.167114Z"
    }
   },
   "outputs": [
    {
     "data": {
      "text/plain": [
       "array([[ 0,  1,  2,  3],\n",
       "       [ 4,  5,  6,  7],\n",
       "       [ 8,  9, 10, 11]])"
      ]
     },
     "execution_count": 14,
     "metadata": {},
     "output_type": "execute_result"
    }
   ],
   "source": [
    "a"
   ]
  },
  {
   "cell_type": "code",
   "execution_count": 15,
   "metadata": {
    "ExecuteTime": {
     "end_time": "2021-03-05T03:09:41.923370Z",
     "start_time": "2021-03-05T03:09:41.918384Z"
    }
   },
   "outputs": [
    {
     "data": {
      "text/plain": [
       "False"
      ]
     },
     "execution_count": 15,
     "metadata": {},
     "output_type": "execute_result"
    }
   ],
   "source": [
    "c = a.view()\n",
    "c is a"
   ]
  },
  {
   "cell_type": "code",
   "execution_count": 16,
   "metadata": {
    "ExecuteTime": {
     "end_time": "2021-03-05T03:09:47.651064Z",
     "start_time": "2021-03-05T03:09:47.646084Z"
    }
   },
   "outputs": [
    {
     "data": {
      "text/plain": [
       "True"
      ]
     },
     "execution_count": 16,
     "metadata": {},
     "output_type": "execute_result"
    }
   ],
   "source": [
    "b = a\n",
    "b is a"
   ]
  },
  {
   "cell_type": "code",
   "execution_count": 17,
   "metadata": {
    "ExecuteTime": {
     "end_time": "2021-03-05T03:10:34.026392Z",
     "start_time": "2021-03-05T03:10:34.023389Z"
    }
   },
   "outputs": [
    {
     "data": {
      "text/plain": [
       "False"
      ]
     },
     "execution_count": 17,
     "metadata": {},
     "output_type": "execute_result"
    }
   ],
   "source": [
    "c.flags.owndata # c가 메모리를 직접 소유하지는 않음 "
   ]
  },
  {
   "cell_type": "code",
   "execution_count": 18,
   "metadata": {
    "ExecuteTime": {
     "end_time": "2021-03-05T03:12:25.140382Z",
     "start_time": "2021-03-05T03:12:25.135402Z"
    }
   },
   "outputs": [
    {
     "data": {
      "text/plain": [
       "array([[ 0,  1,  2,  3,  4,  5],\n",
       "       [ 6,  7,  8,  9, 10, 11]])"
      ]
     },
     "execution_count": 18,
     "metadata": {},
     "output_type": "execute_result"
    }
   ],
   "source": [
    "c.shape = (2,6)\n",
    "c"
   ]
  },
  {
   "cell_type": "code",
   "execution_count": 19,
   "metadata": {
    "ExecuteTime": {
     "end_time": "2021-03-05T03:12:28.307155Z",
     "start_time": "2021-03-05T03:12:28.302169Z"
    }
   },
   "outputs": [
    {
     "data": {
      "text/plain": [
       "array([[ 0,  1,  2,  3],\n",
       "       [ 4,  5,  6,  7],\n",
       "       [ 8,  9, 10, 11]])"
      ]
     },
     "execution_count": 19,
     "metadata": {},
     "output_type": "execute_result"
    }
   ],
   "source": [
    "a"
   ]
  },
  {
   "cell_type": "code",
   "execution_count": 21,
   "metadata": {
    "ExecuteTime": {
     "end_time": "2021-03-05T03:13:51.163160Z",
     "start_time": "2021-03-05T03:13:51.159180Z"
    }
   },
   "outputs": [
    {
     "data": {
      "text/plain": [
       "array([[  0,   1, 999,   3,   4,   5],\n",
       "       [  6,   7, 999,   9,  10,  11]])"
      ]
     },
     "execution_count": 21,
     "metadata": {},
     "output_type": "execute_result"
    }
   ],
   "source": [
    "c[:,2]=999 # 2대신 999 ,8대신 999\n",
    "c"
   ]
  },
  {
   "cell_type": "code",
   "execution_count": 22,
   "metadata": {
    "ExecuteTime": {
     "end_time": "2021-03-05T03:14:18.692395Z",
     "start_time": "2021-03-05T03:14:18.686437Z"
    }
   },
   "outputs": [
    {
     "data": {
      "text/plain": [
       "array([[  0,   1, 999,   3],\n",
       "       [  4,   5,   6,   7],\n",
       "       [999,   9,  10,  11]])"
      ]
     },
     "execution_count": 22,
     "metadata": {},
     "output_type": "execute_result"
    }
   ],
   "source": [
    "a"
   ]
  },
  {
   "cell_type": "code",
   "execution_count": 24,
   "metadata": {
    "ExecuteTime": {
     "end_time": "2021-03-05T03:15:29.026165Z",
     "start_time": "2021-03-05T03:15:29.022176Z"
    }
   },
   "outputs": [],
   "source": [
    "# view는 shape만 가지고 있고 , data는 원래 주소에 저장되어있다."
   ]
  },
  {
   "cell_type": "code",
   "execution_count": 25,
   "metadata": {
    "ExecuteTime": {
     "end_time": "2021-03-05T03:17:05.750047Z",
     "start_time": "2021-03-05T03:17:05.734424Z"
    }
   },
   "outputs": [],
   "source": [
    "a = np.arange(12).reshape(3,4)\n",
    "s = a[:,1:3] # 슬레이싱 될때 뷰가 반환"
   ]
  },
  {
   "cell_type": "code",
   "execution_count": 26,
   "metadata": {
    "ExecuteTime": {
     "end_time": "2021-03-05T03:17:14.458560Z",
     "start_time": "2021-03-05T03:17:14.454569Z"
    }
   },
   "outputs": [
    {
     "name": "stdout",
     "output_type": "stream",
     "text": [
      "[[ 0  1  2  3]\n",
      " [ 4  5  6  7]\n",
      " [ 8  9 10 11]]\n",
      "[[ 1  2]\n",
      " [ 5  6]\n",
      " [ 9 10]]\n"
     ]
    }
   ],
   "source": [
    "print(a)\n",
    "print(s)"
   ]
  },
  {
   "cell_type": "code",
   "execution_count": 27,
   "metadata": {
    "ExecuteTime": {
     "end_time": "2021-03-05T03:17:49.961394Z",
     "start_time": "2021-03-05T03:17:49.959393Z"
    }
   },
   "outputs": [],
   "source": [
    "s[:,1] = 100"
   ]
  },
  {
   "cell_type": "code",
   "execution_count": 28,
   "metadata": {
    "ExecuteTime": {
     "end_time": "2021-03-05T03:17:51.371299Z",
     "start_time": "2021-03-05T03:17:51.366313Z"
    }
   },
   "outputs": [
    {
     "data": {
      "text/plain": [
       "array([[  1, 100],\n",
       "       [  5, 100],\n",
       "       [  9, 100]])"
      ]
     },
     "execution_count": 28,
     "metadata": {},
     "output_type": "execute_result"
    }
   ],
   "source": [
    "s"
   ]
  },
  {
   "cell_type": "code",
   "execution_count": 29,
   "metadata": {
    "ExecuteTime": {
     "end_time": "2021-03-05T03:17:53.890282Z",
     "start_time": "2021-03-05T03:17:53.886274Z"
    }
   },
   "outputs": [
    {
     "data": {
      "text/plain": [
       "array([[  0,   1, 100,   3],\n",
       "       [  4,   5, 100,   7],\n",
       "       [  8,   9, 100,  11]])"
      ]
     },
     "execution_count": 29,
     "metadata": {},
     "output_type": "execute_result"
    }
   ],
   "source": [
    "a"
   ]
  },
  {
   "cell_type": "markdown",
   "metadata": {
    "ExecuteTime": {
     "end_time": "2021-03-05T03:34:52.866517Z",
     "start_time": "2021-03-05T03:34:52.863524Z"
    }
   },
   "source": [
    "### 4.3 깊은 복사 copy"
   ]
  },
  {
   "cell_type": "code",
   "execution_count": 36,
   "metadata": {
    "ExecuteTime": {
     "end_time": "2021-03-05T03:35:46.525187Z",
     "start_time": "2021-03-05T03:35:46.520201Z"
    }
   },
   "outputs": [
    {
     "data": {
      "text/plain": [
       "array([[ 0,  1,  2,  3],\n",
       "       [ 4,  5,  6,  7],\n",
       "       [ 8,  9, 10, 11]])"
      ]
     },
     "execution_count": 36,
     "metadata": {},
     "output_type": "execute_result"
    }
   ],
   "source": [
    "a = np.arange(12).reshape(3,4)\n",
    "d = a.copy()\n",
    "a"
   ]
  },
  {
   "cell_type": "code",
   "execution_count": 37,
   "metadata": {
    "ExecuteTime": {
     "end_time": "2021-03-05T03:35:46.891435Z",
     "start_time": "2021-03-05T03:35:46.886448Z"
    }
   },
   "outputs": [
    {
     "data": {
      "text/plain": [
       "array([[ 0,  1,  2,  3],\n",
       "       [ 4,  5,  6,  7],\n",
       "       [ 8,  9, 10, 11]])"
      ]
     },
     "execution_count": 37,
     "metadata": {},
     "output_type": "execute_result"
    }
   ],
   "source": [
    "d"
   ]
  },
  {
   "cell_type": "code",
   "execution_count": 38,
   "metadata": {
    "ExecuteTime": {
     "end_time": "2021-03-05T03:36:01.339448Z",
     "start_time": "2021-03-05T03:36:01.334484Z"
    }
   },
   "outputs": [
    {
     "data": {
      "text/plain": [
       "False"
      ]
     },
     "execution_count": 38,
     "metadata": {},
     "output_type": "execute_result"
    }
   ],
   "source": [
    "d is a"
   ]
  },
  {
   "cell_type": "code",
   "execution_count": 39,
   "metadata": {
    "ExecuteTime": {
     "end_time": "2021-03-05T03:36:15.397362Z",
     "start_time": "2021-03-05T03:36:15.393393Z"
    }
   },
   "outputs": [
    {
     "data": {
      "text/plain": [
       "True"
      ]
     },
     "execution_count": 39,
     "metadata": {},
     "output_type": "execute_result"
    }
   ],
   "source": [
    "d.flags.owndata # d객체가 메모리를 직접 소유"
   ]
  },
  {
   "cell_type": "code",
   "execution_count": 40,
   "metadata": {
    "ExecuteTime": {
     "end_time": "2021-03-05T03:37:27.413302Z",
     "start_time": "2021-03-05T03:37:27.398976Z"
    }
   },
   "outputs": [
    {
     "data": {
      "text/plain": [
       "False"
      ]
     },
     "execution_count": 40,
     "metadata": {},
     "output_type": "execute_result"
    }
   ],
   "source": [
    "d.base is a # d와 a는 어떤 것도 공유하지 않고있음"
   ]
  },
  {
   "cell_type": "code",
   "execution_count": 43,
   "metadata": {
    "ExecuteTime": {
     "end_time": "2021-03-05T03:38:01.659636Z",
     "start_time": "2021-03-05T03:38:01.654649Z"
    }
   },
   "outputs": [
    {
     "data": {
      "text/plain": [
       "array([[ 0,  1,  2,  3,  4,  5],\n",
       "       [ 6,  7,  8,  9, 10, 11]])"
      ]
     },
     "execution_count": 43,
     "metadata": {},
     "output_type": "execute_result"
    }
   ],
   "source": [
    "d.shape = (2,6)\n",
    "d"
   ]
  },
  {
   "cell_type": "code",
   "execution_count": 42,
   "metadata": {
    "ExecuteTime": {
     "end_time": "2021-03-05T03:37:54.947965Z",
     "start_time": "2021-03-05T03:37:54.942979Z"
    }
   },
   "outputs": [
    {
     "data": {
      "text/plain": [
       "array([[ 0,  1,  2,  3],\n",
       "       [ 4,  5,  6,  7],\n",
       "       [ 8,  9, 10, 11]])"
      ]
     },
     "execution_count": 42,
     "metadata": {},
     "output_type": "execute_result"
    }
   ],
   "source": [
    "a"
   ]
  },
  {
   "cell_type": "code",
   "execution_count": 45,
   "metadata": {
    "ExecuteTime": {
     "end_time": "2021-03-05T03:38:17.068540Z",
     "start_time": "2021-03-05T03:38:17.062556Z"
    }
   },
   "outputs": [
    {
     "data": {
      "text/plain": [
       "array([[99, 99, 99, 99, 99, 99],\n",
       "       [ 6,  7,  8,  9, 10, 11]])"
      ]
     },
     "execution_count": 45,
     "metadata": {},
     "output_type": "execute_result"
    }
   ],
   "source": [
    "d[0]=99\n",
    "d"
   ]
  },
  {
   "cell_type": "code",
   "execution_count": 46,
   "metadata": {
    "ExecuteTime": {
     "end_time": "2021-03-05T03:38:19.062330Z",
     "start_time": "2021-03-05T03:38:19.046680Z"
    }
   },
   "outputs": [
    {
     "data": {
      "text/plain": [
       "array([[ 0,  1,  2,  3],\n",
       "       [ 4,  5,  6,  7],\n",
       "       [ 8,  9, 10, 11]])"
      ]
     },
     "execution_count": 46,
     "metadata": {},
     "output_type": "execute_result"
    }
   ],
   "source": [
    "a"
   ]
  },
  {
   "cell_type": "code",
   "execution_count": 47,
   "metadata": {
    "ExecuteTime": {
     "end_time": "2021-03-05T03:40:16.978679Z",
     "start_time": "2021-03-05T03:40:16.975712Z"
    }
   },
   "outputs": [],
   "source": [
    "# copy는 완전 별개."
   ]
  },
  {
   "cell_type": "markdown",
   "metadata": {},
   "source": [
    "## 5 고급 인덱싱\n",
    "### 5.1 인덱스 배열로 인덱싱"
   ]
  },
  {
   "cell_type": "code",
   "execution_count": 48,
   "metadata": {
    "ExecuteTime": {
     "end_time": "2021-03-05T03:41:24.260715Z",
     "start_time": "2021-03-05T03:41:24.255709Z"
    }
   },
   "outputs": [
    {
     "data": {
      "text/plain": [
       "array([  0,   1,   4,   9,  16,  25,  36,  49,  64,  81, 100, 121],\n",
       "      dtype=int32)"
      ]
     },
     "execution_count": 48,
     "metadata": {},
     "output_type": "execute_result"
    }
   ],
   "source": [
    "a = np.arange(12)**2\n",
    "a"
   ]
  },
  {
   "cell_type": "code",
   "execution_count": 50,
   "metadata": {
    "ExecuteTime": {
     "end_time": "2021-03-05T03:42:06.835081Z",
     "start_time": "2021-03-05T03:42:06.832088Z"
    }
   },
   "outputs": [],
   "source": [
    "i = np.array([1,1,3,8,5])"
   ]
  },
  {
   "cell_type": "code",
   "execution_count": 51,
   "metadata": {
    "ExecuteTime": {
     "end_time": "2021-03-05T03:42:12.899938Z",
     "start_time": "2021-03-05T03:42:12.894949Z"
    }
   },
   "outputs": [
    {
     "data": {
      "text/plain": [
       "array([ 1,  1,  9, 64, 25], dtype=int32)"
      ]
     },
     "execution_count": 51,
     "metadata": {},
     "output_type": "execute_result"
    }
   ],
   "source": [
    "a[i] # 배열내 데이터값을 인덱스로 받아서 인덱싱 할 수 있다."
   ]
  },
  {
   "cell_type": "code",
   "execution_count": 52,
   "metadata": {
    "ExecuteTime": {
     "end_time": "2021-03-05T03:43:28.627858Z",
     "start_time": "2021-03-05T03:43:28.612236Z"
    }
   },
   "outputs": [
    {
     "data": {
      "text/plain": [
       "array([ 1,  1,  9, 64, 25], dtype=int32)"
      ]
     },
     "execution_count": 52,
     "metadata": {},
     "output_type": "execute_result"
    }
   ],
   "source": [
    "l = [1,1,3,8,5]\n",
    "a[l]"
   ]
  },
  {
   "cell_type": "code",
   "execution_count": 54,
   "metadata": {
    "ExecuteTime": {
     "end_time": "2021-03-05T03:44:48.295435Z",
     "start_time": "2021-03-05T03:44:48.279812Z"
    }
   },
   "outputs": [
    {
     "data": {
      "text/plain": [
       "array([[ 9, 16],\n",
       "       [81, 49]], dtype=int32)"
      ]
     },
     "execution_count": 54,
     "metadata": {},
     "output_type": "execute_result"
    }
   ],
   "source": [
    "j = np.array([[3,4],[9,7]]) # 2차원 배열로 인덱싱하면 2차원 배열로 반환된다.\n",
    "a[j]"
   ]
  },
  {
   "cell_type": "code",
   "execution_count": 58,
   "metadata": {
    "ExecuteTime": {
     "end_time": "2021-03-05T03:47:00.891755Z",
     "start_time": "2021-03-05T03:47:00.887766Z"
    }
   },
   "outputs": [
    {
     "data": {
      "text/plain": [
       "array([[ 0,  1,  2,  3,  4,  5],\n",
       "       [ 6,  7,  8,  9, 10, 11],\n",
       "       [12, 13, 14, 15, 16, 17],\n",
       "       [18, 19, 20, 21, 22, 23]])"
      ]
     },
     "execution_count": 58,
     "metadata": {},
     "output_type": "execute_result"
    }
   ],
   "source": [
    "## 인덱스의 단일 배열은 첫번째 차원 참조"
   ]
  },
  {
   "cell_type": "markdown",
   "metadata": {
    "ExecuteTime": {
     "end_time": "2021-03-05T03:49:28.888566Z",
     "start_time": "2021-03-05T03:49:28.880575Z"
    }
   },
   "source": [
    "### 5.2 인덱스의 단일 배열은 첫번째 차원 참조"
   ]
  },
  {
   "cell_type": "code",
   "execution_count": 62,
   "metadata": {
    "ExecuteTime": {
     "end_time": "2021-03-05T03:56:11.908940Z",
     "start_time": "2021-03-05T03:56:11.903954Z"
    }
   },
   "outputs": [
    {
     "data": {
      "text/plain": [
       "array([[  0,   0,   0],\n",
       "       [255,   0,   0],\n",
       "       [  0, 255,   0],\n",
       "       [  0,   0, 255],\n",
       "       [255, 255, 255]])"
      ]
     },
     "execution_count": 62,
     "metadata": {},
     "output_type": "execute_result"
    }
   ],
   "source": [
    "palette = np.array([\n",
    "    [0,0,0],\n",
    "    [255,0,0],\n",
    "    [0,255,0],\n",
    "    [0,0,255],\n",
    "    [255,255,255]\n",
    "])\n",
    "palette"
   ]
  },
  {
   "cell_type": "code",
   "execution_count": 63,
   "metadata": {
    "ExecuteTime": {
     "end_time": "2021-03-05T04:00:16.577859Z",
     "start_time": "2021-03-05T04:00:16.568883Z"
    }
   },
   "outputs": [
    {
     "data": {
      "text/plain": [
       "array([[4, 4, 4, 0, 0, 0, 0, 4, 4, 4],\n",
       "       [4, 0, 0, 4, 4, 4, 4, 0, 0, 4],\n",
       "       [0, 0, 4, 4, 4, 4, 4, 4, 0, 0],\n",
       "       [0, 4, 4, 1, 4, 4, 3, 4, 4, 0],\n",
       "       [0, 4, 4, 1, 4, 4, 3, 4, 4, 0],\n",
       "       [0, 4, 4, 4, 4, 4, 4, 4, 4, 0],\n",
       "       [0, 4, 4, 2, 4, 4, 2, 4, 4, 0],\n",
       "       [4, 0, 4, 4, 2, 2, 4, 4, 0, 4],\n",
       "       [4, 4, 0, 4, 4, 4, 4, 0, 4, 4],\n",
       "       [4, 4, 4, 0, 0, 0, 0, 4, 4, 4]])"
      ]
     },
     "execution_count": 63,
     "metadata": {},
     "output_type": "execute_result"
    }
   ],
   "source": [
    "image_index = np.array([\n",
    "    [4,4,4,0,0,0,0,4,4,4],\n",
    "    [4,0,0,4,4,4,4,0,0,4],\n",
    "    [0,0,4,4,4,4,4,4,0,0],\n",
    "    [0,4,4,1,4,4,3,4,4,0],\n",
    "    [0,4,4,1,4,4,3,4,4,0],\n",
    "    [0,4,4,4,4,4,4,4,4,0],\n",
    "    [0,4,4,2,4,4,2,4,4,0],\n",
    "    [4,0,4,4,2,2,4,4,0,4],\n",
    "    [4,4,0,4,4,4,4,0,4,4],\n",
    "    [4,4,4,0,0,0,0,4,4,4]\n",
    "])\n",
    "image_index"
   ]
  },
  {
   "cell_type": "code",
   "execution_count": 64,
   "metadata": {
    "ExecuteTime": {
     "end_time": "2021-03-05T04:02:26.830011Z",
     "start_time": "2021-03-05T04:02:26.824027Z"
    }
   },
   "outputs": [
    {
     "data": {
      "text/plain": [
       "array([[[255, 255, 255],\n",
       "        [255, 255, 255],\n",
       "        [255, 255, 255],\n",
       "        [  0,   0,   0],\n",
       "        [  0,   0,   0],\n",
       "        [  0,   0,   0],\n",
       "        [  0,   0,   0],\n",
       "        [255, 255, 255],\n",
       "        [255, 255, 255],\n",
       "        [255, 255, 255]],\n",
       "\n",
       "       [[255, 255, 255],\n",
       "        [  0,   0,   0],\n",
       "        [  0,   0,   0],\n",
       "        [255, 255, 255],\n",
       "        [255, 255, 255],\n",
       "        [255, 255, 255],\n",
       "        [255, 255, 255],\n",
       "        [  0,   0,   0],\n",
       "        [  0,   0,   0],\n",
       "        [255, 255, 255]],\n",
       "\n",
       "       [[  0,   0,   0],\n",
       "        [  0,   0,   0],\n",
       "        [255, 255, 255],\n",
       "        [255, 255, 255],\n",
       "        [255, 255, 255],\n",
       "        [255, 255, 255],\n",
       "        [255, 255, 255],\n",
       "        [255, 255, 255],\n",
       "        [  0,   0,   0],\n",
       "        [  0,   0,   0]],\n",
       "\n",
       "       [[  0,   0,   0],\n",
       "        [255, 255, 255],\n",
       "        [255, 255, 255],\n",
       "        [255,   0,   0],\n",
       "        [255, 255, 255],\n",
       "        [255, 255, 255],\n",
       "        [  0,   0, 255],\n",
       "        [255, 255, 255],\n",
       "        [255, 255, 255],\n",
       "        [  0,   0,   0]],\n",
       "\n",
       "       [[  0,   0,   0],\n",
       "        [255, 255, 255],\n",
       "        [255, 255, 255],\n",
       "        [255,   0,   0],\n",
       "        [255, 255, 255],\n",
       "        [255, 255, 255],\n",
       "        [  0,   0, 255],\n",
       "        [255, 255, 255],\n",
       "        [255, 255, 255],\n",
       "        [  0,   0,   0]],\n",
       "\n",
       "       [[  0,   0,   0],\n",
       "        [255, 255, 255],\n",
       "        [255, 255, 255],\n",
       "        [255, 255, 255],\n",
       "        [255, 255, 255],\n",
       "        [255, 255, 255],\n",
       "        [255, 255, 255],\n",
       "        [255, 255, 255],\n",
       "        [255, 255, 255],\n",
       "        [  0,   0,   0]],\n",
       "\n",
       "       [[  0,   0,   0],\n",
       "        [255, 255, 255],\n",
       "        [255, 255, 255],\n",
       "        [  0, 255,   0],\n",
       "        [255, 255, 255],\n",
       "        [255, 255, 255],\n",
       "        [  0, 255,   0],\n",
       "        [255, 255, 255],\n",
       "        [255, 255, 255],\n",
       "        [  0,   0,   0]],\n",
       "\n",
       "       [[255, 255, 255],\n",
       "        [  0,   0,   0],\n",
       "        [255, 255, 255],\n",
       "        [255, 255, 255],\n",
       "        [  0, 255,   0],\n",
       "        [  0, 255,   0],\n",
       "        [255, 255, 255],\n",
       "        [255, 255, 255],\n",
       "        [  0,   0,   0],\n",
       "        [255, 255, 255]],\n",
       "\n",
       "       [[255, 255, 255],\n",
       "        [255, 255, 255],\n",
       "        [  0,   0,   0],\n",
       "        [255, 255, 255],\n",
       "        [255, 255, 255],\n",
       "        [255, 255, 255],\n",
       "        [255, 255, 255],\n",
       "        [  0,   0,   0],\n",
       "        [255, 255, 255],\n",
       "        [255, 255, 255]],\n",
       "\n",
       "       [[255, 255, 255],\n",
       "        [255, 255, 255],\n",
       "        [255, 255, 255],\n",
       "        [  0,   0,   0],\n",
       "        [  0,   0,   0],\n",
       "        [  0,   0,   0],\n",
       "        [  0,   0,   0],\n",
       "        [255, 255, 255],\n",
       "        [255, 255, 255],\n",
       "        [255, 255, 255]]])"
      ]
     },
     "execution_count": 64,
     "metadata": {},
     "output_type": "execute_result"
    }
   ],
   "source": [
    "image_data = palette[image_index]\n",
    "image_data"
   ]
  },
  {
   "cell_type": "code",
   "execution_count": null,
   "metadata": {},
   "outputs": [],
   "source": [
    "#%matplotlib inline 주피터노트북을 실행한 브라우저에서 그림을 바로 볼 수 있게"
   ]
  },
  {
   "cell_type": "code",
   "execution_count": 65,
   "metadata": {
    "ExecuteTime": {
     "end_time": "2021-03-05T04:08:25.499859Z",
     "start_time": "2021-03-05T04:08:23.584258Z"
    }
   },
   "outputs": [
    {
     "data": {
      "image/png": "[encoded data removed]",
      "text/plain": [
       "<Figure size 432x288 with 1 Axes>"
      ]
     },
     "metadata": {
      "needs_background": "light"
     },
     "output_type": "display_data"
    }
   ],
   "source": [
    "from matplotlib import pyplot as plt\n",
    "%matplotlib inline\n",
    "plt.imshow(image_data,interpolation = 'nearest')\n",
    "plt.show()"
   ]
  },
  {
   "cell_type": "code",
   "execution_count": 66,
   "metadata": {
    "ExecuteTime": {
     "end_time": "2021-03-05T05:34:40.556728Z",
     "start_time": "2021-03-05T05:34:40.552738Z"
    }
   },
   "outputs": [],
   "source": [
    "# tensorflow import"
   ]
  },
  {
   "cell_type": "code",
   "execution_count": 68,
   "metadata": {
    "ExecuteTime": {
     "end_time": "2021-03-05T05:38:38.244903Z",
     "start_time": "2021-03-05T05:38:36.601179Z"
    }
   },
   "outputs": [
    {
     "name": "stdout",
     "output_type": "stream",
     "text": [
      "Downloading data from https://storage.googleapis.com/tensorflow/tf-keras-datasets/mnist.npz\n",
      "11493376/11490434 [==============================] - 1s 0us/step\n"
     ]
    }
   ],
   "source": [
    "import  tensorflow.keras.datasets.mnist as mnist\n",
    "mnist = mnist.load_data()"
   ]
  },
  {
   "cell_type": "code",
   "execution_count": 70,
   "metadata": {
    "ExecuteTime": {
     "end_time": "2021-03-05T05:39:12.255135Z",
     "start_time": "2021-03-05T05:39:12.239512Z"
    },
    "scrolled": true
   },
   "outputs": [
    {
     "data": {
      "text/plain": [
       "array([[[0, 0, 0, ..., 0, 0, 0],\n",
       "        [0, 0, 0, ..., 0, 0, 0],\n",
       "        [0, 0, 0, ..., 0, 0, 0],\n",
       "        ...,\n",
       "        [0, 0, 0, ..., 0, 0, 0],\n",
       "        [0, 0, 0, ..., 0, 0, 0],\n",
       "        [0, 0, 0, ..., 0, 0, 0]],\n",
       "\n",
       "       [[0, 0, 0, ..., 0, 0, 0],\n",
       "        [0, 0, 0, ..., 0, 0, 0],\n",
       "        [0, 0, 0, ..., 0, 0, 0],\n",
       "        ...,\n",
       "        [0, 0, 0, ..., 0, 0, 0],\n",
       "        [0, 0, 0, ..., 0, 0, 0],\n",
       "        [0, 0, 0, ..., 0, 0, 0]],\n",
       "\n",
       "       [[0, 0, 0, ..., 0, 0, 0],\n",
       "        [0, 0, 0, ..., 0, 0, 0],\n",
       "        [0, 0, 0, ..., 0, 0, 0],\n",
       "        ...,\n",
       "        [0, 0, 0, ..., 0, 0, 0],\n",
       "        [0, 0, 0, ..., 0, 0, 0],\n",
       "        [0, 0, 0, ..., 0, 0, 0]],\n",
       "\n",
       "       ...,\n",
       "\n",
       "       [[0, 0, 0, ..., 0, 0, 0],\n",
       "        [0, 0, 0, ..., 0, 0, 0],\n",
       "        [0, 0, 0, ..., 0, 0, 0],\n",
       "        ...,\n",
       "        [0, 0, 0, ..., 0, 0, 0],\n",
       "        [0, 0, 0, ..., 0, 0, 0],\n",
       "        [0, 0, 0, ..., 0, 0, 0]],\n",
       "\n",
       "       [[0, 0, 0, ..., 0, 0, 0],\n",
       "        [0, 0, 0, ..., 0, 0, 0],\n",
       "        [0, 0, 0, ..., 0, 0, 0],\n",
       "        ...,\n",
       "        [0, 0, 0, ..., 0, 0, 0],\n",
       "        [0, 0, 0, ..., 0, 0, 0],\n",
       "        [0, 0, 0, ..., 0, 0, 0]],\n",
       "\n",
       "       [[0, 0, 0, ..., 0, 0, 0],\n",
       "        [0, 0, 0, ..., 0, 0, 0],\n",
       "        [0, 0, 0, ..., 0, 0, 0],\n",
       "        ...,\n",
       "        [0, 0, 0, ..., 0, 0, 0],\n",
       "        [0, 0, 0, ..., 0, 0, 0],\n",
       "        [0, 0, 0, ..., 0, 0, 0]]], dtype=uint8)"
      ]
     },
     "execution_count": 70,
     "metadata": {},
     "output_type": "execute_result"
    }
   ],
   "source": [
    "mnist[0][0]"
   ]
  },
  {
   "cell_type": "code",
   "execution_count": 71,
   "metadata": {
    "ExecuteTime": {
     "end_time": "2021-03-05T05:43:20.337735Z",
     "start_time": "2021-03-05T05:43:20.208744Z"
    }
   },
   "outputs": [
    {
     "data": {
      "text/plain": [
       "<matplotlib.image.AxesImage at 0x2270eb64310>"
      ]
     },
     "execution_count": 71,
     "metadata": {},
     "output_type": "execute_result"
    },
    {
     "data": {
      "image/png": "[encoded data removed]",
      "text/plain": [
       "<Figure size 432x288 with 1 Axes>"
      ]
     },
     "metadata": {
      "needs_background": "light"
     },
     "output_type": "display_data"
    }
   ],
   "source": [
    "mnist_data = mnist[0][0]\n",
    "import matplotlib.pyplot as plt\n",
    "plt.imshow(mnist_data[2])"
   ]
  },
  {
   "cell_type": "code",
   "execution_count": 72,
   "metadata": {
    "ExecuteTime": {
     "end_time": "2021-03-05T05:48:51.895109Z",
     "start_time": "2021-03-05T05:48:51.891146Z"
    }
   },
   "outputs": [],
   "source": [
    "### 5.2 다차원 인덱싱"
   ]
  },
  {
   "cell_type": "code",
   "execution_count": 73,
   "metadata": {
    "ExecuteTime": {
     "end_time": "2021-03-05T05:49:18.320440Z",
     "start_time": "2021-03-05T05:49:18.303730Z"
    }
   },
   "outputs": [
    {
     "data": {
      "text/plain": [
       "array([[ 0,  1,  2,  3],\n",
       "       [ 4,  5,  6,  7],\n",
       "       [ 8,  9, 10, 11]])"
      ]
     },
     "execution_count": 73,
     "metadata": {},
     "output_type": "execute_result"
    }
   ],
   "source": [
    "import numpy as np\n",
    "a = np.arange(12).reshape(3,4)\n",
    "a"
   ]
  },
  {
   "cell_type": "code",
   "execution_count": 75,
   "metadata": {
    "ExecuteTime": {
     "end_time": "2021-03-05T05:51:31.536789Z",
     "start_time": "2021-03-05T05:51:31.521144Z"
    }
   },
   "outputs": [
    {
     "name": "stdout",
     "output_type": "stream",
     "text": [
      "[[0 1]\n",
      " [1 2]]\n",
      "[[2 1]\n",
      " [3 3]]\n"
     ]
    }
   ],
   "source": [
    "i = np.array([[0,1],\n",
    "             [1,2]])\n",
    "j = np.array([[2,1],\n",
    "             [3,3]])\n",
    "print(i)\n",
    "print(j)"
   ]
  },
  {
   "cell_type": "code",
   "execution_count": 76,
   "metadata": {
    "ExecuteTime": {
     "end_time": "2021-03-05T05:51:49.829739Z",
     "start_time": "2021-03-05T05:51:49.824772Z"
    }
   },
   "outputs": [
    {
     "data": {
      "text/plain": [
       "array([[ 2,  5],\n",
       "       [ 7, 11]])"
      ]
     },
     "execution_count": 76,
     "metadata": {},
     "output_type": "execute_result"
    }
   ],
   "source": [
    "a[i,j]"
   ]
  },
  {
   "cell_type": "code",
   "execution_count": 78,
   "metadata": {
    "ExecuteTime": {
     "end_time": "2021-03-05T05:52:55.904056Z",
     "start_time": "2021-03-05T05:52:55.899069Z"
    }
   },
   "outputs": [
    {
     "data": {
      "text/plain": [
       "array([[[ 0,  1,  2,  3],\n",
       "        [ 4,  5,  6,  7]],\n",
       "\n",
       "       [[ 4,  5,  6,  7],\n",
       "        [ 8,  9, 10, 11]]])"
      ]
     },
     "execution_count": 78,
     "metadata": {},
     "output_type": "execute_result"
    }
   ],
   "source": [
    "a[i] #행만 기입하면 열은 모든 열을 의미"
   ]
  },
  {
   "cell_type": "code",
   "execution_count": 80,
   "metadata": {
    "ExecuteTime": {
     "end_time": "2021-03-05T05:54:38.913203Z",
     "start_time": "2021-03-05T05:54:38.908215Z"
    }
   },
   "outputs": [
    {
     "data": {
      "text/plain": [
       "True"
      ]
     },
     "execution_count": 80,
     "metadata": {},
     "output_type": "execute_result"
    }
   ],
   "source": [
    "np.all(a[i,]==a[i]) # 모든 요소가 true면 true 반납"
   ]
  },
  {
   "cell_type": "code",
   "execution_count": 82,
   "metadata": {
    "ExecuteTime": {
     "end_time": "2021-03-05T05:55:22.883835Z",
     "start_time": "2021-03-05T05:55:22.879855Z"
    }
   },
   "outputs": [
    {
     "data": {
      "text/plain": [
       "array([[0, 1],\n",
       "       [1, 2]])"
      ]
     },
     "execution_count": 82,
     "metadata": {},
     "output_type": "execute_result"
    }
   ],
   "source": [
    "i"
   ]
  },
  {
   "cell_type": "code",
   "execution_count": 83,
   "metadata": {
    "ExecuteTime": {
     "end_time": "2021-03-05T05:56:53.823146Z",
     "start_time": "2021-03-05T05:56:53.817161Z"
    }
   },
   "outputs": [
    {
     "data": {
      "text/plain": [
       "array([[ 2,  6],\n",
       "       [ 6, 10]])"
      ]
     },
     "execution_count": 83,
     "metadata": {},
     "output_type": "execute_result"
    }
   ],
   "source": [
    "a[i,np.array([[2,2],[2,2]])] # 0행 2열 ,1,행 2열\n",
    "#                               1행2열 , 2행 2열"
   ]
  },
  {
   "cell_type": "code",
   "execution_count": 84,
   "metadata": {
    "ExecuteTime": {
     "end_time": "2021-03-05T05:57:57.595839Z",
     "start_time": "2021-03-05T05:57:57.592862Z"
    }
   },
   "outputs": [
    {
     "data": {
      "text/plain": [
       "array([[ 2,  6],\n",
       "       [ 6, 10]])"
      ]
     },
     "execution_count": 84,
     "metadata": {},
     "output_type": "execute_result"
    }
   ],
   "source": [
    "a[i,2]"
   ]
  },
  {
   "cell_type": "markdown",
   "metadata": {},
   "source": [
    "### 5.3 argmax ; 최대값이 있는 곳의 인덱스를 가져옴"
   ]
  },
  {
   "cell_type": "code",
   "execution_count": 85,
   "metadata": {
    "ExecuteTime": {
     "end_time": "2021-03-05T06:00:44.284403Z",
     "start_time": "2021-03-05T06:00:44.278419Z"
    }
   },
   "outputs": [
    {
     "data": {
      "text/plain": [
       "array([[ 0.        ,  0.84147098,  0.90929743,  0.14112001],\n",
       "       [-0.7568025 , -0.95892427, -0.2794155 ,  0.6569866 ],\n",
       "       [ 0.98935825,  0.41211849, -0.54402111, -0.99999021],\n",
       "       [-0.53657292,  0.42016704,  0.99060736,  0.65028784],\n",
       "       [-0.28790332, -0.96139749, -0.75098725,  0.14987721]])"
      ]
     },
     "execution_count": 85,
     "metadata": {},
     "output_type": "execute_result"
    }
   ],
   "source": [
    "data = np.sin(np.arange(20)).reshape(5,4)\n",
    "data"
   ]
  },
  {
   "cell_type": "code",
   "execution_count": 87,
   "metadata": {
    "ExecuteTime": {
     "end_time": "2021-03-05T06:02:18.334024Z",
     "start_time": "2021-03-05T06:02:18.328031Z"
    }
   },
   "outputs": [
    {
     "data": {
      "text/plain": [
       "array([2, 0, 3, 1], dtype=int64)"
      ]
     },
     "execution_count": 87,
     "metadata": {},
     "output_type": "execute_result"
    }
   ],
   "source": [
    "ind = data.argmax(axis=0) #각 열에서 큰값이 잇는 인덱스를 반환\n",
    "ind"
   ]
  },
  {
   "cell_type": "code",
   "execution_count": 93,
   "metadata": {
    "ExecuteTime": {
     "end_time": "2021-03-05T06:05:46.583835Z",
     "start_time": "2021-03-05T06:05:46.568212Z"
    }
   },
   "outputs": [
    {
     "data": {
      "text/plain": [
       "array([0.98935825, 0.84147098, 0.99060736, 0.6569866 ])"
      ]
     },
     "execution_count": 93,
     "metadata": {},
     "output_type": "execute_result"
    }
   ],
   "source": [
    "data_col_max = data[ind, range(data.shape[1])]\n",
    "data_col_max"
   ]
  },
  {
   "cell_type": "code",
   "execution_count": 95,
   "metadata": {
    "ExecuteTime": {
     "end_time": "2021-03-05T06:07:28.800224Z",
     "start_time": "2021-03-05T06:07:28.784568Z"
    }
   },
   "outputs": [
    {
     "name": "stdout",
     "output_type": "stream",
     "text": [
      "0번째 열의 최대값은 0.98936\n",
      "1번째 열의 최대값은 0.84147\n",
      "2번째 열의 최대값은 0.99061\n",
      "3번째 열의 최대값은 0.65699\n"
     ]
    }
   ],
   "source": [
    "for i, item in enumerate(data_col_max):\n",
    "    print(\"{}번째 열의 최대값은 {:.5f}\".format(i,item))"
   ]
  },
  {
   "cell_type": "code",
   "execution_count": 97,
   "metadata": {
    "ExecuteTime": {
     "end_time": "2021-03-05T06:07:53.725575Z",
     "start_time": "2021-03-05T06:07:53.720587Z"
    }
   },
   "outputs": [
    {
     "data": {
      "text/plain": [
       "array([0.98935825, 0.84147098, 0.99060736, 0.6569866 ])"
      ]
     },
     "execution_count": 97,
     "metadata": {},
     "output_type": "execute_result"
    }
   ],
   "source": [
    "data.max(axis=0)"
   ]
  },
  {
   "cell_type": "code",
   "execution_count": 98,
   "metadata": {
    "ExecuteTime": {
     "end_time": "2021-03-05T06:08:51.381224Z",
     "start_time": "2021-03-05T06:08:51.377254Z"
    }
   },
   "outputs": [
    {
     "data": {
      "text/plain": [
       "array([False, False, False, False])"
      ]
     },
     "execution_count": 98,
     "metadata": {},
     "output_type": "execute_result"
    }
   ],
   "source": [
    "np.all(data.max(axis=0)) == data_col_max"
   ]
  },
  {
   "cell_type": "code",
   "execution_count": 99,
   "metadata": {
    "ExecuteTime": {
     "end_time": "2021-03-05T06:09:13.683296Z",
     "start_time": "2021-03-05T06:09:13.680301Z"
    }
   },
   "outputs": [],
   "source": [
    "#행다마 최대값을 출력하기\\(argmax이용)"
   ]
  },
  {
   "cell_type": "code",
   "execution_count": 105,
   "metadata": {
    "ExecuteTime": {
     "end_time": "2021-03-05T06:12:28.740658Z",
     "start_time": "2021-03-05T06:12:28.737683Z"
    }
   },
   "outputs": [],
   "source": [
    "i=data.argmax(axis=1)"
   ]
  },
  {
   "cell_type": "code",
   "execution_count": 107,
   "metadata": {
    "ExecuteTime": {
     "end_time": "2021-03-05T06:13:15.342417Z",
     "start_time": "2021-03-05T06:13:15.336432Z"
    }
   },
   "outputs": [
    {
     "data": {
      "text/plain": [
       "array([0.90929743, 0.6569866 , 0.98935825, 0.99060736, 0.14987721])"
      ]
     },
     "execution_count": 107,
     "metadata": {},
     "output_type": "execute_result"
    }
   ],
   "source": [
    "data_row_max = data[range(data.shape[0]),i]\n",
    "data_row_max"
   ]
  },
  {
   "cell_type": "markdown",
   "metadata": {
    "ExecuteTime": {
     "end_time": "2021-03-05T06:15:49.637209Z",
     "start_time": "2021-03-05T06:15:49.633240Z"
    }
   },
   "source": [
    "### 5.4 인덱싱을 이용한 값변경"
   ]
  },
  {
   "cell_type": "code",
   "execution_count": 110,
   "metadata": {
    "ExecuteTime": {
     "end_time": "2021-03-05T06:16:22.045122Z",
     "start_time": "2021-03-05T06:16:22.041158Z"
    }
   },
   "outputs": [
    {
     "data": {
      "text/plain": [
       "array([0, 1, 2, 3, 4])"
      ]
     },
     "execution_count": 110,
     "metadata": {},
     "output_type": "execute_result"
    }
   ],
   "source": [
    "a = np.arange(5)\n",
    "a"
   ]
  },
  {
   "cell_type": "code",
   "execution_count": 111,
   "metadata": {
    "ExecuteTime": {
     "end_time": "2021-03-05T06:16:43.677761Z",
     "start_time": "2021-03-05T06:16:43.672775Z"
    }
   },
   "outputs": [
    {
     "data": {
      "text/plain": [
       "array([0, 0, 2, 0, 0])"
      ]
     },
     "execution_count": 111,
     "metadata": {},
     "output_type": "execute_result"
    }
   ],
   "source": [
    "a[[1,3,4]] = 0\n",
    "a"
   ]
  },
  {
   "cell_type": "code",
   "execution_count": 113,
   "metadata": {
    "ExecuteTime": {
     "end_time": "2021-03-05T06:18:01.933463Z",
     "start_time": "2021-03-05T06:18:01.928476Z"
    }
   },
   "outputs": [
    {
     "data": {
      "text/plain": [
       "array([999,   1, 999,   3,   4])"
      ]
     },
     "execution_count": 113,
     "metadata": {},
     "output_type": "execute_result"
    }
   ],
   "source": [
    "a = np.arange(5)\n",
    "a[[0,0,2]] = [99,999,999]\n",
    "a"
   ]
  },
  {
   "cell_type": "code",
   "execution_count": 114,
   "metadata": {
    "ExecuteTime": {
     "end_time": "2021-03-05T06:21:33.681609Z",
     "start_time": "2021-03-05T06:21:33.676623Z"
    }
   },
   "outputs": [
    {
     "name": "stdout",
     "output_type": "stream",
     "text": [
      "변경전 :  [0 1 2 3 4]\n",
      "변경후 :  [1 1 3 3 4]\n"
     ]
    }
   ],
   "source": [
    "a = np.arange(5)\n",
    "print('변경전 : ',a)\n",
    "a[[0,0,2]] += 1\n",
    "print('변경후 : ',a)"
   ]
  },
  {
   "cell_type": "markdown",
   "metadata": {},
   "source": [
    "### 5.5 논리배열을 이용한 인덱싱"
   ]
  },
  {
   "cell_type": "code",
   "execution_count": 115,
   "metadata": {
    "ExecuteTime": {
     "end_time": "2021-03-05T06:36:36.512032Z",
     "start_time": "2021-03-05T06:36:36.507039Z"
    }
   },
   "outputs": [
    {
     "data": {
      "text/plain": [
       "array([[ 0,  1,  2,  3,  4],\n",
       "       [ 5,  6,  7,  8,  9],\n",
       "       [10, 11, 12, 13, 14],\n",
       "       [15, 16, 17, 18, 19]])"
      ]
     },
     "execution_count": 115,
     "metadata": {},
     "output_type": "execute_result"
    }
   ],
   "source": [
    "a = np.arange(20).reshape(4,5)\n",
    "a"
   ]
  },
  {
   "cell_type": "code",
   "execution_count": 116,
   "metadata": {
    "ExecuteTime": {
     "end_time": "2021-03-05T06:36:41.830431Z",
     "start_time": "2021-03-05T06:36:41.826440Z"
    }
   },
   "outputs": [
    {
     "data": {
      "text/plain": [
       "array([[ True, False,  True, False,  True],\n",
       "       [False,  True, False,  True, False],\n",
       "       [ True, False,  True, False,  True],\n",
       "       [False,  True, False,  True, False]])"
      ]
     },
     "execution_count": 116,
     "metadata": {},
     "output_type": "execute_result"
    }
   ],
   "source": [
    "a%2==0"
   ]
  },
  {
   "cell_type": "code",
   "execution_count": 117,
   "metadata": {
    "ExecuteTime": {
     "end_time": "2021-03-05T06:37:36.262471Z",
     "start_time": "2021-03-05T06:37:36.257484Z"
    }
   },
   "outputs": [
    {
     "data": {
      "text/plain": [
       "array([ 0,  2,  4,  6,  8, 10, 12, 14, 16, 18])"
      ]
     },
     "execution_count": 117,
     "metadata": {},
     "output_type": "execute_result"
    }
   ],
   "source": [
    "a[a%2==0]"
   ]
  },
  {
   "cell_type": "code",
   "execution_count": 118,
   "metadata": {
    "ExecuteTime": {
     "end_time": "2021-03-05T06:39:04.599167Z",
     "start_time": "2021-03-05T06:39:04.594181Z"
    }
   },
   "outputs": [
    {
     "data": {
      "text/plain": [
       "array([[  0,   1,   4,   3,  16],\n",
       "       [  5,  36,   7,  64,   9],\n",
       "       [100,  11, 144,  13, 196],\n",
       "       [ 15, 256,  17, 324,  19]])"
      ]
     },
     "execution_count": 118,
     "metadata": {},
     "output_type": "execute_result"
    }
   ],
   "source": [
    "a[a%2==0] = a[a%2==0]**2\n",
    "a"
   ]
  },
  {
   "cell_type": "markdown",
   "metadata": {},
   "source": [
    "### 5.5 ix_() 함수\n",
    "- N개의 1차원 시퀀스 배열을 입력받아 N차원 N개를 반환"
   ]
  },
  {
   "cell_type": "code",
   "execution_count": 119,
   "metadata": {
    "ExecuteTime": {
     "end_time": "2021-03-05T06:42:30.064235Z",
     "start_time": "2021-03-05T06:42:30.058272Z"
    }
   },
   "outputs": [
    {
     "data": {
      "text/plain": [
       "(array([[1],\n",
       "        [2],\n",
       "        [3],\n",
       "        [4]]),\n",
       " array([[11, 12, 13]]))"
      ]
     },
     "execution_count": 119,
     "metadata": {},
     "output_type": "execute_result"
    }
   ],
   "source": [
    "a = np.array([1,2,3,4])\n",
    "b = np.array([11,12,13])\n",
    "np.ix_(a,b)"
   ]
  },
  {
   "cell_type": "code",
   "execution_count": 120,
   "metadata": {
    "ExecuteTime": {
     "end_time": "2021-03-05T06:43:40.278213Z",
     "start_time": "2021-03-05T06:43:40.274250Z"
    }
   },
   "outputs": [],
   "source": [
    "ax,bx = np.ix_(a,b)"
   ]
  },
  {
   "cell_type": "code",
   "execution_count": 121,
   "metadata": {
    "ExecuteTime": {
     "end_time": "2021-03-05T06:44:09.430141Z",
     "start_time": "2021-03-05T06:44:09.425154Z"
    }
   },
   "outputs": [
    {
     "name": "stdout",
     "output_type": "stream",
     "text": [
      "[[1]\n",
      " [2]\n",
      " [3]\n",
      " [4]]\n",
      "[[11 12 13]]\n"
     ]
    }
   ],
   "source": [
    "print(ax)\n",
    "print(bx)"
   ]
  },
  {
   "cell_type": "code",
   "execution_count": 122,
   "metadata": {
    "ExecuteTime": {
     "end_time": "2021-03-05T06:44:21.974077Z",
     "start_time": "2021-03-05T06:44:21.969114Z"
    }
   },
   "outputs": [
    {
     "data": {
      "text/plain": [
       "((4, 1), 2)"
      ]
     },
     "execution_count": 122,
     "metadata": {},
     "output_type": "execute_result"
    }
   ],
   "source": [
    "ax.shape,ax.ndim"
   ]
  },
  {
   "cell_type": "code",
   "execution_count": 123,
   "metadata": {
    "ExecuteTime": {
     "end_time": "2021-03-05T06:45:29.399133Z",
     "start_time": "2021-03-05T06:45:29.394127Z"
    }
   },
   "outputs": [
    {
     "data": {
      "text/plain": [
       "((1, 3), 2)"
      ]
     },
     "execution_count": 123,
     "metadata": {},
     "output_type": "execute_result"
    }
   ],
   "source": [
    "bx.shape,bx.ndim"
   ]
  },
  {
   "cell_type": "code",
   "execution_count": 125,
   "metadata": {
    "ExecuteTime": {
     "end_time": "2021-03-05T06:48:49.206480Z",
     "start_time": "2021-03-05T06:48:49.201494Z"
    }
   },
   "outputs": [
    {
     "data": {
      "text/plain": [
       "array([[12, 13, 14],\n",
       "       [13, 14, 15],\n",
       "       [14, 15, 16],\n",
       "       [15, 16, 17]])"
      ]
     },
     "execution_count": 125,
     "metadata": {},
     "output_type": "execute_result"
    }
   ],
   "source": [
    "r = np.add(ax,bx)\n",
    "r"
   ]
  },
  {
   "cell_type": "code",
   "execution_count": 127,
   "metadata": {
    "ExecuteTime": {
     "end_time": "2021-03-05T06:49:52.574160Z",
     "start_time": "2021-03-05T06:49:52.570171Z"
    }
   },
   "outputs": [
    {
     "name": "stdout",
     "output_type": "stream",
     "text": [
      "15\n",
      "15\n"
     ]
    }
   ],
   "source": [
    "print(a[1]+b[2])\n",
    "print(r[1,2])"
   ]
  },
  {
   "cell_type": "markdown",
   "metadata": {},
   "source": [
    "## 6 선형대수학\n",
    "- 2차원 넘파이 배열을 행렬\n",
    "    - 행렬곱 : @ 또는 np.dot()\n",
    "    - 역행렬 : np.linalg.inv(x)\n",
    "    - 전치행렬 : x.T, x.transpose()\n",
    "    - 단위행렬 : np.eye(n)\n",
    "    - 대각합 : np.trace(x)\n",
    "    - 연립방정식 해 풀기 : np.linalg.solve(a,b)"
   ]
  },
  {
   "cell_type": "markdown",
   "metadata": {
    "ExecuteTime": {
     "end_time": "2021-03-05T07:02:22.850427Z",
     "start_time": "2021-03-05T07:02:22.846425Z"
    }
   },
   "source": [
    "### 6.1 선형연립방정식 풀이(회귀도출) ; 독립변수 2개, 데이터 2개"
   ]
  },
  {
   "cell_type": "code",
   "execution_count": 143,
   "metadata": {
    "ExecuteTime": {
     "end_time": "2021-03-05T07:20:04.847979Z",
     "start_time": "2021-03-05T07:20:04.841995Z"
    }
   },
   "outputs": [
    {
     "data": {
      "text/plain": [
       "array([[1, 2],\n",
       "       [3, 4]])"
      ]
     },
     "execution_count": 143,
     "metadata": {},
     "output_type": "execute_result"
    }
   ],
   "source": [
    "a = np.array([[1,2],\n",
    "             [3,4]])\n",
    "a"
   ]
  },
  {
   "cell_type": "code",
   "execution_count": 133,
   "metadata": {
    "ExecuteTime": {
     "end_time": "2021-03-05T07:08:22.271236Z",
     "start_time": "2021-03-05T07:08:22.266277Z"
    }
   },
   "outputs": [
    {
     "data": {
      "text/plain": [
       "array([[5],\n",
       "       [7]])"
      ]
     },
     "execution_count": 133,
     "metadata": {},
     "output_type": "execute_result"
    }
   ],
   "source": [
    "y = np.array([[5],\n",
    "              [7]])\n",
    "y"
   ]
  },
  {
   "cell_type": "markdown",
   "metadata": {},
   "source": [
    "**a @ X = y**<br>\n",
    "**a의 역행렬 @ a @ X = a의 역행렬 @ y**"
   ]
  },
  {
   "cell_type": "code",
   "execution_count": 135,
   "metadata": {
    "ExecuteTime": {
     "end_time": "2021-03-05T07:11:36.334195Z",
     "start_time": "2021-03-05T07:11:36.330225Z"
    }
   },
   "outputs": [
    {
     "data": {
      "text/plain": [
       "array([[1.0000000e+00, 4.4408921e-16],\n",
       "       [0.0000000e+00, 1.0000000e+00]])"
      ]
     },
     "execution_count": 135,
     "metadata": {},
     "output_type": "execute_result"
    }
   ],
   "source": [
    "# a의 역행렬 @ a가 단위행렬인지 확인\n",
    "np.linalg.inv(a) @a"
   ]
  },
  {
   "cell_type": "code",
   "execution_count": 138,
   "metadata": {
    "ExecuteTime": {
     "end_time": "2021-03-05T07:13:19.262490Z",
     "start_time": "2021-03-05T07:13:19.258522Z"
    }
   },
   "outputs": [
    {
     "data": {
      "text/plain": [
       "array([[ True,  True],\n",
       "       [ True,  True]])"
      ]
     },
     "execution_count": 138,
     "metadata": {},
     "output_type": "execute_result"
    }
   ],
   "source": [
    "np.eye(2)@a == a"
   ]
  },
  {
   "cell_type": "code",
   "execution_count": 139,
   "metadata": {
    "ExecuteTime": {
     "end_time": "2021-03-05T07:13:53.382904Z",
     "start_time": "2021-03-05T07:13:53.378907Z"
    }
   },
   "outputs": [
    {
     "data": {
      "text/plain": [
       "array([[ True,  True],\n",
       "       [ True,  True]])"
      ]
     },
     "execution_count": 139,
     "metadata": {},
     "output_type": "execute_result"
    }
   ],
   "source": [
    "a @ np.eye(2) ==a"
   ]
  },
  {
   "cell_type": "code",
   "execution_count": 141,
   "metadata": {
    "ExecuteTime": {
     "end_time": "2021-03-05T07:15:05.838622Z",
     "start_time": "2021-03-05T07:15:05.833636Z"
    }
   },
   "outputs": [
    {
     "data": {
      "text/plain": [
       "array([[-3.],\n",
       "       [ 4.]])"
      ]
     },
     "execution_count": 141,
     "metadata": {},
     "output_type": "execute_result"
    }
   ],
   "source": [
    "x = np.linalg.inv(a)@y\n",
    "x"
   ]
  },
  {
   "cell_type": "code",
   "execution_count": null,
   "metadata": {},
   "outputs": [],
   "source": [
    "# 독립변수 2,3 일 경우 종속변수 값은 ?"
   ]
  },
  {
   "cell_type": "code",
   "execution_count": 142,
   "metadata": {
    "ExecuteTime": {
     "end_time": "2021-03-05T07:19:11.776999Z",
     "start_time": "2021-03-05T07:19:11.772014Z"
    }
   },
   "outputs": [
    {
     "data": {
      "text/plain": [
       "6"
      ]
     },
     "execution_count": 142,
     "metadata": {},
     "output_type": "execute_result"
    }
   ],
   "source": [
    "2*-3 +3*4"
   ]
  },
  {
   "cell_type": "markdown",
   "metadata": {},
   "source": [
    "### 6.2 선형연립방정식 풀이(회귀도출)과 그래프 ; 독립변수 1개"
   ]
  },
  {
   "cell_type": "markdown",
   "metadata": {},
   "source": [
    "**정방행렬을 위한 데이터**"
   ]
  },
  {
   "cell_type": "code",
   "execution_count": 144,
   "metadata": {
    "ExecuteTime": {
     "end_time": "2021-03-05T07:21:56.918587Z",
     "start_time": "2021-03-05T07:21:56.914597Z"
    }
   },
   "outputs": [],
   "source": [
    "x = [2,3]\n",
    "y = [6.8,7.3]"
   ]
  },
  {
   "cell_type": "code",
   "execution_count": 147,
   "metadata": {
    "ExecuteTime": {
     "end_time": "2021-03-05T07:25:22.503109Z",
     "start_time": "2021-03-05T07:25:22.499138Z"
    }
   },
   "outputs": [
    {
     "data": {
      "text/plain": [
       "array([[2., 1.],\n",
       "       [3., 1.]])"
      ]
     },
     "execution_count": 147,
     "metadata": {},
     "output_type": "execute_result"
    }
   ],
   "source": [
    "# 2 1\n",
    "# 3 1\n",
    "A = np.column_stack((np.array(x),np.ones(len(x))))\n",
    "A"
   ]
  },
  {
   "cell_type": "code",
   "execution_count": 149,
   "metadata": {
    "ExecuteTime": {
     "end_time": "2021-03-05T07:26:13.423338Z",
     "start_time": "2021-03-05T07:26:13.418332Z"
    }
   },
   "outputs": [
    {
     "data": {
      "text/plain": [
       "array([[6.8],\n",
       "       [7.3]])"
      ]
     },
     "execution_count": 149,
     "metadata": {},
     "output_type": "execute_result"
    }
   ],
   "source": [
    "Y = np.array(y).reshape(2,1)\n",
    "Y"
   ]
  },
  {
   "cell_type": "markdown",
   "metadata": {},
   "source": [
    "**A@X = Y**\n",
    "**X = A의 역행렬@Y**"
   ]
  },
  {
   "cell_type": "code",
   "execution_count": 150,
   "metadata": {
    "ExecuteTime": {
     "end_time": "2021-03-05T07:27:59.005678Z",
     "start_time": "2021-03-05T07:27:59.001710Z"
    }
   },
   "outputs": [],
   "source": [
    "X = np.linalg.inv(A)@Y"
   ]
  },
  {
   "cell_type": "code",
   "execution_count": 152,
   "metadata": {
    "ExecuteTime": {
     "end_time": "2021-03-05T07:28:08.262325Z",
     "start_time": "2021-03-05T07:28:08.257364Z"
    }
   },
   "outputs": [
    {
     "data": {
      "text/plain": [
       "array([[0.5],\n",
       "       [5.8]])"
      ]
     },
     "execution_count": 152,
     "metadata": {},
     "output_type": "execute_result"
    }
   ],
   "source": [
    "X"
   ]
  },
  {
   "cell_type": "code",
   "execution_count": 153,
   "metadata": {
    "ExecuteTime": {
     "end_time": "2021-03-05T07:28:38.333320Z",
     "start_time": "2021-03-05T07:28:38.329356Z"
    }
   },
   "outputs": [],
   "source": [
    "# 연립방적식 해법을 구하는 함수"
   ]
  },
  {
   "cell_type": "code",
   "execution_count": 154,
   "metadata": {
    "ExecuteTime": {
     "end_time": "2021-03-05T07:29:04.352813Z",
     "start_time": "2021-03-05T07:29:04.347827Z"
    }
   },
   "outputs": [
    {
     "data": {
      "text/plain": [
       "array([[0.5],\n",
       "       [5.8]])"
      ]
     },
     "execution_count": 154,
     "metadata": {},
     "output_type": "execute_result"
    }
   ],
   "source": [
    "np.linalg.solve(A,Y)"
   ]
  },
  {
   "cell_type": "code",
   "execution_count": 157,
   "metadata": {
    "ExecuteTime": {
     "end_time": "2021-03-05T07:43:39.103997Z",
     "start_time": "2021-03-05T07:43:39.099030Z"
    }
   },
   "outputs": [
    {
     "data": {
      "text/plain": [
       "array([6.8, 7.3])"
      ]
     },
     "execution_count": 157,
     "metadata": {},
     "output_type": "execute_result"
    }
   ],
   "source": [
    "f = A[:,0]*X[0] +X[1] #도출된 회귀식\n",
    "f"
   ]
  },
  {
   "cell_type": "code",
   "execution_count": null,
   "metadata": {},
   "outputs": [],
   "source": []
  },
  {
   "cell_type": "code",
   "execution_count": 159,
   "metadata": {
    "ExecuteTime": {
     "end_time": "2021-03-05T07:45:19.530521Z",
     "start_time": "2021-03-05T07:45:19.298586Z"
    }
   },
   "outputs": [
    {
     "data": {
      "image/png": "[encoded data removed]",
      "text/plain": [
       "<Figure size 432x288 with 1 Axes>"
      ]
     },
     "metadata": {
      "needs_background": "light"
     },
     "output_type": "display_data"
    }
   ],
   "source": [
    "import matplotlib.pyplot as plt\n",
    "plt.scatter(x,y)\n",
    "plt.plot(A[:,0],f,'-')\n",
    "plt.show()"
   ]
  },
  {
   "cell_type": "markdown",
   "metadata": {},
   "source": [
    "**데이터를 n개**"
   ]
  },
  {
   "cell_type": "code",
   "execution_count": 164,
   "metadata": {
    "ExecuteTime": {
     "end_time": "2021-03-05T07:49:23.574787Z",
     "start_time": "2021-03-05T07:49:23.570798Z"
    }
   },
   "outputs": [],
   "source": [
    "x = [32,64,96,118,216,114,152,158] # 독립변수\n",
    "y = [18,24,61.5,49,52,105,130,125] # 종속변수"
   ]
  },
  {
   "cell_type": "code",
   "execution_count": 165,
   "metadata": {
    "ExecuteTime": {
     "end_time": "2021-03-05T07:49:24.022739Z",
     "start_time": "2021-03-05T07:49:24.017752Z"
    }
   },
   "outputs": [
    {
     "data": {
      "text/plain": [
       "array([[ 32.,   1.],\n",
       "       [ 64.,   1.],\n",
       "       [ 96.,   1.],\n",
       "       [118.,   1.],\n",
       "       [216.,   1.],\n",
       "       [114.,   1.],\n",
       "       [152.,   1.],\n",
       "       [158.,   1.]])"
      ]
     },
     "execution_count": 165,
     "metadata": {},
     "output_type": "execute_result"
    }
   ],
   "source": [
    "A = np.column_stack((x,np.ones(len(x))))\n",
    "A # 독립변수 행렬"
   ]
  },
  {
   "cell_type": "code",
   "execution_count": 167,
   "metadata": {
    "ExecuteTime": {
     "end_time": "2021-03-05T07:50:02.310669Z",
     "start_time": "2021-03-05T07:50:02.305702Z"
    }
   },
   "outputs": [
    {
     "data": {
      "text/plain": [
       "array([ 18. ,  24. ,  61.5,  49. ,  52. , 105. , 130. , 125. ])"
      ]
     },
     "execution_count": 167,
     "metadata": {},
     "output_type": "execute_result"
    }
   ],
   "source": [
    "B = np.array(y)\n",
    "B # 종속변수 행렬"
   ]
  },
  {
   "cell_type": "markdown",
   "metadata": {},
   "source": [
    "**A@X=B** <br>\n",
    "**A.T@A@X =A.T@B** <br>\n",
    "**X=(A.T@A)의 역행렬@A.T@B**"
   ]
  },
  {
   "cell_type": "code",
   "execution_count": 170,
   "metadata": {
    "ExecuteTime": {
     "end_time": "2021-03-05T07:55:28.758778Z",
     "start_time": "2021-03-05T07:55:28.753809Z"
    }
   },
   "outputs": [
    {
     "data": {
      "text/plain": [
       "array([ 0.40900507, 21.99314773])"
      ]
     },
     "execution_count": 170,
     "metadata": {},
     "output_type": "execute_result"
    }
   ],
   "source": [
    "X = np.linalg.inv(A.T@A)@A.T@B\n",
    "X"
   ]
  },
  {
   "cell_type": "code",
   "execution_count": null,
   "metadata": {},
   "outputs": [],
   "source": [
    "#np.linalg.solve(A,B) 불가"
   ]
  },
  {
   "cell_type": "code",
   "execution_count": 173,
   "metadata": {
    "ExecuteTime": {
     "end_time": "2021-03-05T07:59:22.809581Z",
     "start_time": "2021-03-05T07:59:22.664830Z"
    }
   },
   "outputs": [
    {
     "data": {
      "image/png": "[encoded data removed]",
      "text/plain": [
       "<Figure size 432x288 with 1 Axes>"
      ]
     },
     "metadata": {
      "needs_background": "light"
     },
     "output_type": "display_data"
    }
   ],
   "source": [
    "import matplotlib.pyplot as plt\n",
    "plt.scatter(x,y)\n",
    "plt.plot(A[:,0],A[:,0]*X[0]+X[1],'-')\n",
    "plt.show()"
   ]
  },
  {
   "cell_type": "markdown",
   "metadata": {},
   "source": [
    "## 7 유용한 팁"
   ]
  },
  {
   "cell_type": "code",
   "execution_count": 174,
   "metadata": {
    "ExecuteTime": {
     "end_time": "2021-03-05T08:04:21.376213Z",
     "start_time": "2021-03-05T08:04:21.363244Z"
    }
   },
   "outputs": [
    {
     "data": {
      "text/plain": [
       "(array([2.16230023e-04, 1.08115011e-04, 1.40549515e-03, 3.13533533e-03,\n",
       "        4.32460046e-03, 9.62223602e-03, 1.44874115e-02, 2.24879224e-02,\n",
       "        3.44886887e-02, 5.14627455e-02, 7.83833833e-02, 1.23142998e-01,\n",
       "        1.69524338e-01, 2.20878968e-01, 2.88342736e-01, 3.73321135e-01,\n",
       "        4.63380939e-01, 5.50197293e-01, 6.38959718e-01, 7.12261696e-01,\n",
       "        7.57129425e-01, 7.86861054e-01, 7.95834599e-01, 7.80914728e-01,\n",
       "        7.30857478e-01, 6.54744509e-01, 5.66847005e-01, 4.90085347e-01,\n",
       "        3.98079472e-01, 3.13425418e-01, 2.36663760e-01, 1.79903379e-01,\n",
       "        1.25089068e-01, 8.36810189e-02, 6.05444064e-02, 3.37318836e-02,\n",
       "        2.52989127e-02, 1.38387215e-02, 8.21674087e-03, 4.97329053e-03,\n",
       "        2.59476028e-03, 1.08115011e-03, 3.24345034e-04, 2.16230023e-04,\n",
       "        2.16230023e-04, 0.00000000e+00, 1.08115011e-04, 0.00000000e+00,\n",
       "        0.00000000e+00, 1.08115011e-04]),\n",
       " array([-0.04466894,  0.04782515,  0.14031924,  0.23281334,  0.32530743,\n",
       "         0.41780152,  0.51029562,  0.60278971,  0.6952838 ,  0.7877779 ,\n",
       "         0.88027199,  0.97276609,  1.06526018,  1.15775427,  1.25024837,\n",
       "         1.34274246,  1.43523655,  1.52773065,  1.62022474,  1.71271884,\n",
       "         1.80521293,  1.89770702,  1.99020112,  2.08269521,  2.1751893 ,\n",
       "         2.2676834 ,  2.36017749,  2.45267158,  2.54516568,  2.63765977,\n",
       "         2.73015387,  2.82264796,  2.91514205,  3.00763615,  3.10013024,\n",
       "         3.19262433,  3.28511843,  3.37761252,  3.47010662,  3.56260071,\n",
       "         3.6550948 ,  3.7475889 ,  3.84008299,  3.93257708,  4.02507118,\n",
       "         4.11756527,  4.21005936,  4.30255346,  4.39504755,  4.48754165,\n",
       "         4.58003574]))"
      ]
     },
     "execution_count": 174,
     "metadata": {},
     "output_type": "execute_result"
    }
   ],
   "source": [
    "mu,sigma = 2, 0.5 # mu는 평균 , sigma 는 표준편차\n",
    "v = np.random.normal(mu,sigma,100000) # 정규분포 데이터 만들기\n",
    "(n,bins) = np.histogram(v, bins=50, density=True)\n",
    "n,bins"
   ]
  },
  {
   "cell_type": "code",
   "execution_count": 176,
   "metadata": {
    "ExecuteTime": {
     "end_time": "2021-03-05T08:05:41.916587Z",
     "start_time": "2021-03-05T08:05:41.604061Z"
    }
   },
   "outputs": [
    {
     "data": {
      "image/png": "[encoded data removed]",
      "text/plain": [
       "<Figure size 432x288 with 1 Axes>"
      ]
     },
     "metadata": {
      "needs_background": "light"
     },
     "output_type": "display_data"
    }
   ],
   "source": [
    "plt.hist(v,bins='auto',density=1)\n",
    "plt.show()"
   ]
  },
  {
   "cell_type": "code",
   "execution_count": 177,
   "metadata": {
    "ExecuteTime": {
     "end_time": "2021-03-05T08:07:56.115947Z",
     "start_time": "2021-03-05T08:07:55.987291Z"
    }
   },
   "outputs": [
    {
     "data": {
      "text/plain": [
       "[<matplotlib.lines.Line2D at 0x2270fa25940>]"
      ]
     },
     "execution_count": 177,
     "metadata": {},
     "output_type": "execute_result"
    },
    {
     "data": {
      "image/png": "[encoded data removed]",
      "text/plain": [
       "<Figure size 432x288 with 1 Axes>"
      ]
     },
     "metadata": {
      "needs_background": "light"
     },
     "output_type": "display_data"
    }
   ],
   "source": [
    "plt.plot((bins[:-1]+bins[1:])/2,n)"
   ]
  },
  {
   "cell_type": "markdown",
   "metadata": {},
   "source": [
    "## 8 연습문제"
   ]
  },
  {
   "cell_type": "code",
   "execution_count": 180,
   "metadata": {
    "ExecuteTime": {
     "end_time": "2021-03-05T08:09:49.288198Z",
     "start_time": "2021-03-05T08:09:49.283213Z"
    }
   },
   "outputs": [],
   "source": [
    "#1 \n",
    "import numpy as np \n",
    "from sklearn import datasets\n",
    "iris = datasets.load_iris()\n",
    "iris_data = iris.data"
   ]
  },
  {
   "cell_type": "code",
   "execution_count": 198,
   "metadata": {
    "ExecuteTime": {
     "end_time": "2021-03-05T08:21:07.431562Z",
     "start_time": "2021-03-05T08:21:07.426603Z"
    }
   },
   "outputs": [
    {
     "data": {
      "text/plain": [
       "array([5.84333333, 3.05733333, 3.758     , 1.19933333])"
      ]
     },
     "execution_count": 198,
     "metadata": {},
     "output_type": "execute_result"
    }
   ],
   "source": [
    "## 1 \n",
    "# 각 변수별 평균\n",
    "iris_mu = np.mean(iris_data,0)\n",
    "iris_mu"
   ]
  },
  {
   "cell_type": "code",
   "execution_count": 190,
   "metadata": {
    "ExecuteTime": {
     "end_time": "2021-03-05T08:12:17.984587Z",
     "start_time": "2021-03-05T08:12:17.979582Z"
    }
   },
   "outputs": [
    {
     "data": {
      "text/plain": [
       "array([[5.1, 3.5, 1.4, 0.2],\n",
       "       [4.9, 3. , 1.4, 0.2],\n",
       "       [4.7, 3.2, 1.3, 0.2],\n",
       "       [4.6, 3.1, 1.5, 0.2],\n",
       "       [5. , 3.6, 1.4, 0.2]])"
      ]
     },
     "execution_count": 190,
     "metadata": {},
     "output_type": "execute_result"
    }
   ],
   "source": [
    "## 2 \n",
    "# 처음 다섯 개 행\n",
    "iris_data[0:5]"
   ]
  },
  {
   "cell_type": "code",
   "execution_count": 192,
   "metadata": {
    "ExecuteTime": {
     "end_time": "2021-03-05T08:13:03.679102Z",
     "start_time": "2021-03-05T08:13:03.674114Z"
    }
   },
   "outputs": [
    {
     "data": {
      "text/plain": [
       "array([[5.1, 3.5, 1.4],\n",
       "       [4.9, 3. , 1.4],\n",
       "       [4.7, 3.2, 1.3],\n",
       "       [4.6, 3.1, 1.5],\n",
       "       [5. , 3.6, 1.4]])"
      ]
     },
     "execution_count": 192,
     "metadata": {},
     "output_type": "execute_result"
    }
   ],
   "source": [
    "## 3\n",
    "# 처음 다섯개 행에서 마지막 열을 제외한 나머지 열을 출력\n",
    "iris_data[0:5,0:3]"
   ]
  },
  {
   "cell_type": "code",
   "execution_count": 193,
   "metadata": {
    "ExecuteTime": {
     "end_time": "2021-03-05T08:14:46.344237Z",
     "start_time": "2021-03-05T08:14:46.339274Z"
    }
   },
   "outputs": [
    {
     "data": {
      "text/plain": [
       "array([0.2, 0.2, 0.2, 0.2, 0.2])"
      ]
     },
     "execution_count": 193,
     "metadata": {},
     "output_type": "execute_result"
    }
   ],
   "source": [
    "## 4\n",
    "# 처음 다섯개 행에서 마지막 열만 출력하세요\n",
    "iris_data[0:5,-1]"
   ]
  },
  {
   "cell_type": "code",
   "execution_count": 194,
   "metadata": {
    "ExecuteTime": {
     "end_time": "2021-03-05T08:16:22.438047Z",
     "start_time": "2021-03-05T08:16:22.432050Z"
    }
   },
   "outputs": [
    {
     "data": {
      "text/plain": [
       "array([[5.1, 3.5, 1.4, 0.2],\n",
       "       [4.9, 3. , 1.4, 0.2],\n",
       "       [4.7, 3.2, 1.3, 0.2],\n",
       "       [4.6, 3.1, 1.5, 0.2],\n",
       "       [5. , 3.6, 1.4, 0.2]])"
      ]
     },
     "execution_count": 194,
     "metadata": {},
     "output_type": "execute_result"
    }
   ],
   "source": [
    "## 5\n",
    "# 3번 배열과 4번 배열을 원래 모양이 되도록 합치세요. 실행 결과는 2번의 결과와 같아야 합니다.\n",
    "np.column_stack((iris_data[0:5,0:3],iris_data[0:5,-1]))"
   ]
  },
  {
   "cell_type": "code",
   "execution_count": 213,
   "metadata": {
    "ExecuteTime": {
     "end_time": "2021-03-05T08:29:44.639594Z",
     "start_time": "2021-03-05T08:29:44.634606Z"
    }
   },
   "outputs": [
    {
     "data": {
      "text/plain": [
       "array([4.86, 3.28, 1.4 , 0.2 ])"
      ]
     },
     "execution_count": 213,
     "metadata": {},
     "output_type": "execute_result"
    }
   ],
   "source": [
    "## 6\n",
    "# 처음 다섯 개 행을 이용해서 각 열 별로 평균보다 큰 값들만 출력하세요\n",
    "iris_5 = iris_data[0:5]\n",
    "iris_mu5 = np.mean(iris_5,0)\n",
    "iris_mu5"
   ]
  },
  {
   "cell_type": "code",
   "execution_count": 207,
   "metadata": {
    "ExecuteTime": {
     "end_time": "2021-03-05T08:29:08.870771Z",
     "start_time": "2021-03-05T08:29:08.866780Z"
    }
   },
   "outputs": [],
   "source": [
    "up = iris_5 > iris_mu5"
   ]
  },
  {
   "cell_type": "code",
   "execution_count": 214,
   "metadata": {
    "ExecuteTime": {
     "end_time": "2021-03-05T08:31:13.064428Z",
     "start_time": "2021-03-05T08:31:13.059442Z"
    }
   },
   "outputs": [
    {
     "data": {
      "text/plain": [
       "array([5.1, 3.5, 4.9, 1.5, 5. , 3.6])"
      ]
     },
     "execution_count": 214,
     "metadata": {},
     "output_type": "execute_result"
    }
   ],
   "source": [
    "iris_5[up]"
   ]
  },
  {
   "cell_type": "code",
   "execution_count": 215,
   "metadata": {
    "ExecuteTime": {
     "end_time": "2021-03-05T08:31:58.935870Z",
     "start_time": "2021-03-05T08:31:58.930912Z"
    }
   },
   "outputs": [
    {
     "data": {
      "text/plain": [
       "array([[ 0,  1,  2,  3],\n",
       "       [ 4,  5,  6,  7],\n",
       "       [ 8,  9, 10, 11]])"
      ]
     },
     "execution_count": 215,
     "metadata": {},
     "output_type": "execute_result"
    }
   ],
   "source": [
    "#문제풀이형 \n",
    "#1\n",
    "a = np.arange(12).reshape(3,4)\n",
    "a"
   ]
  },
  {
   "cell_type": "code",
   "execution_count": 217,
   "metadata": {
    "ExecuteTime": {
     "end_time": "2021-03-05T08:32:18.495285Z",
     "start_time": "2021-03-05T08:32:18.491322Z"
    }
   },
   "outputs": [
    {
     "name": "stdout",
     "output_type": "stream",
     "text": [
      "[12 15 18 21]\n"
     ]
    }
   ],
   "source": [
    "print(a.sum(0))"
   ]
  },
  {
   "cell_type": "code",
   "execution_count": 219,
   "metadata": {
    "ExecuteTime": {
     "end_time": "2021-03-05T08:33:49.864334Z",
     "start_time": "2021-03-05T08:33:49.859347Z"
    }
   },
   "outputs": [
    {
     "data": {
      "text/plain": [
       "array([[1., 0., 8., 0.],\n",
       "       [7., 4., 5., 8.],\n",
       "       [0., 9., 8., 0.]])"
      ]
     },
     "execution_count": 219,
     "metadata": {},
     "output_type": "execute_result"
    }
   ],
   "source": [
    "#2\n",
    "a = np.floor(10*np.random.random((3,4)))\n",
    "a"
   ]
  },
  {
   "cell_type": "code",
   "execution_count": 220,
   "metadata": {
    "ExecuteTime": {
     "end_time": "2021-03-05T08:33:56.424780Z",
     "start_time": "2021-03-05T08:33:56.419793Z"
    }
   },
   "outputs": [
    {
     "data": {
      "text/plain": [
       "(3, 4)"
      ]
     },
     "execution_count": 220,
     "metadata": {},
     "output_type": "execute_result"
    }
   ],
   "source": [
    "a.shape"
   ]
  },
  {
   "cell_type": "code",
   "execution_count": 221,
   "metadata": {
    "ExecuteTime": {
     "end_time": "2021-03-05T08:34:00.679736Z",
     "start_time": "2021-03-05T08:34:00.674771Z"
    }
   },
   "outputs": [
    {
     "data": {
      "text/plain": [
       "array([1., 0., 8., 0., 7., 4., 5., 8., 0., 9., 8., 0.])"
      ]
     },
     "execution_count": 221,
     "metadata": {},
     "output_type": "execute_result"
    }
   ],
   "source": [
    "a.ravel()"
   ]
  },
  {
   "cell_type": "code",
   "execution_count": 222,
   "metadata": {
    "ExecuteTime": {
     "end_time": "2021-03-05T08:34:10.272175Z",
     "start_time": "2021-03-05T08:34:10.268186Z"
    }
   },
   "outputs": [
    {
     "data": {
      "text/plain": [
       "array([[1., 0.],\n",
       "       [8., 0.],\n",
       "       [7., 4.],\n",
       "       [5., 8.],\n",
       "       [0., 9.],\n",
       "       [8., 0.]])"
      ]
     },
     "execution_count": 222,
     "metadata": {},
     "output_type": "execute_result"
    }
   ],
   "source": [
    "a.reshape(6,2)"
   ]
  },
  {
   "cell_type": "code",
   "execution_count": 224,
   "metadata": {
    "ExecuteTime": {
     "end_time": "2021-03-05T08:34:22.991489Z",
     "start_time": "2021-03-05T08:34:22.986521Z"
    }
   },
   "outputs": [
    {
     "data": {
      "text/plain": [
       "array([[1., 0., 8., 0., 7., 4.],\n",
       "       [5., 8., 0., 9., 8., 0.]])"
      ]
     },
     "execution_count": 224,
     "metadata": {},
     "output_type": "execute_result"
    }
   ],
   "source": [
    "a.resize((2,6))\n",
    "a"
   ]
  },
  {
   "cell_type": "code",
   "execution_count": 227,
   "metadata": {
    "ExecuteTime": {
     "end_time": "2021-03-05T08:35:20.311347Z",
     "start_time": "2021-03-05T08:35:20.306358Z"
    }
   },
   "outputs": [
    {
     "data": {
      "text/plain": [
       "array([[0, 1, 2, 3],\n",
       "       [4, 5, 6, 7]])"
      ]
     },
     "execution_count": 227,
     "metadata": {},
     "output_type": "execute_result"
    }
   ],
   "source": [
    "#3\n",
    "a = np.arange(12).reshape(3,4)\n",
    "a[:2]"
   ]
  },
  {
   "cell_type": "code",
   "execution_count": 228,
   "metadata": {
    "ExecuteTime": {
     "end_time": "2021-03-05T08:36:19.400676Z",
     "start_time": "2021-03-05T08:36:19.395690Z"
    }
   },
   "outputs": [
    {
     "data": {
      "text/plain": [
       "array([1, 0, 3, 0, 0])"
      ]
     },
     "execution_count": 228,
     "metadata": {},
     "output_type": "execute_result"
    }
   ],
   "source": [
    "#4\n",
    "a = np.array([1,2,3,4,5])\n",
    "a[[1,3,4]]=0\n",
    "a"
   ]
  },
  {
   "cell_type": "code",
   "execution_count": 234,
   "metadata": {
    "ExecuteTime": {
     "end_time": "2021-03-05T08:37:56.376400Z",
     "start_time": "2021-03-05T08:37:56.370441Z"
    }
   },
   "outputs": [
    {
     "data": {
      "text/plain": [
       "array([[ 1,  6],\n",
       "       [ 2,  7],\n",
       "       [ 3,  8],\n",
       "       [ 4,  9],\n",
       "       [ 5, 10]])"
      ]
     },
     "execution_count": 234,
     "metadata": {},
     "output_type": "execute_result"
    }
   ],
   "source": [
    "#5\n",
    "a = np.array([1,2,3,4,5])\n",
    "b = np.array([6,7,8,9,10])\n",
    "np.c_[a,b]"
   ]
  },
  {
   "cell_type": "code",
   "execution_count": null,
   "metadata": {},
   "outputs": [],
   "source": []
  }
 ],
 "metadata": {
  "kernelspec": {
   "display_name": "Python 3",
   "language": "python",
   "name": "python3"
  },
  "language_info": {
   "codemirror_mode": {
    "name": "ipython",
    "version": 3
   },
   "file_extension": ".py",
   "mimetype": "text/x-python",
   "name": "python",
   "nbconvert_exporter": "python",
   "pygments_lexer": "ipython3",
   "version": "3.8.5"
  },
  "toc": {
   "base_numbering": 1,
   "nav_menu": {},
   "number_sections": false,
   "sideBar": true,
   "skip_h1_title": false,
   "title_cell": "Table of Contents",
   "title_sidebar": "Contents",
   "toc_cell": false,
   "toc_position": {
    "height": "calc(100% - 180px)",
    "left": "10px",
    "top": "150px",
    "width": "191.594px"
   },
   "toc_section_display": true,
   "toc_window_display": true
  },
  "varInspector": {
   "cols": {
    "lenName": 16,
    "lenType": 16,
    "lenVar": 40
   },
   "kernels_config": {
    "python": {
     "delete_cmd_postfix": "",
     "delete_cmd_prefix": "del ",
     "library": "var_list.py",
     "varRefreshCmd": "print(var_dic_list())"
    },
    "r": {
     "delete_cmd_postfix": ") ",
     "delete_cmd_prefix": "rm(",
     "library": "var_list.r",
     "varRefreshCmd": "cat(var_dic_list()) "
    }
   },
   "types_to_exclude": [
    "module",
    "function",
    "builtin_function_or_method",
    "instance",
    "_Feature"
   ],
   "window_display": false
  }
 },
 "nbformat": 4,
 "nbformat_minor": 4
}
