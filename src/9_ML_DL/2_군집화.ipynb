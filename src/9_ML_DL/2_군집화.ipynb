{
 "cells": [
  {
   "cell_type": "code",
   "execution_count": 1,
   "metadata": {
    "ExecuteTime": {
     "end_time": "2021-03-19T03:53:46.905914Z",
     "start_time": "2021-03-19T03:53:46.715013Z"
    }
   },
   "outputs": [],
   "source": [
    "import random\n",
    "import numpy as np\n",
    "import matplotlib.pyplot as plt\n",
    "data = []\n",
    "for i in range(50):\n",
    "    data.append([random.randint(40,70),random.randint(140,180)]) \n",
    "    data.append([random.randint(60,90),random.randint(170,200)])"
   ]
  },
  {
   "cell_type": "code",
   "execution_count": 8,
   "metadata": {
    "ExecuteTime": {
     "end_time": "2021-03-19T03:57:09.262845Z",
     "start_time": "2021-03-19T03:57:09.256840Z"
    }
   },
   "outputs": [
    {
     "name": "stdout",
     "output_type": "stream",
     "text": [
      "[43, 154] [64, 166] [43, 142] [57, 177] [59, 170] [57, 176] [52, 168] [43, 141] [59, 174] [40, 159] [61, 145] [53, 152] [40, 154] [42, 178] [48, 168] [50, 141] [46, 147] [63, 177] [57, 156] [67, 169] [43, 145] [65, 160] [68, 171] [52, 154] [69, 150] [41, 152] [58, 167] [64, 150] [48, 156] [65, 179] [40, 173] [66, 162] [41, 152] [57, 154] [67, 159] [59, 140] [51, 154] [45, 141] [65, 154] [68, 180] [63, 161] [67, 146] [43, 161] [44, 150] [42, 152] [53, 142] [67, 150] [65, 147] [53, 152] [45, 179] "
     ]
    }
   ],
   "source": [
    "# 여자 데이터\n",
    "# data[0:100:2]\n",
    "for female in data[0:100:2]:\n",
    "    print(female, end=' ')"
   ]
  },
  {
   "cell_type": "code",
   "execution_count": 9,
   "metadata": {
    "ExecuteTime": {
     "end_time": "2021-03-19T03:58:00.128540Z",
     "start_time": "2021-03-19T03:58:00.112918Z"
    }
   },
   "outputs": [
    {
     "name": "stdout",
     "output_type": "stream",
     "text": [
      "[86, 199] [70, 184] [68, 185] [65, 188] [88, 191] [89, 186] [83, 196] [65, 184] [85, 180] [76, 178] [86, 189] [78, 179] [75, 198] [86, 193] [79, 184] [71, 189] [85, 189] [90, 179] [69, 195] [89, 175] [69, 191] [85, 177] [65, 200] [62, 188] [60, 177] [80, 171] [62, 200] [85, 184] [75, 199] [68, 175] [71, 200] [86, 193] [64, 199] [69, 194] [69, 182] [89, 184] [61, 184] [81, 193] [68, 199] [90, 195] [74, 182] [70, 191] [89, 187] [83, 179] [85, 182] [69, 191] [79, 185] [70, 192] [81, 187] [82, 187] "
     ]
    }
   ],
   "source": [
    "# 남자 데이터\n",
    "# data[1:100:2]\n",
    "for male in data[1:100:2]:\n",
    "    print(male, end=' ')"
   ]
  },
  {
   "cell_type": "code",
   "execution_count": 18,
   "metadata": {
    "ExecuteTime": {
     "end_time": "2021-03-19T04:04:06.455482Z",
     "start_time": "2021-03-19T04:04:06.329093Z"
    }
   },
   "outputs": [
    {
     "data": {
      "image/png": "[encoded data removed]",
      "text/plain": [
       "<Figure size 432x288 with 1 Axes>"
      ]
     },
     "metadata": {
      "needs_background": "light"
     },
     "output_type": "display_data"
    }
   ],
   "source": [
    "# 여자 몸무게\n",
    "[w[0] for w in data[0:100:2]]\n",
    "# 여자 키 \n",
    "[w[1] for w in data[0:100:2]]\n",
    "# 남자 몸무게\n",
    "[m[0] for m in data[1:100:2]]\n",
    "# 남자 키 \n",
    "[m[1] for m in data[1:100:2]]\n",
    "# 그래프\n",
    "plt.plot([w[0] for w in data[0:100:2]],[w[1] for w in data[0:100:2]],'o',color='r')\n",
    "plt.plot([m[0] for m in data[1:100:2]],[m[1] for m in data[1:100:2]],'o',color='b')\n",
    "plt.show()"
   ]
  },
  {
   "cell_type": "code",
   "execution_count": 19,
   "metadata": {
    "ExecuteTime": {
     "end_time": "2021-03-19T04:05:32.285242Z",
     "start_time": "2021-03-19T04:05:32.057951Z"
    }
   },
   "outputs": [
    {
     "data": {
      "image/png": "[encoded data removed]",
      "text/plain": [
       "<Figure size 432x288 with 1 Axes>"
      ]
     },
     "metadata": {
      "needs_background": "light"
     },
     "output_type": "display_data"
    }
   ],
   "source": [
    "# 컴퓨터가 받는 데이터의 느낌\n",
    "for x in data:\n",
    "    plt.plot(x[0],x[1],'o',color='k')"
   ]
  },
  {
   "cell_type": "code",
   "execution_count": 21,
   "metadata": {
    "ExecuteTime": {
     "end_time": "2021-03-19T04:10:20.696174Z",
     "start_time": "2021-03-19T04:10:20.689195Z"
    }
   },
   "outputs": [
    {
     "name": "stdout",
     "output_type": "stream",
     "text": [
      "초기 랜덤 기준점 :  [[64, 159], [53, 193]]\n"
     ]
    }
   ],
   "source": [
    "# 초기 랜덤 지점 2개\n",
    "random_points = [[random.randint(40,90),random.randint(140,200)],[random.randint(40,90),random.randint(140,200)]]\n",
    "print('초기 랜덤 기준점 : ',random_points)"
   ]
  },
  {
   "cell_type": "code",
   "execution_count": 22,
   "metadata": {
    "ExecuteTime": {
     "end_time": "2021-03-19T04:12:37.438458Z",
     "start_time": "2021-03-19T04:12:37.425472Z"
    }
   },
   "outputs": [
    {
     "name": "stdout",
     "output_type": "stream",
     "text": [
      "64 159\t53 193\n"
     ]
    }
   ],
   "source": [
    "# 기준점1\n",
    "print(random_points[0][0],random_points[0][1],end='\\t')\n",
    "# 기준점2\n",
    "print(random_points[1][0],random_points[1][1])"
   ]
  },
  {
   "cell_type": "code",
   "execution_count": 23,
   "metadata": {
    "ExecuteTime": {
     "end_time": "2021-03-19T04:14:33.328197Z",
     "start_time": "2021-03-19T04:14:33.033965Z"
    }
   },
   "outputs": [
    {
     "data": {
      "image/png": "[encoded data removed]",
      "text/plain": [
       "<Figure size 432x288 with 1 Axes>"
      ]
     },
     "metadata": {
      "needs_background": "light"
     },
     "output_type": "display_data"
    }
   ],
   "source": [
    "for x in data:\n",
    "    plt.plot(x[0],x[1],'o',color='k')\n",
    "plt.plot(random_points[0][0],random_points[0][1],'x',color='r') # 기준점1\n",
    "plt.plot(random_points[1][0],random_points[1][1],'x',color='b') # 기준점2\n",
    "plt.show()"
   ]
  },
  {
   "cell_type": "code",
   "execution_count": 24,
   "metadata": {
    "ExecuteTime": {
     "end_time": "2021-03-19T05:34:01.961291Z",
     "start_time": "2021-03-19T05:34:01.947329Z"
    }
   },
   "outputs": [],
   "source": [
    "# 두 영역으로 나눌 빈 리스트 생성\n",
    "group1 = []\n",
    "group2 = []"
   ]
  },
  {
   "cell_type": "code",
   "execution_count": 25,
   "metadata": {
    "ExecuteTime": {
     "end_time": "2021-03-19T05:36:56.132643Z",
     "start_time": "2021-03-19T05:36:56.123642Z"
    }
   },
   "outputs": [],
   "source": [
    "# 영역을 나누기 위해 두 점 사이의 거리를 구하는 함수\n",
    "def dist(a,b):\n",
    "    return np.sqrt((a[0]-b[0])**2+(a[1]-b[1])**2)"
   ]
  },
  {
   "cell_type": "code",
   "execution_count": 26,
   "metadata": {
    "ExecuteTime": {
     "end_time": "2021-03-19T05:37:21.883206Z",
     "start_time": "2021-03-19T05:37:21.869241Z"
    }
   },
   "outputs": [
    {
     "data": {
      "text/plain": [
       "5.0"
      ]
     },
     "execution_count": 26,
     "metadata": {},
     "output_type": "execute_result"
    }
   ],
   "source": [
    "a=[0,0]\n",
    "b=[3,4]\n",
    "dist(a,b)"
   ]
  },
  {
   "cell_type": "code",
   "execution_count": 28,
   "metadata": {
    "ExecuteTime": {
     "end_time": "2021-03-19T05:41:34.998265Z",
     "start_time": "2021-03-19T05:41:34.978273Z"
    }
   },
   "outputs": [],
   "source": [
    "for d in data:\n",
    "    if dist(random_points[0],d) < dist(random_points[1],d): \n",
    "        group1.append(d) # 빨간x랑 더 가까운 그룹\n",
    "    else:\n",
    "        group2.append(d) # 파란x랑 더 가까운 그룹"
   ]
  },
  {
   "cell_type": "code",
   "execution_count": 30,
   "metadata": {
    "ExecuteTime": {
     "end_time": "2021-03-19T05:44:13.753840Z",
     "start_time": "2021-03-19T05:44:13.531571Z"
    }
   },
   "outputs": [
    {
     "data": {
      "image/png": "[encoded data removed]",
      "text/plain": [
       "<Figure size 432x288 with 1 Axes>"
      ]
     },
     "metadata": {
      "needs_background": "light"
     },
     "output_type": "display_data"
    }
   ],
   "source": [
    "# 새로운 영역과 랜덤 점그래프\n",
    "for d in group1:\n",
    "    plt.plot(d[0],d[1],'o',color='r')\n",
    "for d in group2:\n",
    "    plt.plot(d[0],d[1],'o',color='b')\n",
    "plt.plot(random_points[0][0],random_points[0][1],'x',color='r') # 기준점1\n",
    "plt.plot(random_points[1][0],random_points[1][1],'x',color='b') # 기준점2\n",
    "plt.show()"
   ]
  },
  {
   "cell_type": "code",
   "execution_count": 32,
   "metadata": {
    "ExecuteTime": {
     "end_time": "2021-03-19T05:53:12.732116Z",
     "start_time": "2021-03-19T05:53:12.715182Z"
    }
   },
   "outputs": [
    {
     "name": "stdout",
     "output_type": "stream",
     "text": [
      "[[64, 159], [53, 193]]\n",
      "[[60.67272727272727, 160.14545454545456], [71.22222222222223, 188.62222222222223]]\n"
     ]
    }
   ],
   "source": [
    "# 기준점 이동\n",
    "sumX = 0\n",
    "sumY = 0\n",
    "for g in group1:\n",
    "    sumX += g[0] # x축값들 누적\n",
    "    sumY += g[1] # y축값들 누적\n",
    "# 새로운 기준점 1\n",
    "new_points = []\n",
    "new_points.append([sumX/len(group1),sumY/len(group1)])\n",
    "sumX=0\n",
    "sumY=0\n",
    "for g in group2:\n",
    "    sumX += g[0]\n",
    "    sumY += g[1]\n",
    "new_points.append([sumX/len(group2),sumY/len(group2)])\n",
    "print(random_points)\n",
    "print(new_points)"
   ]
  },
  {
   "cell_type": "code",
   "execution_count": 34,
   "metadata": {
    "ExecuteTime": {
     "end_time": "2021-03-19T05:54:33.719774Z",
     "start_time": "2021-03-19T05:54:33.499945Z"
    }
   },
   "outputs": [
    {
     "data": {
      "image/png": "[encoded data removed]",
      "text/plain": [
       "<Figure size 432x288 with 1 Axes>"
      ]
     },
     "metadata": {
      "needs_background": "light"
     },
     "output_type": "display_data"
    }
   ],
   "source": [
    "# 새로운 영역과 새로운기준점1 점그래프\n",
    "for d in group1:\n",
    "    plt.plot(d[0],d[1],'o',color='r')\n",
    "for d in group2:\n",
    "    plt.plot(d[0],d[1],'o',color='b')\n",
    "plt.plot(new_points[0][0],new_points[0][1],'x',color='r') # 기준점1\n",
    "plt.plot(new_points[1][0],new_points[1][1],'x',color='b') # 기준점2\n",
    "plt.show()"
   ]
  },
  {
   "cell_type": "code",
   "execution_count": 35,
   "metadata": {
    "ExecuteTime": {
     "end_time": "2021-03-19T05:56:21.937431Z",
     "start_time": "2021-03-19T05:56:21.924466Z"
    }
   },
   "outputs": [],
   "source": [
    "group1 = []\n",
    "group2 = []\n",
    "for d in data:\n",
    "    if dist(new_points[0],d) < dist(new_points[1],d): \n",
    "        group1.append(d) # 빨간x랑 더 가까운 그룹\n",
    "    else:\n",
    "        group2.append(d) # 파란x랑 더 가까운 그룹"
   ]
  },
  {
   "cell_type": "code",
   "execution_count": 36,
   "metadata": {
    "ExecuteTime": {
     "end_time": "2021-03-19T05:56:28.771754Z",
     "start_time": "2021-03-19T05:56:28.474679Z"
    }
   },
   "outputs": [
    {
     "data": {
      "image/png": "[encoded data removed]",
      "text/plain": [
       "<Figure size 432x288 with 1 Axes>"
      ]
     },
     "metadata": {
      "needs_background": "light"
     },
     "output_type": "display_data"
    }
   ],
   "source": [
    "# 새로운 영역과 새로운기준점1 점그래프\n",
    "for d in group1:\n",
    "    plt.plot(d[0],d[1],'o',color='r')\n",
    "for d in group2:\n",
    "    plt.plot(d[0],d[1],'o',color='b')\n",
    "plt.plot(new_points[0][0],new_points[0][1],'x',color='r') # 기준점1\n",
    "plt.plot(new_points[1][0],new_points[1][1],'x',color='b') # 기준점2\n",
    "plt.show()"
   ]
  },
  {
   "cell_type": "markdown",
   "metadata": {},
   "source": [
    "### 전체코드\n"
   ]
  },
  {
   "cell_type": "code",
   "execution_count": 54,
   "metadata": {
    "ExecuteTime": {
     "end_time": "2021-03-19T06:21:51.658241Z",
     "start_time": "2021-03-19T06:21:51.644279Z"
    },
    "code_folding": [
     0
    ]
   },
   "outputs": [
    {
     "name": "stdout",
     "output_type": "stream",
     "text": [
      "초기 기준점 :  [[68, 176], [81, 150]]\n",
      "1 번째 기준 :  [[65.65, 178.0875], [58.35, 147.15]]\n",
      "2 번째 기준 :  [[67.65277777777777, 180.66666666666666], [55.285714285714285, 149.35714285714286]]\n",
      "3 번째 기준 :  [[68.3, 181.0], [54.6, 150.66666666666666]]\n",
      "4 번째 기준 :  [[69.01492537313433, 181.52238805970148], [54.39393939393939, 152.36363636363637]]\n",
      "5 번째 기준 :  [[69.25757575757575, 181.6818181818182], [54.35294117647059, 152.91176470588235]]\n",
      "6 번째 기준 :  [[69.67692307692307, 181.75384615384615], [54.0, 153.6]]\n",
      "7 번째 기준 :  [[69.78125, 181.984375], [54.25, 153.97222222222223]]\n",
      "8 번째 기준 :  [[70.42622950819673, 182.54098360655738], [54.43589743589744, 155.25641025641025]]\n",
      "9 번째 기준 :  [[71.71929824561404, 183.140350877193], [54.2093023255814, 157.0]]\n",
      "10 번째 기준 :  [[72.38181818181818, 183.43636363636364], [54.17777777777778, 157.8]]\n"
     ]
    }
   ],
   "source": [
    "import random\n",
    "import numpy as np\n",
    "import matplotlib.pyplot as plt\n",
    "\n",
    "# 영역을 나누기 위해 두 점 사이의 거리를 구하는 함수\n",
    "def dist(a,b):\n",
    "    return np.sqrt((a[0]-b[0])**2+(a[1]-b[1])**2)\n",
    "\n",
    "data = []\n",
    "for i in range(50):\n",
    "    data.append([random.randint(40,70),random.randint(140,180)]) \n",
    "    data.append([random.randint(60,90),random.randint(170,200)])\n",
    "new_points = [[random.randint(40,90),random.randint(140,200)],[random.randint(40,90),random.randint(140,200)]]\n",
    "print('초기 기준점 : ',new_points)\n",
    "for i in range(1,11):\n",
    "    group1 = []\n",
    "    group2 = []\n",
    "    for d in data:\n",
    "        if dist(new_points[0],d) < dist(new_points[1],d):\n",
    "            group1.append(d)\n",
    "        else:\n",
    "            group2.append(d)\n",
    "    # group1과 group2의 중간지점을 새로운 기준점으로\n",
    "    sumX = 0\n",
    "    sumY = 0\n",
    "    for g in group1:\n",
    "        sumX += g[0]\n",
    "        sumY += g[1]\n",
    "    new_points = []\n",
    "    new_points.append([sumX/len(group1),sumY/len(group1)])\n",
    "    sumX = 0\n",
    "    sumY = 0\n",
    "    for g in group2:\n",
    "        sumX += g[0]\n",
    "        sumY += g[1]\n",
    "    new_points.append([sumX/len(group2),sumY/len(group2)])\n",
    "    print(i,'번째 기준 : ',new_points)"
   ]
  },
  {
   "cell_type": "code",
   "execution_count": 55,
   "metadata": {
    "ExecuteTime": {
     "end_time": "2021-03-19T06:21:56.403899Z",
     "start_time": "2021-03-19T06:21:56.283578Z"
    }
   },
   "outputs": [
    {
     "data": {
      "image/png": "[encoded data removed]",
      "text/plain": [
       "<Figure size 432x288 with 1 Axes>"
      ]
     },
     "metadata": {
      "needs_background": "light"
     },
     "output_type": "display_data"
    }
   ],
   "source": [
    "# 여자 몸무게\n",
    "[w[0] for w in data[0:100:2]]\n",
    "# 여자 키\n",
    "[w[1] for w in data[0:100:2]]\n",
    "# 남자 몸무게\n",
    "[m[0] for m in data[1:100:2]]\n",
    "# 남자 키\n",
    "[m[1] for m in data[1:100:2]]\n",
    "plt.plot([w[0] for w in data[0:100:2]],[w[1] for w in data[0:100:2]],'o',color='r')\n",
    "plt.plot([m[0] for m in data[1:100:2]],[m[1] for m in data[1:100:2]],'o',color='b')\n",
    "plt.show()"
   ]
  },
  {
   "cell_type": "code",
   "execution_count": 56,
   "metadata": {
    "ExecuteTime": {
     "end_time": "2021-03-19T06:21:58.500180Z",
     "start_time": "2021-03-19T06:21:58.283646Z"
    }
   },
   "outputs": [
    {
     "data": {
      "image/png": "[encoded data removed]",
      "text/plain": [
       "<Figure size 432x288 with 1 Axes>"
      ]
     },
     "metadata": {
      "needs_background": "light"
     },
     "output_type": "display_data"
    }
   ],
   "source": [
    "for g in group1:\n",
    "    plt.plot(g[0],g[1],'o',color='r')\n",
    "for g in group2:\n",
    "    plt.plot(g[0],g[1],'o',color='b')\n",
    "plt.show()"
   ]
  },
  {
   "cell_type": "code",
   "execution_count": null,
   "metadata": {},
   "outputs": [],
   "source": []
  }
 ],
 "metadata": {
  "kernelspec": {
   "display_name": "Python 3",
   "language": "python",
   "name": "python3"
  },
  "language_info": {
   "codemirror_mode": {
    "name": "ipython",
    "version": 3
   },
   "file_extension": ".py",
   "mimetype": "text/x-python",
   "name": "python",
   "nbconvert_exporter": "python",
   "pygments_lexer": "ipython3",
   "version": "3.8.5"
  },
  "toc": {
   "base_numbering": 1,
   "nav_menu": {},
   "number_sections": false,
   "sideBar": true,
   "skip_h1_title": false,
   "title_cell": "Table of Contents",
   "title_sidebar": "Contents",
   "toc_cell": false,
   "toc_position": {},
   "toc_section_display": true,
   "toc_window_display": false
  },
  "varInspector": {
   "cols": {
    "lenName": 16,
    "lenType": 16,
    "lenVar": 40
   },
   "kernels_config": {
    "python": {
     "delete_cmd_postfix": "",
     "delete_cmd_prefix": "del ",
     "library": "var_list.py",
     "varRefreshCmd": "print(var_dic_list())"
    },
    "r": {
     "delete_cmd_postfix": ") ",
     "delete_cmd_prefix": "rm(",
     "library": "var_list.r",
     "varRefreshCmd": "cat(var_dic_list()) "
    }
   },
   "types_to_exclude": [
    "module",
    "function",
    "builtin_function_or_method",
    "instance",
    "_Feature"
   ],
   "window_display": false
  }
 },
 "nbformat": 4,
 "nbformat_minor": 4
}
