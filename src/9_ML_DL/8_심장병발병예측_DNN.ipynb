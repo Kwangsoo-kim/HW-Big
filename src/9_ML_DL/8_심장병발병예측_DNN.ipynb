{
 "cells": [
  {
   "cell_type": "code",
   "execution_count": 46,
   "metadata": {
    "ExecuteTime": {
     "end_time": "2021-03-24T04:10:50.017610Z",
     "start_time": "2021-03-24T04:10:50.000864Z"
    }
   },
   "outputs": [],
   "source": [
    "import pandas as pd\n",
    "import tensorflow as tf\n",
    "import numpy as np\n",
    "from tensorflow.keras.callbacks import EarlyStopping\n",
    "from tensorflow.keras.models import Sequential\n",
    "from tensorflow.keras.layers import Dense,Dropout\n",
    "import tensorflow.keras.utils as utils\n",
    "from sklearn.preprocessing import MinMaxScaler\n",
    "from sklearn.model_selection import train_test_split"
   ]
  },
  {
   "cell_type": "code",
   "execution_count": 49,
   "metadata": {
    "ExecuteTime": {
     "end_time": "2021-03-24T04:13:08.232496Z",
     "start_time": "2021-03-24T04:13:08.153613Z"
    }
   },
   "outputs": [],
   "source": [
    "# 1. 데이터 셋 준비\n",
    "df = pd.read_excel('data/heart-disease.xlsx')\n",
    "\n",
    "df.replace('?',np.NAN, inplace=True)\n",
    "df.dropna(inplace=True)\n",
    "X=df.iloc[:,:-1].values\n",
    "Y=df.iloc[:,13].to_frame().values\n",
    "# normalize\n",
    "scale_x = MinMaxScaler()\n",
    "scale_x.fit(X)\n",
    "scaled_X= scale_x.transform(X)\n",
    "# 학습데이터 : 테스트 데이터 = 7:3\n",
    "X_train, X_test, Y_train, Y_test = train_test_split(scaled_X,Y,test_size=0.3,random_state=5)"
   ]
  },
  {
   "cell_type": "code",
   "execution_count": 50,
   "metadata": {
    "ExecuteTime": {
     "end_time": "2021-03-24T04:13:51.962967Z",
     "start_time": "2021-03-24T04:13:51.954009Z"
    }
   },
   "outputs": [
    {
     "data": {
      "text/plain": [
       "((207, 13), (207, 1), (89, 13), (89, 1))"
      ]
     },
     "execution_count": 50,
     "metadata": {},
     "output_type": "execute_result"
    }
   ],
   "source": [
    "X_train.shape,Y_train.shape,X_test.shape,Y_test.shape"
   ]
  },
  {
   "cell_type": "code",
   "execution_count": 68,
   "metadata": {
    "ExecuteTime": {
     "end_time": "2021-03-24T06:11:30.675007Z",
     "start_time": "2021-03-24T06:11:22.143009Z"
    }
   },
   "outputs": [
    {
     "name": "stdout",
     "output_type": "stream",
     "text": [
      "Epoch 1/100\n",
      "17/17 - 1s - loss: 0.1798 - accuracy: 0.7333 - val_loss: 0.1137 - val_accuracy: 0.8333\n",
      "Epoch 2/100\n",
      "17/17 - 0s - loss: 0.1558 - accuracy: 0.7939 - val_loss: 0.1525 - val_accuracy: 0.8571\n",
      "Epoch 3/100\n",
      "17/17 - 0s - loss: 0.1284 - accuracy: 0.8364 - val_loss: 0.1198 - val_accuracy: 0.8810\n",
      "Epoch 4/100\n",
      "17/17 - 0s - loss: 0.1361 - accuracy: 0.8182 - val_loss: 0.1003 - val_accuracy: 0.8333\n",
      "Epoch 5/100\n",
      "17/17 - 0s - loss: 0.1337 - accuracy: 0.8303 - val_loss: 0.1165 - val_accuracy: 0.8571\n",
      "Epoch 6/100\n",
      "17/17 - 0s - loss: 0.1428 - accuracy: 0.8364 - val_loss: 0.1167 - val_accuracy: 0.8810\n",
      "Epoch 7/100\n",
      "17/17 - 0s - loss: 0.1272 - accuracy: 0.8182 - val_loss: 0.1012 - val_accuracy: 0.8810\n",
      "Epoch 8/100\n",
      "17/17 - 0s - loss: 0.1363 - accuracy: 0.8182 - val_loss: 0.1259 - val_accuracy: 0.8810\n",
      "Epoch 9/100\n",
      "17/17 - 0s - loss: 0.1167 - accuracy: 0.8485 - val_loss: 0.1364 - val_accuracy: 0.8810\n",
      "Epoch 10/100\n",
      "17/17 - 0s - loss: 0.1193 - accuracy: 0.8303 - val_loss: 0.1278 - val_accuracy: 0.8571\n",
      "Epoch 11/100\n",
      "17/17 - 0s - loss: 0.1143 - accuracy: 0.8606 - val_loss: 0.1136 - val_accuracy: 0.8810\n",
      "Epoch 12/100\n",
      "17/17 - 0s - loss: 0.1107 - accuracy: 0.8545 - val_loss: 0.1147 - val_accuracy: 0.8810\n",
      "Epoch 13/100\n",
      "17/17 - 0s - loss: 0.1091 - accuracy: 0.8545 - val_loss: 0.1287 - val_accuracy: 0.8810\n",
      "Epoch 14/100\n",
      "17/17 - 0s - loss: 0.1067 - accuracy: 0.8667 - val_loss: 0.1355 - val_accuracy: 0.8810\n",
      "Epoch 15/100\n",
      "17/17 - 0s - loss: 0.1040 - accuracy: 0.8545 - val_loss: 0.1070 - val_accuracy: 0.8810\n",
      "Epoch 16/100\n",
      "17/17 - 0s - loss: 0.1106 - accuracy: 0.8606 - val_loss: 0.1180 - val_accuracy: 0.8810\n",
      "Epoch 17/100\n",
      "17/17 - 0s - loss: 0.1076 - accuracy: 0.8727 - val_loss: 0.1119 - val_accuracy: 0.8571\n",
      "Epoch 18/100\n",
      "17/17 - 0s - loss: 0.1063 - accuracy: 0.8606 - val_loss: 0.1091 - val_accuracy: 0.8810\n",
      "Epoch 19/100\n",
      "17/17 - 0s - loss: 0.1057 - accuracy: 0.8727 - val_loss: 0.1031 - val_accuracy: 0.8810\n",
      "Epoch 20/100\n",
      "17/17 - 0s - loss: 0.0984 - accuracy: 0.8788 - val_loss: 0.1163 - val_accuracy: 0.8571\n",
      "Epoch 21/100\n",
      "17/17 - 0s - loss: 0.0935 - accuracy: 0.8788 - val_loss: 0.1114 - val_accuracy: 0.8571\n",
      "Epoch 22/100\n",
      "17/17 - 0s - loss: 0.0920 - accuracy: 0.8848 - val_loss: 0.1130 - val_accuracy: 0.8810\n",
      "Epoch 23/100\n",
      "17/17 - 0s - loss: 0.1188 - accuracy: 0.8242 - val_loss: 0.1061 - val_accuracy: 0.8333\n",
      "Epoch 24/100\n",
      "17/17 - 0s - loss: 0.1032 - accuracy: 0.8727 - val_loss: 0.1157 - val_accuracy: 0.8095\n",
      "Epoch 25/100\n",
      "17/17 - 0s - loss: 0.1035 - accuracy: 0.8545 - val_loss: 0.1005 - val_accuracy: 0.8810\n",
      "Epoch 26/100\n",
      "17/17 - 0s - loss: 0.1161 - accuracy: 0.8303 - val_loss: 0.1247 - val_accuracy: 0.8571\n",
      "Epoch 27/100\n",
      "17/17 - 0s - loss: 0.0902 - accuracy: 0.8909 - val_loss: 0.1280 - val_accuracy: 0.8333\n",
      "Epoch 28/100\n",
      "17/17 - 0s - loss: 0.1178 - accuracy: 0.8667 - val_loss: 0.1232 - val_accuracy: 0.8333\n",
      "Epoch 29/100\n",
      "17/17 - 0s - loss: 0.1287 - accuracy: 0.8303 - val_loss: 0.1105 - val_accuracy: 0.8810\n",
      "Epoch 30/100\n",
      "17/17 - 0s - loss: 0.1266 - accuracy: 0.8303 - val_loss: 0.1183 - val_accuracy: 0.8571\n",
      "Epoch 31/100\n",
      "17/17 - 0s - loss: 0.0929 - accuracy: 0.8788 - val_loss: 0.1175 - val_accuracy: 0.8571\n",
      "Epoch 32/100\n",
      "17/17 - 0s - loss: 0.1018 - accuracy: 0.8606 - val_loss: 0.1105 - val_accuracy: 0.8810\n",
      "Epoch 33/100\n",
      "17/17 - 0s - loss: 0.0987 - accuracy: 0.8667 - val_loss: 0.1603 - val_accuracy: 0.7381\n",
      "Epoch 34/100\n",
      "17/17 - 0s - loss: 0.1226 - accuracy: 0.8121 - val_loss: 0.1285 - val_accuracy: 0.8333\n",
      "Epoch 35/100\n",
      "17/17 - 0s - loss: 0.0890 - accuracy: 0.8727 - val_loss: 0.1402 - val_accuracy: 0.7381\n",
      "Epoch 36/100\n",
      "17/17 - 0s - loss: 0.0812 - accuracy: 0.8970 - val_loss: 0.1344 - val_accuracy: 0.8333\n",
      "Epoch 37/100\n",
      "17/17 - 0s - loss: 0.0918 - accuracy: 0.8788 - val_loss: 0.1267 - val_accuracy: 0.8333\n",
      "Epoch 38/100\n",
      "17/17 - 0s - loss: 0.1038 - accuracy: 0.8667 - val_loss: 0.1552 - val_accuracy: 0.8095\n",
      "Epoch 39/100\n",
      "17/17 - 0s - loss: 0.1162 - accuracy: 0.8606 - val_loss: 0.1027 - val_accuracy: 0.8810\n",
      "Epoch 40/100\n",
      "17/17 - 0s - loss: 0.1077 - accuracy: 0.8727 - val_loss: 0.0997 - val_accuracy: 0.8810\n",
      "Epoch 41/100\n",
      "17/17 - 0s - loss: 0.1168 - accuracy: 0.8606 - val_loss: 0.1752 - val_accuracy: 0.7857\n",
      "Epoch 42/100\n",
      "17/17 - 0s - loss: 0.1207 - accuracy: 0.8545 - val_loss: 0.1086 - val_accuracy: 0.8571\n",
      "Epoch 43/100\n",
      "17/17 - 0s - loss: 0.0995 - accuracy: 0.8848 - val_loss: 0.1186 - val_accuracy: 0.8571\n",
      "Epoch 44/100\n",
      "17/17 - 0s - loss: 0.1016 - accuracy: 0.8788 - val_loss: 0.1101 - val_accuracy: 0.8571\n",
      "Epoch 45/100\n",
      "17/17 - 0s - loss: 0.1032 - accuracy: 0.8727 - val_loss: 0.0994 - val_accuracy: 0.8571\n",
      "Epoch 46/100\n",
      "17/17 - 0s - loss: 0.0945 - accuracy: 0.8970 - val_loss: 0.1049 - val_accuracy: 0.8810\n",
      "Epoch 47/100\n",
      "17/17 - 0s - loss: 0.1050 - accuracy: 0.8848 - val_loss: 0.1112 - val_accuracy: 0.8571\n",
      "Epoch 48/100\n",
      "17/17 - 0s - loss: 0.0954 - accuracy: 0.8970 - val_loss: 0.1031 - val_accuracy: 0.8810\n",
      "Epoch 49/100\n",
      "17/17 - 0s - loss: 0.1021 - accuracy: 0.8909 - val_loss: 0.1035 - val_accuracy: 0.8810\n",
      "Epoch 50/100\n",
      "17/17 - 0s - loss: 0.0950 - accuracy: 0.8970 - val_loss: 0.1124 - val_accuracy: 0.8571\n",
      "Epoch 51/100\n",
      "17/17 - 0s - loss: 0.0873 - accuracy: 0.8909 - val_loss: 0.1187 - val_accuracy: 0.8571\n",
      "Epoch 52/100\n",
      "17/17 - 0s - loss: 0.0987 - accuracy: 0.8667 - val_loss: 0.1145 - val_accuracy: 0.8571\n",
      "Epoch 53/100\n",
      "17/17 - 0s - loss: 0.1066 - accuracy: 0.8545 - val_loss: 0.1096 - val_accuracy: 0.8810\n",
      "Epoch 54/100\n",
      "17/17 - 0s - loss: 0.0960 - accuracy: 0.8788 - val_loss: 0.1277 - val_accuracy: 0.8571\n",
      "Epoch 55/100\n",
      "17/17 - 0s - loss: 0.0950 - accuracy: 0.8848 - val_loss: 0.1163 - val_accuracy: 0.8571\n",
      "Epoch 56/100\n",
      "17/17 - 0s - loss: 0.1043 - accuracy: 0.8667 - val_loss: 0.1165 - val_accuracy: 0.8810\n",
      "Epoch 57/100\n",
      "17/17 - 0s - loss: 0.0865 - accuracy: 0.8970 - val_loss: 0.1324 - val_accuracy: 0.8095\n",
      "Epoch 58/100\n",
      "17/17 - 0s - loss: 0.0935 - accuracy: 0.8848 - val_loss: 0.1543 - val_accuracy: 0.8095\n",
      "Epoch 59/100\n",
      "17/17 - 0s - loss: 0.0855 - accuracy: 0.8970 - val_loss: 0.1523 - val_accuracy: 0.7857\n",
      "Epoch 60/100\n",
      "17/17 - 0s - loss: 0.1049 - accuracy: 0.8606 - val_loss: 0.1293 - val_accuracy: 0.8333\n",
      "Epoch 61/100\n",
      "17/17 - 0s - loss: 0.0938 - accuracy: 0.8545 - val_loss: 0.1609 - val_accuracy: 0.7619\n",
      "Epoch 62/100\n",
      "17/17 - 0s - loss: 0.1064 - accuracy: 0.8545 - val_loss: 0.1080 - val_accuracy: 0.9048\n",
      "Epoch 63/100\n",
      "17/17 - 0s - loss: 0.0822 - accuracy: 0.9030 - val_loss: 0.1841 - val_accuracy: 0.7143\n",
      "Epoch 64/100\n",
      "17/17 - 0s - loss: 0.0856 - accuracy: 0.8848 - val_loss: 0.1564 - val_accuracy: 0.8095\n",
      "Epoch 65/100\n",
      "17/17 - 0s - loss: 0.0892 - accuracy: 0.8788 - val_loss: 0.1682 - val_accuracy: 0.7381\n",
      "Epoch 66/100\n",
      "17/17 - 0s - loss: 0.0941 - accuracy: 0.8606 - val_loss: 0.1396 - val_accuracy: 0.7857\n",
      "Epoch 67/100\n",
      "17/17 - 0s - loss: 0.0800 - accuracy: 0.8909 - val_loss: 0.1025 - val_accuracy: 0.8571\n",
      "Epoch 68/100\n",
      "17/17 - 0s - loss: 0.0837 - accuracy: 0.9030 - val_loss: 0.1435 - val_accuracy: 0.7619\n",
      "Epoch 69/100\n",
      "17/17 - 0s - loss: 0.0639 - accuracy: 0.9273 - val_loss: 0.1252 - val_accuracy: 0.8333\n",
      "Epoch 70/100\n",
      "17/17 - 0s - loss: 0.0875 - accuracy: 0.8788 - val_loss: 0.1139 - val_accuracy: 0.8571\n",
      "Epoch 71/100\n",
      "17/17 - 0s - loss: 0.0912 - accuracy: 0.8848 - val_loss: 0.1211 - val_accuracy: 0.8571\n",
      "Epoch 72/100\n",
      "17/17 - 0s - loss: 0.0806 - accuracy: 0.9091 - val_loss: 0.0883 - val_accuracy: 0.8810\n",
      "Epoch 73/100\n",
      "17/17 - 0s - loss: 0.0891 - accuracy: 0.8848 - val_loss: 0.0977 - val_accuracy: 0.9048\n",
      "Epoch 74/100\n",
      "17/17 - 0s - loss: 0.0705 - accuracy: 0.9152 - val_loss: 0.1092 - val_accuracy: 0.8571\n",
      "Epoch 75/100\n",
      "17/17 - 0s - loss: 0.0882 - accuracy: 0.8848 - val_loss: 0.1244 - val_accuracy: 0.8333\n",
      "Epoch 76/100\n",
      "17/17 - 0s - loss: 0.0749 - accuracy: 0.9152 - val_loss: 0.1334 - val_accuracy: 0.8333\n",
      "Epoch 77/100\n",
      "17/17 - 0s - loss: 0.0912 - accuracy: 0.8848 - val_loss: 0.1330 - val_accuracy: 0.8333\n",
      "Epoch 78/100\n",
      "17/17 - 0s - loss: 0.0928 - accuracy: 0.8788 - val_loss: 0.1289 - val_accuracy: 0.8333\n",
      "Epoch 79/100\n",
      "17/17 - 0s - loss: 0.0735 - accuracy: 0.9091 - val_loss: 0.1096 - val_accuracy: 0.8571\n",
      "Epoch 80/100\n",
      "17/17 - 0s - loss: 0.0842 - accuracy: 0.8788 - val_loss: 0.1107 - val_accuracy: 0.8571\n",
      "Epoch 81/100\n",
      "17/17 - 0s - loss: 0.0654 - accuracy: 0.9152 - val_loss: 0.1491 - val_accuracy: 0.7857\n",
      "Epoch 82/100\n",
      "17/17 - 0s - loss: 0.0746 - accuracy: 0.8970 - val_loss: 0.1156 - val_accuracy: 0.8571\n",
      "Epoch 83/100\n"
     ]
    },
    {
     "name": "stdout",
     "output_type": "stream",
     "text": [
      "17/17 - 0s - loss: 0.0895 - accuracy: 0.8788 - val_loss: 0.1206 - val_accuracy: 0.8571\n",
      "Epoch 84/100\n",
      "17/17 - 0s - loss: 0.0744 - accuracy: 0.9091 - val_loss: 0.1600 - val_accuracy: 0.7619\n",
      "Epoch 85/100\n",
      "17/17 - 0s - loss: 0.0624 - accuracy: 0.9273 - val_loss: 0.1924 - val_accuracy: 0.7619\n",
      "Epoch 86/100\n",
      "17/17 - 0s - loss: 0.0567 - accuracy: 0.9273 - val_loss: 0.2021 - val_accuracy: 0.7381\n",
      "Epoch 87/100\n",
      "17/17 - 0s - loss: 0.0636 - accuracy: 0.9273 - val_loss: 0.1726 - val_accuracy: 0.7857\n",
      "Epoch 88/100\n",
      "17/17 - 0s - loss: 0.0673 - accuracy: 0.9091 - val_loss: 0.1557 - val_accuracy: 0.8095\n",
      "Epoch 89/100\n",
      "17/17 - 0s - loss: 0.0767 - accuracy: 0.9030 - val_loss: 0.1295 - val_accuracy: 0.8333\n",
      "Epoch 90/100\n",
      "17/17 - 0s - loss: 0.0700 - accuracy: 0.9273 - val_loss: 0.1269 - val_accuracy: 0.8571\n",
      "Epoch 91/100\n",
      "17/17 - 0s - loss: 0.0658 - accuracy: 0.9273 - val_loss: 0.1124 - val_accuracy: 0.8571\n",
      "Epoch 92/100\n",
      "17/17 - 0s - loss: 0.0878 - accuracy: 0.8848 - val_loss: 0.2132 - val_accuracy: 0.7381\n",
      "Epoch 93/100\n",
      "17/17 - 0s - loss: 0.1128 - accuracy: 0.8242 - val_loss: 0.1583 - val_accuracy: 0.7619\n",
      "Epoch 94/100\n",
      "17/17 - 0s - loss: 0.1245 - accuracy: 0.8182 - val_loss: 0.1305 - val_accuracy: 0.8333\n",
      "Epoch 95/100\n",
      "17/17 - 0s - loss: 0.0953 - accuracy: 0.8788 - val_loss: 0.1531 - val_accuracy: 0.8333\n",
      "Epoch 96/100\n",
      "17/17 - 0s - loss: 0.0990 - accuracy: 0.8485 - val_loss: 0.1381 - val_accuracy: 0.8333\n",
      "Epoch 97/100\n",
      "17/17 - 0s - loss: 0.0788 - accuracy: 0.8970 - val_loss: 0.1293 - val_accuracy: 0.8571\n",
      "Epoch 98/100\n",
      "17/17 - 0s - loss: 0.0963 - accuracy: 0.8909 - val_loss: 0.1220 - val_accuracy: 0.8333\n",
      "Epoch 99/100\n",
      "17/17 - 0s - loss: 0.0762 - accuracy: 0.9091 - val_loss: 0.1094 - val_accuracy: 0.8810\n",
      "Epoch 100/100\n",
      "17/17 - 0s - loss: 0.0682 - accuracy: 0.9212 - val_loss: 0.0952 - val_accuracy: 0.8810\n"
     ]
    }
   ],
   "source": [
    "# 2. 모델구성\n",
    "model=Sequential()\n",
    "# layer 구성\n",
    "model.add(Dense(128,input_dim=13,activation='tanh'))\n",
    "# 과적합을 해결하고자 기억하되 두루뭉실하게 기억하자\n",
    "model.add(Dropout(0.1))\n",
    "model.add(Dense(256,activation='tanh'))\n",
    "model.add(Dropout(0.1))\n",
    "model.add(Dense(512,activation='tanh'))\n",
    "model.add(Dropout(0.1))\n",
    "model.add(Dense(256,activation='tanh'))\n",
    "model.add(Dropout(0.1))\n",
    "model.add(Dense(128,activation='tanh'))\n",
    "model.add(Dropout(0.1))\n",
    "model.add(Dense(64,activation='tanh'))\n",
    "model.add(Dropout(0.1))\n",
    "model.add(Dense(32,activation='tanh'))\n",
    "model.add(Dropout(0.1))\n",
    "model.add(Dense(16,activation='tanh'))\n",
    "model.add(Dropout(0.1))\n",
    "model.add(Dense(1,activation='sigmoid'))\n",
    "\n",
    "# 3. 모델 학습과정 \n",
    "from tensorflow.keras import metrics\n",
    "model.compile(loss='mse',optimizer='adam',metrics=['accuracy'])\n",
    "\n",
    "# accuracy(정확도) : 예측결과와 실제값이 동일한 건수 / 전체 건수\n",
    "# Recall(재현율) : 실제 True인데 예측도 True로 한 건수 / 실제 True인 전체 건수\n",
    "# Precision(정밀도) : 실제 True인데 예측더 True로 한 건수 / True로 예측한 건수\n",
    "\n",
    "\n",
    "# 4. 학습\n",
    "hist = model.fit(X_train,Y_train,epochs=100,batch_size=10,validation_split=0.2,verbose=2)\n",
    "# validation_split : train 데이터에서 임의로 데이터를 추출하여 validation 하는것"
   ]
  },
  {
   "cell_type": "code",
   "execution_count": 69,
   "metadata": {
    "ExecuteTime": {
     "end_time": "2021-03-24T06:11:35.719645Z",
     "start_time": "2021-03-24T06:11:35.449267Z"
    }
   },
   "outputs": [
    {
     "data": {
      "image/png": "[encoded data removed]",
      "text/plain": [
       "<Figure size 432x288 with 2 Axes>"
      ]
     },
     "metadata": {
      "needs_background": "light"
     },
     "output_type": "display_data"
    }
   ],
   "source": [
    "# 5. 모델학습과정을 표시하고 평가하기\n",
    "import matplotlib.pyplot as plt\n",
    "fig, loss_ax = plt.subplots()\n",
    "loss_ax.plot(hist.history['loss'],'y',label='train loss')\n",
    "loss_ax.plot(hist.history['val_loss'],'g',label='val loss')\n",
    "loss_ax.set_xlabel('epochs')\n",
    "loss_ax.set_ylabel('loss')\n",
    "\n",
    "acc_ax = loss_ax.twinx() # x축 공유 하는 acc_ax\n",
    "acc_ax.plot(hist.history['accuracy'],'b',label='train acc')\n",
    "acc_ax.plot(hist.history['val_accuracy'],'r',label='val acc')\n",
    "acc_ax.set_ylabel('acc')\n",
    "loss_ax.legend(loc='upper left')\n",
    "acc_ax.legend(loc='lower left')\n",
    "plt.show()"
   ]
  },
  {
   "cell_type": "code",
   "execution_count": 67,
   "metadata": {
    "ExecuteTime": {
     "end_time": "2021-03-24T06:11:02.610321Z",
     "start_time": "2021-03-24T06:11:02.543708Z"
    }
   },
   "outputs": [
    {
     "name": "stdout",
     "output_type": "stream",
     "text": [
      "model loss :  0.1735050529241562\n",
      "model accuracy :  0.7865168452262878\n"
     ]
    }
   ],
   "source": [
    "# 6. 평가 및 예측\n",
    "score = model.evaluate(X_test,Y_test,verbose=0)\n",
    "print('model loss : ', score[0])\n",
    "print('model accuracy : ', score[1])"
   ]
  },
  {
   "cell_type": "code",
   "execution_count": 74,
   "metadata": {
    "ExecuteTime": {
     "end_time": "2021-03-24T06:17:16.786456Z",
     "start_time": "2021-03-24T06:17:16.720554Z"
    }
   },
   "outputs": [
    {
     "name": "stdout",
     "output_type": "stream",
     "text": [
      "[[33  9]\n",
      " [10 37]]\n",
      "f1_score :  0.795698924731183\n"
     ]
    }
   ],
   "source": [
    "# 7. metrix (성능평가지표)\n",
    "from sklearn.metrics import confusion_matrix\n",
    "from sklearn.metrics import f1_score\n",
    "pred = model.predict(X_test)\n",
    "pred = (pred>0.5)\n",
    "pred\n",
    "print(confusion_matrix(Y_test,pred), end='\\n')\n",
    "print('f1_score : ',f1_score(Y_test,pred))"
   ]
  },
  {
   "cell_type": "code",
   "execution_count": null,
   "metadata": {},
   "outputs": [],
   "source": []
  }
 ],
 "metadata": {
  "kernelspec": {
   "display_name": "Python 3",
   "language": "python",
   "name": "python3"
  },
  "language_info": {
   "codemirror_mode": {
    "name": "ipython",
    "version": 3
   },
   "file_extension": ".py",
   "mimetype": "text/x-python",
   "name": "python",
   "nbconvert_exporter": "python",
   "pygments_lexer": "ipython3",
   "version": "3.8.5"
  },
  "toc": {
   "base_numbering": 1,
   "nav_menu": {},
   "number_sections": false,
   "sideBar": true,
   "skip_h1_title": false,
   "title_cell": "Table of Contents",
   "title_sidebar": "Contents",
   "toc_cell": false,
   "toc_position": {},
   "toc_section_display": true,
   "toc_window_display": false
  },
  "varInspector": {
   "cols": {
    "lenName": 16,
    "lenType": 16,
    "lenVar": 40
   },
   "kernels_config": {
    "python": {
     "delete_cmd_postfix": "",
     "delete_cmd_prefix": "del ",
     "library": "var_list.py",
     "varRefreshCmd": "print(var_dic_list())"
    },
    "r": {
     "delete_cmd_postfix": ") ",
     "delete_cmd_prefix": "rm(",
     "library": "var_list.r",
     "varRefreshCmd": "cat(var_dic_list()) "
    }
   },
   "types_to_exclude": [
    "module",
    "function",
    "builtin_function_or_method",
    "instance",
    "_Feature"
   ],
   "window_display": false
  }
 },
 "nbformat": 4,
 "nbformat_minor": 4
}
