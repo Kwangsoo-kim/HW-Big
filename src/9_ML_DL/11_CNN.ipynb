{
 "cells": [
  {
   "cell_type": "code",
   "execution_count": 1,
   "metadata": {
    "ExecuteTime": {
     "end_time": "2021-03-25T00:57:47.704079Z",
     "start_time": "2021-03-25T00:57:46.818139Z"
    }
   },
   "outputs": [
    {
     "name": "stdout",
     "output_type": "stream",
     "text": [
      "(24, 24, 4)\n",
      "<class 'numpy.ndarray'>\n"
     ]
    },
    {
     "data": {
      "image/png": "[encoded data removed]",
      "text/plain": [
       "<Figure size 432x288 with 1 Axes>"
      ]
     },
     "metadata": {
      "needs_background": "light"
     },
     "output_type": "display_data"
    }
   ],
   "source": [
    "import matplotlib.pyplot as plt\n",
    "c0 = plt.imread('data/handwriting/handwriting_shape/train/circle/circle001.png')\n",
    "plt.imshow(c0)\n",
    "print(c0.shape)\n",
    "print(type(c0))"
   ]
  },
  {
   "cell_type": "code",
   "execution_count": 26,
   "metadata": {
    "ExecuteTime": {
     "end_time": "2021-03-25T02:10:28.501329Z",
     "start_time": "2021-03-25T02:10:28.485681Z"
    }
   },
   "outputs": [],
   "source": [
    "import numpy as np\n",
    "from tensorflow.keras.models import Sequential\n",
    "from tensorflow.keras.layers import Conv2D # 필터링\n",
    "from tensorflow.keras.layers import MaxPool2D # 풀링\n",
    "from tensorflow.keras.layers import Flatten # 2차원 영상 데이터를 1차원으로\n",
    "from tensorflow.keras.layers import Dense, Dropout\n",
    "from tensorflow.keras.preprocessing.image import ImageDataGenerator\n",
    "np.random.seed(3)"
   ]
  },
  {
   "cell_type": "code",
   "execution_count": 5,
   "metadata": {
    "ExecuteTime": {
     "end_time": "2021-03-25T01:18:01.893925Z",
     "start_time": "2021-03-25T01:18:01.731331Z"
    }
   },
   "outputs": [
    {
     "name": "stdout",
     "output_type": "stream",
     "text": [
      "Found 45 images belonging to 3 classes.\n",
      "Found 15 images belonging to 3 classes.\n"
     ]
    }
   ],
   "source": [
    "# 1 .데이터 생성하기\n",
    "train_datagen = ImageDataGenerator(rescale=1./255) # 정규화 작업\n",
    "train_generator = train_datagen.flow_from_directory('data/handwriting/hard_handwriting_shape/train',\n",
    "                                                   target_size=(24,24),\n",
    "                                                   batch_size=3,\n",
    "                                                   class_mode='categorical')\n",
    "test_datagen = ImageDataGenerator(rescale=1./255)\n",
    "test_generator = test_datagen.flow_from_directory('data/handwriting/hard_handwriting_shape/test',\n",
    "                                                 target_size=(24,24),\n",
    "                                                 batch_size=3,\n",
    "                                                 class_mode='categorical')"
   ]
  },
  {
   "cell_type": "code",
   "execution_count": 8,
   "metadata": {
    "ExecuteTime": {
     "end_time": "2021-03-25T01:27:37.671245Z",
     "start_time": "2021-03-25T01:27:37.603589Z"
    }
   },
   "outputs": [],
   "source": [
    "# 2. 모델 구성하기\n",
    "model = Sequential()\n",
    "# 컨볼루션 필터 설정\n",
    "model.add(Conv2D(32,kernel_size=(3,3),activation='relu',input_shape=(24,24,3)))\n",
    "model.add(Conv2D(64,kernel_size=(3,3),activation='relu')) # 윗 단계 input받아서 처리하니까 아래부턴 쓸 필요없다.\n",
    "# 풀링\n",
    "model.add(MaxPool2D(pool_size=(2,2))) # 2 by 2에서 큰 값만 뽑아 이미지 축소\n",
    "# 2차원 이미지 1차원으로 변환\n",
    "model.add(Flatten())\n",
    "# DNN\n",
    "model.add(Dense(128,activation='relu'))\n",
    "model.add(Dense(3,activation='softmax'))"
   ]
  },
  {
   "cell_type": "code",
   "execution_count": 10,
   "metadata": {
    "ExecuteTime": {
     "end_time": "2021-03-25T01:30:49.915843Z",
     "start_time": "2021-03-25T01:30:49.899864Z"
    }
   },
   "outputs": [
    {
     "name": "stdout",
     "output_type": "stream",
     "text": [
      "Model: \"sequential_2\"\n",
      "_________________________________________________________________\n",
      "Layer (type)                 Output Shape              Param #   \n",
      "=================================================================\n",
      "conv2d_4 (Conv2D)            (None, 22, 22, 32)        896       \n",
      "_________________________________________________________________\n",
      "conv2d_5 (Conv2D)            (None, 20, 20, 64)        18496     \n",
      "_________________________________________________________________\n",
      "max_pooling2d_2 (MaxPooling2 (None, 10, 10, 64)        0         \n",
      "_________________________________________________________________\n",
      "flatten_2 (Flatten)          (None, 6400)              0         \n",
      "_________________________________________________________________\n",
      "dense_3 (Dense)              (None, 128)               819328    \n",
      "_________________________________________________________________\n",
      "dense_4 (Dense)              (None, 3)                 387       \n",
      "=================================================================\n",
      "Total params: 839,107\n",
      "Trainable params: 839,107\n",
      "Non-trainable params: 0\n",
      "_________________________________________________________________\n"
     ]
    }
   ],
   "source": [
    "model.summary()"
   ]
  },
  {
   "cell_type": "code",
   "execution_count": 12,
   "metadata": {
    "ExecuteTime": {
     "end_time": "2021-03-25T01:42:57.023936Z",
     "start_time": "2021-03-25T01:42:46.281977Z"
    }
   },
   "outputs": [
    {
     "name": "stdout",
     "output_type": "stream",
     "text": [
      "Epoch 1/50\n",
      "15/15 - 1s - loss: 0.9396 - accuracy: 0.7556 - val_loss: 1.3947 - val_accuracy: 0.3333\n",
      "Epoch 2/50\n",
      "15/15 - 0s - loss: 0.1561 - accuracy: 0.9778 - val_loss: 2.4034 - val_accuracy: 0.3333\n",
      "Epoch 3/50\n",
      "15/15 - 0s - loss: 0.0172 - accuracy: 1.0000 - val_loss: 3.4618 - val_accuracy: 0.4000\n",
      "Epoch 4/50\n",
      "15/15 - 0s - loss: 0.0016 - accuracy: 1.0000 - val_loss: 3.8087 - val_accuracy: 0.4000\n",
      "Epoch 5/50\n",
      "15/15 - 0s - loss: 4.9321e-04 - accuracy: 1.0000 - val_loss: 4.1216 - val_accuracy: 0.4000\n",
      "Epoch 6/50\n",
      "15/15 - 0s - loss: 2.7722e-04 - accuracy: 1.0000 - val_loss: 4.2972 - val_accuracy: 0.3333\n",
      "Epoch 7/50\n",
      "15/15 - 0s - loss: 2.2870e-04 - accuracy: 1.0000 - val_loss: 4.4001 - val_accuracy: 0.3333\n",
      "Epoch 8/50\n",
      "15/15 - 0s - loss: 1.8940e-04 - accuracy: 1.0000 - val_loss: 4.4898 - val_accuracy: 0.3333\n",
      "Epoch 9/50\n",
      "15/15 - 0s - loss: 1.6490e-04 - accuracy: 1.0000 - val_loss: 4.5683 - val_accuracy: 0.3333\n",
      "Epoch 10/50\n",
      "15/15 - 0s - loss: 1.4095e-04 - accuracy: 1.0000 - val_loss: 4.6494 - val_accuracy: 0.3333\n",
      "Epoch 11/50\n",
      "15/15 - 0s - loss: 1.2744e-04 - accuracy: 1.0000 - val_loss: 4.7175 - val_accuracy: 0.3333\n",
      "Epoch 12/50\n",
      "15/15 - 0s - loss: 1.1187e-04 - accuracy: 1.0000 - val_loss: 4.7986 - val_accuracy: 0.3333\n",
      "Epoch 13/50\n",
      "15/15 - 0s - loss: 1.0098e-04 - accuracy: 1.0000 - val_loss: 4.8585 - val_accuracy: 0.3333\n",
      "Epoch 14/50\n",
      "15/15 - 0s - loss: 9.0634e-05 - accuracy: 1.0000 - val_loss: 4.9189 - val_accuracy: 0.3333\n",
      "Epoch 15/50\n",
      "15/15 - 0s - loss: 8.1139e-05 - accuracy: 1.0000 - val_loss: 4.9623 - val_accuracy: 0.3333\n",
      "Epoch 16/50\n",
      "15/15 - 0s - loss: 7.3685e-05 - accuracy: 1.0000 - val_loss: 5.0189 - val_accuracy: 0.3333\n",
      "Epoch 17/50\n",
      "15/15 - 0s - loss: 6.6698e-05 - accuracy: 1.0000 - val_loss: 5.0587 - val_accuracy: 0.3333\n",
      "Epoch 18/50\n",
      "15/15 - 0s - loss: 6.1441e-05 - accuracy: 1.0000 - val_loss: 5.1048 - val_accuracy: 0.3333\n",
      "Epoch 19/50\n",
      "15/15 - 0s - loss: 5.7336e-05 - accuracy: 1.0000 - val_loss: 5.1512 - val_accuracy: 0.3333\n",
      "Epoch 20/50\n",
      "15/15 - 0s - loss: 5.2142e-05 - accuracy: 1.0000 - val_loss: 5.1972 - val_accuracy: 0.3333\n",
      "Epoch 21/50\n",
      "15/15 - 0s - loss: 4.8344e-05 - accuracy: 1.0000 - val_loss: 5.2325 - val_accuracy: 0.3333\n",
      "Epoch 22/50\n",
      "15/15 - 0s - loss: 4.5144e-05 - accuracy: 1.0000 - val_loss: 5.2754 - val_accuracy: 0.3333\n",
      "Epoch 23/50\n",
      "15/15 - 0s - loss: 4.1966e-05 - accuracy: 1.0000 - val_loss: 5.3090 - val_accuracy: 0.3333\n",
      "Epoch 24/50\n",
      "15/15 - 0s - loss: 3.8639e-05 - accuracy: 1.0000 - val_loss: 5.3542 - val_accuracy: 0.3333\n",
      "Epoch 25/50\n",
      "15/15 - 0s - loss: 3.5856e-05 - accuracy: 1.0000 - val_loss: 5.3887 - val_accuracy: 0.3333\n",
      "Epoch 26/50\n",
      "15/15 - 0s - loss: 3.3493e-05 - accuracy: 1.0000 - val_loss: 5.4197 - val_accuracy: 0.3333\n",
      "Epoch 27/50\n",
      "15/15 - 0s - loss: 3.1268e-05 - accuracy: 1.0000 - val_loss: 5.4537 - val_accuracy: 0.3333\n",
      "Epoch 28/50\n",
      "15/15 - 0s - loss: 2.9485e-05 - accuracy: 1.0000 - val_loss: 5.4819 - val_accuracy: 0.3333\n",
      "Epoch 29/50\n",
      "15/15 - 0s - loss: 2.7719e-05 - accuracy: 1.0000 - val_loss: 5.5153 - val_accuracy: 0.3333\n",
      "Epoch 30/50\n",
      "15/15 - 0s - loss: 2.6373e-05 - accuracy: 1.0000 - val_loss: 5.5482 - val_accuracy: 0.3333\n",
      "Epoch 31/50\n",
      "15/15 - 0s - loss: 2.4434e-05 - accuracy: 1.0000 - val_loss: 5.5767 - val_accuracy: 0.3333\n",
      "Epoch 32/50\n",
      "15/15 - 0s - loss: 2.3430e-05 - accuracy: 1.0000 - val_loss: 5.6076 - val_accuracy: 0.3333\n",
      "Epoch 33/50\n",
      "15/15 - 0s - loss: 2.2127e-05 - accuracy: 1.0000 - val_loss: 5.6398 - val_accuracy: 0.3333\n",
      "Epoch 34/50\n",
      "15/15 - 0s - loss: 2.0927e-05 - accuracy: 1.0000 - val_loss: 5.6700 - val_accuracy: 0.3333\n",
      "Epoch 35/50\n",
      "15/15 - 0s - loss: 1.9788e-05 - accuracy: 1.0000 - val_loss: 5.6839 - val_accuracy: 0.3333\n",
      "Epoch 36/50\n",
      "15/15 - 0s - loss: 1.8890e-05 - accuracy: 1.0000 - val_loss: 5.7049 - val_accuracy: 0.3333\n",
      "Epoch 37/50\n",
      "15/15 - 0s - loss: 1.7936e-05 - accuracy: 1.0000 - val_loss: 5.7247 - val_accuracy: 0.3333\n",
      "Epoch 38/50\n",
      "15/15 - 0s - loss: 1.7075e-05 - accuracy: 1.0000 - val_loss: 5.7460 - val_accuracy: 0.3333\n",
      "Epoch 39/50\n",
      "15/15 - 0s - loss: 1.6302e-05 - accuracy: 1.0000 - val_loss: 5.7715 - val_accuracy: 0.3333\n",
      "Epoch 40/50\n",
      "15/15 - 0s - loss: 1.5687e-05 - accuracy: 1.0000 - val_loss: 5.7843 - val_accuracy: 0.3333\n",
      "Epoch 41/50\n",
      "15/15 - 0s - loss: 1.4938e-05 - accuracy: 1.0000 - val_loss: 5.8054 - val_accuracy: 0.3333\n",
      "Epoch 42/50\n",
      "15/15 - 0s - loss: 1.4265e-05 - accuracy: 1.0000 - val_loss: 5.8198 - val_accuracy: 0.3333\n",
      "Epoch 43/50\n",
      "15/15 - 0s - loss: 1.3669e-05 - accuracy: 1.0000 - val_loss: 5.8365 - val_accuracy: 0.3333\n",
      "Epoch 44/50\n",
      "15/15 - 0s - loss: 1.3264e-05 - accuracy: 1.0000 - val_loss: 5.8476 - val_accuracy: 0.3333\n",
      "Epoch 45/50\n",
      "15/15 - 0s - loss: 1.2554e-05 - accuracy: 1.0000 - val_loss: 5.8732 - val_accuracy: 0.3333\n",
      "Epoch 46/50\n",
      "15/15 - 0s - loss: 1.2106e-05 - accuracy: 1.0000 - val_loss: 5.8880 - val_accuracy: 0.3333\n",
      "Epoch 47/50\n",
      "15/15 - 0s - loss: 1.1613e-05 - accuracy: 1.0000 - val_loss: 5.8999 - val_accuracy: 0.3333\n",
      "Epoch 48/50\n",
      "15/15 - 0s - loss: 1.1272e-05 - accuracy: 1.0000 - val_loss: 5.9186 - val_accuracy: 0.3333\n",
      "Epoch 49/50\n",
      "15/15 - 0s - loss: 1.0707e-05 - accuracy: 1.0000 - val_loss: 5.9275 - val_accuracy: 0.3333\n",
      "Epoch 50/50\n",
      "15/15 - 0s - loss: 1.0262e-05 - accuracy: 1.0000 - val_loss: 5.9446 - val_accuracy: 0.3333\n"
     ]
    }
   ],
   "source": [
    "# 3. 모델 학습과정 설정\n",
    "model.compile(loss='categorical_crossentropy',optimizer='adam',metrics=['accuracy'])\n",
    "# 4. 학습\n",
    "hist = model.fit_generator(train_generator,steps_per_epoch=15,epochs=50,validation_data=test_generator,verbose=2,validation_steps=5)\n"
   ]
  },
  {
   "cell_type": "code",
   "execution_count": 13,
   "metadata": {
    "ExecuteTime": {
     "end_time": "2021-03-25T01:44:50.840460Z",
     "start_time": "2021-03-25T01:44:50.760627Z"
    }
   },
   "outputs": [
    {
     "name": "stdout",
     "output_type": "stream",
     "text": [
      "loss 값 : 5.944570064544678\n",
      "accuracy 값 : 0.3333333432674408\n"
     ]
    },
    {
     "name": "stderr",
     "output_type": "stream",
     "text": [
      "D:\\kks\\IDE\\anaconda3\\lib\\site-packages\\tensorflow\\python\\keras\\engine\\training.py:1877: UserWarning: `Model.evaluate_generator` is deprecated and will be removed in a future version. Please use `Model.evaluate`, which supports generators.\n",
      "  warnings.warn('`Model.evaluate_generator` is deprecated and '\n"
     ]
    }
   ],
   "source": [
    "# 5. 모델 평가하기\n",
    "score = model.evaluate_generator(test_generator)\n",
    "print('loss 값 :',score[0])\n",
    "print('accuracy 값 :',score[1])"
   ]
  },
  {
   "cell_type": "code",
   "execution_count": 20,
   "metadata": {
    "ExecuteTime": {
     "end_time": "2021-03-25T01:54:10.840569Z",
     "start_time": "2021-03-25T01:54:10.761477Z"
    }
   },
   "outputs": [
    {
     "name": "stdout",
     "output_type": "stream",
     "text": [
      "{'circle': 0, 'rectangle': 1, 'triangle': 2}\n",
      "[2 2 2 2 2 2 0 2 2 2 2 2 2 2 2]\n"
     ]
    }
   ],
   "source": [
    "# 6.예측하기\n",
    "pred = model.predict_generator(test_generator)\n",
    "print(test_generator.class_indices)\n",
    "print(np.argmax(pred,axis=1))"
   ]
  },
  {
   "cell_type": "markdown",
   "metadata": {},
   "source": [
    "# accuracy 늘리기\n",
    "<ul>\n",
    "    <li> 데이터 확보 , 데이터 부풀리기(ImageDataGenerator)</li>\n",
    "    <li> 레이어 층 확보 </li>"
   ]
  },
  {
   "cell_type": "code",
   "execution_count": 44,
   "metadata": {
    "ExecuteTime": {
     "end_time": "2021-03-25T02:22:15.853351Z",
     "start_time": "2021-03-25T02:22:01.413181Z"
    }
   },
   "outputs": [
    {
     "name": "stdout",
     "output_type": "stream",
     "text": [
      "Found 69 images belonging to 3 classes.\n",
      "Found 15 images belonging to 3 classes.\n",
      "Epoch 1/50\n"
     ]
    },
    {
     "name": "stderr",
     "output_type": "stream",
     "text": [
      "D:\\kks\\IDE\\anaconda3\\lib\\site-packages\\tensorflow\\python\\keras\\engine\\training.py:1844: UserWarning: `Model.fit_generator` is deprecated and will be removed in a future version. Please use `Model.fit`, which supports generators.\n",
      "  warnings.warn('`Model.fit_generator` is deprecated and '\n"
     ]
    },
    {
     "name": "stdout",
     "output_type": "stream",
     "text": [
      "15/15 - 1s - loss: 1.1891 - accuracy: 0.2444 - val_loss: 1.1009 - val_accuracy: 0.4667\n",
      "Epoch 2/50\n",
      "15/15 - 0s - loss: 1.1062 - accuracy: 0.2667 - val_loss: 1.0971 - val_accuracy: 0.4000\n",
      "Epoch 3/50\n",
      "15/15 - 0s - loss: 1.1005 - accuracy: 0.2444 - val_loss: 1.0941 - val_accuracy: 0.3333\n",
      "Epoch 4/50\n",
      "15/15 - 0s - loss: 1.0927 - accuracy: 0.3111 - val_loss: 1.0778 - val_accuracy: 0.3333\n",
      "Epoch 5/50\n",
      "15/15 - 0s - loss: 1.0468 - accuracy: 0.4444 - val_loss: 0.9899 - val_accuracy: 0.5333\n",
      "Epoch 6/50\n",
      "15/15 - 0s - loss: 0.9492 - accuracy: 0.5778 - val_loss: 0.9071 - val_accuracy: 0.7333\n",
      "Epoch 7/50\n",
      "15/15 - 0s - loss: 1.0465 - accuracy: 0.4000 - val_loss: 1.1909 - val_accuracy: 0.3333\n",
      "Epoch 8/50\n",
      "15/15 - 0s - loss: 0.9335 - accuracy: 0.4222 - val_loss: 0.9016 - val_accuracy: 0.6000\n",
      "Epoch 9/50\n",
      "15/15 - 0s - loss: 0.8184 - accuracy: 0.7333 - val_loss: 1.1886 - val_accuracy: 0.4667\n",
      "Epoch 10/50\n",
      "15/15 - 0s - loss: 0.7905 - accuracy: 0.5111 - val_loss: 1.2709 - val_accuracy: 0.4667\n",
      "Epoch 11/50\n",
      "15/15 - 0s - loss: 0.5330 - accuracy: 0.8000 - val_loss: 2.0016 - val_accuracy: 0.4667\n",
      "Epoch 12/50\n",
      "15/15 - 0s - loss: 0.6126 - accuracy: 0.8222 - val_loss: 0.9658 - val_accuracy: 0.6667\n",
      "Epoch 13/50\n",
      "15/15 - 0s - loss: 0.9064 - accuracy: 0.6222 - val_loss: 1.7927 - val_accuracy: 0.4667\n",
      "Epoch 14/50\n",
      "15/15 - 0s - loss: 0.7402 - accuracy: 0.6889 - val_loss: 1.3922 - val_accuracy: 0.4000\n",
      "Epoch 15/50\n",
      "15/15 - 0s - loss: 0.4893 - accuracy: 0.8000 - val_loss: 2.2205 - val_accuracy: 0.4667\n",
      "Epoch 16/50\n",
      "15/15 - 0s - loss: 0.4880 - accuracy: 0.8000 - val_loss: 1.4626 - val_accuracy: 0.6000\n",
      "Epoch 17/50\n",
      "15/15 - 0s - loss: 0.6433 - accuracy: 0.7333 - val_loss: 0.9143 - val_accuracy: 0.7333\n",
      "Epoch 18/50\n",
      "15/15 - 0s - loss: 0.3686 - accuracy: 0.8222 - val_loss: 1.5899 - val_accuracy: 0.4000\n",
      "Epoch 19/50\n",
      "15/15 - 0s - loss: 0.2330 - accuracy: 0.9333 - val_loss: 1.8253 - val_accuracy: 0.5333\n",
      "Epoch 20/50\n",
      "15/15 - 0s - loss: 0.4539 - accuracy: 0.8667 - val_loss: 1.8131 - val_accuracy: 0.5333\n",
      "Epoch 21/50\n",
      "15/15 - 0s - loss: 0.2778 - accuracy: 0.8667 - val_loss: 1.6407 - val_accuracy: 0.4667\n",
      "Epoch 22/50\n",
      "15/15 - 0s - loss: 0.3614 - accuracy: 0.8222 - val_loss: 2.0235 - val_accuracy: 0.5333\n",
      "Epoch 23/50\n",
      "15/15 - 0s - loss: 0.3682 - accuracy: 0.8667 - val_loss: 1.9227 - val_accuracy: 0.6000\n",
      "Epoch 24/50\n",
      "15/15 - 0s - loss: 0.3418 - accuracy: 0.8667 - val_loss: 1.7021 - val_accuracy: 0.4667\n",
      "Epoch 25/50\n",
      "15/15 - 0s - loss: 0.2418 - accuracy: 0.9111 - val_loss: 2.7294 - val_accuracy: 0.5333\n",
      "Epoch 26/50\n",
      "15/15 - 0s - loss: 0.4379 - accuracy: 0.8222 - val_loss: 1.6190 - val_accuracy: 0.5333\n",
      "Epoch 27/50\n",
      "15/15 - 0s - loss: 0.3179 - accuracy: 0.8667 - val_loss: 1.5230 - val_accuracy: 0.6000\n",
      "Epoch 28/50\n",
      "15/15 - 0s - loss: 0.3641 - accuracy: 0.7778 - val_loss: 1.3108 - val_accuracy: 0.6000\n",
      "Epoch 29/50\n",
      "15/15 - 0s - loss: 0.2305 - accuracy: 0.9111 - val_loss: 2.0999 - val_accuracy: 0.6667\n",
      "Epoch 30/50\n",
      "15/15 - 0s - loss: 0.5346 - accuracy: 0.8000 - val_loss: 2.1270 - val_accuracy: 0.6667\n",
      "Epoch 31/50\n",
      "15/15 - 0s - loss: 0.3141 - accuracy: 0.8889 - val_loss: 1.6237 - val_accuracy: 0.6000\n",
      "Epoch 32/50\n",
      "15/15 - 0s - loss: 0.2216 - accuracy: 0.9333 - val_loss: 2.0532 - val_accuracy: 0.6000\n",
      "Epoch 33/50\n",
      "15/15 - 0s - loss: 0.3576 - accuracy: 0.9111 - val_loss: 1.6145 - val_accuracy: 0.6667\n",
      "Epoch 34/50\n",
      "15/15 - 0s - loss: 0.2125 - accuracy: 0.9333 - val_loss: 0.7682 - val_accuracy: 0.7333\n",
      "Epoch 35/50\n",
      "15/15 - 0s - loss: 0.2457 - accuracy: 0.8667 - val_loss: 1.4295 - val_accuracy: 0.6667\n",
      "Epoch 36/50\n",
      "15/15 - 0s - loss: 0.1981 - accuracy: 0.8889 - val_loss: 1.7067 - val_accuracy: 0.6667\n",
      "Epoch 37/50\n",
      "15/15 - 0s - loss: 0.1414 - accuracy: 0.9556 - val_loss: 1.9909 - val_accuracy: 0.6667\n",
      "Epoch 38/50\n",
      "15/15 - 0s - loss: 0.1971 - accuracy: 0.9333 - val_loss: 2.7411 - val_accuracy: 0.7333\n",
      "Epoch 39/50\n",
      "15/15 - 0s - loss: 0.2548 - accuracy: 0.9111 - val_loss: 2.2050 - val_accuracy: 0.6000\n",
      "Epoch 40/50\n",
      "15/15 - 0s - loss: 0.2492 - accuracy: 0.9111 - val_loss: 0.7505 - val_accuracy: 0.7333\n",
      "Epoch 41/50\n",
      "15/15 - 0s - loss: 0.1022 - accuracy: 0.9556 - val_loss: 1.5629 - val_accuracy: 0.6667\n",
      "Epoch 42/50\n",
      "15/15 - 0s - loss: 0.1920 - accuracy: 0.9333 - val_loss: 1.9875 - val_accuracy: 0.6667\n",
      "Epoch 43/50\n",
      "15/15 - 0s - loss: 0.2724 - accuracy: 0.8444 - val_loss: 1.2768 - val_accuracy: 0.7333\n",
      "Epoch 44/50\n",
      "15/15 - 0s - loss: 0.1692 - accuracy: 0.9333 - val_loss: 1.9404 - val_accuracy: 0.6667\n",
      "Epoch 45/50\n",
      "15/15 - 0s - loss: 0.2988 - accuracy: 0.8889 - val_loss: 2.0652 - val_accuracy: 0.6667\n",
      "Epoch 46/50\n",
      "15/15 - 0s - loss: 0.3191 - accuracy: 0.8667 - val_loss: 1.6870 - val_accuracy: 0.6667\n",
      "Epoch 47/50\n",
      "15/15 - 0s - loss: 0.4602 - accuracy: 0.8222 - val_loss: 0.6373 - val_accuracy: 0.6667\n",
      "Epoch 48/50\n",
      "15/15 - 0s - loss: 0.3366 - accuracy: 0.8444 - val_loss: 1.0053 - val_accuracy: 0.6000\n",
      "Epoch 49/50\n",
      "15/15 - 0s - loss: 0.2231 - accuracy: 0.9333 - val_loss: 0.6868 - val_accuracy: 0.7333\n",
      "Epoch 50/50\n",
      "15/15 - 0s - loss: 0.2175 - accuracy: 0.9111 - val_loss: 1.1521 - val_accuracy: 0.6667\n"
     ]
    }
   ],
   "source": [
    "# 1 .데이터 생성하기\n",
    "train_datagen = ImageDataGenerator(rescale=1./255,\n",
    "rotation_range=10,\n",
    "width_shift_range=0.2,\n",
    "height_shift_range=0.2,\n",
    "shear_range=0.7, #0.7라이안 밀림\n",
    "zoom_range=[0.9,2.2], # 0.9배~2.2배\n",
    "horizontal_flip=True, # 수평방향으로 뒤집기\n",
    "vertical_flip=True, # 수직방향으로 뒤집기\n",
    "fill_mode='nearest')#이미지를 회전,\n",
    "#이동하거나 축소할 때 공간을 채우는 방식\n",
    "\n",
    "train_generator = train_datagen.flow_from_directory('data/handwriting/hand_test/train',\n",
    "                                                   target_size=(24,24),\n",
    "                                                   batch_size=3,\n",
    "                                                   class_mode='categorical')\n",
    "test_datagen = ImageDataGenerator(rescale=1./255)\n",
    "test_generator = test_datagen.flow_from_directory('data/handwriting/hand_test/test',\n",
    "                                                 target_size=(24,24),\n",
    "                                                 batch_size=3,\n",
    "                                                 class_mode='categorical')\n",
    "# 2. 모델 구성하기\n",
    "model = Sequential()\n",
    "# 컨볼루션 필터 설정\n",
    "model.add(Conv2D(32,kernel_size=(3,3),activation='relu',input_shape=(24,24,3)))\n",
    "model.add(Conv2D(32,kernel_size=(3,3),activation='relu')) # 윗 단계 input받아서 처리하니까 아래부턴 쓸 필요없다.\n",
    "# 풀링\n",
    "model.add(MaxPool2D(pool_size=(2,2))) # 2 by 2에서 큰 값만 뽑아 이미지 축소\n",
    "model.add(Conv2D(128,kernel_size=(3,3),activation='relu'))\n",
    "model.add(Conv2D(128,kernel_size=(3,3),activation='relu'))\n",
    "model.add(MaxPool2D(pool_size=(2,2)))\n",
    "model.add(Dropout(0.05))\n",
    "# 2차원 이미지 1차원으로 변환\n",
    "model.add(Flatten())\n",
    "# DNN\n",
    "model.add(Dense(1024,activation='relu'))\n",
    "model.add(Dropout(0.1))\n",
    "model.add(Dense(256,activation='relu'))\n",
    "model.add(Dropout(0.1))\n",
    "model.add(Dense(3,activation='softmax'))\n",
    "# 3. 모델 학습과정 설정\n",
    "model.compile(loss='categorical_crossentropy',optimizer='adam',metrics=['accuracy'])\n",
    "# 4. 학습\n",
    "hist = model.fit_generator(train_generator,steps_per_epoch=15,epochs=50,validation_data=test_generator,verbose=2,validation_steps=5)\n"
   ]
  },
  {
   "cell_type": "code",
   "execution_count": 36,
   "metadata": {
    "ExecuteTime": {
     "end_time": "2021-03-25T02:19:08.297558Z",
     "start_time": "2021-03-25T02:19:08.100449Z"
    }
   },
   "outputs": [
    {
     "name": "stdout",
     "output_type": "stream",
     "text": [
      "loss 값 : 1.1906342506408691\n",
      "accuracy 값 : 0.7333333492279053\n",
      "{'circle': 0, 'rectangle': 1, 'triangle': 2}\n",
      "[1 2 1 1 2 0 0 0 0 0 2 0 2 2 0]\n"
     ]
    },
    {
     "name": "stderr",
     "output_type": "stream",
     "text": [
      "D:\\kks\\IDE\\anaconda3\\lib\\site-packages\\tensorflow\\python\\keras\\engine\\training.py:1877: UserWarning: `Model.evaluate_generator` is deprecated and will be removed in a future version. Please use `Model.evaluate`, which supports generators.\n",
      "  warnings.warn('`Model.evaluate_generator` is deprecated and '\n",
      "D:\\kks\\IDE\\anaconda3\\lib\\site-packages\\tensorflow\\python\\keras\\engine\\training.py:1905: UserWarning: `Model.predict_generator` is deprecated and will be removed in a future version. Please use `Model.predict`, which supports generators.\n",
      "  warnings.warn('`Model.predict_generator` is deprecated and '\n"
     ]
    }
   ],
   "source": [
    "# 5. 모델 평가하기\n",
    "score = model.evaluate_generator(test_generator)\n",
    "print('loss 값 :',score[0])\n",
    "print('accuracy 값 :',score[1])\n",
    "# 6.예측하기\n",
    "pred = model.predict_generator(test_generator)\n",
    "print(test_generator.class_indices)\n",
    "print(np.argmax(pred,axis=1))"
   ]
  },
  {
   "cell_type": "code",
   "execution_count": null,
   "metadata": {},
   "outputs": [],
   "source": []
  }
 ],
 "metadata": {
  "kernelspec": {
   "display_name": "Python 3",
   "language": "python",
   "name": "python3"
  },
  "language_info": {
   "codemirror_mode": {
    "name": "ipython",
    "version": 3
   },
   "file_extension": ".py",
   "mimetype": "text/x-python",
   "name": "python",
   "nbconvert_exporter": "python",
   "pygments_lexer": "ipython3",
   "version": "3.8.5"
  },
  "toc": {
   "base_numbering": 1,
   "nav_menu": {},
   "number_sections": false,
   "sideBar": true,
   "skip_h1_title": false,
   "title_cell": "Table of Contents",
   "title_sidebar": "Contents",
   "toc_cell": false,
   "toc_position": {},
   "toc_section_display": true,
   "toc_window_display": false
  },
  "varInspector": {
   "cols": {
    "lenName": 16,
    "lenType": 16,
    "lenVar": 40
   },
   "kernels_config": {
    "python": {
     "delete_cmd_postfix": "",
     "delete_cmd_prefix": "del ",
     "library": "var_list.py",
     "varRefreshCmd": "print(var_dic_list())"
    },
    "r": {
     "delete_cmd_postfix": ") ",
     "delete_cmd_prefix": "rm(",
     "library": "var_list.r",
     "varRefreshCmd": "cat(var_dic_list()) "
    }
   },
   "types_to_exclude": [
    "module",
    "function",
    "builtin_function_or_method",
    "instance",
    "_Feature"
   ],
   "window_display": false
  }
 },
 "nbformat": 4,
 "nbformat_minor": 4
}
